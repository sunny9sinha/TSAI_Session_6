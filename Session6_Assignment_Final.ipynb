{
  "nbformat": 4,
  "nbformat_minor": 0,
  "metadata": {
    "accelerator": "TPU",
    "colab": {
      "name": "Session6_Assignment_Final.ipynb",
      "provenance": [],
      "collapsed_sections": [],
      "mount_file_id": "1afaGmlQtS6mXdrpOFjC6yUh8VTGVBcQ3",
      "authorship_tag": "ABX9TyP1OlFyw47V8Ij9reNg0Ghy",
      "include_colab_link": true
    },
    "kernelspec": {
      "display_name": "Python 3",
      "name": "python3"
    },
    "language_info": {
      "name": "python"
    }
  },
  "cells": [
    {
      "cell_type": "markdown",
      "metadata": {
        "id": "view-in-github",
        "colab_type": "text"
      },
      "source": [
        "<a href=\"https://colab.research.google.com/github/sunny9sinha/TSAI_Session_6/blob/main/Session6_Assignment_Final.ipynb\" target=\"_parent\"><img src=\"https://colab.research.google.com/assets/colab-badge.svg\" alt=\"Open In Colab\"/></a>"
      ]
    },
    {
      "cell_type": "code",
      "metadata": {
        "colab": {
          "base_uri": "https://localhost:8080/"
        },
        "id": "rfLoK_Dse1w7",
        "outputId": "bd4b5ea6-20c1-4b85-f89a-825ca48c5e9f"
      },
      "source": [
        "import sys\n",
        "import pandas as pd\n",
        "import numpy as np\n",
        "import csv\n",
        "\n",
        "!pip install googletrans==3.1.0a0"
      ],
      "execution_count": 1,
      "outputs": [
        {
          "output_type": "stream",
          "text": [
            "Collecting googletrans==3.1.0a0\n",
            "  Downloading https://files.pythonhosted.org/packages/19/3d/4e3a1609bf52f2f7b00436cc751eb977e27040665dde2bd57e7152989672/googletrans-3.1.0a0.tar.gz\n",
            "Collecting httpx==0.13.3\n",
            "\u001b[?25l  Downloading https://files.pythonhosted.org/packages/54/b4/698b284c6aed4d7c2b4fe3ba5df1fcf6093612423797e76fbb24890dd22f/httpx-0.13.3-py3-none-any.whl (55kB)\n",
            "\u001b[K     |████████████████████████████████| 61kB 2.0MB/s \n",
            "\u001b[?25hRequirement already satisfied: chardet==3.* in /usr/local/lib/python3.7/dist-packages (from httpx==0.13.3->googletrans==3.1.0a0) (3.0.4)\n",
            "Requirement already satisfied: certifi in /usr/local/lib/python3.7/dist-packages (from httpx==0.13.3->googletrans==3.1.0a0) (2020.12.5)\n",
            "Requirement already satisfied: idna==2.* in /usr/local/lib/python3.7/dist-packages (from httpx==0.13.3->googletrans==3.1.0a0) (2.10)\n",
            "Collecting rfc3986<2,>=1.3\n",
            "  Downloading https://files.pythonhosted.org/packages/c4/e5/63ca2c4edf4e00657584608bee1001302bbf8c5f569340b78304f2f446cb/rfc3986-1.5.0-py2.py3-none-any.whl\n",
            "Collecting sniffio\n",
            "  Downloading https://files.pythonhosted.org/packages/52/b0/7b2e028b63d092804b6794595871f936aafa5e9322dcaaad50ebf67445b3/sniffio-1.2.0-py3-none-any.whl\n",
            "Collecting httpcore==0.9.*\n",
            "\u001b[?25l  Downloading https://files.pythonhosted.org/packages/dd/d5/e4ff9318693ac6101a2095e580908b591838c6f33df8d3ee8dd953ba96a8/httpcore-0.9.1-py3-none-any.whl (42kB)\n",
            "\u001b[K     |████████████████████████████████| 51kB 2.9MB/s \n",
            "\u001b[?25hCollecting hstspreload\n",
            "\u001b[?25l  Downloading https://files.pythonhosted.org/packages/dd/50/606213e12fb49c5eb667df0936223dcaf461f94e215ea60244b2b1e9b039/hstspreload-2020.12.22-py3-none-any.whl (994kB)\n",
            "\u001b[K     |████████████████████████████████| 1.0MB 3.9MB/s \n",
            "\u001b[?25hCollecting h11<0.10,>=0.8\n",
            "\u001b[?25l  Downloading https://files.pythonhosted.org/packages/5a/fd/3dad730b0f95e78aeeb742f96fa7bbecbdd56a58e405d3da440d5bfb90c6/h11-0.9.0-py2.py3-none-any.whl (53kB)\n",
            "\u001b[K     |████████████████████████████████| 61kB 4.7MB/s \n",
            "\u001b[?25hCollecting h2==3.*\n",
            "\u001b[?25l  Downloading https://files.pythonhosted.org/packages/25/de/da019bcc539eeab02f6d45836f23858ac467f584bfec7a526ef200242afe/h2-3.2.0-py2.py3-none-any.whl (65kB)\n",
            "\u001b[K     |████████████████████████████████| 71kB 4.3MB/s \n",
            "\u001b[?25hCollecting hpack<4,>=3.0\n",
            "  Downloading https://files.pythonhosted.org/packages/8a/cc/e53517f4a1e13f74776ca93271caef378dadec14d71c61c949d759d3db69/hpack-3.0.0-py2.py3-none-any.whl\n",
            "Collecting hyperframe<6,>=5.2.0\n",
            "  Downloading https://files.pythonhosted.org/packages/19/0c/bf88182bcb5dce3094e2f3e4fe20db28a9928cb7bd5b08024030e4b140db/hyperframe-5.2.0-py2.py3-none-any.whl\n",
            "Building wheels for collected packages: googletrans\n",
            "  Building wheel for googletrans (setup.py) ... \u001b[?25l\u001b[?25hdone\n",
            "  Created wheel for googletrans: filename=googletrans-3.1.0a0-cp37-none-any.whl size=16368 sha256=db3b75c2c63211f08a54398c6d967ce0b993f482189584415bb8c99031bf30ef\n",
            "  Stored in directory: /root/.cache/pip/wheels/27/7a/a0/aff3babbb775549ce6813cb8fa7ff3c0848c4dc62c20f8fdac\n",
            "Successfully built googletrans\n",
            "Installing collected packages: rfc3986, sniffio, h11, hpack, hyperframe, h2, httpcore, hstspreload, httpx, googletrans\n",
            "Successfully installed googletrans-3.1.0a0 h11-0.9.0 h2-3.2.0 hpack-3.0.0 hstspreload-2020.12.22 httpcore-0.9.1 httpx-0.13.3 hyperframe-5.2.0 rfc3986-1.5.0 sniffio-1.2.0\n"
          ],
          "name": "stdout"
        }
      ]
    },
    {
      "cell_type": "code",
      "metadata": {
        "id": "wpNL_AARJQHG"
      },
      "source": [
        "import random\n",
        "import googletrans\n",
        "from googletrans import Translator\n",
        "\n",
        "def translate(sentence_translated):\n",
        "  # translator = Translator(service_urls=['translate.googleapis.com'])\n",
        "  translator = Translator()\n",
        "  # sentence = ['']\n",
        "\n",
        "  # available_langs = list(googletrans.LANGUAGES.keys()) \n",
        "  # trans_lang = random.choice(available_langs) \n",
        "  # print(f\"Translating to {googletrans.LANGUAGES[trans_lang]}\")\n",
        "\n",
        "  sentence_translated = pd.DataFrame(sentence_translated.iloc[0:200,:]).reset_index().drop(columns=['index'])\n",
        "\n",
        "  trans_array = np.array(sentence_translated['tweets'])\n",
        "  # int(len(trans_array)/100)\n",
        "\n",
        "  for i in range(200):\n",
        "    translations = translator.translate(trans_array[i],src='en', dest='czech') \n",
        "    #print(translations)\n",
        "    t_text = translations.text\n",
        "    print('czech: ',t_text)\n",
        "\n",
        "    translations_en_random = translator.translate(t_text, src='czech', dest='en') \n",
        "    en_text = translations_en_random.text\n",
        "    print('Eng: ',en_text)\n",
        "    trans_array[i] = en_text\n",
        "\n",
        "\n",
        "  sentence_translated['tweets'] = trans_array\n",
        "  return sentence_translated\n",
        "\n"
      ],
      "execution_count": 2,
      "outputs": []
    },
    {
      "cell_type": "code",
      "metadata": {
        "id": "opN_XD18JIOz"
      },
      "source": [
        "def random_deletion(words, p=0.5): \n",
        "    if len(words) == 1: # return if single word\n",
        "        return words\n",
        "    remaining = list(filter(lambda x: random.uniform(0,1) > p,words)) \n",
        "    if len(remaining) == 0: # if not left, sample a random word\n",
        "        return [random.choice(words)] \n",
        "    else:\n",
        "        return remaining"
      ],
      "execution_count": 3,
      "outputs": []
    },
    {
      "cell_type": "code",
      "metadata": {
        "id": "UYY6IM4hJHSc"
      },
      "source": [
        "def random_swap(sentence, n=5): \n",
        "    length = range(len(sentence)) \n",
        "    for _ in range(n):\n",
        "        idx1, idx2 = random.sample(length, 2)\n",
        "        sentence[idx1], sentence[idx2] = sentence[idx2], sentence[idx1] \n",
        "    return sentence"
      ],
      "execution_count": 4,
      "outputs": []
    },
    {
      "cell_type": "code",
      "metadata": {
        "id": "Z4ZjO9vPJ49z"
      },
      "source": [
        "import torch.nn as nn\n",
        "import torch.nn.functional as F\n",
        "\n",
        "class encoders(nn.Module):\n",
        "\n",
        "  def __init__(self,vocab_size, embedding_dim, hidden_dim, n_layers, dropout):\n",
        "    super().__init__()\n",
        "    self.embedding = nn.Embedding(vocab_size,embedding_dim)\n",
        "    self.encoder = nn.LSTM(embedding_dim, \n",
        "                           hidden_dim, \n",
        "                           num_layers=n_layers, \n",
        "                           dropout=dropout,\n",
        "                           batch_first=True)\n",
        "    \n",
        "  def forward(self,text,text_lengths):\n",
        "    embedded = self.embedding(text)\n",
        "    packed_embedded = nn.utils.rnn.pack_padded_sequence(embedded, text_lengths.cpu(), batch_first=True)\n",
        "    packed_output, (hidden, cell) = self.encoder(packed_embedded)\n",
        "    return hidden\n",
        "\n",
        "class decoders(nn.Module):\n",
        "\n",
        "  def __init__(self, input_to_decoder_size, decoder_hidden_size, no_times_decoder_cell_has_to_run):\n",
        "    super().__init__()\n",
        "    self.decoder_single_rnn_cell = nn.LSTMCell(input_to_decoder_size,decoder_hidden_size)\n",
        "    self.no_times_decoder_cell_has_to_run = no_times_decoder_cell_has_to_run\n",
        "    self.decoder_hidden_size = decoder_hidden_size\n",
        "\n",
        "  def forward(self, encoder_context_vector):\n",
        "    encoder_context_vector = encoder_context_vector.squeeze()\n",
        "    hx = torch.zeros(encoder_context_vector.size(0),self.decoder_hidden_size).to(device)\n",
        "    cx = torch.zeros(encoder_context_vector.size(0),self.decoder_hidden_size).to(device)\n",
        "    for i in range(self.no_times_decoder_cell_has_to_run):\n",
        "      hx,cx = self.decoder_single_rnn_cell(encoder_context_vector,(hx,cx))\n",
        "    return hx\n",
        "\n",
        "class classifier(nn.Module):\n",
        "    \n",
        "    # Define all the layers used in model\n",
        "    def __init__(self, encoder, decoder, hidden_dim, output_dim):\n",
        "        \n",
        "      super().__init__()\n",
        "      self.encoder = encoder\n",
        "      self.decoder = decoder\n",
        "      self.fc = nn.Linear(hidden_dim, output_dim)\n",
        "        \n",
        "    def forward(self,src,src_len):\n",
        "      enc_hidden = self.encoder(src,src_len)\n",
        "      #print('Encoder: ',enc_hidden)\n",
        "      dec_hidden = self.decoder(enc_hidden)\n",
        "      #print('Decoder: ', dec_hidden)\n",
        "      dense_outputs = self.fc(dec_hidden)\n",
        "      #print('----',dense_outputs[0])\n",
        "      #output = F.softmax(dense_outputs,dim=1)\n",
        "      #print('---',output)\n",
        "      return dense_outputs"
      ],
      "execution_count": 5,
      "outputs": []
    },
    {
      "cell_type": "code",
      "metadata": {
        "colab": {
          "base_uri": "https://localhost:8080/",
          "height": 204
        },
        "id": "keTICi4gQw5D",
        "outputId": "821f7fab-2444-4702-eb4a-64a12f98caa6"
      },
      "source": [
        "tweet_data = pd.read_csv(\"/content/drive/MyDrive/Colab Notebooks/tweets (1).csv\")\n",
        "tweet_data.head()"
      ],
      "execution_count": 6,
      "outputs": [
        {
          "output_type": "execute_result",
          "data": {
            "text/html": [
              "<div>\n",
              "<style scoped>\n",
              "    .dataframe tbody tr th:only-of-type {\n",
              "        vertical-align: middle;\n",
              "    }\n",
              "\n",
              "    .dataframe tbody tr th {\n",
              "        vertical-align: top;\n",
              "    }\n",
              "\n",
              "    .dataframe thead th {\n",
              "        text-align: right;\n",
              "    }\n",
              "</style>\n",
              "<table border=\"1\" class=\"dataframe\">\n",
              "  <thead>\n",
              "    <tr style=\"text-align: right;\">\n",
              "      <th></th>\n",
              "      <th>tweets</th>\n",
              "      <th>labels</th>\n",
              "    </tr>\n",
              "  </thead>\n",
              "  <tbody>\n",
              "    <tr>\n",
              "      <th>0</th>\n",
              "      <td>Obama has called the GOP budget social Darwini...</td>\n",
              "      <td>1</td>\n",
              "    </tr>\n",
              "    <tr>\n",
              "      <th>1</th>\n",
              "      <td>In his teen years, Obama has been known to use...</td>\n",
              "      <td>0</td>\n",
              "    </tr>\n",
              "    <tr>\n",
              "      <th>2</th>\n",
              "      <td>IPA Congratulates President Barack Obama for L...</td>\n",
              "      <td>0</td>\n",
              "    </tr>\n",
              "    <tr>\n",
              "      <th>3</th>\n",
              "      <td>RT @Professor_Why: #WhatsRomneyHiding - his co...</td>\n",
              "      <td>0</td>\n",
              "    </tr>\n",
              "    <tr>\n",
              "      <th>4</th>\n",
              "      <td>RT @wardollarshome: Obama has approved more ta...</td>\n",
              "      <td>1</td>\n",
              "    </tr>\n",
              "  </tbody>\n",
              "</table>\n",
              "</div>"
            ],
            "text/plain": [
              "                                              tweets  labels\n",
              "0  Obama has called the GOP budget social Darwini...       1\n",
              "1  In his teen years, Obama has been known to use...       0\n",
              "2  IPA Congratulates President Barack Obama for L...       0\n",
              "3  RT @Professor_Why: #WhatsRomneyHiding - his co...       0\n",
              "4  RT @wardollarshome: Obama has approved more ta...       1"
            ]
          },
          "metadata": {
            "tags": []
          },
          "execution_count": 6
        }
      ]
    },
    {
      "cell_type": "code",
      "metadata": {
        "colab": {
          "base_uri": "https://localhost:8080/"
        },
        "id": "fK8K8T11RWZa",
        "outputId": "a9fa37c0-e46c-4154-8ce0-be1980f902d3"
      },
      "source": [
        "tweet_data.shape"
      ],
      "execution_count": 7,
      "outputs": [
        {
          "output_type": "execute_result",
          "data": {
            "text/plain": [
              "(1364, 2)"
            ]
          },
          "metadata": {
            "tags": []
          },
          "execution_count": 7
        }
      ]
    },
    {
      "cell_type": "code",
      "metadata": {
        "colab": {
          "base_uri": "https://localhost:8080/"
        },
        "id": "Ai5ICZGLRaZM",
        "outputId": "fd10f1b6-87da-4770-9ae3-bb5b03a4f8a7"
      },
      "source": [
        "tweet_data.labels.value_counts()"
      ],
      "execution_count": 8,
      "outputs": [
        {
          "output_type": "execute_result",
          "data": {
            "text/plain": [
              "0    931\n",
              "1    352\n",
              "2     81\n",
              "Name: labels, dtype: int64"
            ]
          },
          "metadata": {
            "tags": []
          },
          "execution_count": 8
        }
      ]
    },
    {
      "cell_type": "code",
      "metadata": {
        "id": "Jy0z5rKih_nU"
      },
      "source": [
        "from sklearn.model_selection import train_test_split\n",
        "\n",
        "train, valid = train_test_split(tweet_data, test_size=0.3)\n",
        "# (train, valid) = tweet_data.split(split_ratio=[85, 15], random_state = random.seed(SEED))\n",
        "train = train.reset_index().drop(columns=['index'])\n",
        "valid = valid.reset_index().drop(columns=['index'])"
      ],
      "execution_count": 9,
      "outputs": []
    },
    {
      "cell_type": "code",
      "metadata": {
        "colab": {
          "base_uri": "https://localhost:8080/"
        },
        "id": "3nbziGz40Vc5",
        "outputId": "e7079f46-8f8c-4d1b-b7e5-1e59f6ee0567"
      },
      "source": [
        "def delete(sent_delete):\n",
        "  del_array = np.array(sent_delete['tweets'])\n",
        "  for i in range(len(del_array)):\n",
        "    words = str(del_array[i]).split()\n",
        "    word_selected = random.choice(words)\n",
        "    word_deleted = random_deletion(word_selected, 0.4)\n",
        "    del_word = ''\n",
        "    for k in word_deleted:\n",
        "      del_word+=k\n",
        "    del_array[i] = str(del_array[i]).replace(word_selected,del_word)\n",
        "  sent_delete['tweets'] = del_array\n",
        "  return sent_delete\n",
        "\n",
        "tweet_delete = pd.DataFrame(train.iloc[:,:]).reset_index().drop(columns=['index'])\n",
        "print(tweet_delete.head())\n",
        "tweet_delete = delete(tweet_delete)"
      ],
      "execution_count": 10,
      "outputs": [
        {
          "output_type": "stream",
          "text": [
            "                                              tweets  labels\n",
            "0  Obama. #drawsomething @therealdwele showing of...       0\n",
            "1  RT @Stewart7Donna: Checking out \"Obama Puts He...       0\n",
            "2  Love the idea that @SarahPalinUSA acts like a ...       2\n",
            "3  RT @RT_America Obama's pretzel logic http://t....       0\n",
            "4  RT @ohgirlphrase: American kid \"You're from th...       0\n"
          ],
          "name": "stdout"
        }
      ]
    },
    {
      "cell_type": "code",
      "metadata": {
        "colab": {
          "base_uri": "https://localhost:8080/"
        },
        "id": "OoQZqLA8MdpZ",
        "outputId": "8aa0697d-1451-48a3-b1e0-971e4aecb098"
      },
      "source": [
        "print(tweet_delete.head(10))"
      ],
      "execution_count": 11,
      "outputs": [
        {
          "output_type": "stream",
          "text": [
            "                                              tweets  labels\n",
            "0  Obama. #drawsomething @therealdwele showing of...       0\n",
            "1  RT @Stewart7Donna: Checking out \"Obama Puts He...       0\n",
            "2  Love the idea that @SarahPalinUSA acts like a ...       2\n",
            "3  RT @RT_America Obama's pretzel logic http://t....       0\n",
            "4  RT @ohgirlphrase: American kid \"'r from the UK...       0\n",
            "5  Texas GOP talking about going to winner-take-a...       1\n",
            "6  RT @ParadigmForce: DOJ Issues Letter Clarifyin...       0\n",
            "7  RT @NMsly: @marymauldin Nothg is ever a coinci...       1\n",
            "8  RT @truthout: Background on ex-CIA officer Joh...       0\n",
            "9  It would take far less time to sing \"100 Bottl...       0\n"
          ],
          "name": "stdout"
        }
      ]
    },
    {
      "cell_type": "code",
      "metadata": {
        "colab": {
          "base_uri": "https://localhost:8080/"
        },
        "id": "imGwKlbFCBCB",
        "outputId": "45c995e7-a7d5-4c09-95d0-efb733168ebb"
      },
      "source": [
        "tweet_swap = pd.DataFrame(train.iloc[:,:]).reset_index().drop(columns=['index']) \n",
        "print(tweet_swap.head())"
      ],
      "execution_count": 12,
      "outputs": [
        {
          "output_type": "stream",
          "text": [
            "                                              tweets  labels\n",
            "0  Obama. #drawsomething @therealdwele showing of...       0\n",
            "1  RT @Stewart7Donna: Checking out \"Obama Puts He...       0\n",
            "2  Love the idea that @SarahPalinUSA acts like a ...       2\n",
            "3  RT @RT_America Obama's pretzel logic http://t....       0\n",
            "4  RT @ohgirlphrase: American kid \"You're from th...       0\n"
          ],
          "name": "stdout"
        }
      ]
    },
    {
      "cell_type": "code",
      "metadata": {
        "id": "jj36W8t_f4_T"
      },
      "source": [
        "def swap(tweet_swap):\n",
        "  for i in tweet_swap.index:\n",
        "    words = tweet_swap['tweets'][i].split()\n",
        "    if len(words) <=1:\n",
        "      continue\n",
        "    swapped_array = random_swap(words)\n",
        "    tweet_swap['tweets'][i] = ' '.join([str(elem) for elem in swapped_array])\n",
        "  return tweet_swap"
      ],
      "execution_count": 13,
      "outputs": []
    },
    {
      "cell_type": "code",
      "metadata": {
        "colab": {
          "base_uri": "https://localhost:8080/",
          "height": 340
        },
        "id": "AchnimM-f0bl",
        "outputId": "4eb71751-88ad-416c-d503-6252fd706ca3"
      },
      "source": [
        "tweet_swap = swap(tweet_swap)\n",
        "tweet_swap.head(6)"
      ],
      "execution_count": 14,
      "outputs": [
        {
          "output_type": "stream",
          "text": [
            "/usr/local/lib/python3.7/dist-packages/ipykernel_launcher.py:7: SettingWithCopyWarning: \n",
            "A value is trying to be set on a copy of a slice from a DataFrame\n",
            "\n",
            "See the caveats in the documentation: https://pandas.pydata.org/pandas-docs/stable/user_guide/indexing.html#returning-a-view-versus-a-copy\n",
            "  import sys\n"
          ],
          "name": "stderr"
        },
        {
          "output_type": "execute_result",
          "data": {
            "text/html": [
              "<div>\n",
              "<style scoped>\n",
              "    .dataframe tbody tr th:only-of-type {\n",
              "        vertical-align: middle;\n",
              "    }\n",
              "\n",
              "    .dataframe tbody tr th {\n",
              "        vertical-align: top;\n",
              "    }\n",
              "\n",
              "    .dataframe thead th {\n",
              "        text-align: right;\n",
              "    }\n",
              "</style>\n",
              "<table border=\"1\" class=\"dataframe\">\n",
              "  <thead>\n",
              "    <tr style=\"text-align: right;\">\n",
              "      <th></th>\n",
              "      <th>tweets</th>\n",
              "      <th>labels</th>\n",
              "    </tr>\n",
              "  </thead>\n",
              "  <tbody>\n",
              "    <tr>\n",
              "      <th>0</th>\n",
              "      <td>off showing Obama. #drawsomething @therealdwel...</td>\n",
              "      <td>0</td>\n",
              "    </tr>\n",
              "    <tr>\n",
              "      <th>1</th>\n",
              "      <td>Heat from Checking out \"Obama Puts RT on Airin...</td>\n",
              "      <td>0</td>\n",
              "    </tr>\n",
              "    <tr>\n",
              "      <th>2</th>\n",
              "      <td>Obama the planned for that acts like a complet...</td>\n",
              "      <td>2</td>\n",
              "    </tr>\n",
              "    <tr>\n",
              "      <th>3</th>\n",
              "      <td>RT http://t.co/Shv83Z0F logic @RT_America Obam...</td>\n",
              "      <td>0</td>\n",
              "    </tr>\n",
              "    <tr>\n",
              "      <th>4</th>\n",
              "      <td>RT @ohgirlphrase: kid: have \"You're tea the UK...</td>\n",
              "      <td>0</td>\n",
              "    </tr>\n",
              "    <tr>\n",
              "      <th>5</th>\n",
              "      <td>going year talking Could Texas to winner-take-...</td>\n",
              "      <td>1</td>\n",
              "    </tr>\n",
              "  </tbody>\n",
              "</table>\n",
              "</div>"
            ],
            "text/plain": [
              "                                              tweets  labels\n",
              "0  off showing Obama. #drawsomething @therealdwel...       0\n",
              "1  Heat from Checking out \"Obama Puts RT on Airin...       0\n",
              "2  Obama the planned for that acts like a complet...       2\n",
              "3  RT http://t.co/Shv83Z0F logic @RT_America Obam...       0\n",
              "4  RT @ohgirlphrase: kid: have \"You're tea the UK...       0\n",
              "5  going year talking Could Texas to winner-take-...       1"
            ]
          },
          "metadata": {
            "tags": []
          },
          "execution_count": 14
        }
      ]
    },
    {
      "cell_type": "code",
      "metadata": {
        "colab": {
          "base_uri": "https://localhost:8080/"
        },
        "id": "CtBEYFcxgWy4",
        "outputId": "d0cb0f25-8784-43ec-dfef-19883e4f8b43"
      },
      "source": [
        "print(train.shape)\n",
        "print(tweet_delete.shape)\n",
        "print(tweet_swap.shape)"
      ],
      "execution_count": 15,
      "outputs": [
        {
          "output_type": "stream",
          "text": [
            "(954, 2)\n",
            "(954, 2)\n",
            "(954, 2)\n"
          ],
          "name": "stdout"
        }
      ]
    },
    {
      "cell_type": "code",
      "metadata": {
        "colab": {
          "base_uri": "https://localhost:8080/"
        },
        "id": "3j4i8YEW5Me1",
        "outputId": "0b7d4586-121a-42fe-8935-421c723aeffd"
      },
      "source": [
        "tweet_translated = train\n",
        "tweet_translated = translate(tweet_translated)\n",
        "print(tweet_translated.shape)"
      ],
      "execution_count": 16,
      "outputs": [
        {
          "output_type": "stream",
          "text": [
            "czech:  Obama. #drawsomething @therealdwele předvádí http://t.co/KJc4gJso\n",
            "Eng:  Obama. #drawsomething @therealdwele demonstrates http://t.co/KJc4gJso\n",
            "czech:  RT @ Stewart7Donna: Kontrola „Obama klade na zprávy Fox zprávy, aby zabránila Hannity to vysílat“ v případě ústavní nouze: http://t.co/XwY62sep\n",
            "Eng:  RT @ Stewart7Donna: Check \"Obama puts on Fox news messages to prevent Hannity from broadcasting it\" in case of constitutional emergency: http://t.co/XwY62sep\n",
            "czech:  Milujte myšlenku, že @SarahPalinUSA se chová jako naprostý klaun jako utajení diamantové loupeže plánované Obamou a McCainem, pokud je to pravda.\n",
            "Eng:  Love the idea that @SarahPalinUSA acts like a complete clown like the concealment of a diamond robbery planned by Obama and McCain, if that's true.\n",
            "czech:  RT @RT_America Obamova preclíková logika http://t.co/Shv83Z0F @PeterSchiff #Obama campaign\n",
            "Eng:  RT @RT_America Obama's pretzel logic http://t.co/Shv83Z0F @PeterSchiff #Obama campaign\n",
            "czech:  RT @ohgirlphrase: Americké dítě „Jste z Velké Británie? Och, super, takže si dáte čaj s královnou?“. Britské dítě: „Líbí se vám, jdete do Mcdonalds s Obamou?\n",
            "Eng:  RT @ohgirlphrase: American child “Are you from Great Britain? Oh, great, so will you have tea with the queen? ” British child: “Do you like going to McDonalds with Obama?\n",
            "czech:  Texas GOP hovoří o přechodu na primární vítěz vítězů. Mohl by jednou rukou změnit, komu Barack Obama letos čelí #epic\n",
            "Eng:  The Texas GOP talks about moving to the primary winner. He could change with one hand who Barack Obama is facing #epic this year\n",
            "czech:  RT @ParadigmForce: DOJ Issue Letter Clarifying Obama's Remarks: Court's Power to Strike Down Laws 'Beyond Dispute' http://t.co/XelcRaLT via @theblaze mm\n",
            "Eng:  RT @ParadigmForce: DOJ Issue Letter Clarifying Obama's Remarks: Court's Power to Strike Down Laws 'Beyond Dispute' http://t.co/XelcRaLT via @theblaze mm\n",
            "czech:  RT @NMsly: @marymauldin Nic není náhoda s Obamou. Jasně mluví se svými činy ... jako hostování (pokračování) http://t.co/D9qwckJ3\n",
            "Eng:  RT @NMsly: @marymauldin Nothing coincides with Obama. He speaks clearly with his deeds ... as a guest (continued) http://t.co/D9qwckJ3\n",
            "czech:  RT @truthout: Souvislosti s bývalým důstojníkem CIA Johnem Kiriakou, který Obamův správce právě obvinil 4 údajné úniky informací o mučicím programu http://t.co/ySzwNRxV\n",
            "Eng:  RT @truthout: Links with former CIA officer John Kiriaka, who has just accused Obama's administrator of 4 alleged leaks of a torture program http://t.co/ySzwNRxV\n",
            "czech:  Zpívat „100 lahví piva“ by trvalo mnohem méně času než vypsat, co víme, že Obama skrývá. #hypocriticalmarxist #irony #GOP # rozdělovač\n",
            "Eng:  Singing \"100 bottles of beer\" would take much less time than writing out what we know Obama is hiding. #hypocriticalmarxist #irony #GOP #divider\n",
            "czech:  RealClearPolitics - Obamova organizační výhoda v plné míře ...: Jako malý, ale voličsky významný stát ... http://t.co/3Ax22aBB\n",
            "Eng:  RealClearPolitics - Obama's organizational advantage to the fullest ...: As a small but electorally important state ... http://t.co/3Ax22aBB\n",
            "czech:  RT @ RealNichelle: Miluji, že i většina lidí, kteří nesouhlasí s politikou Presa Obamy, by mohla ocenit, že je Trekker. O tom je IDIC.\n",
            "Eng:  RT @RealNichelle: I love that even most people who disagree with Presa Obama's policy might appreciate being a Trekker. That's what IDIC is about.\n",
            "czech:  Americké dítě „Jste z Velké Británie? Och, super, takže si dáte čaj s královnou?“. Britské dítě: „Líbí se vám, jdete do Mcdonalds s Obamou?\n",
            "Eng:  American Child “Are you from the UK? Oh, great, so will you have tea with the queen? ” British child: “Do you like going to McDonalds with Obama?\n",
            "czech:  RT @sugarscape: Ooh starší dáma zamilovaná do One Direction - ale ne Harry Styles? UDĚLAL SE SVĚT? http://t.co/BFzSh3iz\n",
            "Eng:  RT @sugarscape: Ooh older lady in love with One Direction - but not Harry Styles? HAS THE WORLD MADE? http://t.co/BFzSh3iz\n",
            "czech:  Obamovy vlasy jsou celé šedé!\n",
            "Eng:  Obama's hair is all gray!\n",
            "czech:  @katie_larson Byl to Obamův hashtag - konzervativci z toho udělali hru (znovu) :) Je to zábavné;)\n",
            "Eng:  @katie_larson It was Obama's hashtag - the conservatives made it a game (again) :) It's fun;)\n",
            "czech:  Late Night Jokes: Obama Unqualified to Be a Trekkie:\n",
            "Eng:  Late Night Jokes: Obama Unqualified to Be a Trekkie:\n",
            "czech:  RT @schwingcat: Že jeho kampaň deaktivovala ověření kreditní karty na jeho online dárcovské stránce #WhatsRomneyHiding # OhWait, to je Obama http://t.co/3fgWm3n4\n",
            "Eng:  RT @schwingcat: That his campaign has disabled credit card verification on his online donor site #WhatsRomneyHiding # OhWait, that's Obama http://t.co/3fgWm3n4\n",
            "czech:  RT @ nprnews: Obamův podpis zákona o pracovních příležitostech pravděpodobně neztlumí poplatek GOP Je to anti-Jobs http://t.co/4LtEJRbL\n",
            "Eng:  RT @nprnews: Obama's signing of employment opportunities unlikely to dampen GOP fee It's anti-Jobs http://t.co/4LtEJRbL\n",
            "czech:  RT @Talkmaster: No, už to chápu. Obama mluvil ve zkratce a my jsme byli příliš hloupí, abychom pochopili, jak chytrý ve skutečnosti je. Gagme.\n",
            "Eng:  RT @Talkmaster: Well, I get it. Obama spoke briefly and we were too stupid to understand how clever he really is. Gagme.\n",
            "czech:  Marine Faces Dismissal for Criticizing Obama on Facebook http://t.co/MpMYwNyi\n",
            "Eng:  Marine Faces Dismissal for Criticizing Obama on Facebook http://t.co/MpMYwNyi\n",
            "czech:  Obama připouští, že soudy mohou přezkoumávat akty kongresu: Federální odvolací soud požadoval, aby administrativa ... http://t.co/enaJSbD3\n",
            "Eng:  Obama admits courts can review acts of Congress: The Federal Court of Appeals has demanded that the administration ... http://t.co/enaJSbD3\n",
            "czech:  PolitiFact | Obama říká, že republikáni v Kongresu nebudou jmenovat jedno osvobození od daně, které chtějí zrušit http://t.co/HdJiGiMe prostřednictvím @politifact\n",
            "Eng:  PolitiFact | Obama says Republicans in Congress will not name one tax exemption they want to repeal http://t.co/HdJiGiMe via @politifact\n",
            "czech:  Obama varuje před zvoleným Nejvyšším soudem před úderem na zdravotnictví a zdravotnictví ...: http://t.co/0bk8kViG přes @youtube\n",
            "Eng:  Obama warns of elected Supreme Court against strike on health care and healthcare ...: http://t.co/0bk8kViG via @youtube\n",
            "czech:  # WhatsRomneyHiding? Obamova důstojnost a smysl pro humor? # p2 #tcot\n",
            "Eng:  # WhatsRomneyHiding? Obama's dignity and sense of humor? # p2 #tcot\n",
            "czech:  LaFollette „půjdeme k nově zvolenému prezidentovi Obamovi a požádáme o náš vlak zpět“\n",
            "Eng:  LaFollette \"We will go to the newly elected President Obama and ask for our train back\"\n",
            "czech:  RT @iowahawkblog: Převzetí ústavního práva od Baracka Obamy je jako převzetí Auto Shopu od Baracka Obamy. #ormathorscienceorhistoryorteleprompterrepair\n",
            "Eng:  RT @iowahawkblog: The takeover of constitutional law from Barack Obama is like the takeover of the Auto Shop from Barack Obama. #ormathorscienceorhistoryorteleprompterrepair\n",
            "czech:  RT @ markknoller: Saul říká, že Pres Obama „udělá cokoli“, aby odvrátil Američany od „neúspěšného“ ekonomického rekordu včetně nezaměstnanosti a vyšších cen zemního plynu. “\n",
            "Eng:  RT @markknoller: Saul says Pres Obama \"will do anything\" to distract Americans from a \"failed\" economic record, including unemployment and higher gas prices. \"\n",
            "czech:  Obama respektuje nejvyšší soud, říká Eric Holder, násilí v Sýrii pokračuje v očekávání ... http://t.co/TUqvEApu #libertario #tlot\n",
            "Eng:  Obama respects Supreme Court, says Eric Holder, violence in Syria continues in anticipation ... http://t.co/TUqvEApu #libertario #tlot\n",
            "czech:  RT @ItsLoopzProd: LOOOOOOOOOOOOOOOOOOOOOOOOOOOOOL To je důvod, proč hodnotím obamu http://t.co/vsOYFhSa\n",
            "Eng:  RT @ItsLoopzProd: LOOOOOOOOOOOOOOOOOOOOOOOOOOOOOL That's why I rate obama http://t.co/vsOYFhSa\n",
            "czech:  RT @GEsfandiari: „Obama naznačil, že USA přijmou íránský civilní jaderný program, pokud Chameneí podpoří tvrzení # Írán nebude usilovat o jaderné zbraně“ http://t.co/svxFPoHq\n",
            "Eng:  RT @GEsfandiari: \"Obama has indicated that the US will accept Iran's civilian nuclear program if Khamenei supports the claim # Iran will not pursue nuclear weapons\" http://t.co/svxFPoHq\n",
            "czech:  #prayersgoup lol RT @_Ciroc_Obama: Mannnnn doufám, že dey projde daň z limitu datového plynu ... mohlo by to skončit vyděláváním plynu 2,50 $ za galon wooo\n",
            "Eng:  #prayersgoup lol RT @_Ciroc_Obama: Mannnnn hope dey passes tax on gas limit ... it could end up earning $ 2.50 a gallon wooo\n",
            "czech:  RT @ GeorgeD_87: Nic jako Team Obama útočící na Romneyho, aby spojil konzervativce. Dík. # WhatsRomneyHiding\n",
            "Eng:  RT @ GeorgeD_87: Nothing like Team Obama attacking Romney to unite the Conservatives. Thanks. # WhatsRomneyHiding\n",
            "czech:  RT @ohgirlphrase: Americké dítě „Jste z Velké Británie? Och, super, takže si dáte čaj s královnou?“. Britské dítě: „Líbí se vám, jdete do Mcdonalds s Obamou?\n",
            "Eng:  RT @ohgirlphrase: American child “Are you from Great Britain? Oh, great, so will you have tea with the queen? ” British child: “Do you like going to McDonalds with Obama?\n",
            "czech:  V jeho dospívání bylo známo, že Obama užíval marihuanu a kokain.\n",
            "Eng:  In his teens, Obama was known to use marijuana and cocaine.\n",
            "czech:  Vetting: Obama využil katolíky k prosazení univerzální zdravotní péče v Illinois http://t.co/NqjjCWMB\n",
            "Eng:  Vetting: Obama used Catholics to promote universal health care in Illinois http://t.co/NqjjCWMB\n",
            "czech:  RT @ Jeri2: #WhatsRomneyHiding? Jeho SKUTEČNÉ pocity z Obamy ...\n",
            "Eng:  RT @ Jeri2: #WhatsRomneyHiding? His REAL feelings about Obama ...\n",
            "czech:  @ Obama2012 @ truthteam2012 @gop Pravda je Obama Žádný rozpočet biliony v dluhu Vysoká cena plynu Inflace Slabý dolar Žádná pracovní místa Nelze spustit záznam\n",
            "Eng:  @ Obama2012 @ truthteam2012 @gop The truth is Obama No budget trillions in debt High gas price Inflation Weak dollar No jobs Unable to start recording\n",
            "czech:  @mmfa Stejně jako otázky, které liberální média dávají Obamovi.\n",
            "Eng:  @mmfa Like the questions the liberal media asks Obama.\n",
            "czech:  Před několika měsíci našli finští úředníci šedesát našich raket Patriot na lodi směřující do Číny. Očekávejte velkého dárce Chicomu $ Obamovi\n",
            "Eng:  A few months ago, Finnish officials found sixty of our Patriot missiles on a ship bound for China. Expect a big donor to Chicom $ Obama\n",
            "czech:  Napolitano přistihl nábor teroristy Muslimského bratrstva a poskytl mu přísně tajnou bezpečnostní prověrku\n",
            "Eng:  Napolitano caught the recruitment of a Muslim Brotherhood terrorist and provided him with a top-secret security clearance\n",
            "czech:  RT @ohgirlphrase: Americké dítě „Jste z Velké Británie? Och, super, takže si dáte čaj s královnou?“. Britské dítě: „Líbí se vám, jdete do Mcdonalds s Obamou?\n",
            "Eng:  RT @ohgirlphrase: American child “Are you from Great Britain? Oh, great, so will you have tea with the queen? ” British child: “Do you like going to McDonalds with Obama?\n",
            "czech:  #WhatsRomneyHiding říká, že by měl být prezidentem před naším letopočtem, zlepší soukromé sek růst pracovních míst..který Obama udělal 4 za posledních 24 měsíců.\n",
            "Eng:  #WhatsRomneyHiding says he should be president before our era, will improve private sec job growth..which Obama has done 4 in the last 24 months.\n",
            "czech:  Barack Obama Triumf Caesara: Román starověkého Říma [se sluchátky do uší] (fikce Playaway pro dospělé): Římský c ... http://t.co/EbEYonbx\n",
            "Eng:  Barack Obama The Triumph of Caesar: A Novel of Ancient Rome [with Earphones] (Playaway Adult Fiction): A Roman C ... http://t.co/EbEYonbx\n",
            "czech:  #WhatsRomneySkrývání Obamových mluvících bodů je již zastaralé. Má 0 pozitivních úspěchů, 2 běží dál, takže je čas na atentát na postavu\n",
            "Eng:  # WhatsRomneyHiding Obama's talking points is obsolete. He has 0 positive achievements, 2 run on, so it's time to assassinate the character\n",
            "czech:  RT @ EMcLean1982: #WhatsRomney Skrytí nic ve srovnání s tímto MT @informedblackmn: Důkaz, že Obama přijímá legrační peníze. http://t.co/TTnhii6A\n",
            "Eng:  RT @EMcLean1982: #WhatsRomney Hiding nothing compared to this MT @informedblackmn: Proof that Obama is accepting funny money. http://t.co/TTnhii6A\n",
            "czech:  http://t.co/nAESlKQ9\n",
            "Eng:  http://t.co/nAESlKQ9\n",
            "czech:  Praváci volají Pres. Obama „násilník“ a „tyran“ za komentáře k jednání o zákonech o zdravotní péči. Komentujte FB nebo pípejte, abychom mohli sdílet na #edshow!\n",
            "Eng:  Right-handers call Pres. Obama \"bully\" and \"bully\" for commenting on negotiations on health care laws. Comment on FB or beep so we can share on #edshow!\n",
            "czech:  Doufám, že se tato země nedostane do vážné debaty o výhodách Mittens vs Obama. Myslím, že ano. # 200denní válka\n",
            "Eng:  I hope that this country does not get into a serious debate about the benefits of Mittens vs Obama. I think yes. # 200 Day War\n",
            "czech:  Statistiky Google mi říkají, že 223 Američanů, kteří nenávidí Obamu, si včera přečetlo můj blog. Nevěřím tomu, ale pokud jste navštívili, AWHO, už to neudělejte\n",
            "Eng:  Google stats tell me that 223 Americans who hate Obama read my blog yesterday. I don't believe it, but if you've visited, AWHO, don't do it again\n",
            "czech:  RT @ohgirlphrase: Americké dítě „Jste z Velké Británie? Och, super, takže si dáte čaj s královnou?“. Britské dítě: „Líbí se vám, jdete do Mcdonalds s Obamou?\n",
            "Eng:  RT @ohgirlphrase: American child “Are you from Great Britain? Oh, great, so will you have tea with the queen? ” British child: “Do you like going to McDonalds with Obama?\n",
            "czech:  RT @against_obama: Obamův nelegální řidičský průkaz mimozemského strýce # whatsromneyhiding\n",
            "Eng:  RT @against_obama: Obama's illegal alien uncle's driver's license # whatsromneyhiding\n",
            "czech:  RT @BelleInABow: Obama nemusí být vaším oblíbeným člověkem, ale stále je prezidentem Spojených států amerických. To si vždy zaslouží respekt.\n",
            "Eng:  RT @BelleInABow: Obama may not be your favorite person, but he is still the president of the United States. It always deserves respect.\n",
            "czech:  Uprostřed případu Trayvon Martin hostí Obama promítání filmu „To Kill a Mockingbird“ - http://t.co/vvaTNwON http://t.co/MzerPkAh\n",
            "Eng:  In the middle of the Trayvon Martin case, Obama hosts a screening of \"To Kill a Mockingbird\" - http://t.co/vvaTNwON http://t.co/MzerPkAh\n",
            "czech:  Obamův rodný list http://t.co/1yZOM5d9\n",
            "Eng:  Obama's birth certificate http://t.co/1yZOM5d9\n",
            "czech:  RT @ anna12061: Obamův rodný list: Anthony Bucco, zákonodárce New Jersey, říká nevyřešený problém http://t.co/uMDAWA7X přes @HuffingtonPost\n",
            "Eng:  RT @ anna12061: Obama's birth certificate: Anthony Bucco, New Jersey lawmaker, says unresolved issue http://t.co/uMDAWA7X via @HuffingtonPost\n",
            "czech:  RT @ CBSSports: Obama, Romney říkají, že přijímají ženy do golfového klubu Augusta - http://t.co/OtHTaRDK\n",
            "Eng:  RT @CBSSports: Obama, Romney say hiring women to Augusta Golf Club - http://t.co/OtHTaRDK\n",
            "czech:  „Izrael by měl důvěřovat Obamovi, že zastaví íránské jaderné zbraně“ - http://t.co/S8YeopCr\n",
            "Eng:  \"Israel should trust Obama to stop Iran's nuclear weapons\" - http://t.co/S8YeopCr\n",
            "czech:  Svobodná země může mít mužský klub ... Naštvat vás a Obamu @edshow Ženy v Augustě? Obama říká naprosto. ... http://t.co/GaLabbKb\n",
            "Eng:  A free country can have a men's club ... Annoy you and Obama @edshow Women in Augusta? Obama says absolutely. ... http://t.co/GaLabbKb\n",
            "czech:  NBC naštve ... NBC obviňuje federálního soudce z toho, že vnáší politiku do soudní síně výslechem Obamu | Centrum pro výzkum médií http://t.co/2GG53ZII\n",
            "Eng:  NBC Sucks ... NBC Accuses Federal Judge of Bringing Politics to Courtroom by Interrogating Obama | Media Research Center http://t.co/2GG53ZII\n",
            "czech:  RT @WhatTheFFacts: V jeho dospívání bylo známo, že Obama užíval marihuanu a kokain.\n",
            "Eng:  RT @WhatTheFFacts: In his teens, Obama was known to use marijuana and cocaine.\n",
            "czech:  „Nová“ antiobamova nadávka z echo komory #RWNJ je THUG? Takže jsme se rozhodli nechat naše rasistické prostěradla prostě létat, hm? Zajímavý. #GOP\n",
            "Eng:  The \"new\" antiobam swearing from the #RWNJ echo chamber is THUG? So we decided to let our racist sheets just fly, huh? Interesting. #GOP\n",
            "czech:  @BarackObama Co se skrývá #Obama? Falešný rodný list ... Hlasujte Rona # Paul ...\n",
            "Eng:  @BarackObama What is #Obama hidden? Fake birth certificate ... Vote Ron # Paul ...\n",
            "czech:  @EileenLeft @ Wary12 Toto je od @DavidShuster DŮLEŽITÉ MSM helpRomney uniknout svým lžím. Musíme varovat indické voliče http://t.co/Au49TLVs\n",
            "Eng:  @EileenLeft @ Wary12 This is from @DavidShuster IMPORTANT MSM helpRomney escape his lies. We must warn Indian voters http://t.co/Au49TLVs\n",
            "czech:  RT @Boudicabpi: Michael Savage: Jak Obama plánuje napravit volby v roce 2012 http://t.co/LuObjd1M prostřednictvím @ SarahRoman11\n",
            "Eng:  RT @Boudicabpi: Michael Savage: How Obama plans to fix the 2012 election http://t.co/LuObjd1M via @SararRoman11\n",
            "czech:  RT @HeidiForLiberty: RT @ Libertarian_76: Nemůžu se dočkat, až Romney půjde po Obamovi na NDAA. OH Počkej\n",
            "Eng:  RT @HeidiForLiberty: RT @ Libertarian_76: I can't wait for Romney to go after the Obama to the NDAA. OH Wait\n",
            "czech:  Vsadím se, že Obama nepřemýšlel o počtu, když slíbil změnu. Ano, přineseme změnu, ale vypočítáme změnu? Sakra domů ...\n",
            "Eng:  I bet Obama didn't think about numbers when he promised change. Yes, we will bring change, but will we calculate the change? Damn home ...\n",
            "czech:  @Mamadoxie Prostě budeme muset tento hněv nasměrovat a zaměřit se na porážku Obamy v listopadu. Není čas na kňučení a našpulené!\n",
            "Eng:  @Mamadoxie We just have to direct this anger and focus on defeating Obama in November. No time to whine and pouting!\n",
            "czech:  Obama respektuje nejvyšší soud, říká Eric Holder, násilí v Sýrii pokračuje v očekávání ... http://t.co/8Mp8Bg3y #libertario #tlot\n",
            "Eng:  Obama respects Supreme Court, says Eric Holder, violence in Syria continues in anticipation ... http://t.co/8Mp8Bg3y #libertario #tlot\n",
            "czech:  [221] Následující den, na Obamův rozkaz, U\n",
            "Eng:  [221] The next day, at Obama's command, U\n",
            "czech:  RT @ 17bbomb: @ geoff9cow Správně! Samozřejmě! Pokud jde o Obamu, je to VŽDY chyba někoho jiného! / asi 95% je. také velmi dobré šance.\n",
            "Eng:  RT @ 17bbomb: @ geoff9cow Correct! Of course! As for Obama, it's ALWAYS someone else's fault! / about 95% is. also very good chances.\n",
            "czech:  RT @Talkmaster: No, už to chápu. Obama mluvil ve zkratce a my jsme byli příliš hloupí, abychom pochopili, jak chytrý ve skutečnosti je. Gagme.\n",
            "Eng:  RT @Talkmaster: Well, I get it. Obama spoke briefly and we were too stupid to understand how clever he really is. Gagme.\n",
            "czech:  RT @markknoller: Obamova kampaň zabavená ve zprávě Washington Post o Mittu Romneyovi, že nezveřejní určité podrobnosti o svých příjmech a aktivech. http://t.co/zneCZUTo\n",
            "Eng:  RT @markknoller: Obama's campaign seized in a Washington Post report on Mitt Romney not to disclose certain details about his income and assets. http://t.co/zneCZUTo\n",
            "czech:  RT @Professor_Why: #WhatsRomneyHiding - jeho ochota sdělit policistům, že „jednali hloupě“ bez znalosti faktů ... Ach počkej, to je zase Obama!\n",
            "Eng:  RT @Professor_Why: #WhatsRomneyHiding - his willingness to tell cops that they \"acted stupid\" without knowing the facts ... Oh wait, it's Obama again!\n",
            "czech:  Napolitano přistihl nábor teroristy Muslimského bratrstva a poskytl mu přísně tajnou bezpečnostní prověrku\n",
            "Eng:  Napolitano caught the recruitment of a Muslim Brotherhood terrorist and provided him with a top-secret security clearance\n",
            "czech:  Ngakak bahhh .. Obama nyanyi sexy a já vím, že jsem se tu narodil ... Akakakaka\n",
            "Eng:  Ngakak bahhh .. Obama nyanyi sexy and I know I was born here ... Akakakaka\n",
            "czech:  RT @rochelledp: #prayersgoup lol RT @_Ciroc_Obama: Mannnnn doufám, že dey projde daň z limitu datového plynu ... mohlo by to skončit vyděláváním plynu 2,50 $ za galon wooo\n",
            "Eng:  RT @rochelledp: #prayersgoup lol RT @_Ciroc_Obama: Mannnnn I hope dey passes the gas limit tax ... it could end up earning $ 2.50 a gallon wooo\n",
            "czech:  RT @BunkerBlast: RT @teacherspets Obamův rozpočet: „Úrokové platby překročí obranný rozpočet“ v roce 2019 http://t.co/uddCXCjt\n",
            "Eng:  RT @BunkerBlast: RT @teacherspets Obama's budget: \"Interest payments exceed defense budget\" in 2019 http://t.co/uddCXCjt\n",
            "czech:  @sgaut Architekti debaklu v oblasti bydlení byli Schumer, Fwank, Dodd a Obama, kteří přinutili banky půjčit biliony chudým. #edshow\n",
            "Eng:  @sgaut The architects of the housing debacle were Schumer, Fwank, Dodd and Obama, who forced banks to lend trillions to the poor. #edshow\n",
            "czech:  RT @ markknoller: Pres Obama říká, že to bude velká debata a zábavná debata, protože - říká - má pravdu na své straně.\n",
            "Eng:  RT @markknoller: Pres Obama says it's going to be a big debate and a fun debate because - he says - he's right on his side.\n",
            "czech:  Nejnovější zprávy: Pochod milionů mužů do # Jeruzaléma byl vytvořen a organizován # Obamovými #Globalistickými kontrolory - http://t.co/R80dwTeD\n",
            "Eng:  Recent News: Millions of Men March to # Jerusalem Created and Organized by Obama's # Globalist Controllers - http://t.co/R80dwTeD\n",
            "czech:  #WhatsRomneyHiding Tenkrát řekl AIPACu, že Jeruzalém by měl zůstat jednotný a poté se vrátil v televizním rozhovoru. Ne, počkej. To byl Obama.\n",
            "Eng:  #WhatsRomneyHiding He told AIPAC at the time that Jerusalem should remain united and then returned in a television interview. No, wait. That was Obama.\n",
            "czech:  RT @ohgirlphrase: Americké dítě „Jste z Velké Británie? Och, super, takže si dáte čaj s královnou?“. Britské dítě: „Líbí se vám, jdete do Mcdonalds s Obamou?\n",
            "Eng:  RT @ohgirlphrase: American child “Are you from Great Britain? Oh, great, so will you have tea with the queen? ” British child: “Do you like going to McDonalds with Obama?\n",
            "czech:  @edshow Obama je kriminálník a progresivní marxistický výbor. Obamacare zruinuje Američany, zatímco bude financovat potratové kliniky #edshow\n",
            "Eng:  @edshow Obama is a criminal and progressive Marxist committee. Obamacare will ruin Americans while funding abortion clinics #edshow\n",
            "czech:  RT @handrewschwartz: Ignatius hlásí, že Obama signalizoval Íránu USA by přijaly civilní jaderné zbraně, pokud Chameneí může zajistit, že Írán nikdy nedostane jaderné zbraně http://t.co/KkaAhGPq\n",
            "Eng:  RT @handrewschwartz: Ignatius reports that Obama signaled Iran the US would accept civilian nuclear weapons if Khamenei could ensure that Iran never received nuclear weapons http://t.co/KkaAhGPq\n",
            "czech:  # WhatsRomneyHiding Obama nosí\n",
            "Eng:  # WhatsRomneyHiding Obama wears\n",
            "czech:  RT @ PAC43: Reforma Obamova příznivce je jako snaha vyzvednout hovno jeho čistým koncem\n",
            "Eng:  RT @ PAC43: Reforming Obama's supporter is like trying to pick up the shit with its clean end\n",
            "czech:  Obamova preclíková logika: Na základě tohoto porozumění může každý program, který vloží peníze do kapes průměrného ... http://t.co/14GbcXGO\n",
            "Eng:  Obamova preclíková logika: Na základě tohoto porozumění může každý program, který vloží peníze do kapes průměrného ... http://t.co/14GbcXGO\n",
            "czech:  Santorum & bible. Romney & attorneys. Obama & drones & prison camps. RON PAUL & The CONSTITUTION. Liberty, Freedom & Justice, anyone?\n",
            "Eng:  Santorum & bible. Romney & attorneys. Obama & drones & prison camps. RON PAUL & The CONSTITUTION. Liberty, Freedom & Justice, anyone?\n",
            "czech:  Obama's college transcripts. #WhatsRomneyHiding\n",
            "Eng:  Obama's college transcripts. #WhatsRomneyHiding\n",
            "czech:  @BarackObama i want your real birth certificate obama,And your real college transcripts. Too bad they dont exist! barry the exchange student\n",
            "Eng:  @BarackObama i want your real birth certificate obama,And your real college transcripts. Too bad they dont exist! barry the exchange student\n",
            "czech:  In his teen years, Obama has been known to use marijuana and cocaine.\n",
            "Eng:  In his teen years, Obama has been known to use marijuana and cocaine.\n",
            "czech:  RT @ohgirlphrase: American kid \"You're from the UK? Ohhh cool, So do you have tea with the Queen?\". British kid: \"Do you like, go to Mcdonalds with Obama?\n",
            "Eng:  RT @ohgirlphrase: American kid \"You're from the UK? Ohhh cool, So do you have tea with the Queen?\". British kid: \"Do you like, go to Mcdonalds with Obama?\n",
            "czech:  RT @markknoller: AT a campaign fundraiser tonight, Pres. Obama again denounced Mitt Romney by name for his support of the House-passed GOP Budget.\n",
            "Eng:  RT @markknoller: AT a campaign fundraiser tonight, Pres. Obama again denounced Mitt Romney by name for his support of the House-passed GOP Budget.\n",
            "czech:  \"Service is the rent we pay to live on earth\" Michelle Obama\n",
            "Eng:  \"Service is the rent we pay to live on earth\" Michelle Obama\n",
            "czech:  RT @PRIVATE_SLEEPY: I think its time for a change..........#Obama\n",
            "Eng:  RT @PRIVATE_SLEEPY: I think its time for a change..........#Obama\n",
            "czech:  RT @globeandmail: Obama takes a swing at all-male Augusta National http://t.co/LUw7Ky66\n",
            "Eng:  RT @globeandmail: Obama takes a swing at all-male Augusta National http://t.co/LUw7Ky66\n",
            "czech:  RT @MiltShook: If #202-599-9212 appears on your caller ID, it's a pro-GOP telemarketer trashing Obama. Don't answer, or answer while flushing toilet.\n",
            "Eng:  RT @MiltShook: If #202-599-9212 appears on your caller ID, it's a pro-GOP telemarketer trashing Obama. Don't answer, or answer while flushing toilet.\n",
            "czech:  RT @ohgirlphrase: American kid \"You're from the UK? Ohhh cool, So do you have tea with the Queen?\". British kid: \"Do you like, go to Mcdonalds with Obama?\n",
            "Eng:  RT @ohgirlphrase: American kid \"You're from the UK? Ohhh cool, So do you have tea with the Queen?\". British kid: \"Do you like, go to Mcdonalds with Obama?\n",
            "czech:  RT @nat_riverascott: @Mirandacan you are so right about that #shameonyou #Obama\n",
            "Eng:  RT @nat_riverascott: @Mirandacan you are so right about that #shameonyou #Obama\n",
            "czech:  Barack Obama Mir laechelt kein Fruhling, WoO 25 Sheet Music: Digital Sheet Music of Mir laechelt kein Fruhling, ... http://t.co/cuHdVHYv\n",
            "Eng:  Barack Obama Mir laechelt kein Fruhling, WoO 25 Sheet Music: Digital Sheet Music of Mir laechelt kein Fruhling, ... http://t.co/cuHdVHYv\n",
            "czech:  RT @DrewMTips: #WhatsRomneyHiding His plan to sell out US missile defense to Russia after the election. Nope, sorry, that's Obama again.\n",
            "Eng:  RT @DrewMTips: #WhatsRomneyHiding His plan to sell out US missile defense to Russia after the election. Nope, sorry, that's Obama again.\n",
            "czech:  My favourite drawing I've ever received on draw something is Nicole's drawing of Obama. Piece of art that was.\n",
            "Eng:  My favourite drawing I've ever received on draw something is Nicole's drawing of Obama. Piece of art that was.\n",
            "czech:  RT @informedblackmn: No wonder Obama hasn't made sense to me lately. I cannot get a handle on super-smart-law-professor jargon.  Example: \"uh....um...uh...um....\n",
            "Eng:  RT @informedblackmn: No wonder Obama hasn't made sense to me lately. I cannot get a handle on super-smart-law-professor jargon.  Example: \"uh....um...uh...um....\n",
            "czech:  Obama Concedes That Courts Can Review Acts of Congress: A federal appeals court had demanded that the administra... http://t.co/YT7rGVL9\n",
            "Eng:  Obama Concedes That Courts Can Review Acts of Congress: A federal appeals court had demanded that the administra... http://t.co/YT7rGVL9\n",
            "czech:  RT @MrTinyPenis: I heard there is a gay porn titled \"Obama Been Slobbin\" ....now think about who Obama killed in Pakistan\n",
            "Eng:  RT @MrTinyPenis: I heard there is a gay porn titled \"Obama Been Slobbin\" ....now think about who Obama killed in Pakistan\n",
            "czech:  Tanner: yeah\n",
            "Eng:  Tanner: yeah\n",
            "czech:  #edshow  My President is standing up,speaking up,fighting back and I am so glad he has taken the gloves off. OBAMA 2012 @edshow\n",
            "Eng:  #edshow  My President is standing up,speaking up,fighting back and I am so glad he has taken the gloves off. OBAMA 2012 @edshow\n",
            "czech:  RT @thinkprogress: Romney, who has two Harvard degrees, blasts Obama for spending \"too much time at Harvard.\" http://t.co/avbgNT57 #icymi\n",
            "Eng:  RT @thinkprogress: Romney, who has two Harvard degrees, blasts Obama for spending \"too much time at Harvard.\" http://t.co/avbgNT57 #icymi\n",
            "czech:  RT @Talkmaster: Oh now I get it. Obama was talking in shorthand and we were just too dumb to understand how smart he really is.  Gagme.\n",
            "Eng:  RT @Talkmaster: Oh now I get it. Obama was talking in shorthand and we were just too dumb to understand how smart he really is.  Gagme.\n",
            "czech:  AT a campaign fundraiser tonight, Pres. Obama again denounced Mitt Romney by name for his support of the House-passed GOP Budget.\n",
            "Eng:  AT a campaign fundraiser tonight, Pres. Obama again denounced Mitt Romney by name for his support of the House-passed GOP Budget.\n",
            "czech:  I think we are all in agreement that Rick Santorum could beat Obama... at bowling.\n",
            "Eng:  I think we are all in agreement that Rick Santorum could beat Obama... at bowling.\n",
            "czech:  @Nicky2Things always says that Obama=Bush.  I cannot help but wonder what, if anything, is the other thing @Nicky2Things says...\n",
            "Eng:  @Nicky2Things always says that Obama=Bush.  I cannot help but wonder what, if anything, is the other thing @Nicky2Things says...\n",
            "czech:  I favorited a @YouTube video http://t.co/LdPffo7a Tales of Fantasy - Obama's Look HD\n",
            "Eng:  I favorited a @YouTube video http://t.co/LdPffo7a Tales of Fantasy - Obama's Look HD\n",
            "czech:  My tweet about Nobody being better than Obama got 8 RTs. The same tweet about Ron Paul got 2. Ron Paul is not Nobody, people.\n",
            "Eng:  My tweet about Nobody being better than Obama got 8 RTs. The same tweet about Ron Paul got 2. Ron Paul is not Nobody, people.\n",
            "czech:  RT @VRWCTexan: FACT: Obama swore an oath to \"Preserve, Protect & Defend the Constitution of the United States\" (NOT pick & choose at his OWN whim) #TCOT\n",
            "Eng:  RT @VRWCTexan: FACT: Obama swore an oath to \"Preserve, Protect & Defend the Constitution of the United States\" (NOT pick & choose at his OWN whim) #TCOT\n",
            "czech:  Obama believes women should be admitted to Augusta http://t.co/ltBrqsgc via @edshow\n",
            "Eng:  Obama believes women should be admitted to Augusta http://t.co/ltBrqsgc via @edshow\n",
            "czech:  RT @jltho: This #WhatsRomneyHiding hashtag is entertaining. Is this another social media backfire from the Obama administration?\n",
            "Eng:  RT @jltho: This #WhatsRomneyHiding hashtag is entertaining. Is this another social media backfire from the Obama administration?\n",
            "czech:  RT @kesgardner: Obama's college records? #whatsromneyhiding\n",
            "Eng:  RT @kesgardner: Obama's college records? #whatsromneyhiding\n",
            "czech:  RT @against_obama: Obama's illegal alien uncle's drivers license #whatsromneyhiding\n",
            "Eng:  RT @against_obama: Obama's illegal alien uncle's drivers license #whatsromneyhiding\n",
            "czech:  RT @roobishimmer: #WhatsRomneyHiding Obama released his tax returns since 2000, where are Romney's?\n",
            "Eng:  RT @roobishimmer: #WhatsRomneyHiding Obama released his tax returns since 2000, where are Romney's?\n",
            "czech:  RT @GottaLaff: RT @markknoller: Pres Obama sayd \"I cannot wait\" for the \"big important debate\" we are going to have on these issues.\n",
            "Eng:  RT @GottaLaff: RT @markknoller: Pres Obama sayd \"I cannot wait\" for the \"big important debate\" we are going to have on these issues.\n",
            "czech:  Examiner Editorial: Obama joins attacks on court even before health care ruling | Washington Examiner http://t.co/zHkcmmyb via @addthis\n",
            "Eng:  Examiner Editorial: Obama joins attacks on court even before health care ruling | Washington Examiner http://t.co/zHkcmmyb via @addthis\n",
            "czech:  RT @GatorNation41: gas was $1.92 when Obama took office...I guess he did promise he would change things http://t.co/TlfMmi0G\n",
            "Eng:  RT @GatorNation41: gas was $1.92 when Obama took office...I guess he did promise he would change things http://t.co/TlfMmi0G\n",
            "czech:  @MittRomney, are you really going to take #WhatsRomneyHiding from Obama? #WhatsBarackHiding is the real question\n",
            "Eng:  @MittRomney, are you really going to take #WhatsRomneyHiding from Obama? #WhatsBarackHiding is the real question\n",
            "czech:  @DanMoffTarkin Yeah. Even though he's like an honest Obama in his policies.\n",
            "Eng:  @DanMoffTarkin Yeah. Even though he's like an honest Obama in his policies.\n",
            "czech:  #WhatsRomneyHiding How he told AIPAC he'd \"have Israel's back\" in dealing with Iran, then backtracked. No, wait. That was Obama.\n",
            "Eng:  #WhatsRomneyHiding How he told AIPAC he'd \"have Israel's back\" in dealing with Iran, then backtracked. No, wait. That was Obama.\n",
            "czech:  'Back Off' : McConnell Warns Obama Crossed 'Dangerous line'--Times  247 http://t.co/dFTjxuKB\n",
            "Eng:  'Back Off' : McConnell Warns Obama Crossed 'Dangerous line'--Times  247 http://t.co/dFTjxuKB\n",
            "czech:  RT @edshow: Women at Augusta? Obama says absolutely. Romney hedges. Comment on FB or tweet so we can share on #edshow!\n",
            "Eng:  RT @edshow: Women at Augusta? Obama says absolutely. Romney hedges. Comment on FB or tweet so we can share on #edshow!\n",
            "czech:  #WhatsRomneyHiding Michelle Obama's divorce attorney on speed dial?\n",
            "Eng:  #WhatsRomneyHiding Michelle Obama's divorce attorney on speed dial?\n",
            "czech:  RT @BelleInABow: Obama doesn't need to be your favorite person, but he's still the President of the United States of America. That always deserves respect.\n",
            "Eng:  RT @BelleInABow: Obama doesn't need to be your favorite person, but he's still the President of the United States of America. That always deserves respect.\n",
            "czech:  @carrotgravy lol okay I'm calm. But technically 4 black directioners cause michelle obama is one now. WOW. and as am I :)\n",
            "Eng:  @carrotgravy lol okay I'm calm. But technically 4 black directioners cause michelle obama is one now. WOW. and as am I :)\n",
            "czech:  RT @Professor_Why: #WhatsRomneyHiding - his lack of knowledge regarding Constitutional Checks & Balances... Oh wait, that's our Constitutional \"scholar\" Obama!\n",
            "Eng:  RT @Professor_Why: #WhatsRomneyHiding - his lack of knowledge regarding Constitutional Checks & Balances... Oh wait, that's our Constitutional \"scholar\" Obama!\n",
            "czech:  @MJ_Obama you right though enjoy your self my nigg we gon he wilding soon\n",
            "Eng:  @MJ_Obama you right though enjoy your self my nigg we gon he wilding soon\n",
            "czech:  Um, who really gives a rats ass about golf in Augusta & the new IBM CEO? Who is the reporter that asks & idiot #Obama responds? #tcot\n",
            "Eng:  Um, who really gives a rats ass about golf in Augusta & the new IBM CEO? Who is the reporter that asks & idiot #Obama responds? #tcot\n",
            "czech:  #WhatsObamaHiding A list of Obama's broken promises. @Messina2012\n",
            "Eng:  #WhatsObamaHiding A list of Obama's broken promises. @Messina2012\n",
            "czech:  RT @commondreams: Obama Signs \"Fraud-Friendly\" JOBS Act into Law http://t.co/2gnXDo0f\n",
            "Eng:  RT @commondreams: Obama Signs \"Fraud-Friendly\" JOBS Act into Law http://t.co/2gnXDo0f\n",
            "czech:  RT @GEsfandiari: \"Obama signaled US would accept Iranian civilian nuclear program if Khamenei back up claim #Iran will not pursue nukes\" http://t.co/svxFPoHq\n",
            "Eng:  RT @GEsfandiari: \"Obama signaled US would accept Iranian civilian nuclear program if Khamenei back up claim #Iran will not pursue nukes\" http://t.co/svxFPoHq\n",
            "czech:  @danwho equalization. That sounds like 'redistribution of wealth' aka another commie plot from Obama.\n",
            "Eng:  @danwho equalization. That sounds like 'redistribution of wealth' aka another commie plot from Obama.\n",
            "czech:  Wow the #WhatsRomneyHiding hashtag turned into something pretty pointless. I got excited for nothing. Oh, well. Team Obama let's go! ;)\n",
            "Eng:  Wow the #WhatsRomneyHiding hashtag turned into something pretty pointless. I got excited for nothing. Oh, well. Team Obama let's go! ;)\n",
            "czech:  \"@Drudge_Report: Obama setting up Supreme Court as campaign issue... http://t.co/89tb9uIl\" #NEWSXOOMcom\n",
            "Eng:  \"@Drudge_Report: Obama setting up Supreme Court as campaign issue... http://t.co/89tb9uIl\" #NEWSXOOMcom\n",
            "czech:  #WhatisRomneyHiding he's not Barack Obama. #WhatsObamaHiding he wants to run on anyone but his own record.\n",
            "Eng:  #WhatisRomneyHiding he's not Barack Obama. #WhatsObamaHiding he wants to run on anyone but his own record.\n",
            "czech:  RT @stonerjesus420: Six National Drug Policy Organizations Send Letter Asking Obama To End MMJ Crackdown: http://t.co/fFZKYkLF\n",
            "Eng:  RT @stonerjesus420: Six National Drug Policy Organizations Send Letter Asking Obama To End MMJ Crackdown: http://t.co/fFZKYkLF\n",
            "czech:  RT @/ThirdRailersObama Autopen Missing: Lost Bills found - Obama Autopen Missing:... http://t.co/8HYLEeNW\n",
            "Eng:  RT @/ThirdRailersObama Autopen Missing: Lost Bills found - Obama Autopen Missing:... http://t.co/8HYLEeNW\n",
            "czech:  RT @markknoller: AT a campaign fundraiser tonight, Pres. Obama again denounced Mitt Romney by name for his support of the House-passed GOP Budget.\n",
            "Eng:  RT @markknoller: AT a campaign fundraiser tonight, Pres. Obama again denounced Mitt Romney by name for his support of the House-passed GOP Budget.\n",
            "czech:   #tcot #tlot #teaparty #thirdrailers #gop #twisters\n",
            "Eng:   #tcot #tlot #teaparty #thirdrailers #gop #twisters\n",
            "czech:  U ROCK LUIS!RT @1LuisSandoval: If Obama had a son, he'd look like Trayvon.  If he had a dad, he'd (cont) http://t.co/sqG7ysWO\n",
            "Eng:  U ROCK LUIS!RT @1LuisSandoval: If Obama had a son, he'd look like Trayvon.  If he had a dad, he'd (cont) http://t.co/sqG7ysWO\n",
            "czech:  RT @KarlRove: Obama's habit of blaming others for country's problems adds to perception of a weak leader. http://t.co/NZaqvz3C\n",
            "Eng:  RT @KarlRove: Obama's habit of blaming others for country's problems adds to perception of a weak leader. http://t.co/NZaqvz3C\n",
            "czech:  #WhatsRomneyHiding - He and OBAMA are secret lovers and want to get married! #GOP #tcot\n",
            "Eng:  #WhatsRomneyHiding - He and OBAMA are secret lovers and want to get married! #GOP #tcot\n",
            "czech:  President Obama ^ Lindsay Lohan ^ USA Intel public scams ^ Press 2007 pissed off Analyt64  = DC courier type magnet on USA White House.\n",
            "Eng:  President Obama ^ Lindsay Lohan ^ USA Intel public scams ^ Press 2007 pissed off Analyt64  = DC courier type magnet on USA White House.\n",
            "czech:  Namun, dengan dirinya terpilih menjadi presiden, jadwal Obama langsung pt menghadiri banyak undangan\n",
            "Eng:  Namun, dengan dirinya terpilih menjadi presiden, jadwal Obama langsung pt menghadiri banyak undangan\n",
            "czech:  Obey: Obama still not satisfied with the lapdog press (@times247) http://t.co/qSQXWxnl Now he's 'ordering' what the press should report!\n",
            "Eng:  Obey: Obama still not satisfied with the lapdog press (@times247) http://t.co/qSQXWxnl Now he's 'ordering' what the press should report!\n",
            "czech:  #TCOT This says it all......Obama Caught Lying-In His Own Words: http://t.co/sTR0vyJK #bcot #NoObama #liar #socialist #marxist #deceit #fail\n",
            "Eng:  #TCOT This says it all......Obama Caught Lying-In His Own Words: http://t.co/sTR0vyJK #bcot #NoObama #liar #socialist #marxist #deceit #fail\n",
            "czech:  RT @Steto33: @edshow Tomorrow's GOP headline: Obama hates golf. #edshow\n",
            "Eng:  RT @Steto33: @edshow Tomorrow's GOP headline: Obama hates golf. #edshow\n",
            "czech:  RT @JonahNRO: But he got them fast! MT @thinkprogress Romney, who has two Harvard degrees, blasts Obama for spending \"too much time at Harvard.\"\n",
            "Eng:  RT @JonahNRO: But he got them fast! MT @thinkprogress Romney, who has two Harvard degrees, blasts Obama for spending \"too much time at Harvard.\"\n",
            "czech:  @edshow I'M A WOMAN NOT A CATERPILLAR.  OBAMA IN 2012 #ED SHOW\n",
            "Eng:  @edshow I'M A WOMAN NOT A CATERPILLAR.  OBAMA IN 2012 #ED SHOW\n",
            "czech:  White House Wants YOU To Participate In The State Of The Union Address http://t.co/mWVRGqf8 #SOTU #obama\n",
            "Eng:  White House Wants YOU To Participate In The State Of The Union Address http://t.co/mWVRGqf8 #SOTU #obama\n",
            "czech:  Saul says Pres Obama \"will do anything\" to distract Americans from his \"failed\" economic record incl unemployment & higher gas prices.\"\n",
            "Eng:  Saul says Pres Obama \"will do anything\" to distract Americans from his \"failed\" economic record incl unemployment & higher gas prices.\"\n",
            "czech:  RT @1Directionality: \"Harry styles described Michelle Obama as a very attractive older woman\" OBAMA HIDE YOUR WIFE, STYLES IS COMING!\"\n",
            "Eng:  RT @1Directionality: \"Harry styles described Michelle Obama as a very attractive older woman\" OBAMA HIDE YOUR WIFE, STYLES IS COMING!\"\n",
            "czech:  RIGHT SPEAK: LET US NOT FORGET THAT PETTY SANTORUM ENDORSES OBAMA OVER ROMNEY! NOT PRESIDENTIAL! http://t.co/ZqAuGKOd #elections2012 #gop\n",
            "Eng:  RIGHT SPEAK: LET US NOT FORGET THAT PETTY SANTORUM ENDORSES OBAMA OVER ROMNEY! NOT PRESIDENTIAL! http://t.co/ZqAuGKOd #elections2012 #gop\n",
            "czech:  Bean on my pocket, Obama on my wrist.\n",
            "Eng:  Bean on my pocket, Obama on my wrist.\n",
            "czech:  http://t.co/0NrH7GKj Obama signs JOBS Act to boost startup firms - http://t.co/REuKvbgg\n",
            "Eng:  http://t.co/0NrH7GKj Obama signs JOBS Act to boost startup firms - http://t.co/REuKvbgg\n",
            "czech:  Obama Sets Table To Ridicule GOP As US Military Secretly Using Algae Fuel In Naval Ships & Secret Army Airships http://t.co/zkUbbBVN\n",
            "Eng:  Obama Sets Table To Ridicule GOP As US Military Secretly Using Algae Fuel In Naval Ships & Secret Army Airships http://t.co/zkUbbBVN\n",
            "czech:  RT @derekahunter: I like how Obama asks \"#WhatsRomneyHiding?\" My guess, Obama's crappy college transcripts. #WhatsObamaSmoking? #Caring #p2 @Messina2012\n",
            "Eng:  RT @derekahunter: I like how Obama asks \"#WhatsRomneyHiding?\" My guess, Obama's crappy college transcripts. #WhatsObamaSmoking? #Caring #p2 @Messina2012\n",
            "czech:  RT @CaptainCook03: And carpool with your friends. If we can stay away from the pump gas prices will drop. It's up to us to lower them, not Obama\n",
            "Eng:  RT @CaptainCook03: And carpool with your friends. If we can stay away from the pump gas prices will drop. It's up to us to lower them, not Obama\n",
            "czech:  Obama's Gender Advantage Extends to the States - 2012 Decoded: New detail on recent swing state polling further ... http://t.co/8iSanDGS\n",
            "Eng:  Obama's Gender Advantage Extends to the States - 2012 Decoded: New detail on recent swing state polling further ... http://t.co/8iSanDGS\n",
            "czech:  Happy Passover, love Obama http://t.co/gHQ3NrWP\n",
            "Eng:  Happy Passover, love Obama http://t.co/gHQ3NrWP\n",
            "czech:  RT @TPO_Hisself: For the first time in history, CONTRARY 2 Dr. King's wishes, Obama is calling on voters FOR THE COLOR OF THEIR SKIN! #RACIST! #TREASON!\n",
            "Eng:  RT @TPO_Hisself: For the first time in history, CONTRARY 2 Dr. King's wishes, Obama is calling on voters FOR THE COLOR OF THEIR SKIN! #RACIST! #TREASON!\n",
            "czech:  @meganagerton Bobby P tells Obama what to do, Megan\n",
            "Eng:  @meganagerton Bobby P tells Obama what to do, Megan\n",
            "czech:  http://t.co/3COJeZ2F  STOP IT!!!\n",
            "Eng:  http://t.co/3COJeZ2F  STOP IT!!!\n",
            "czech:  RT @ItsLoopzProd: LOOOOOOOOOOOOOOOOOOOOOOOOOOOOL This is why i rate obama http://t.co/vsOYFhSa\n",
            "Eng:  RT @ItsLoopzProd: LOOOOOOOOOOOOOOOOOOOOOOOOOOOOL This is why i rate obama http://t.co/vsOYFhSa\n",
            "czech:  RT @ohgirlphrase: American kid \"You're from the UK? Ohhh cool, So do you have tea with the Queen?\". British kid: \"Do you like, go to Mcdonalds with Obama?\n",
            "Eng:  RT @ohgirlphrase: American kid \"You're from the UK? Ohhh cool, So do you have tea with the Queen?\". British kid: \"Do you like, go to Mcdonalds with Obama?\n",
            "czech:  @pritikothari I dont really care what obama's hiding either, still voting for him!\n",
            "Eng:  @pritikothari I dont really care what obama's hiding either, still voting for him!\n",
            "czech:  RT @handrewschwartz: Ignatius reports Obama signaled Iran US wld accept civ nuke pgm if Khameni can assure Iran will never get nuke weapons http://t.co/KkaAhGPq\n",
            "Eng:  RT @handrewschwartz: Ignatius reports Obama signaled Iran US wld accept civ nuke pgm if Khameni can assure Iran will never get nuke weapons http://t.co/KkaAhGPq\n",
            "czech:  @DavidCornDC Mr Corn I just seen the HBO documentary hot coffee.I feel so upset, we need four more years of President Obama 1000% certtain!\n",
            "Eng:  @DavidCornDC Mr Corn I just seen the HBO documentary hot coffee.I feel so upset, we need four more years of President Obama 1000% certtain!\n",
            "czech:  RT @PAC43: Reforming an Obama supporter is like trying to pick up poop by its clean end\n",
            "Eng:  RT @PAC43: Reforming an Obama supporter is like trying to pick up poop by its clean end\n",
            "czech:  RT @JeffersonObama: 62% of U.S. Jews would reelect Obama, 4% say Israel is most important issue - Haaretz http://t.co/VhURDtdO http://t.co/gIGmn5kE\n",
            "Eng:  RT @JeffersonObama: 62% of U.S. Jews would reelect Obama, 4% say Israel is most important issue - Haaretz http://t.co/VhURDtdO http://t.co/gIGmn5kE\n",
            "czech:  RT @blakehounshell: From Ignatius: \"U.S. officials hope [Putin] can broker a Syria deal before he meets Obama at the G-8 summit next month.\"\n",
            "Eng:  RT @blakehounshell: From Ignatius: \"U.S. officials hope [Putin] can broker a Syria deal before he meets Obama at the G-8 summit next month.\"\n",
            "czech:  RT @BelleInABow: Obama doesn't need to be your favorite person, but he's still the President of the United States of America. That always deserves respect.\n",
            "Eng:  RT @BelleInABow: Obama doesn't need to be your favorite person, but he's still the President of the United States of America. That always deserves respect.\n",
            "czech:  @xShwag haha i know im just so smart, i mean you gotta listen to obama cuz its obama. and lol i got my belly button pierced.\n",
            "Eng:  @xShwag haha i know im just so smart, i mean you gotta listen to obama cuz its obama. and lol i got my belly button pierced.\n",
            "czech:  Prosecutor: Marine posted negative images of Obama http://t.co/9WGiMra5\n",
            "Eng:  Prosecutor: Marine posted negative images of Obama http://t.co/9WGiMra5\n",
            "czech:  RT @ohgirlphrase: American kid \"You're from the UK? Ohhh cool, So do you have tea with the Queen?\". British kid: \"Do you like, go to Mcdonalds with Obama?\n",
            "Eng:  RT @ohgirlphrase: American kid \"You're from the UK? Ohhh cool, So do you have tea with the Queen?\". British kid: \"Do you like, go to Mcdonalds with Obama?\n",
            "czech:  RT @A_Khanivore: He's half white, so is he half Mitt Romney? RT @wcptersn: If Obama were white, he'd be Mitt Romney.\n",
            "Eng:  RT @A_Khanivore: He's half white, so is he half Mitt Romney? RT @wcptersn: If Obama were white, he'd be Mitt Romney.\n",
            "czech:  RT @JeffersonObama: 62% of U.S. Jews would reelect Obama, 4% say Israel is most important issue - Haaretz http://t.co/VhURDtdO http://t.co/gIGmn5kE\n",
            "Eng:  RT @JeffersonObama: 62% of U.S. Jews would reelect Obama, 4% say Israel is most important issue - Haaretz http://t.co/VhURDtdO http://t.co/gIGmn5kE\n",
            "czech:  Nancy Pelosi | Obamacare | Barack Obama | Supreme Court | The Daily Caller http://t.co/DrZl9zwA via @addthis\n",
            "Eng:  Nancy Pelosi | Obamacare | Barack Obama | Supreme Court | The Daily Caller http://t.co/DrZl9zwA via @addthis\n",
            "czech:  #Syria #Hama #Homs #Assad #UN #NATO #Obama\n",
            "Eng:  #Syria #Hama #Homs #Assad #UN #NATO #Obama\n",
            "czech:  #WhatsRomneyHiding - his long-form birth certificate for 2 1/2 years... Oh wait, that little game was played by Obama, not Romney...\n",
            "Eng:  #WhatsRomneyHiding - his long-form birth certificate for 2 1/2 years... Oh wait, that little game was played by Obama, not Romney...\n",
            "czech:  President Obama Signs the Jumpstart Our Business Startups (JOBS) Act: An Attempt to Ease... http://t.co/4IOwLqh1 (via @Media_Laws)\n",
            "Eng:  President Obama Signs the Jumpstart Our Business Startups (JOBS) Act: An Attempt to Ease... http://t.co/4IOwLqh1 (via @Media_Laws)\n",
            "czech:  @markknoller @obama should release all of his transcripts from all of the colleges he attended.\n",
            "Eng:  @markknoller @obama should release all of his transcripts from all of the colleges he attended.\n",
            "czech:  RT @KarlRove: Obama's habit of blaming others for country's problems adds to perception of a weak leader. http://t.co/NZaqvz3C\n",
            "Eng:  RT @KarlRove: Obama's habit of blaming others for country's problems adds to perception of a weak leader. http://t.co/NZaqvz3C\n",
            "czech:  #ILikeObamacare because its my patriot duty to pay way more, for way less, so that Obama can give away his stash. #p2 #tcot #TeaParty\n",
            "Eng:  #ILikeObamacare because its my patriot duty to pay way more, for way less, so that Obama can give away his stash. #p2 #tcot #TeaParty\n",
            "czech:  RT @JeffersonObama: Arianna Huffington blasting President Obama at any chance and praising GOP. This pic explains things. http://t.co/Ov6I5CoS\n",
            "Eng:  RT @JeffersonObama: Arianna Huffington blasting President Obama at any chance and praising GOP. This pic explains things. http://t.co/Ov6I5CoS\n",
            "czech:  RT @ohgirlphrase: American kid \"You're from the UK? Ohhh cool, So do you have tea with the Queen?\". British kid: \"Do you like, go to Mcdonalds with Obama?\n",
            "Eng:  RT @ohgirlphrase: American kid \"You're from the UK? Ohhh cool, So do you have tea with the Queen?\". British kid: \"Do you like, go to Mcdonalds with Obama?\n",
            "czech:  RT @pourmecoffee: White House Easter Egg Roll is Monday. Obama redistributing eggs. #socialism\n",
            "Eng:  RT @pourmecoffee: White House Easter Egg Roll is Monday. Obama redistributing eggs. #socialism\n",
            "czech:  RT @baseballcrank: #WhatsRomneyHiding Obama's State Senate records\n",
            "Eng:  RT @baseballcrank: #WhatsRomneyHiding Obama's State Senate records\n",
            "czech:  RT @SheCallsMeLarry: The \"new\" anti-Obama slur from the #RWNJ echo chamber is THUG? So we've decided to just let our racist bedsheets fly, huh? Interesting. #GOP\n",
            "Eng:  RT @SheCallsMeLarry: The \"new\" anti-Obama slur from the #RWNJ echo chamber is THUG? So we've decided to just let our racist bedsheets fly, huh? Interesting. #GOP\n",
            "czech:  RT @handrewschwartz: Ignatius reports Obama signaled Iran US wld accept civ nuke pgm if Khameni can assure Iran will never get nuke weapons http://t.co/KkaAhGPq\n",
            "Eng:  RT @handrewschwartz: Ignatius reports Obama signaled Iran US wld accept civ nuke pgm if Khameni can assure Iran will never get nuke weapons http://t.co/KkaAhGPq\n",
            "czech:  RT @kkrebeka: how come Justin Bieber has more followers than Barack Obama\n",
            "Eng:  RT @kkrebeka: how come Justin Bieber has more followers than Barack Obama\n",
            "czech:  That his campaign disabled credit card verification on his online donation site #WhatsRomneyHiding #OhWait,that's Obama http://t.co/3fgWm3n4\n",
            "Eng:  That his campaign disabled credit card verification on his online donation site #WhatsRomneyHiding #OhWait,that's Obama http://t.co/3fgWm3n4\n",
            "czech:  RT @TylerSadonis: Shout out to @RyanFecteau for the cool work he's doing with the Obama campaign #Pride2012 http://t.co/AnxszxJn\n",
            "Eng:  RT @TylerSadonis: Shout out to @RyanFecteau for the cool work he's doing with the Obama campaign #Pride2012 http://t.co/AnxszxJn\n",
            "(200, 2)\n"
          ],
          "name": "stdout"
        }
      ]
    },
    {
      "cell_type": "code",
      "metadata": {
        "colab": {
          "base_uri": "https://localhost:8080/",
          "height": 204
        },
        "id": "vEA9UDc5HSoF",
        "outputId": "4a15d3b0-d9b0-4c37-9a1a-f04292d0d7da"
      },
      "source": [
        "tweet_data_1 = pd.concat([train,tweet_swap,tweet_delete,tweet_translated]).reset_index().drop(columns=['index'])\n",
        "tweet_data_1.head()"
      ],
      "execution_count": 17,
      "outputs": [
        {
          "output_type": "execute_result",
          "data": {
            "text/html": [
              "<div>\n",
              "<style scoped>\n",
              "    .dataframe tbody tr th:only-of-type {\n",
              "        vertical-align: middle;\n",
              "    }\n",
              "\n",
              "    .dataframe tbody tr th {\n",
              "        vertical-align: top;\n",
              "    }\n",
              "\n",
              "    .dataframe thead th {\n",
              "        text-align: right;\n",
              "    }\n",
              "</style>\n",
              "<table border=\"1\" class=\"dataframe\">\n",
              "  <thead>\n",
              "    <tr style=\"text-align: right;\">\n",
              "      <th></th>\n",
              "      <th>tweets</th>\n",
              "      <th>labels</th>\n",
              "    </tr>\n",
              "  </thead>\n",
              "  <tbody>\n",
              "    <tr>\n",
              "      <th>0</th>\n",
              "      <td>Obama. #drawsomething @therealdwele showing of...</td>\n",
              "      <td>0</td>\n",
              "    </tr>\n",
              "    <tr>\n",
              "      <th>1</th>\n",
              "      <td>RT @Stewart7Donna: Checking out \"Obama Puts He...</td>\n",
              "      <td>0</td>\n",
              "    </tr>\n",
              "    <tr>\n",
              "      <th>2</th>\n",
              "      <td>Love the idea that @SarahPalinUSA acts like a ...</td>\n",
              "      <td>2</td>\n",
              "    </tr>\n",
              "    <tr>\n",
              "      <th>3</th>\n",
              "      <td>RT @RT_America Obama's pretzel logic http://t....</td>\n",
              "      <td>0</td>\n",
              "    </tr>\n",
              "    <tr>\n",
              "      <th>4</th>\n",
              "      <td>RT @ohgirlphrase: American kid \"You're from th...</td>\n",
              "      <td>0</td>\n",
              "    </tr>\n",
              "  </tbody>\n",
              "</table>\n",
              "</div>"
            ],
            "text/plain": [
              "                                              tweets  labels\n",
              "0  Obama. #drawsomething @therealdwele showing of...       0\n",
              "1  RT @Stewart7Donna: Checking out \"Obama Puts He...       0\n",
              "2  Love the idea that @SarahPalinUSA acts like a ...       2\n",
              "3  RT @RT_America Obama's pretzel logic http://t....       0\n",
              "4  RT @ohgirlphrase: American kid \"You're from th...       0"
            ]
          },
          "metadata": {
            "tags": []
          },
          "execution_count": 17
        }
      ]
    },
    {
      "cell_type": "code",
      "metadata": {
        "colab": {
          "base_uri": "https://localhost:8080/"
        },
        "id": "H3m5BZeCd7vm",
        "outputId": "11604850-e789-41c6-c00e-387a713d030f"
      },
      "source": [
        "tweet_data_1.labels.value_counts()"
      ],
      "execution_count": 18,
      "outputs": [
        {
          "output_type": "execute_result",
          "data": {
            "text/plain": [
              "0    2021\n",
              "1     842\n",
              "2     199\n",
              "Name: labels, dtype: int64"
            ]
          },
          "metadata": {
            "tags": []
          },
          "execution_count": 18
        }
      ]
    },
    {
      "cell_type": "code",
      "metadata": {
        "colab": {
          "base_uri": "https://localhost:8080/",
          "height": 204
        },
        "id": "cA_t0QyWeBFo",
        "outputId": "b1f8dbd5-1ffc-4100-e826-5c2d0e9afdd1"
      },
      "source": [
        "new_tweet_delete_1 = tweet_data_1[tweet_data_1.labels==1].reset_index().drop(columns=['index'])\n",
        "new_tweet_delete_2 = tweet_data_1[tweet_data_1.labels==2].reset_index().drop(columns=['index'])\n",
        "new_tweet_delete = pd.concat([new_tweet_delete_1,new_tweet_delete_2]).reset_index().drop(columns=['index'])\n",
        "new_tweet_delete.head()"
      ],
      "execution_count": 19,
      "outputs": [
        {
          "output_type": "execute_result",
          "data": {
            "text/html": [
              "<div>\n",
              "<style scoped>\n",
              "    .dataframe tbody tr th:only-of-type {\n",
              "        vertical-align: middle;\n",
              "    }\n",
              "\n",
              "    .dataframe tbody tr th {\n",
              "        vertical-align: top;\n",
              "    }\n",
              "\n",
              "    .dataframe thead th {\n",
              "        text-align: right;\n",
              "    }\n",
              "</style>\n",
              "<table border=\"1\" class=\"dataframe\">\n",
              "  <thead>\n",
              "    <tr style=\"text-align: right;\">\n",
              "      <th></th>\n",
              "      <th>tweets</th>\n",
              "      <th>labels</th>\n",
              "    </tr>\n",
              "  </thead>\n",
              "  <tbody>\n",
              "    <tr>\n",
              "      <th>0</th>\n",
              "      <td>Texas GOP talking about going to winner-take-a...</td>\n",
              "      <td>1</td>\n",
              "    </tr>\n",
              "    <tr>\n",
              "      <th>1</th>\n",
              "      <td>RT @NMsly: @marymauldin Nothing is ever a coin...</td>\n",
              "      <td>1</td>\n",
              "    </tr>\n",
              "    <tr>\n",
              "      <th>2</th>\n",
              "      <td>RT @Talkmaster: Oh now I get it. Obama was tal...</td>\n",
              "      <td>1</td>\n",
              "    </tr>\n",
              "    <tr>\n",
              "      <th>3</th>\n",
              "      <td>LaFollette \"we will go to newly elected presid...</td>\n",
              "      <td>1</td>\n",
              "    </tr>\n",
              "    <tr>\n",
              "      <th>4</th>\n",
              "      <td>RT @markknoller: Saul says Pres Obama \"will do...</td>\n",
              "      <td>1</td>\n",
              "    </tr>\n",
              "  </tbody>\n",
              "</table>\n",
              "</div>"
            ],
            "text/plain": [
              "                                              tweets  labels\n",
              "0  Texas GOP talking about going to winner-take-a...       1\n",
              "1  RT @NMsly: @marymauldin Nothing is ever a coin...       1\n",
              "2  RT @Talkmaster: Oh now I get it. Obama was tal...       1\n",
              "3  LaFollette \"we will go to newly elected presid...       1\n",
              "4  RT @markknoller: Saul says Pres Obama \"will do...       1"
            ]
          },
          "metadata": {
            "tags": []
          },
          "execution_count": 19
        }
      ]
    },
    {
      "cell_type": "code",
      "metadata": {
        "colab": {
          "base_uri": "https://localhost:8080/",
          "height": 309
        },
        "id": "rwk2jrxlh_Vo",
        "outputId": "dfa843dc-3b39-48c4-e2bd-30a079a55bf6"
      },
      "source": [
        "new_tweet_delete = delete(new_tweet_delete)\n",
        "new_tweet_delete = swap(new_tweet_delete)\n",
        "new_tweet_delete.head()"
      ],
      "execution_count": 20,
      "outputs": [
        {
          "output_type": "stream",
          "text": [
            "/usr/local/lib/python3.7/dist-packages/ipykernel_launcher.py:7: SettingWithCopyWarning: \n",
            "A value is trying to be set on a copy of a slice from a DataFrame\n",
            "\n",
            "See the caveats in the documentation: https://pandas.pydata.org/pandas-docs/stable/user_guide/indexing.html#returning-a-view-versus-a-copy\n",
            "  import sys\n"
          ],
          "name": "stderr"
        },
        {
          "output_type": "execute_result",
          "data": {
            "text/html": [
              "<div>\n",
              "<style scoped>\n",
              "    .dataframe tbody tr th:only-of-type {\n",
              "        vertical-align: middle;\n",
              "    }\n",
              "\n",
              "    .dataframe tbody tr th {\n",
              "        vertical-align: top;\n",
              "    }\n",
              "\n",
              "    .dataframe thead th {\n",
              "        text-align: right;\n",
              "    }\n",
              "</style>\n",
              "<table border=\"1\" class=\"dataframe\">\n",
              "  <thead>\n",
              "    <tr style=\"text-align: right;\">\n",
              "      <th></th>\n",
              "      <th>tweets</th>\n",
              "      <th>labels</th>\n",
              "    </tr>\n",
              "  </thead>\n",
              "  <tbody>\n",
              "    <tr>\n",
              "      <th>0</th>\n",
              "      <td>Texas change about GOP talking to winner-take-...</td>\n",
              "      <td>1</td>\n",
              "    </tr>\n",
              "    <tr>\n",
              "      <th>1</th>\n",
              "      <td>is @NMsly: @marymauldin Nothing RT http://t.co...</td>\n",
              "      <td>1</td>\n",
              "    </tr>\n",
              "    <tr>\n",
              "      <th>2</th>\n",
              "      <td>really @Talkmaster: Oh now shorthand get it. O...</td>\n",
              "      <td>1</td>\n",
              "    </tr>\n",
              "    <tr>\n",
              "      <th>3</th>\n",
              "      <td>LaFollette \"we ask go to newly president for w...</td>\n",
              "      <td>1</td>\n",
              "    </tr>\n",
              "    <tr>\n",
              "      <th>4</th>\n",
              "      <td>RT @markknoller: says higher Pres Obama from d...</td>\n",
              "      <td>1</td>\n",
              "    </tr>\n",
              "  </tbody>\n",
              "</table>\n",
              "</div>"
            ],
            "text/plain": [
              "                                              tweets  labels\n",
              "0  Texas change about GOP talking to winner-take-...       1\n",
              "1  is @NMsly: @marymauldin Nothing RT http://t.co...       1\n",
              "2  really @Talkmaster: Oh now shorthand get it. O...       1\n",
              "3  LaFollette \"we ask go to newly president for w...       1\n",
              "4  RT @markknoller: says higher Pres Obama from d...       1"
            ]
          },
          "metadata": {
            "tags": []
          },
          "execution_count": 20
        }
      ]
    },
    {
      "cell_type": "code",
      "metadata": {
        "colab": {
          "base_uri": "https://localhost:8080/"
        },
        "id": "ZCkOu06fktIr",
        "outputId": "df4f54ff-c214-4466-e9fd-dfc7e099f749"
      },
      "source": [
        "tweet_data = pd.concat([tweet_data_1,new_tweet_delete]).reset_index().drop(columns=['index'])\n",
        "print(tweet_data.head())\n",
        "print(tweet_data.shape)\n",
        "print(tweet_data.labels.value_counts())"
      ],
      "execution_count": 21,
      "outputs": [
        {
          "output_type": "stream",
          "text": [
            "                                              tweets  labels\n",
            "0  Obama. #drawsomething @therealdwele showing of...       0\n",
            "1  RT @Stewart7Donna: Checking out \"Obama Puts He...       0\n",
            "2  Love the idea that @SarahPalinUSA acts like a ...       2\n",
            "3  RT @RT_America Obama's pretzel logic http://t....       0\n",
            "4  RT @ohgirlphrase: American kid \"You're from th...       0\n",
            "(4103, 2)\n",
            "0    2021\n",
            "1    1684\n",
            "2     398\n",
            "Name: labels, dtype: int64\n"
          ],
          "name": "stdout"
        }
      ]
    },
    {
      "cell_type": "code",
      "metadata": {
        "colab": {
          "base_uri": "https://localhost:8080/"
        },
        "id": "1hxgIXGdRs88",
        "outputId": "05526185-59b3-4b22-a783-965312c7ae97"
      },
      "source": [
        "import random\n",
        "import torch, torchtext\n",
        "from torchtext import data\n",
        "SEED = 43\n",
        "torch.manual_seed(SEED)"
      ],
      "execution_count": 23,
      "outputs": [
        {
          "output_type": "execute_result",
          "data": {
            "text/plain": [
              "<torch._C.Generator at 0x7f0907b1d9f0>"
            ]
          },
          "metadata": {
            "tags": []
          },
          "execution_count": 23
        }
      ]
    },
    {
      "cell_type": "code",
      "metadata": {
        "id": "apwYwtGbTTJa"
      },
      "source": [
        "Tweet = torchtext.legacy.data.Field(sequential = True, tokenize = 'spacy', batch_first =True, include_lengths=True)\n",
        "Label = torchtext.legacy.data.LabelField(tokenize ='spacy', is_target=True, batch_first =True, sequential =False)"
      ],
      "execution_count": 24,
      "outputs": []
    },
    {
      "cell_type": "code",
      "metadata": {
        "id": "qYZSUFdGTVMB"
      },
      "source": [
        "fields = [('tweet', Tweet), ('label', Label)]"
      ],
      "execution_count": 25,
      "outputs": []
    },
    {
      "cell_type": "code",
      "metadata": {
        "id": "t0RPRpK8TY5w"
      },
      "source": [
        "example = [torchtext.legacy.data.Example.fromlist([tweet_data.tweets[i],tweet_data.labels[i]], fields) for i in range(tweet_data.shape[0])] "
      ],
      "execution_count": 26,
      "outputs": []
    },
    {
      "cell_type": "code",
      "metadata": {
        "id": "rvGrgAf-TjtK"
      },
      "source": [
        "twitterDataset = torchtext.legacy.data.Dataset(example, fields)"
      ],
      "execution_count": 27,
      "outputs": []
    },
    {
      "cell_type": "code",
      "metadata": {
        "id": "UucaDg2sTnJZ"
      },
      "source": [
        "train_data = twitterDataset"
      ],
      "execution_count": 28,
      "outputs": []
    },
    {
      "cell_type": "code",
      "metadata": {
        "colab": {
          "base_uri": "https://localhost:8080/"
        },
        "id": "6Q0ow0e7nsoq",
        "outputId": "c5c2ffd1-837a-4165-c2b3-d2a50f93e4a8"
      },
      "source": [
        "print(valid.shape)\n",
        "print(valid.head())"
      ],
      "execution_count": 29,
      "outputs": [
        {
          "output_type": "stream",
          "text": [
            "(410, 2)\n",
            "                                              tweets  labels\n",
            "0  With all the truth that has been exposed about...       0\n",
            "1  RT @thinkprogress: Romney, who has two Harvard...       0\n",
            "2  The actual Barack Obama Campaign And its parti...       0\n",
            "3  RT @JeffersonObama: Arianna Huffington blastin...       1\n",
            "4  President signs a bipartisan bill to help smal...       1\n"
          ],
          "name": "stdout"
        }
      ]
    },
    {
      "cell_type": "code",
      "metadata": {
        "id": "ydex-0Uhlsf9"
      },
      "source": [
        "example_1 = [torchtext.legacy.data.Example.fromlist([valid.tweets[i],valid.labels[i]], fields) for i in range(valid.shape[0])] "
      ],
      "execution_count": 30,
      "outputs": []
    },
    {
      "cell_type": "code",
      "metadata": {
        "id": "VmJeq8Ynl4Gz"
      },
      "source": [
        "validDataset = torchtext.legacy.data.Dataset(example_1, fields)"
      ],
      "execution_count": 31,
      "outputs": []
    },
    {
      "cell_type": "code",
      "metadata": {
        "id": "6sB-ZkR3q_et"
      },
      "source": [
        "valid = validDataset"
      ],
      "execution_count": 32,
      "outputs": []
    },
    {
      "cell_type": "code",
      "metadata": {
        "colab": {
          "base_uri": "https://localhost:8080/"
        },
        "id": "eA_tjWoeTxSG",
        "outputId": "481db2b8-dada-4c96-8ef8-de0cf24add66"
      },
      "source": [
        "len(train_data), len(valid)"
      ],
      "execution_count": 33,
      "outputs": [
        {
          "output_type": "execute_result",
          "data": {
            "text/plain": [
              "(4103, 410)"
            ]
          },
          "metadata": {
            "tags": []
          },
          "execution_count": 33
        }
      ]
    },
    {
      "cell_type": "code",
      "metadata": {
        "colab": {
          "base_uri": "https://localhost:8080/"
        },
        "id": "qgK4Qo2-F1yA",
        "outputId": "89dbf667-fc7b-4bb2-faea-77915a4beb1b"
      },
      "source": [
        "vars(twitterDataset.examples[0])"
      ],
      "execution_count": 34,
      "outputs": [
        {
          "output_type": "execute_result",
          "data": {
            "text/plain": [
              "{'label': 0,\n",
              " 'tweet': ['Obama',\n",
              "  '.',\n",
              "  '#',\n",
              "  'drawsomething',\n",
              "  '@therealdwele',\n",
              "  'showing',\n",
              "  'off',\n",
              "  'http://t.co/KJc4gJso']}"
            ]
          },
          "metadata": {
            "tags": []
          },
          "execution_count": 34
        }
      ]
    },
    {
      "cell_type": "code",
      "metadata": {
        "id": "A15FtRYpHbGA"
      },
      "source": [
        "Tweet.build_vocab(train_data)\n",
        "Label.build_vocab(train_data)"
      ],
      "execution_count": 35,
      "outputs": []
    },
    {
      "cell_type": "code",
      "metadata": {
        "colab": {
          "base_uri": "https://localhost:8080/"
        },
        "id": "K-kW8cFGIVs4",
        "outputId": "87e28a27-8abb-4c29-a2a2-7ac4bc913e8c"
      },
      "source": [
        "print('Size of input vocab : ', len(Tweet.vocab))\n",
        "print('Size of label vocab : ', len(Label.vocab))\n",
        "print('Top 10 words appreared repeatedly :', list(Tweet.vocab.freqs.most_common(10)))\n",
        "print('Labels : ', Label.vocab.stoi)"
      ],
      "execution_count": 36,
      "outputs": [
        {
          "output_type": "stream",
          "text": [
            "Size of input vocab :  5418\n",
            "Size of label vocab :  3\n",
            "Top 10 words appreared repeatedly : [('Obama', 3630), ('.', 2835), (':', 2666), ('#', 2312), (',', 2038), ('the', 1839), ('RT', 1793), ('\"', 1767), ('to', 1333), ('?', 1132)]\n",
            "Labels :  defaultdict(None, {0: 0, 1: 1, 2: 2})\n"
          ],
          "name": "stdout"
        }
      ]
    },
    {
      "cell_type": "code",
      "metadata": {
        "id": "5yRABmGUI29v"
      },
      "source": [
        "device = torch.device(\"cuda\" if torch.cuda.is_available() else \"cpu\")"
      ],
      "execution_count": 37,
      "outputs": []
    },
    {
      "cell_type": "code",
      "metadata": {
        "id": "zk38rlxOJAm7"
      },
      "source": [
        "train_iterator, valid_iterator = torchtext.legacy.data.BucketIterator.splits((train_data, valid), batch_size = 32, \n",
        "                                                            sort_key = lambda x: len(x.tweet),\n",
        "                                                            sort_within_batch=True, device = device)"
      ],
      "execution_count": 54,
      "outputs": []
    },
    {
      "cell_type": "code",
      "metadata": {
        "id": "gJFYU6cAJaN6"
      },
      "source": [
        "import os, pickle\n",
        "with open('tokenizer.pkl', 'wb') as tokens: \n",
        "    pickle.dump(Tweet.vocab.stoi, tokens)"
      ],
      "execution_count": 49,
      "outputs": []
    },
    {
      "cell_type": "code",
      "metadata": {
        "colab": {
          "base_uri": "https://localhost:8080/"
        },
        "id": "pj9q1XWcNwHy",
        "outputId": "b8c3eb8a-ff5e-4ee3-a2e4-5f0f587d0ca6"
      },
      "source": [
        "# Define hyperparameters\n",
        "size_of_vocab = len(Tweet.vocab)\n",
        "embedding_dim = 300\n",
        "num_hidden_nodes = 100\n",
        "num_output_nodes = 3\n",
        "num_layers = 1\n",
        "dropout = 0.4\n",
        "\n",
        "# Instantiate the model\n",
        "enc = encoders(size_of_vocab, embedding_dim, num_hidden_nodes, num_layers, dropout = dropout)\n",
        "dec = decoders(num_hidden_nodes,num_hidden_nodes,10)\n",
        "\n",
        "model = classifier(enc,dec,num_hidden_nodes,num_output_nodes).to(device)"
      ],
      "execution_count": 55,
      "outputs": [
        {
          "output_type": "stream",
          "text": [
            "/usr/local/lib/python3.7/dist-packages/torch/nn/modules/rnn.py:63: UserWarning: dropout option adds dropout after all but last recurrent layer, so non-zero dropout expects num_layers greater than 1, but got dropout=0.4 and num_layers=1\n",
            "  \"num_layers={}\".format(dropout, num_layers))\n"
          ],
          "name": "stderr"
        }
      ]
    },
    {
      "cell_type": "code",
      "metadata": {
        "colab": {
          "base_uri": "https://localhost:8080/"
        },
        "id": "p9BEJoIgOG4W",
        "outputId": "488db78c-9adc-44d4-d739-3e8bfb0fc2c5"
      },
      "source": [
        "print(model)\n",
        "\n",
        "#No. of trianable parameters\n",
        "def count_parameters(model):\n",
        "    return sum(p.numel() for p in model.parameters() if p.requires_grad)\n",
        "    \n",
        "print(f'The model has {count_parameters(model):,} trainable parameters')"
      ],
      "execution_count": 56,
      "outputs": [
        {
          "output_type": "stream",
          "text": [
            "classifier(\n",
            "  (encoder): encoders(\n",
            "    (embedding): Embedding(5418, 300)\n",
            "    (encoder): LSTM(300, 100, batch_first=True, dropout=0.4)\n",
            "  )\n",
            "  (decoder): decoders(\n",
            "    (decoder_single_rnn_cell): LSTMCell(100, 100)\n",
            "  )\n",
            "  (fc): Linear(in_features=100, out_features=3, bias=True)\n",
            ")\n",
            "The model has 1,867,303 trainable parameters\n"
          ],
          "name": "stdout"
        }
      ]
    },
    {
      "cell_type": "code",
      "metadata": {
        "id": "1LUXLZIVOPKG"
      },
      "source": [
        "import torch.optim as optim\n",
        "\n",
        "# define optimizer and loss\n",
        "optimizer = optim.Adam(model.parameters(), lr=2e-4)\n",
        "criterion = nn.CrossEntropyLoss()\n",
        "\n",
        "# define metric\n",
        "def binary_accuracy(preds, y):\n",
        "    #round predictions to the closest integer\n",
        "    _, predictions = torch.max(preds, 1)\n",
        "    \n",
        "    correct = (predictions == y).float() \n",
        "    acc = correct.sum() / len(correct)\n",
        "    return acc\n",
        "    \n",
        "# push to cuda if available\n",
        "model = model.to(device)\n",
        "criterion = criterion.to(device)"
      ],
      "execution_count": 57,
      "outputs": []
    },
    {
      "cell_type": "code",
      "metadata": {
        "id": "RtV0AFllOc1S"
      },
      "source": [
        "def train(model, iterator, optimizer, criterion):\n",
        "    \n",
        "    # initialize every epoch \n",
        "    epoch_loss = 0\n",
        "    epoch_acc = 0\n",
        "    \n",
        "    # set the model in training phase\n",
        "    model.train()  \n",
        "    \n",
        "    for batch in iterator:\n",
        "        \n",
        "        # resets the gradients after every batch\n",
        "        optimizer.zero_grad()   \n",
        "        \n",
        "        # retrieve text and no. of words\n",
        "        tweet, tweet_lengths = batch.tweet  \n",
        "        \n",
        "        # convert to 1D tensor\n",
        "        predictions = model(tweet, tweet_lengths).squeeze()  \n",
        "        \n",
        "        # compute the loss\n",
        "        loss = criterion(predictions, batch.label)        \n",
        "        \n",
        "        # compute the binary accuracy\n",
        "        acc = binary_accuracy(predictions, batch.label)   \n",
        "        \n",
        "        # backpropage the loss and compute the gradients\n",
        "        loss.backward()       \n",
        "        \n",
        "        # update the weights\n",
        "        optimizer.step()      \n",
        "        \n",
        "        # loss and accuracy\n",
        "        epoch_loss += loss.item()  \n",
        "        epoch_acc += acc.item()    \n",
        "        \n",
        "    return epoch_loss / len(iterator), epoch_acc / len(iterator)"
      ],
      "execution_count": 45,
      "outputs": []
    },
    {
      "cell_type": "code",
      "metadata": {
        "id": "BuQPSX3LPEBA"
      },
      "source": [
        "def evaluate(model, iterator, criterion):\n",
        "    \n",
        "    # initialize every epoch\n",
        "    epoch_loss = 0\n",
        "    epoch_acc = 0\n",
        "\n",
        "    # deactivating dropout layers\n",
        "    model.eval()\n",
        "    \n",
        "    # deactivates autograd\n",
        "    with torch.no_grad():\n",
        "    \n",
        "        for batch in iterator:\n",
        "        \n",
        "            # retrieve text and no. of words\n",
        "            tweet, tweet_lengths = batch.tweet\n",
        "            \n",
        "            # convert to 1d tensor\n",
        "            predictions = model(tweet, tweet_lengths).squeeze()\n",
        "            \n",
        "            # compute loss and accuracy\n",
        "            loss = criterion(predictions, batch.label)\n",
        "            acc = binary_accuracy(predictions, batch.label)\n",
        "            \n",
        "            # keep track of loss and accuracy\n",
        "            epoch_loss += loss.item()\n",
        "            epoch_acc += acc.item()\n",
        "        \n",
        "    return epoch_loss / len(iterator), epoch_acc / len(iterator)"
      ],
      "execution_count": 46,
      "outputs": []
    },
    {
      "cell_type": "code",
      "metadata": {
        "colab": {
          "base_uri": "https://localhost:8080/"
        },
        "id": "kzKZXmUdTDo-",
        "outputId": "b3169b99-9e40-4d8e-8300-fe1051a0876d"
      },
      "source": [
        "N_EPOCHS = 10\n",
        "best_valid_loss = float('inf')\n",
        "\n",
        "for epoch in range(N_EPOCHS):\n",
        "     \n",
        "    # train the model\n",
        "    train_loss, train_acc = train(model, train_iterator, optimizer, criterion)\n",
        "    \n",
        "    # evaluate the model\n",
        "    valid_loss, valid_acc = evaluate(model, valid_iterator, criterion)\n",
        "    \n",
        "    # save the best model\n",
        "    if valid_loss < best_valid_loss:\n",
        "        best_valid_loss = valid_loss\n",
        "        torch.save(model.state_dict(), 'saved_weights.pt')\n",
        "    \n",
        "    print(f'\\tTrain Loss: {train_loss:.3f} | Train Acc: {train_acc*100:.2f}%')\n",
        "    print(f'\\t Val. Loss: {valid_loss:.3f} |  Val. Acc: {valid_acc*100:.2f}% \\n')"
      ],
      "execution_count": 58,
      "outputs": [
        {
          "output_type": "stream",
          "text": [
            "\tTrain Loss: 0.956 | Train Acc: 53.56%\n",
            "\t Val. Loss: 0.726 |  Val. Acc: 70.19% \n",
            "\n",
            "\tTrain Loss: 0.700 | Train Acc: 69.69%\n",
            "\t Val. Loss: 0.645 |  Val. Acc: 74.28% \n",
            "\n",
            "\tTrain Loss: 0.400 | Train Acc: 84.04%\n",
            "\t Val. Loss: 0.731 |  Val. Acc: 80.77% \n",
            "\n",
            "\tTrain Loss: 0.211 | Train Acc: 92.61%\n",
            "\t Val. Loss: 0.889 |  Val. Acc: 80.05% \n",
            "\n",
            "\tTrain Loss: 0.122 | Train Acc: 97.09%\n",
            "\t Val. Loss: 1.007 |  Val. Acc: 79.81% \n",
            "\n",
            "\tTrain Loss: 0.084 | Train Acc: 98.23%\n",
            "\t Val. Loss: 1.025 |  Val. Acc: 80.05% \n",
            "\n",
            "\tTrain Loss: 0.045 | Train Acc: 99.13%\n",
            "\t Val. Loss: 1.054 |  Val. Acc: 79.81% \n",
            "\n",
            "\tTrain Loss: 0.043 | Train Acc: 98.89%\n",
            "\t Val. Loss: 1.129 |  Val. Acc: 80.29% \n",
            "\n",
            "\tTrain Loss: 0.031 | Train Acc: 99.20%\n",
            "\t Val. Loss: 1.224 |  Val. Acc: 77.16% \n",
            "\n",
            "\tTrain Loss: 0.015 | Train Acc: 99.71%\n",
            "\t Val. Loss: 1.437 |  Val. Acc: 72.36% \n",
            "\n"
          ],
          "name": "stdout"
        }
      ]
    },
    {
      "cell_type": "code",
      "metadata": {
        "id": "5_5TRZ9lBFmX"
      },
      "source": [
        "#load weights and tokenizer\n",
        "\n",
        "path='./saved_weights.pt'\n",
        "model.load_state_dict(torch.load(path));\n",
        "model.eval();\n",
        "tokenizer_file = open('./tokenizer.pkl', 'rb')\n",
        "tokenizer = pickle.load(tokenizer_file)\n",
        "\n",
        "#inference \n",
        "\n",
        "import spacy\n",
        "nlp = spacy.load('en')\n",
        "\n",
        "def classify_tweet(tweet):\n",
        "    \n",
        "    categories = {0: \"Negative\", 1:\"Positive\", 2:\"Neutral\"}\n",
        "    \n",
        "    # tokenize the tweet \n",
        "    tokenized = [tok.text for tok in nlp.tokenizer(tweet)] \n",
        "    # convert to integer sequence using predefined tokenizer dictionary\n",
        "    indexed = [tokenizer[t] for t in tokenized]        \n",
        "    # compute no. of words        \n",
        "    length = [len(indexed)]\n",
        "    # convert to tensor                                    \n",
        "    tensor = torch.LongTensor(indexed).to(device)   \n",
        "    # reshape in form of batch, no. of words           \n",
        "    tensor = tensor.unsqueeze(1).T  \n",
        "    # convert to tensor                          \n",
        "    length_tensor = torch.LongTensor(length)\n",
        "    # Get the model prediction                  \n",
        "    #prediction = model(tensor, length_tensor)\n",
        "    enc = encoders(size_of_vocab, embedding_dim, num_hidden_nodes, num_layers, dropout = dropout).to(device)\n",
        "    encoder_output = enc(tensor,length_tensor)\n",
        "    print('Encoder: ',encoder_output)\n",
        "    dec = decoders(num_hidden_nodes,num_hidden_nodes,10)\n",
        "    decoder_output = dec(encoder_output)\n",
        "    print('Decoder: ',decoder_output)\n",
        "\n",
        "    \n",
        "    #_, pred = torch.max(prediction, 1) \n",
        "    \n",
        "    #return categories[pred.item()]"
      ],
      "execution_count": 59,
      "outputs": []
    },
    {
      "cell_type": "code",
      "metadata": {
        "colab": {
          "base_uri": "https://localhost:8080/",
          "height": 719
        },
        "id": "WWrAD3eIDq2O",
        "outputId": "b4eef2c3-fb8d-4342-c95c-948403672d73"
      },
      "source": [
        "classify_tweet(\"A valid explanation for why Trump won't let women on the golf course.\")"
      ],
      "execution_count": 60,
      "outputs": [
        {
          "output_type": "stream",
          "text": [
            "Encoder:  tensor([[[-2.6472e-04,  1.9274e-02, -6.4385e-02,  2.1966e-01, -1.5182e-01,\n",
            "          -3.2934e-01, -1.5015e-01,  8.0995e-02, -3.2503e-01, -1.4357e-01,\n",
            "          -5.1871e-02,  9.7291e-02,  2.6256e-01, -3.0746e-01,  8.1730e-03,\n",
            "           1.6632e-01,  1.4011e-01,  2.9486e-01, -2.0116e-01, -5.4900e-02,\n",
            "           1.5134e-01, -7.9561e-03, -2.9733e-01, -2.7189e-01, -3.0584e-01,\n",
            "           8.2280e-02,  3.6174e-01,  3.0220e-03, -6.0155e-02,  2.5345e-02,\n",
            "           2.1745e-01,  4.3920e-03,  2.0334e-01, -2.1180e-03, -2.4491e-01,\n",
            "          -3.3793e-02, -1.9443e-01,  4.7398e-01,  5.4228e-02, -5.6908e-03,\n",
            "           1.0835e-01,  2.1229e-01,  2.5416e-01,  1.6178e-02, -3.3412e-02,\n",
            "          -6.8919e-02, -6.0502e-02, -1.1171e-01,  3.4431e-01, -7.3872e-02,\n",
            "           1.9890e-01, -5.2137e-01, -6.9903e-01, -5.3565e-02,  1.7469e-01,\n",
            "           2.5398e-01, -2.6382e-01,  6.1046e-02,  2.4883e-02, -5.9994e-02,\n",
            "           5.5434e-02, -1.7310e-01,  2.4660e-01, -1.9395e-01,  1.6007e-01,\n",
            "           1.2524e-01, -3.1701e-01,  2.0910e-01,  3.0673e-02, -3.6620e-01,\n",
            "           9.6695e-02, -5.7842e-02,  1.3749e-01, -1.9586e-01, -3.9776e-01,\n",
            "          -5.8254e-02, -4.8209e-02,  4.2210e-01,  3.3904e-02,  2.5965e-01,\n",
            "           1.6108e-02,  1.1796e-02,  3.9525e-01, -3.3428e-02, -2.7006e-01,\n",
            "          -1.0890e-01, -1.4157e-02,  6.8122e-02, -1.6605e-01, -4.8549e-01,\n",
            "           2.4384e-01,  4.8924e-03,  8.0320e-02, -1.7115e-01,  9.0012e-02,\n",
            "           1.5157e-02,  2.8078e-01,  1.2654e-02, -1.4143e-02,  5.8596e-04]]],\n",
            "       grad_fn=<StackBackward>)\n"
          ],
          "name": "stdout"
        },
        {
          "output_type": "stream",
          "text": [
            "/usr/local/lib/python3.7/dist-packages/torch/nn/modules/rnn.py:63: UserWarning: dropout option adds dropout after all but last recurrent layer, so non-zero dropout expects num_layers greater than 1, but got dropout=0.4 and num_layers=1\n",
            "  \"num_layers={}\".format(dropout, num_layers))\n"
          ],
          "name": "stderr"
        },
        {
          "output_type": "error",
          "ename": "IndexError",
          "evalue": "ignored",
          "traceback": [
            "\u001b[0;31m---------------------------------------------------------------------------\u001b[0m",
            "\u001b[0;31mIndexError\u001b[0m                                Traceback (most recent call last)",
            "\u001b[0;32m<ipython-input-60-25fe155197a0>\u001b[0m in \u001b[0;36m<module>\u001b[0;34m()\u001b[0m\n\u001b[0;32m----> 1\u001b[0;31m \u001b[0mclassify_tweet\u001b[0m\u001b[0;34m(\u001b[0m\u001b[0;34m\"A valid explanation for why Trump won't let women on the golf course.\"\u001b[0m\u001b[0;34m)\u001b[0m\u001b[0;34m\u001b[0m\u001b[0;34m\u001b[0m\u001b[0m\n\u001b[0m",
            "\u001b[0;32m<ipython-input-59-acfb2c769f65>\u001b[0m in \u001b[0;36mclassify_tweet\u001b[0;34m(tweet)\u001b[0m\n\u001b[1;32m     34\u001b[0m     \u001b[0mprint\u001b[0m\u001b[0;34m(\u001b[0m\u001b[0;34m'Encoder: '\u001b[0m\u001b[0;34m,\u001b[0m\u001b[0mencoder_output\u001b[0m\u001b[0;34m)\u001b[0m\u001b[0;34m\u001b[0m\u001b[0;34m\u001b[0m\u001b[0m\n\u001b[1;32m     35\u001b[0m     \u001b[0mdec\u001b[0m \u001b[0;34m=\u001b[0m \u001b[0mdecoders\u001b[0m\u001b[0;34m(\u001b[0m\u001b[0mnum_hidden_nodes\u001b[0m\u001b[0;34m,\u001b[0m\u001b[0mnum_hidden_nodes\u001b[0m\u001b[0;34m,\u001b[0m\u001b[0;36m10\u001b[0m\u001b[0;34m)\u001b[0m\u001b[0;34m\u001b[0m\u001b[0;34m\u001b[0m\u001b[0m\n\u001b[0;32m---> 36\u001b[0;31m     \u001b[0mdecoder_output\u001b[0m \u001b[0;34m=\u001b[0m \u001b[0mdec\u001b[0m\u001b[0;34m(\u001b[0m\u001b[0mencoder_output\u001b[0m\u001b[0;34m)\u001b[0m\u001b[0;34m\u001b[0m\u001b[0;34m\u001b[0m\u001b[0m\n\u001b[0m\u001b[1;32m     37\u001b[0m     \u001b[0mprint\u001b[0m\u001b[0;34m(\u001b[0m\u001b[0;34m'Decoder: '\u001b[0m\u001b[0;34m,\u001b[0m\u001b[0mdecoder_output\u001b[0m\u001b[0;34m)\u001b[0m\u001b[0;34m\u001b[0m\u001b[0;34m\u001b[0m\u001b[0m\n\u001b[1;32m     38\u001b[0m \u001b[0;34m\u001b[0m\u001b[0m\n",
            "\u001b[0;32m/usr/local/lib/python3.7/dist-packages/torch/nn/modules/module.py\u001b[0m in \u001b[0;36m_call_impl\u001b[0;34m(self, *input, **kwargs)\u001b[0m\n\u001b[1;32m    887\u001b[0m             \u001b[0mresult\u001b[0m \u001b[0;34m=\u001b[0m \u001b[0mself\u001b[0m\u001b[0;34m.\u001b[0m\u001b[0m_slow_forward\u001b[0m\u001b[0;34m(\u001b[0m\u001b[0;34m*\u001b[0m\u001b[0minput\u001b[0m\u001b[0;34m,\u001b[0m \u001b[0;34m**\u001b[0m\u001b[0mkwargs\u001b[0m\u001b[0;34m)\u001b[0m\u001b[0;34m\u001b[0m\u001b[0;34m\u001b[0m\u001b[0m\n\u001b[1;32m    888\u001b[0m         \u001b[0;32melse\u001b[0m\u001b[0;34m:\u001b[0m\u001b[0;34m\u001b[0m\u001b[0;34m\u001b[0m\u001b[0m\n\u001b[0;32m--> 889\u001b[0;31m             \u001b[0mresult\u001b[0m \u001b[0;34m=\u001b[0m \u001b[0mself\u001b[0m\u001b[0;34m.\u001b[0m\u001b[0mforward\u001b[0m\u001b[0;34m(\u001b[0m\u001b[0;34m*\u001b[0m\u001b[0minput\u001b[0m\u001b[0;34m,\u001b[0m \u001b[0;34m**\u001b[0m\u001b[0mkwargs\u001b[0m\u001b[0;34m)\u001b[0m\u001b[0;34m\u001b[0m\u001b[0;34m\u001b[0m\u001b[0m\n\u001b[0m\u001b[1;32m    890\u001b[0m         for hook in itertools.chain(\n\u001b[1;32m    891\u001b[0m                 \u001b[0m_global_forward_hooks\u001b[0m\u001b[0;34m.\u001b[0m\u001b[0mvalues\u001b[0m\u001b[0;34m(\u001b[0m\u001b[0;34m)\u001b[0m\u001b[0;34m,\u001b[0m\u001b[0;34m\u001b[0m\u001b[0;34m\u001b[0m\u001b[0m\n",
            "\u001b[0;32m<ipython-input-5-7376042119c1>\u001b[0m in \u001b[0;36mforward\u001b[0;34m(self, encoder_context_vector)\u001b[0m\n\u001b[1;32m     32\u001b[0m     \u001b[0mcx\u001b[0m \u001b[0;34m=\u001b[0m \u001b[0mtorch\u001b[0m\u001b[0;34m.\u001b[0m\u001b[0mzeros\u001b[0m\u001b[0;34m(\u001b[0m\u001b[0mencoder_context_vector\u001b[0m\u001b[0;34m.\u001b[0m\u001b[0msize\u001b[0m\u001b[0;34m(\u001b[0m\u001b[0;36m0\u001b[0m\u001b[0;34m)\u001b[0m\u001b[0;34m,\u001b[0m\u001b[0mself\u001b[0m\u001b[0;34m.\u001b[0m\u001b[0mdecoder_hidden_size\u001b[0m\u001b[0;34m)\u001b[0m\u001b[0;34m.\u001b[0m\u001b[0mto\u001b[0m\u001b[0;34m(\u001b[0m\u001b[0mdevice\u001b[0m\u001b[0;34m)\u001b[0m\u001b[0;34m\u001b[0m\u001b[0;34m\u001b[0m\u001b[0m\n\u001b[1;32m     33\u001b[0m     \u001b[0;32mfor\u001b[0m \u001b[0mi\u001b[0m \u001b[0;32min\u001b[0m \u001b[0mrange\u001b[0m\u001b[0;34m(\u001b[0m\u001b[0mself\u001b[0m\u001b[0;34m.\u001b[0m\u001b[0mno_times_decoder_cell_has_to_run\u001b[0m\u001b[0;34m)\u001b[0m\u001b[0;34m:\u001b[0m\u001b[0;34m\u001b[0m\u001b[0;34m\u001b[0m\u001b[0m\n\u001b[0;32m---> 34\u001b[0;31m       \u001b[0mhx\u001b[0m\u001b[0;34m,\u001b[0m\u001b[0mcx\u001b[0m \u001b[0;34m=\u001b[0m \u001b[0mself\u001b[0m\u001b[0;34m.\u001b[0m\u001b[0mdecoder_single_rnn_cell\u001b[0m\u001b[0;34m(\u001b[0m\u001b[0mencoder_context_vector\u001b[0m\u001b[0;34m,\u001b[0m\u001b[0;34m(\u001b[0m\u001b[0mhx\u001b[0m\u001b[0;34m,\u001b[0m\u001b[0mcx\u001b[0m\u001b[0;34m)\u001b[0m\u001b[0;34m)\u001b[0m\u001b[0;34m\u001b[0m\u001b[0;34m\u001b[0m\u001b[0m\n\u001b[0m\u001b[1;32m     35\u001b[0m     \u001b[0;32mreturn\u001b[0m \u001b[0mhx\u001b[0m\u001b[0;34m\u001b[0m\u001b[0;34m\u001b[0m\u001b[0m\n\u001b[1;32m     36\u001b[0m \u001b[0;34m\u001b[0m\u001b[0m\n",
            "\u001b[0;32m/usr/local/lib/python3.7/dist-packages/torch/nn/modules/module.py\u001b[0m in \u001b[0;36m_call_impl\u001b[0;34m(self, *input, **kwargs)\u001b[0m\n\u001b[1;32m    887\u001b[0m             \u001b[0mresult\u001b[0m \u001b[0;34m=\u001b[0m \u001b[0mself\u001b[0m\u001b[0;34m.\u001b[0m\u001b[0m_slow_forward\u001b[0m\u001b[0;34m(\u001b[0m\u001b[0;34m*\u001b[0m\u001b[0minput\u001b[0m\u001b[0;34m,\u001b[0m \u001b[0;34m**\u001b[0m\u001b[0mkwargs\u001b[0m\u001b[0;34m)\u001b[0m\u001b[0;34m\u001b[0m\u001b[0;34m\u001b[0m\u001b[0m\n\u001b[1;32m    888\u001b[0m         \u001b[0;32melse\u001b[0m\u001b[0;34m:\u001b[0m\u001b[0;34m\u001b[0m\u001b[0;34m\u001b[0m\u001b[0m\n\u001b[0;32m--> 889\u001b[0;31m             \u001b[0mresult\u001b[0m \u001b[0;34m=\u001b[0m \u001b[0mself\u001b[0m\u001b[0;34m.\u001b[0m\u001b[0mforward\u001b[0m\u001b[0;34m(\u001b[0m\u001b[0;34m*\u001b[0m\u001b[0minput\u001b[0m\u001b[0;34m,\u001b[0m \u001b[0;34m**\u001b[0m\u001b[0mkwargs\u001b[0m\u001b[0;34m)\u001b[0m\u001b[0;34m\u001b[0m\u001b[0;34m\u001b[0m\u001b[0m\n\u001b[0m\u001b[1;32m    890\u001b[0m         for hook in itertools.chain(\n\u001b[1;32m    891\u001b[0m                 \u001b[0m_global_forward_hooks\u001b[0m\u001b[0;34m.\u001b[0m\u001b[0mvalues\u001b[0m\u001b[0;34m(\u001b[0m\u001b[0;34m)\u001b[0m\u001b[0;34m,\u001b[0m\u001b[0;34m\u001b[0m\u001b[0;34m\u001b[0m\u001b[0m\n",
            "\u001b[0;32m/usr/local/lib/python3.7/dist-packages/torch/nn/modules/rnn.py\u001b[0m in \u001b[0;36mforward\u001b[0;34m(self, input, hx)\u001b[0m\n\u001b[1;32m   1046\u001b[0m \u001b[0;34m\u001b[0m\u001b[0m\n\u001b[1;32m   1047\u001b[0m     \u001b[0;32mdef\u001b[0m \u001b[0mforward\u001b[0m\u001b[0;34m(\u001b[0m\u001b[0mself\u001b[0m\u001b[0;34m,\u001b[0m \u001b[0minput\u001b[0m\u001b[0;34m:\u001b[0m \u001b[0mTensor\u001b[0m\u001b[0;34m,\u001b[0m \u001b[0mhx\u001b[0m\u001b[0;34m:\u001b[0m \u001b[0mOptional\u001b[0m\u001b[0;34m[\u001b[0m\u001b[0mTuple\u001b[0m\u001b[0;34m[\u001b[0m\u001b[0mTensor\u001b[0m\u001b[0;34m,\u001b[0m \u001b[0mTensor\u001b[0m\u001b[0;34m]\u001b[0m\u001b[0;34m]\u001b[0m \u001b[0;34m=\u001b[0m \u001b[0;32mNone\u001b[0m\u001b[0;34m)\u001b[0m \u001b[0;34m->\u001b[0m \u001b[0mTuple\u001b[0m\u001b[0;34m[\u001b[0m\u001b[0mTensor\u001b[0m\u001b[0;34m,\u001b[0m \u001b[0mTensor\u001b[0m\u001b[0;34m]\u001b[0m\u001b[0;34m:\u001b[0m\u001b[0;34m\u001b[0m\u001b[0;34m\u001b[0m\u001b[0m\n\u001b[0;32m-> 1048\u001b[0;31m         \u001b[0mself\u001b[0m\u001b[0;34m.\u001b[0m\u001b[0mcheck_forward_input\u001b[0m\u001b[0;34m(\u001b[0m\u001b[0minput\u001b[0m\u001b[0;34m)\u001b[0m\u001b[0;34m\u001b[0m\u001b[0;34m\u001b[0m\u001b[0m\n\u001b[0m\u001b[1;32m   1049\u001b[0m         \u001b[0;32mif\u001b[0m \u001b[0mhx\u001b[0m \u001b[0;32mis\u001b[0m \u001b[0;32mNone\u001b[0m\u001b[0;34m:\u001b[0m\u001b[0;34m\u001b[0m\u001b[0;34m\u001b[0m\u001b[0m\n\u001b[1;32m   1050\u001b[0m             \u001b[0mzeros\u001b[0m \u001b[0;34m=\u001b[0m \u001b[0mtorch\u001b[0m\u001b[0;34m.\u001b[0m\u001b[0mzeros\u001b[0m\u001b[0;34m(\u001b[0m\u001b[0minput\u001b[0m\u001b[0;34m.\u001b[0m\u001b[0msize\u001b[0m\u001b[0;34m(\u001b[0m\u001b[0;36m0\u001b[0m\u001b[0;34m)\u001b[0m\u001b[0;34m,\u001b[0m \u001b[0mself\u001b[0m\u001b[0;34m.\u001b[0m\u001b[0mhidden_size\u001b[0m\u001b[0;34m,\u001b[0m \u001b[0mdtype\u001b[0m\u001b[0;34m=\u001b[0m\u001b[0minput\u001b[0m\u001b[0;34m.\u001b[0m\u001b[0mdtype\u001b[0m\u001b[0;34m,\u001b[0m \u001b[0mdevice\u001b[0m\u001b[0;34m=\u001b[0m\u001b[0minput\u001b[0m\u001b[0;34m.\u001b[0m\u001b[0mdevice\u001b[0m\u001b[0;34m)\u001b[0m\u001b[0;34m\u001b[0m\u001b[0;34m\u001b[0m\u001b[0m\n",
            "\u001b[0;32m/usr/local/lib/python3.7/dist-packages/torch/nn/modules/rnn.py\u001b[0m in \u001b[0;36mcheck_forward_input\u001b[0;34m(self, input)\u001b[0m\n\u001b[1;32m    870\u001b[0m \u001b[0;34m\u001b[0m\u001b[0m\n\u001b[1;32m    871\u001b[0m     \u001b[0;32mdef\u001b[0m \u001b[0mcheck_forward_input\u001b[0m\u001b[0;34m(\u001b[0m\u001b[0mself\u001b[0m\u001b[0;34m,\u001b[0m \u001b[0minput\u001b[0m\u001b[0;34m:\u001b[0m \u001b[0mTensor\u001b[0m\u001b[0;34m)\u001b[0m \u001b[0;34m->\u001b[0m \u001b[0;32mNone\u001b[0m\u001b[0;34m:\u001b[0m\u001b[0;34m\u001b[0m\u001b[0;34m\u001b[0m\u001b[0m\n\u001b[0;32m--> 872\u001b[0;31m         \u001b[0;32mif\u001b[0m \u001b[0minput\u001b[0m\u001b[0;34m.\u001b[0m\u001b[0msize\u001b[0m\u001b[0;34m(\u001b[0m\u001b[0;36m1\u001b[0m\u001b[0;34m)\u001b[0m \u001b[0;34m!=\u001b[0m \u001b[0mself\u001b[0m\u001b[0;34m.\u001b[0m\u001b[0minput_size\u001b[0m\u001b[0;34m:\u001b[0m\u001b[0;34m\u001b[0m\u001b[0;34m\u001b[0m\u001b[0m\n\u001b[0m\u001b[1;32m    873\u001b[0m             raise RuntimeError(\n\u001b[1;32m    874\u001b[0m                 \"input has inconsistent input_size: got {}, expected {}\".format(\n",
            "\u001b[0;31mIndexError\u001b[0m: Dimension out of range (expected to be in range of [-1, 0], but got 1)"
          ]
        }
      ]
    }
  ]
}