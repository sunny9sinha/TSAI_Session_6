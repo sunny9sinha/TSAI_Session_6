{
  "nbformat": 4,
  "nbformat_minor": 0,
  "metadata": {
    "accelerator": "GPU",
    "colab": {
      "name": "Session6_Assignment_Final.ipynb",
      "provenance": [],
      "collapsed_sections": [],
      "mount_file_id": "1afaGmlQtS6mXdrpOFjC6yUh8VTGVBcQ3",
      "authorship_tag": "ABX9TyPC8aJkzCdX7xLmk0LKvpry",
      "include_colab_link": true
    },
    "kernelspec": {
      "display_name": "Python 3",
      "name": "python3"
    },
    "language_info": {
      "name": "python"
    }
  },
  "cells": [
    {
      "cell_type": "markdown",
      "metadata": {
        "id": "view-in-github",
        "colab_type": "text"
      },
      "source": [
        "<a href=\"https://colab.research.google.com/github/sunny9sinha/TSAI_Session_6/blob/main/Session6_Assignment_Final.ipynb\" target=\"_parent\"><img src=\"https://colab.research.google.com/assets/colab-badge.svg\" alt=\"Open In Colab\"/></a>"
      ]
    },
    {
      "cell_type": "code",
      "metadata": {
        "colab": {
          "base_uri": "https://localhost:8080/"
        },
        "id": "rfLoK_Dse1w7",
        "outputId": "0ec0e044-efee-403c-8037-37edce9d8858"
      },
      "source": [
        "import sys\n",
        "import pandas as pd\n",
        "import numpy as np\n",
        "import csv\n",
        "\n",
        "!pip install googletrans==3.1.0a0"
      ],
      "execution_count": 3,
      "outputs": [
        {
          "output_type": "stream",
          "text": [
            "Collecting googletrans==3.1.0a0\n",
            "  Downloading https://files.pythonhosted.org/packages/19/3d/4e3a1609bf52f2f7b00436cc751eb977e27040665dde2bd57e7152989672/googletrans-3.1.0a0.tar.gz\n",
            "Collecting httpx==0.13.3\n",
            "\u001b[?25l  Downloading https://files.pythonhosted.org/packages/54/b4/698b284c6aed4d7c2b4fe3ba5df1fcf6093612423797e76fbb24890dd22f/httpx-0.13.3-py3-none-any.whl (55kB)\n",
            "\u001b[K     |████████████████████████████████| 61kB 4.7MB/s \n",
            "\u001b[?25hCollecting hstspreload\n",
            "\u001b[?25l  Downloading https://files.pythonhosted.org/packages/dd/50/606213e12fb49c5eb667df0936223dcaf461f94e215ea60244b2b1e9b039/hstspreload-2020.12.22-py3-none-any.whl (994kB)\n",
            "\u001b[K     |████████████████████████████████| 1.0MB 13.2MB/s \n",
            "\u001b[?25hRequirement already satisfied: idna==2.* in /usr/local/lib/python3.7/dist-packages (from httpx==0.13.3->googletrans==3.1.0a0) (2.10)\n",
            "Requirement already satisfied: certifi in /usr/local/lib/python3.7/dist-packages (from httpx==0.13.3->googletrans==3.1.0a0) (2020.12.5)\n",
            "Collecting sniffio\n",
            "  Downloading https://files.pythonhosted.org/packages/52/b0/7b2e028b63d092804b6794595871f936aafa5e9322dcaaad50ebf67445b3/sniffio-1.2.0-py3-none-any.whl\n",
            "Collecting httpcore==0.9.*\n",
            "\u001b[?25l  Downloading https://files.pythonhosted.org/packages/dd/d5/e4ff9318693ac6101a2095e580908b591838c6f33df8d3ee8dd953ba96a8/httpcore-0.9.1-py3-none-any.whl (42kB)\n",
            "\u001b[K     |████████████████████████████████| 51kB 6.5MB/s \n",
            "\u001b[?25hCollecting rfc3986<2,>=1.3\n",
            "  Downloading https://files.pythonhosted.org/packages/c4/e5/63ca2c4edf4e00657584608bee1001302bbf8c5f569340b78304f2f446cb/rfc3986-1.5.0-py2.py3-none-any.whl\n",
            "Requirement already satisfied: chardet==3.* in /usr/local/lib/python3.7/dist-packages (from httpx==0.13.3->googletrans==3.1.0a0) (3.0.4)\n",
            "Collecting h11<0.10,>=0.8\n",
            "\u001b[?25l  Downloading https://files.pythonhosted.org/packages/5a/fd/3dad730b0f95e78aeeb742f96fa7bbecbdd56a58e405d3da440d5bfb90c6/h11-0.9.0-py2.py3-none-any.whl (53kB)\n",
            "\u001b[K     |████████████████████████████████| 61kB 9.5MB/s \n",
            "\u001b[?25hCollecting h2==3.*\n",
            "\u001b[?25l  Downloading https://files.pythonhosted.org/packages/25/de/da019bcc539eeab02f6d45836f23858ac467f584bfec7a526ef200242afe/h2-3.2.0-py2.py3-none-any.whl (65kB)\n",
            "\u001b[K     |████████████████████████████████| 71kB 9.0MB/s \n",
            "\u001b[?25hCollecting hpack<4,>=3.0\n",
            "  Downloading https://files.pythonhosted.org/packages/8a/cc/e53517f4a1e13f74776ca93271caef378dadec14d71c61c949d759d3db69/hpack-3.0.0-py2.py3-none-any.whl\n",
            "Collecting hyperframe<6,>=5.2.0\n",
            "  Downloading https://files.pythonhosted.org/packages/19/0c/bf88182bcb5dce3094e2f3e4fe20db28a9928cb7bd5b08024030e4b140db/hyperframe-5.2.0-py2.py3-none-any.whl\n",
            "Building wheels for collected packages: googletrans\n",
            "  Building wheel for googletrans (setup.py) ... \u001b[?25l\u001b[?25hdone\n",
            "  Created wheel for googletrans: filename=googletrans-3.1.0a0-cp37-none-any.whl size=16368 sha256=9576724077785e5428201ece38b4d68744f4b9d0c1e7972a12ac86e24f997964\n",
            "  Stored in directory: /root/.cache/pip/wheels/27/7a/a0/aff3babbb775549ce6813cb8fa7ff3c0848c4dc62c20f8fdac\n",
            "Successfully built googletrans\n",
            "Installing collected packages: hstspreload, sniffio, h11, hpack, hyperframe, h2, httpcore, rfc3986, httpx, googletrans\n",
            "Successfully installed googletrans-3.1.0a0 h11-0.9.0 h2-3.2.0 hpack-3.0.0 hstspreload-2020.12.22 httpcore-0.9.1 httpx-0.13.3 hyperframe-5.2.0 rfc3986-1.5.0 sniffio-1.2.0\n"
          ],
          "name": "stdout"
        }
      ]
    },
    {
      "cell_type": "code",
      "metadata": {
        "id": "wpNL_AARJQHG"
      },
      "source": [
        "import random\n",
        "import googletrans\n",
        "from googletrans import Translator\n",
        "\n",
        "def translate(sentence_translated):\n",
        "  # translator = Translator(service_urls=['translate.googleapis.com'])\n",
        "  translator = Translator()\n",
        "  # sentence = ['']\n",
        "\n",
        "  # available_langs = list(googletrans.LANGUAGES.keys()) \n",
        "  # trans_lang = random.choice(available_langs) \n",
        "  # print(f\"Translating to {googletrans.LANGUAGES[trans_lang]}\")\n",
        "\n",
        "  sentence_translated = pd.DataFrame(sentence_translated.iloc[0:200,:]).reset_index().drop(columns=['index'])\n",
        "\n",
        "  trans_array = np.array(sentence_translated['tweets'])\n",
        "  # int(len(trans_array)/100)\n",
        "\n",
        "  for i in range(200):\n",
        "    translations = translator.translate(trans_array[i],src='en', dest='czech') \n",
        "    #print(translations)\n",
        "    t_text = translations.text\n",
        "    print('czech: ',t_text)\n",
        "\n",
        "    translations_en_random = translator.translate(t_text, src='czech', dest='en') \n",
        "    en_text = translations_en_random.text\n",
        "    print('Eng: ',en_text)\n",
        "    trans_array[i] = en_text\n",
        "\n",
        "\n",
        "  sentence_translated['tweets'] = trans_array\n",
        "  return sentence_translated\n",
        "\n"
      ],
      "execution_count": 4,
      "outputs": []
    },
    {
      "cell_type": "code",
      "metadata": {
        "id": "opN_XD18JIOz"
      },
      "source": [
        "def random_deletion(words, p=0.5): \n",
        "    if len(words) == 1: # return if single word\n",
        "        return words\n",
        "    remaining = list(filter(lambda x: random.uniform(0,1) > p,words)) \n",
        "    if len(remaining) == 0: # if not left, sample a random word\n",
        "        return [random.choice(words)] \n",
        "    else:\n",
        "        return remaining"
      ],
      "execution_count": 5,
      "outputs": []
    },
    {
      "cell_type": "code",
      "metadata": {
        "id": "UYY6IM4hJHSc"
      },
      "source": [
        "def random_swap(sentence, n=5): \n",
        "    length = range(len(sentence)) \n",
        "    for _ in range(n):\n",
        "        idx1, idx2 = random.sample(length, 2)\n",
        "        sentence[idx1], sentence[idx2] = sentence[idx2], sentence[idx1] \n",
        "    return sentence"
      ],
      "execution_count": 6,
      "outputs": []
    },
    {
      "cell_type": "code",
      "metadata": {
        "id": "Z4ZjO9vPJ49z"
      },
      "source": [
        "import torch.nn as nn\n",
        "import torch.nn.functional as F\n",
        "\n",
        "class encoders(nn.Module):\n",
        "\n",
        "  def __init__(self,vocab_size, embedding_dim, hidden_dim, n_layers, dropout):\n",
        "    super().__init__()\n",
        "    self.embedding = nn.Embedding(vocab_size,embedding_dim)\n",
        "    self.encoder = nn.LSTM(embedding_dim, \n",
        "                           hidden_dim, \n",
        "                           num_layers=n_layers, \n",
        "                           dropout=dropout,\n",
        "                           batch_first=True)\n",
        "    \n",
        "  def forward(self,text,text_lengths):\n",
        "    embedded = self.embedding(text)\n",
        "    packed_embedded = nn.utils.rnn.pack_padded_sequence(embedded, text_lengths.cpu(), batch_first=True)\n",
        "    packed_output, (hidden, cell) = self.encoder(packed_embedded)\n",
        "    return packed_output, hidden\n",
        "\n",
        "class decoders(nn.Module):\n",
        "\n",
        "  def __init__(self, input_to_decoder_size, decoder_hidden_size, no_times_decoder_cell_has_to_run):\n",
        "    super().__init__()\n",
        "    self.decoder_single_rnn_cell = nn.LSTMCell(input_to_decoder_size,decoder_hidden_size)\n",
        "    self.no_times_decoder_cell_has_to_run = no_times_decoder_cell_has_to_run\n",
        "    self.decoder_hidden_size = decoder_hidden_size\n",
        "\n",
        "  def forward(self, encoder_context_vector):\n",
        "    encoder_context_vector = encoder_context_vector.squeeze(0)\n",
        "    hx = torch.zeros(encoder_context_vector.size(0),self.decoder_hidden_size).to(device)\n",
        "    cx = torch.zeros(encoder_context_vector.size(0),self.decoder_hidden_size).to(device)\n",
        "    otpt = []\n",
        "    for i in range(self.no_times_decoder_cell_has_to_run):\n",
        "      hx,cx = self.decoder_single_rnn_cell(encoder_context_vector,(hx,cx))\n",
        "      otpt.append(hx)\n",
        "      # print(i,hx.shape)\n",
        "    otpt = torch.stack(otpt,dim = 0)\n",
        "    return otpt, hx\n",
        "\n",
        "class classifier(nn.Module):\n",
        "    \n",
        "    # Define all the layers used in model\n",
        "    def __init__(self, encoder, decoder, hidden_dim, output_dim):\n",
        "        \n",
        "      super().__init__()\n",
        "      self.encoder = encoder\n",
        "      self.decoder = decoder\n",
        "      self.fc = nn.Linear(hidden_dim, output_dim)\n",
        "        \n",
        "    def forward(self,src,src_len):\n",
        "      # print('combined')\n",
        "      # print(src.shape)\n",
        "      enc_packed_outputs, enc_hidden = self.encoder(src,src_len)\n",
        "      # print(enc_hidden.shape)\n",
        "      dec_otpt, dec_hidden = self.decoder(enc_hidden)\n",
        "      # print(dec_hidden.shape)\n",
        "      dense_outputs = self.fc(dec_hidden)\n",
        "      #print(dense_outputs.shape)\n",
        "      op = F.softmax(dense_outputs, dim =1)\n",
        "      # return dense_outputs\n",
        "      return op"
      ],
      "execution_count": 48,
      "outputs": []
    },
    {
      "cell_type": "code",
      "metadata": {
        "colab": {
          "base_uri": "https://localhost:8080/",
          "height": 204
        },
        "id": "keTICi4gQw5D",
        "outputId": "73158a41-995f-4e46-8174-5db5a419b53d"
      },
      "source": [
        "tweet_data = pd.read_csv(\"/content/drive/MyDrive/Colab Notebooks/tweets (1).csv\")\n",
        "tweet_data.head()"
      ],
      "execution_count": 8,
      "outputs": [
        {
          "output_type": "execute_result",
          "data": {
            "text/html": [
              "<div>\n",
              "<style scoped>\n",
              "    .dataframe tbody tr th:only-of-type {\n",
              "        vertical-align: middle;\n",
              "    }\n",
              "\n",
              "    .dataframe tbody tr th {\n",
              "        vertical-align: top;\n",
              "    }\n",
              "\n",
              "    .dataframe thead th {\n",
              "        text-align: right;\n",
              "    }\n",
              "</style>\n",
              "<table border=\"1\" class=\"dataframe\">\n",
              "  <thead>\n",
              "    <tr style=\"text-align: right;\">\n",
              "      <th></th>\n",
              "      <th>tweets</th>\n",
              "      <th>labels</th>\n",
              "    </tr>\n",
              "  </thead>\n",
              "  <tbody>\n",
              "    <tr>\n",
              "      <th>0</th>\n",
              "      <td>Obama has called the GOP budget social Darwini...</td>\n",
              "      <td>1</td>\n",
              "    </tr>\n",
              "    <tr>\n",
              "      <th>1</th>\n",
              "      <td>In his teen years, Obama has been known to use...</td>\n",
              "      <td>0</td>\n",
              "    </tr>\n",
              "    <tr>\n",
              "      <th>2</th>\n",
              "      <td>IPA Congratulates President Barack Obama for L...</td>\n",
              "      <td>0</td>\n",
              "    </tr>\n",
              "    <tr>\n",
              "      <th>3</th>\n",
              "      <td>RT @Professor_Why: #WhatsRomneyHiding - his co...</td>\n",
              "      <td>0</td>\n",
              "    </tr>\n",
              "    <tr>\n",
              "      <th>4</th>\n",
              "      <td>RT @wardollarshome: Obama has approved more ta...</td>\n",
              "      <td>1</td>\n",
              "    </tr>\n",
              "  </tbody>\n",
              "</table>\n",
              "</div>"
            ],
            "text/plain": [
              "                                              tweets  labels\n",
              "0  Obama has called the GOP budget social Darwini...       1\n",
              "1  In his teen years, Obama has been known to use...       0\n",
              "2  IPA Congratulates President Barack Obama for L...       0\n",
              "3  RT @Professor_Why: #WhatsRomneyHiding - his co...       0\n",
              "4  RT @wardollarshome: Obama has approved more ta...       1"
            ]
          },
          "metadata": {
            "tags": []
          },
          "execution_count": 8
        }
      ]
    },
    {
      "cell_type": "code",
      "metadata": {
        "colab": {
          "base_uri": "https://localhost:8080/"
        },
        "id": "fK8K8T11RWZa",
        "outputId": "9be898e4-98a8-4ac7-f9b1-7cb227277907"
      },
      "source": [
        "tweet_data.shape"
      ],
      "execution_count": 9,
      "outputs": [
        {
          "output_type": "execute_result",
          "data": {
            "text/plain": [
              "(1364, 2)"
            ]
          },
          "metadata": {
            "tags": []
          },
          "execution_count": 9
        }
      ]
    },
    {
      "cell_type": "code",
      "metadata": {
        "colab": {
          "base_uri": "https://localhost:8080/"
        },
        "id": "Ai5ICZGLRaZM",
        "outputId": "1e2ae203-38bf-4d1a-8d0b-f01091367da0"
      },
      "source": [
        "tweet_data.labels.value_counts()"
      ],
      "execution_count": 10,
      "outputs": [
        {
          "output_type": "execute_result",
          "data": {
            "text/plain": [
              "0    931\n",
              "1    352\n",
              "2     81\n",
              "Name: labels, dtype: int64"
            ]
          },
          "metadata": {
            "tags": []
          },
          "execution_count": 10
        }
      ]
    },
    {
      "cell_type": "code",
      "metadata": {
        "id": "Jy0z5rKih_nU"
      },
      "source": [
        "from sklearn.model_selection import train_test_split\n",
        "\n",
        "train, valid = train_test_split(tweet_data, test_size=0.3)\n",
        "# (train, valid) = tweet_data.split(split_ratio=[85, 15], random_state = random.seed(SEED))\n",
        "train = train.reset_index().drop(columns=['index'])\n",
        "valid = valid.reset_index().drop(columns=['index'])"
      ],
      "execution_count": 11,
      "outputs": []
    },
    {
      "cell_type": "code",
      "metadata": {
        "colab": {
          "base_uri": "https://localhost:8080/"
        },
        "id": "3nbziGz40Vc5",
        "outputId": "05ce47ed-3eff-44a8-f6dc-ba08ec39da26"
      },
      "source": [
        "def delete(sent_delete):\n",
        "  del_array = np.array(sent_delete['tweets'])\n",
        "  for i in range(len(del_array)):\n",
        "    words = str(del_array[i]).split()\n",
        "    word_selected = random.choice(words)\n",
        "    word_deleted = random_deletion(word_selected, 0.4)\n",
        "    del_word = ''\n",
        "    for k in word_deleted:\n",
        "      del_word+=k\n",
        "    del_array[i] = str(del_array[i]).replace(word_selected,del_word)\n",
        "  sent_delete['tweets'] = del_array\n",
        "  return sent_delete\n",
        "\n",
        "tweet_delete = pd.DataFrame(train.iloc[:,:]).reset_index().drop(columns=['index'])\n",
        "print(tweet_delete.head())\n",
        "tweet_delete = delete(tweet_delete)"
      ],
      "execution_count": 12,
      "outputs": [
        {
          "output_type": "stream",
          "text": [
            "                                              tweets  labels\n",
            "0  RT @markknoller: Obama Campaign says Romney sh...       1\n",
            "1  Top Secret Obama 2012 World War 3 Illuminati A...       0\n",
            "2  RT @JeffersonObama: Arianna Huffington blastin...       1\n",
            "3  @ExtremeLiberal obama is the best choice by fa...       0\n",
            "4  @AnitaMarks @barackobama @mittromney really? I...       0\n"
          ],
          "name": "stdout"
        }
      ]
    },
    {
      "cell_type": "code",
      "metadata": {
        "colab": {
          "base_uri": "https://localhost:8080/"
        },
        "id": "OoQZqLA8MdpZ",
        "outputId": "6e245215-62e5-42bf-d915-731ff1716d4c"
      },
      "source": [
        "print(tweet_delete.head(10))"
      ],
      "execution_count": 13,
      "outputs": [
        {
          "output_type": "stream",
          "text": [
            "                                              tweets  labels\n",
            "0  RT @markknoller: Obama Campaign says Romney sh...       1\n",
            "1  Top Secret Obama 2012 World War 3 Illuminati A...       0\n",
            "2  RT @JeffersonObama: Arianna Huffington blastin...       1\n",
            "3  @ExtremeLiberal obama is the best choice by fa...       0\n",
            "4  @AnitaMarks @barackobama @mittromney really? I...       0\n",
            "5  Harry \"Yes, I'm secretly Barack Obama.\" Me\" An...       0\n",
            "6  RT @LouTommoBum: Michelle Obama invited the by...       0\n",
            "7  Obama Concedes That Courts Can Review Acts of ...       0\n",
            "8  If Obama win 2012 Election wait til 2016 he wi...       2\n",
            "9  #WhatsRomneyHiding That time he told AIPAC Jer...       0\n"
          ],
          "name": "stdout"
        }
      ]
    },
    {
      "cell_type": "code",
      "metadata": {
        "colab": {
          "base_uri": "https://localhost:8080/"
        },
        "id": "imGwKlbFCBCB",
        "outputId": "19f2c207-7bb1-4630-c39c-156307086976"
      },
      "source": [
        "tweet_swap = pd.DataFrame(train.iloc[:,:]).reset_index().drop(columns=['index']) \n",
        "print(tweet_swap.head())"
      ],
      "execution_count": 14,
      "outputs": [
        {
          "output_type": "stream",
          "text": [
            "                                              tweets  labels\n",
            "0  RT @markknoller: Obama Campaign says Romney sh...       1\n",
            "1  Top Secret Obama 2012 World War 3 Illuminati A...       0\n",
            "2  RT @JeffersonObama: Arianna Huffington blastin...       1\n",
            "3  @ExtremeLiberal obama is the best choice by fa...       0\n",
            "4  @AnitaMarks @barackobama @mittromney really? I...       0\n"
          ],
          "name": "stdout"
        }
      ]
    },
    {
      "cell_type": "code",
      "metadata": {
        "id": "jj36W8t_f4_T"
      },
      "source": [
        "def swap(tweet_swap):\n",
        "  for i in tweet_swap.index:\n",
        "    words = tweet_swap['tweets'][i].split()\n",
        "    if len(words) <=1:\n",
        "      continue\n",
        "    swapped_array = random_swap(words)\n",
        "    tweet_swap['tweets'][i] = ' '.join([str(elem) for elem in swapped_array])\n",
        "  return tweet_swap"
      ],
      "execution_count": 15,
      "outputs": []
    },
    {
      "cell_type": "code",
      "metadata": {
        "colab": {
          "base_uri": "https://localhost:8080/",
          "height": 320
        },
        "id": "AchnimM-f0bl",
        "outputId": "7018ccf8-cb41-48e9-eda7-b7e3fca2171e"
      },
      "source": [
        "tweet_swap = swap(tweet_swap)\n",
        "tweet_swap.head(6)"
      ],
      "execution_count": 16,
      "outputs": [
        {
          "output_type": "stream",
          "text": [
            "/usr/local/lib/python3.7/dist-packages/ipykernel_launcher.py:7: SettingWithCopyWarning: \n",
            "A value is trying to be set on a copy of a slice from a DataFrame\n",
            "\n",
            "See the caveats in the documentation: https://pandas.pydata.org/pandas-docs/stable/user_guide/indexing.html#returning-a-view-versus-a-copy\n",
            "  import sys\n"
          ],
          "name": "stderr"
        },
        {
          "output_type": "execute_result",
          "data": {
            "text/html": [
              "<div>\n",
              "<style scoped>\n",
              "    .dataframe tbody tr th:only-of-type {\n",
              "        vertical-align: middle;\n",
              "    }\n",
              "\n",
              "    .dataframe tbody tr th {\n",
              "        vertical-align: top;\n",
              "    }\n",
              "\n",
              "    .dataframe thead th {\n",
              "        text-align: right;\n",
              "    }\n",
              "</style>\n",
              "<table border=\"1\" class=\"dataframe\">\n",
              "  <thead>\n",
              "    <tr style=\"text-align: right;\">\n",
              "      <th></th>\n",
              "      <th>tweets</th>\n",
              "      <th>labels</th>\n",
              "    </tr>\n",
              "  </thead>\n",
              "  <tbody>\n",
              "    <tr>\n",
              "      <th>0</th>\n",
              "      <td>RT @markknoller: Obama Campaign says make of r...</td>\n",
              "      <td>1</td>\n",
              "    </tr>\n",
              "    <tr>\n",
              "      <th>1</th>\n",
              "      <td>Secret Top 2012 3 World Antichrist War Illumin...</td>\n",
              "      <td>0</td>\n",
              "    </tr>\n",
              "    <tr>\n",
              "      <th>2</th>\n",
              "      <td>RT any Arianna President explains http://t.co/...</td>\n",
              "      <td>1</td>\n",
              "    </tr>\n",
              "    <tr>\n",
              "      <th>3</th>\n",
              "      <td>by i is check best choice @ExtremeLiberal far ...</td>\n",
              "      <td>0</td>\n",
              "    </tr>\n",
              "    <tr>\n",
              "      <th>4</th>\n",
              "      <td>@AnitaMarks @barackobama @mittromney rather I'...</td>\n",
              "      <td>0</td>\n",
              "    </tr>\n",
              "    <tr>\n",
              "      <th>5</th>\n",
              "      <td>Harry Obama.\" secretly \"Yes, Barack secretly M...</td>\n",
              "      <td>0</td>\n",
              "    </tr>\n",
              "  </tbody>\n",
              "</table>\n",
              "</div>"
            ],
            "text/plain": [
              "                                              tweets  labels\n",
              "0  RT @markknoller: Obama Campaign says make of r...       1\n",
              "1  Secret Top 2012 3 World Antichrist War Illumin...       0\n",
              "2  RT any Arianna President explains http://t.co/...       1\n",
              "3  by i is check best choice @ExtremeLiberal far ...       0\n",
              "4  @AnitaMarks @barackobama @mittromney rather I'...       0\n",
              "5  Harry Obama.\" secretly \"Yes, Barack secretly M...       0"
            ]
          },
          "metadata": {
            "tags": []
          },
          "execution_count": 16
        }
      ]
    },
    {
      "cell_type": "code",
      "metadata": {
        "colab": {
          "base_uri": "https://localhost:8080/"
        },
        "id": "CtBEYFcxgWy4",
        "outputId": "a0ca9768-2484-4054-d274-c04cdb3a9407"
      },
      "source": [
        "print(train.shape)\n",
        "print(tweet_delete.shape)\n",
        "print(tweet_swap.shape)"
      ],
      "execution_count": 17,
      "outputs": [
        {
          "output_type": "stream",
          "text": [
            "(954, 2)\n",
            "(954, 2)\n",
            "(954, 2)\n"
          ],
          "name": "stdout"
        }
      ]
    },
    {
      "cell_type": "code",
      "metadata": {
        "colab": {
          "base_uri": "https://localhost:8080/"
        },
        "id": "3j4i8YEW5Me1",
        "outputId": "43104c17-0b12-4fd9-e715-95c8a8d7a38c"
      },
      "source": [
        "tweet_translated = train\n",
        "tweet_translated = translate(tweet_translated)\n",
        "print(tweet_translated.shape)"
      ],
      "execution_count": 18,
      "outputs": [
        {
          "output_type": "stream",
          "text": [
            "czech:  RT @ markknoller: Obamova kampaň říká, že Romney by měl zveřejnit 23 let daňových přiznání, aby Američané mohli posoudit jakýkoli střet zájmů.\n",
            "Eng:  RT @markknoller: Obama's campaign says Romney should release 23 years of tax returns so Americans can assess any conflict of interest.\n",
            "czech:  Přísně tajné Obama 2012, 3. světová válka, iluminátské antikristovo spiknutí !: http://t.co/iqg1xarL přes @youtube\n",
            "Eng:  Top Secret Obama 2012, World War 3, Illuminati Antichrist Conspiracy !: http://t.co/iqg1xarL via @youtube\n",
            "czech:  RT @JeffersonObama: Arianna Huffingtonová při jakékoli příležitosti odstřelila prezidenta Obamu a chválila GOP. Tento obrázek vysvětluje věci. http://t.co/Ov6I5CoS\n",
            "Eng:  RT @JeffersonObama: Arianna Huffington blasted President Obama at every opportunity and praised the GOP. This picture explains things. http://t.co/Ov6I5CoS\n",
            "czech:  @ExtremeLiberal obama je zdaleka nejlepší volbou pro rok 2012. Tlačím lidi, aby hodně volili. zkontrolujte tweety z roku 2010. ale dem stroj potřebuje výměnu.\n",
            "Eng:  @ExtremeLiberal obama is by far the best choice for 2012. I push people to vote a lot. check tweets from 2010. but the dem machine needs replacement.\n",
            "czech:  @AnitaMarks @barackobama @mittromney opravdu? Raději bych věděl, co Obama skrývá rychlou zuřivostí, zdravotní péčí a směšnou politikou\n",
            "Eng:  @AnitaMarks @barackobama @mittromney really? I'd rather know what Obama has in store with rapid fury, health care, and ridiculous politics\n",
            "czech:  Harry „Ano, jsem tajně Barack Obama.“ Já \"A já jsem tajně tvá budoucí manželka.\"\n",
            "Eng:  Harry \"Yes, I'm secretly Barack Obama.\" I \"And I'm secretly your future wife.\"\n",
            "czech:  RT @LouTommoBum: Michelle Obama pozvala chlapce na svou velikonoční párty. ll\n",
            "Eng:  RT @LouTommoBum: Michelle Obama invited the boy to her Easter party. ll\n",
            "czech:  Obama připouští, že soudy mohou přezkoumávat akty kongresu: Federální odvolací soud požadoval, aby administrativa ... http://t.co/UbLfVfdK\n",
            "Eng:  Obama admits courts can review acts of Congress: The Federal Court of Appeals has demanded that the administration ... http://t.co/UbLfVfdK\n",
            "czech:  Pokud Obama vyhraje volby 2012, počkejte do roku 2016, bude mít plné bílé vlasy! stejně jako Bill Clinton!\n",
            "Eng:  If Obama wins the 2012 election, wait until 2016, he will have full white hair! just like Bill Clinton!\n",
            "czech:  #WhatsRomneyHiding Tenkrát řekl AIPACu, že Jeruzalém by měl zůstat jednotný a poté se vrátil v televizním rozhovoru. Ne, počkej. To byl Obama.\n",
            "Eng:  #WhatsRomneyHiding He told AIPAC at the time that Jerusalem should remain united and then returned in a television interview. No, wait. That was Obama.\n",
            "czech:  @edshow neúcta prezidenta #Obama je založena na rasismu. Nechtějí černého PREZIDENTA. #edshow\n",
            "Eng:  @edshow President's disrespect #Obama is based on racism. They don't want a black PRESIDENT. #edshow\n",
            "czech:  @obama začít tweeting dang\n",
            "Eng:  @obama start tweeting dang\n",
            "czech:  RT @ohgirlphrase: Americké dítě „Jste z Velké Británie? Och, super, takže si dáte čaj s královnou?“. Britské dítě: „Líbí se vám, jdete do Mcdonalds s Obamou?\n",
            "Eng:  RT @ohgirlphrase: American child “Are you from the UK? Oh, great, so will you have tea with the queen? ” British child: “Do you like going to McDonalds with Obama?\n",
            "czech:  @c_o_l_l_e_e_n Obama není připraven na bouřku, pokud katolíci zavřou nemocnice a univerzity\n",
            "Eng:  @c_o_l_l_e_e_n Obama is not ready for a storm if Catholics close hospitals and universities\n",
            "czech:  @ VoteHillary2012 @TheRealRoseanne Je spuštěna Hillary 4 Pres? Potřebujeme 2 vědět. Řekněte jí, že tentokrát vyhraje. Otrávený B.S. @ obama !!\n",
            "Eng:  @ VoteHillary2012 @TheRealRoseanne Is Hillary 4 Pres running? We need 2 to know. Tell her she will win this time. Poisoned B.S. @ obama !!\n",
            "czech:  Milujte myšlenku, že @SarahPalinUSA se chová jako naprostý klaun jako utajení diamantové loupeže plánované Obamou a McCainem, pokud je to pravda.\n",
            "Eng:  Love the idea that @SarahPalinUSA acts like a complete clown like the concealment of a diamond robbery planned by Obama and McCain, if that's true.\n",
            "czech:  Všechno, co Obama udělal před 35 lety #WhatsRomneyHiding\n",
            "Eng:  Everything Obama did 35 years ago #WhatsRomneyHiding\n",
            "czech:  # whatsObamahiding Kryptonite pro Grand Old Party! Obama 2012\n",
            "Eng:  # whatsObamahiding Kryptonite for Grand Old Party! Obama 2012\n",
            "czech:  USA nepodporují, protože sankce Íránu jsou kousnutí - WASHINGTON (Reuters) - Muž Obamovy administrativy odpovědný za squ ... http://t.co/asaEviZ5\n",
            "Eng:  US does not support because Iran sanctions are bitten - WASHINGTON (Reuters) - Obama administration man responsible for squ ... http://t.co/asaEviZ5\n",
            "czech:  RT @JeffersonObama: 62% amerických Židů by znovu zvolilo Obamu, 4% tvrdí, že Izrael je nejdůležitější otázkou - Haaretz http://t.co/VhURDtdO http://t.co/gIGmn5kE\n",
            "Eng:  RT @JeffersonObama: 62% of American Jews would re-elect Obama, 4% say Israel is the most important issue - Haaretz http://t.co/VhURDtdO http://t.co/gIGmn5kE\n",
            "czech:  @TPO_Hisself @barackobama Doslova chodím a mluvím o svém mobilním telefonu 2 Obama, říkám mu, aby mlčel, že je světle opálený, ne černý\n",
            "Eng:  @TPO_Hisself @barackobama I literally walk and talk on my cell phone 2 Obama, telling him to keep quiet he is light tan, not black\n",
            "czech:  RT @Zulu_xo: #KimKardashiansNextBoyFriend Obama?\n",
            "Eng:  RT @Zulu_xo: #KimKardashiansNextBoyFriend Obama?\n",
            "czech:  RT @CatoInstitute: NOVÝ Podcast: Obamova zmizená koalice http://t.co/Hi8NnhBT (h / t @COBrown)\n",
            "Eng:  RT @CatoInstitute: NEW Podcast: Obama's Missing Coalition http://t.co/Hi8NnhBT (h / t @COBrown)\n",
            "czech:  @TheDemocrats Požaduji, aby byly vidět údajné vysokoškolské známky tohoto údajného ústavního vědce. Všichni víme, že @MittRomney je bohatý, ale je Obama hloupý?\n",
            "Eng:  @TheDemocrats I request that the alleged university marks of this alleged institutional scientist be seen. We all know @MittRomney is rich, but is Obama stupid?\n",
            "czech:  @ tajan1 @ messina2012 @ lilrascal01 schovává své peníze před tím lhaním podvádění, zabíjení dítěte Obamou!\n",
            "Eng:  @ tajan1 @ messina2012 @ lilrascal01 hiding her money from lying by cheating, killing baby Obama!\n",
            "czech:  Saul říká, že Pres Obama „udělá cokoli“, aby odvedl pozornost Američanů od jeho „neúspěšného“ ekonomického rekordu včetně nezaměstnanosti a vyšších cen plynu. “\n",
            "Eng:  Saul says Pres Obama will \"do anything\" to divert Americans' attention from his \"failed\" economic record, including unemployment and higher gas prices. \"\n",
            "czech:  #WhatsRomneyHiding říká, že by měl být prezidentem bc, zlepší soukromou sek. růst pracovních míst..který Obama udělal 4 za posledních 24 měsíců.\n",
            "Eng:  #WhatsRomneyHiding says he should be president of the BC, will improve private secondary job growth..which Obama has done 4 in the last 24 months.\n",
            "czech:  #KimKardashiansNextBoyFriend -> Obama\n",
            "Eng:  #KimKardashiansNextBoyFriend -> Obama\n",
            "czech:  RT @Ghutsch: Ahoj @ attackwatch, myslím, že konzervativci přebírají Obamův pokus zaútočit pomocí #whatsromneyhiding .... BWAhahahahaha !!!!\n",
            "Eng:  RT @Ghutsch: Hi @ attackwatch, I think the Conservatives are taking over Obama's attempt to attack with #whatsromneyhiding .... BWAhahahahaha !!!!\n",
            "czech:  OKAMŽITĚ POZITIVNÍ OBAMA CHCE, ABYSTE SE MĚLI VNITŘNÍ KALHOTY. JISTĚ SI TO JISTĚ, VE SCHÉMĚ JSEM TAK DŮLEŽITÝ. IM A ... http://t.co/8UxiTXT9\n",
            "Eng:  IMMEDIATELY POSITIVE OBAMA WANTS YOU TO HAVE INTERNAL TROUSERS. Sure, SURE IS IMPORTANT IN THE SCHEME. IM A ... http://t.co/8UxiTXT9\n",
            "czech:  SPRÁVNÝ HOVOR: NECHTE NÁS ZAPOMNOUT, ŽE PETTY SANTORUM SCHVÁLUJE OBAMU NAD RÝNEM! NE PŘEDSEDNICTVÍ! http://t.co/ZqAuGKOd # volby2012 #gop\n",
            "Eng:  THE RIGHT TALK: LET US FORGET THAT PETTY SANTORUM APPROVES OBAMA ON THE RHINE! NO PRESIDENCY! http://t.co/ZqAuGKOd # volby2012 #gop\n",
            "czech:  RT @ohgirlphrase: Americké dítě „Jste z Velké Británie? Och, super, takže si dáte čaj s královnou?“. Britské dítě: „Líbí se vám, jdete do Mcdonalds s Obamou?\n",
            "Eng:  RT @ohgirlphrase: American child “Are you from the UK? Oh, great, so will you have tea with the queen? ” British child: “Do you like going to McDonalds with Obama?\n",
            "czech:  RT @JeffersonObama: 62% amerických Židů by znovu zvolilo Obamu, 4% tvrdí, že Izrael je nejdůležitější otázkou - Haaretz http://t.co/VhURDtdO http://t.co/gIGmn5kE\n",
            "Eng:  RT @JeffersonObama: 62% of American Jews would re-elect Obama, 4% say Israel is the most important issue - Haaretz http://t.co/VhURDtdO http://t.co/gIGmn5kE\n",
            "czech:  Arcibiskup Dolan: Obama mu lhal do tváře. Přečtěte si na http://t.co/wX1RzFKm #tcot #prolife #tlot #sgp #MSM #tpp #Catholic #lnyhbt #withnewt #army\n",
            "Eng:  Archbishop Dolan: Obama lied to his face. Read at http://t.co/wX1RzFKm #tcot #prolife #tlot #sgp #MSM #tpp #Catholic #lnyhbt #withnewt #army\n",
            "czech:  RT @Kerryepp: #WhatsRomney Skrytí toho, že může házet baseball jako muž a ne jako dívka jako Obama ...\n",
            "Eng:  RT @Kerryepp: #WhatsRomney Hiding that he can throw baseball like a man and not like a girl like Obama ...\n",
            "czech:  @JennyErikson Další Obama vytvořil hashtag #WhatsRomneyHiding\n",
            "Eng:  @JennyErikson Another Obama created the hashtag #WhatsRomneyHiding\n",
            "czech:  V jeho dospívání bylo známo, že Obama užíval marihuanu a kokain.\n",
            "Eng:  In his teens, Obama was known to use marijuana and cocaine.\n",
            "czech:  RT @ohgirlphrase: Americké dítě „Jste z Velké Británie? Och, super, takže si dáte čaj s královnou?“. Britské dítě: „Líbí se vám, jdete do Mcdonalds s Obamou?\n",
            "Eng:  RT @ohgirlphrase: American child “Are you from the UK? Oh, great, so will you have tea with the queen? ” British child: “Do you like going to McDonalds with Obama?\n",
            "czech:  „Služba je nájemné, které platíme za život na zemi,“ Michelle Obama\n",
            "Eng:  \"Service is the rent we pay for living on earth,\" Michelle Obama\n",
            "czech:  @BarackObama Obama vs. ústava, listina práv, prohlášení nezávislosti atd ...\n",
            "Eng:  Obama vs. @BarackObama constitution, charter of rights, declaration of independence, etc ...\n",
            "czech:  Jak to, že je potom takový pitomec? http://t.co/S5H0Er1B\n",
            "Eng:  How come he's such an idiot then? http://t.co/S5H0Er1B\n",
            "czech:  Poté, co vyhrožoval soudcům, GOP obviňuje Obamu ze soudního zastrašování http://t.co/rHr93J15 přes @dailykos - #Republican #Disinformation\n",
            "Eng:  After threatening judges, GOP accuses Obama of judicial intimidation http://t.co/rHr93J15 via @dailykos - #Republican #Disinformation\n",
            "czech:  Obama nazval rozpočet GOP sociálním darwinismem. Pěkný pokus, ale věří v sociální kreacionismus.\n",
            "Eng:  Obama called the GOP budget social Darwinism. Nice try, but he believes in social creationism.\n",
            "czech:  @ ATeagirl Obamovo propagandistické oddělení přišlo s tímto hashtagem týkajícím se Romneyho daňové evidence.\n",
            "Eng:  @ATeagirl Obama's propaganda department came up with this hashtag for Romney's tax records.\n",
            "czech:  RT @thinkprogress: Romney, který má dva Harvardské tituly, odstřelí Obamu za to, že na Harvardu strávil „příliš mnoho času“. http://t.co/avbgNT57 #icymi\n",
            "Eng:  RT @thinkprogress: Romney, who has two Harvard titles, blasts Obama for spending \"too much time\" at Harvard. http://t.co/avbgNT57 #icymi\n",
            "czech:  Obama připouští, že soudy mohou přezkoumávat akty kongresu: Federální odvolací soud požadoval, aby administrativa ... http://t.co/bKUGLufH\n",
            "Eng:  Obama admits courts can review acts of Congress: the Federal Court of Appeals has demanded that the administration ... http://t.co/bKUGLufH\n",
            "czech:  RT @ markknoller: Obamova kampaň říká, že Romney by měl zveřejnit 23 let daňových přiznání, aby Američané mohli posoudit jakýkoli střet zájmů.\n",
            "Eng:  RT @markknoller: Obama's campaign says Romney should release 23 years of tax returns so Americans can assess any conflict of interest.\n",
            "czech:  @ Mr_JPatt četli jste někdy Obamovu knihu, než se stal prezidentem?\n",
            "Eng:  @Mr_JPatt Did you ever read Obama's book before he became president?\n",
            "czech:  Děkujeme za výkřik v této rekapitulaci podpisu #JOBSAct! http://t.co/njCfZuSd přes @MiamiHerald\n",
            "Eng:  Thank you for shouting in this #JOBSAct signature recap! http://t.co/njCfZuSd via @MiamiHerald\n",
            "czech:  RT @ohgirlphrase: Americké dítě „Jste z Velké Británie? Och, super, takže si dáte čaj s královnou?“. Britské dítě: „Líbí se vám, jdete do Mcdonalds s Obamou?\n",
            "Eng:  RT @ohgirlphrase: American child “Are you from the UK? Oh, great, so will you have tea with the queen? ” British child: “Do you like going to McDonalds with Obama?\n",
            "czech:  @ MJ_Obama máte pravdu, i když si užívejte sebe, můj nigg, brzy se mu divíme\n",
            "Eng:  @MJ_Obama you're right, even if you enjoy yourself, my nigg, we'll soon be surprised\n",
            "czech:  Obama nazval rozpočet GOP sociálním darwinismem. Pěkný pokus, ale věří v sociální kreacionismus.\n",
            "Eng:  Obama called the GOP budget social Darwinism. Nice try, but he believes in social creationism.\n",
            "czech:  Docela skvělé video >>> Příběh „Vystřelil! Připraven jít!“ - Obama for America 2012: http://t.co/nxXJrxZe\n",
            "Eng:  Pretty great video >>> The story “Shot! Ready to go! ”- Obama for America 2012: http://t.co/nxXJrxZe\n",
            "czech:  @alexaforman Obama v Boce !? #saywhatttt\n",
            "Eng:  @alexaforman Obama in Boce !? #saywhatttt\n",
            "czech:  RT @GEsfandiari: „Obama naznačil, že USA přijmou íránský civilní jaderný program, pokud Chameneí podpoří tvrzení # Írán nebude usilovat o jadernou energii ...\n",
            "Eng:  RT @GEsfandiari: \"Obama has indicated that the US will accept Iran's civilian nuclear program if Khamenei supports the claim # Iran will not pursue nuclear energy ...\n",
            "czech:  @HesDanTheMan @edshow z toho nic nebude. Kdyby to byl #obama, #gop by ho obvinil. # p2 #edshow\n",
            "Eng:  @HesDanTheMan @edshow nothing will happen. If it was #obama, #gop would blame him. # p2 #edshow\n",
            "czech:  @YahooNews Co je to „bílý hispánský?“ http://t.co/QTdmKZQe Je Obama bílý Američan Afričana? Proč používáte tento rasistický výraz?\n",
            "Eng:  @YahooNews What is a \"white Hispanic?\" Http://t.co/QTdmKZQe Is Obama a white African American? Why do you use this racist term?\n",
            "czech:  Obama, Romney souhlasí: Přijměte ženy do golfového klubu Augusta: Americký prezident Barack Obama věří, že ženám by mělo být umožněno ... http://t.co/PVKrepqI\n",
            "Eng:  Obama, Romney agree: Admit women to Augusta Golf Club: US President Barack Obama believes that women should be allowed ... http://t.co/PVKrepqI\n",
            "czech:  Myslím, že jsme všichni ve shodě, že Rick Santorum by mohl porazit Obamu ... na bowlingu.\n",
            "Eng:  I think we're all in agreement that Rick Santorum could beat Obama ... at a bowling alley.\n",
            "czech:  @benhurleycomedy haha ​​je první člověk, kterého jsi sledoval, Obame?\n",
            "Eng:  @benhurleycomedy haha ​​is the first person you followed, Obama?\n",
            "czech:  RT @ohgirlphrase: Americké dítě „Jste z Velké Británie? Och, super, takže si dáte čaj s královnou?“. Britské dítě: „Líbí se vám, jdete do Mcdonalds s Obamou?\n",
            "Eng:  RT @ohgirlphrase: American child “Are you from the UK? Oh, great, so will you have tea with the queen? ” British child: “Do you like going to McDonalds with Obama?\n",
            "czech:  RT @RoheezyDoesIt: Obama je muž migrace!\n",
            "Eng:  RT @RoheezyDoesIt: Obama is a migration man!\n",
            "czech:  Americké dítě „Jste z Velké Británie? Och, super, takže si dáte čaj s královnou?“. Britské dítě: „Líbí se vám, jdete do Mcdonalds s Obamou?\n",
            "Eng:  American Child “Are you from the UK? Oh, great, so will you have tea with the queen? ” British child: “Do you like going to McDonalds with Obama?\n",
            "czech:  #Obama se snaží silnou paži šerifa Joe přinutit, aby zastavil vyšetřování Obamova falešného rodného listu. #GOP #tcot #teaparty\n",
            "Eng:  #Obama tries to force Sheriff Joe's strong arm to stop investigating Obama's fake birth certificate. #GOP #tcot #teaparty\n",
            "czech:  RT @RT_America Obamova preclíková logika http://t.co/Shv83Z0F @PeterSchiff #Obama campaign\n",
            "Eng:  RT @RT_America Obama's pretzel logic http://t.co/Shv83Z0F @PeterSchiff #Obama campaign\n",
            "czech:  „kdo byla žena, která pracovala pro prezidentskou kampaň Hillary proti Obamovi, říká, že“ http://t.co/19Frqx8C\n",
            "Eng:  \"Who was the woman who worked for Hillary's presidential campaign against Obama, says that\" http://t.co/19Frqx8C\n",
            "czech:  RT @ohgirlphrase: Americké dítě „Jste z Velké Británie? Och, super, takže si dáte čaj s královnou?“. Britské dítě: „Líbí se vám, jdete do Mcdonalds s Obamou?\n",
            "Eng:  RT @ohgirlphrase: American child “Are you from the UK? Oh, great, so will you have tea with the queen? ” British child: “Do you like going to McDonalds with Obama?\n",
            "czech:  RT @ nprnews: Obamův podpis zákona o pracovních příležitostech pravděpodobně neztlumí poplatek GOP Je to anti-Jobs http://t.co/4LtEJRbL\n",
            "Eng:  RT @nprnews: Obama's signing of employment opportunities unlikely to dampen GOP fee It's anti-Jobs http://t.co/4LtEJRbL\n",
            "czech:  RT @ markknoller: Pres Obama řekl: „Nemůžu se dočkat“ „velké důležité debaty“, kterou o těchto otázkách budeme vést.\n",
            "Eng:  RT @markknoller: Pres Obama said, \"I can't wait\" for the \"big important debate\" we're going to have on these issues.\n",
            "czech:  Obamova administrativa doručí dopis pátému obvodnímu odvolacímu soudu http://t.co/mU1aHVLs prostřednictvím @AddThis\n",
            "Eng:  The Obama administration will deliver a letter to the Fifth District Court of Appeals http://t.co/mU1aHVLs via @AddThis\n",
            "czech:  RT @GregWHoward: Obama zdědil (pokud chcete použít jeho chromé znění) dluh 10,6 bilionu dolarů a proměnil jej v 15,2 bilionu dolarů. #tcot # p2 #ocra #teaparty\n",
            "Eng:  RT @GregWHoward: Obama inherited (if you want to use his lame version) a debt of $ 10.6 trillion and turned it into $ 15.2 trillion. #tcot # p2 #ocra #teaparty\n",
            "czech:  RT @blakehounshell: Od Ignáce: „Američtí představitelé doufají, že [Putin] může zprostředkovat dohodu v Sýrii, než se příští měsíc setká s Obamou na summitu G-8.“\n",
            "Eng:  RT @blakehounshell: From Ignatius: \"US officials hope [Putin] can broker a deal in Syria before meeting Obama at the G-8 summit next month.\"\n",
            "czech:  RT @JeffersonObama: Arianna Huffingtonová při jakékoli příležitosti odstřelila prezidenta Obamu a chválila GOP. Tento obrázek vysvětluje věci. http://t.co/Ov6I5CoS\n",
            "Eng:  RT @JeffersonObama: Arianna Huffington blasted President Obama at every opportunity and praised the GOP. This picture explains things. http://t.co/Ov6I5CoS\n",
            "czech:  Držitel odpovídá soudci, obhajuje jak soudnictví, tak poznámky Obamovy zdravotní péče http://t.co/EAS8WNVU\n",
            "Eng:  Holder reports to judge, defends both judiciary and Obama's health care notes http://t.co/EAS8WNVU\n",
            "czech:  RT @ohgirlphrase: Americké dítě „Jste z Velké Británie? Och, super, takže si dáte čaj s královnou?“. Britské dítě: „Líbí se vám, jdete do Mcdonalds s Obamou?\n",
            "Eng:  RT @ohgirlphrase: American child “Are you from the UK? Oh, great, so will you have tea with the queen? ” British child: “Do you like going to McDonalds with Obama?\n",
            "czech:  Líbí se mi video @YouTube http://t.co/MuovhZSc JSEM SEXI A VÍM TO (Cover Barack Obama).\n",
            "Eng:  I like the video @YouTube http://t.co/MuovhZSc I'M SEXY AND I KNOW IT (Cover Barack Obama).\n",
            "czech:  RT @brianwiersema: @JoeNBC Pokud máte FAKTA podporující vaše tvrzení, že Obamova politika přispěla k vysokým cenám plynu, nechte je slyšet. Jinak STFU!\n",
            "Eng:  RT @brianwiersema: @JoeNBC If you have FACTS supporting your claim that Obama's policy has contributed to high gas prices, let them hear. Otherwise STFU!\n",
            "czech:  @TPO_Hisself @barackobama lidé se smějí, ale nevěří, že opravdu mluvím 2 obama, ale já jsem; není moje chyba, když neposlouchá, je to jeho\n",
            "Eng:  @TPO_Hisself @barackobama people laugh but don't believe I'm really talking 2 obama but I am; it's not my fault if he doesn't listen, it's his\n",
            "czech:  Barack Obama The Pictures Generation, 1974-1984 (Metropolitan Museum of Art): Tato hezká kniha je první spoluprací ... http://t.co/TGgLdkOo\n",
            "Eng:  Barack Obama The Pictures Generation, 1974-1984 (Metropolitan Museum of Art): This pretty book is the first collaboration ... http://t.co/TGgLdkOo\n",
            "czech:  @IamDonCheadle Myslíte si, že podle vás byla Obama ekonomickou katastrofou?\n",
            "Eng:  @IamDonCheadle Do you think Obama was an economic disaster?\n",
            "czech:  RT @Un_OccupyWallSt: @ Stranahan #whatsRomneyHiding? Umm mohu zaručit, jestli vůbec, je to Daleko méně než Obama a Holder\n",
            "Eng:  RT @Un_OccupyWallSt: @ Stranahan #whatsRomneyHiding? Umm I can guarantee, if at all, it's far less than Obama and Holder\n",
            "czech:  #Google #News Gun Sales Booming: Doomsday, Obama or Zombies? http://t.co/Iw3pz7fy #AutoFollowBack Goo\n",
            "Eng:  #Google #News Gun Sales Booming: Doomsday, Obama or Zombies? http://t.co/Iw3pz7fy #AutoFollowBack Goo\n",
            "czech:  Nezáleží na Libsovi, že Obama je ten, kdo se vyhýbá poctivosti. Pokud nejprve obviní, myslí si, že jsou zlatí. Ale oni podceňují #tcot!\n",
            "Eng:  It doesn't matter to Libs that Obama is the one who avoids honesty. If they accuse first, they think they're golden. But they underestimate #tcot!\n",
            "czech:  RT @kesgardner: Obamovy vysokoškolské záznamy? # whatsromneyhiding\n",
            "Eng:  RT @kesgardner: Obama's college records? # whatsromneyhiding\n",
            "czech:  RT @ 1LuisSandoval: Kdyby měl Obama syna, vypadal by jako Trayvon. Kdyby měl tátu, vypadal by jako Marion Barry. Kdyby měl kladivo, ráno by kladivem.\n",
            "Eng:  RT @ 1LuisSandoval: If Obama had a son, he would look like Trayvon. If he had a dad, he would look like Marion Barry. If he had a hammer, he would be a hammer in the morning.\n",
            "czech:  [121] V březnu 2009 Obama zvrátil politiku Bushovy éry, která omezovala financování výzkumu embryonálních kmenových buněk\n",
            "Eng:  [121] In March 2009, Obama reversed Bush-era policies that limited funding for embryonic stem cell research\n",
            "czech:  RT @ markknoller: Pres Obama udeřil Romneyho za to, že přijal rozpočet, který podporuje pár, kteří si vedou dobře, všichni ostatní se snaží obejít.\n",
            "Eng:  RT @markknoller: Pres Obama has hit Romney for adopting a budget that supports a couple who are doing well, everyone else is trying to get around.\n",
            "czech:  RT @thinkprogress: Romney, který má dva Harvardské tituly, odstřelí Obamu za to, že na Harvardu strávil „příliš mnoho času“. http://t.co/avbgNT57 #icymi\n",
            "Eng:  RT @thinkprogress: Romney, who has two Harvard titles, blasts Obama for spending \"too much time\" at Harvard. http://t.co/avbgNT57 #icymi\n",
            "czech:  RT @susie_c: Poslední ze soudního sporu #NDAA od společnosti @sparrowmedia, která má nejhezčí web. http://t.co/RQQpZJHd\n",
            "Eng:  RT @susie_c: The latest in the #NDAA lawsuit from @sparrowmedia, which has the nicest website. http://t.co/RQQpZJHd\n",
            "czech:  @ TannerEnglish3\n",
            "Eng:  @ TannerEnglish3\n",
            "czech:  @donjuanw @ vaponte8 Nudí se, myslí si, že chce někoho potopit. http://t.co/gpdr1y1C\n",
            "Eng:  @donjuanw @ vaponte8 Bored, he thinks he wants to sink someone. http://t.co/gpdr1y1C\n",
            "czech:  RT @fredthompson: Ve VT Obama řekl, že podporuje „hodnotu“, že „jsem strážcem svého bratra“. V tom případě - bratře, utrácíš příliš mnoho našich peněz. #tcot\n",
            "Eng:  RT @fredthompson: In VT, Obama said he supported \"value\", that \"I am my brother's guardian.\" In that case - brother, you're spending too much of our money. #tcot\n",
            "czech:  Demokraté a EPA se snaží zničit americký uhelný průmysl http://t.co/NFOS1n9d @ClaireCMC @KayHagan @MarkWarner @SenJimDeMint @MarcoRubio @RandPaul\n",
            "Eng:  Democrats and EPA seek to destroy US coal industry http://t.co/NFOS1n9d @ClaireCMC @KayHagan @MarkWarner @SenJimDeMint @MarcoRubio @RandPaul\n",
            "czech:  RT @ DrewMTips: #WhatsRomney Skrytí jeho spojení s usvědčeným zločincem Tonym Rezkem a domácím teroristou Billem Ayersem. Počkej, to je Obama.\n",
            "Eng:  RT @ DrewMTips: #WhatsRomney Hiding his connection with convicted criminal Tony Rezek and domestic terrorist Bill Ayers. Wait, it's Obama.\n",
            "czech:  RT @MacehuaHart: Sdílení: http://t.co/ztufxsn1 Český tisk: Víc se ví o Narození Ježíše před tisíciletími než o Obamovi\n",
            "Eng:  RT @MacehuaHart: Share: http://t.co/ztufxsn1 Czech press: More is known about the Birth of Jesus millennia ago than about Obama\n",
            "czech:  Obamovy trapné fotografie o Jimu Messinovi, díky nimž bude pracovat RT @ Messina2012: Američané to chtějí vědět. Populární # 1 v USA: #WhatsRomneyHiding?\n",
            "Eng:  Obama's embarrassing photos of Jim Messin that will make RT @ Messina2012 work: Americans want to know. Popular # 1 in the US: #WhatsRomneyHiding?\n",
            "czech:  RT @Talkmaster: No, už to chápu. Obama mluvil ve zkratce a my jsme byli příliš hloupí na to, abychom pochopili, jak chytrý ve skutečnosti je. Gagme.\n",
            "Eng:  RT @Talkmaster: Well, I get it. Obama spoke briefly and we were too stupid to understand how clever he really is. Gagme.\n",
            "czech:  Obama říká, že rok 2012 bude „zábavná debata“: Prezident Barack Obama říká, že volby v roce 2012 budou „zábavná debata“, protože ... http://t.co/RpPh3u0V\n",
            "Eng:  Obama says 2012 will be a \"fun debate\": President Barack Obama says the 2012 election will be a \"fun debate\" because ... http://t.co/RpPh3u0V\n",
            "czech:  RT @LauraFlyMe: Obávám se, že Barack Obama leží v posteli s Íránem. Víme, že prozrazuje utajované informace o plánu Izraele. Není na naší straně ani v Izraeli\n",
            "Eng:  RT @LauraFlyMe: I'm afraid Barack Obama is in bed with Iran. We know it reveals classified information about Israel's plan. He is not on our side or in Israel\n",
            "czech:  Obama, Romney souhlasí: Přijměte ženy do golfového klubu Augusta http://t.co/IMcTUlsH\n",
            "Eng:  Obama, Romney agrees: Admit women to Augusta Golf Club http://t.co/IMcTUlsH\n",
            "czech:  RT @JeffersonObama: 62% amerických Židů by znovu zvolilo Obamu, 4% tvrdí, že Izrael je nejdůležitější otázkou - Haaretz http://t.co/VhURDtdO http://t.co/gIGmn5kE\n",
            "Eng:  RT @JeffersonObama: 62% of American Jews would re-elect Obama, 4% say Israel is the most important issue - Haaretz http://t.co/VhURDtdO http://t.co/gIGmn5kE\n",
            "czech:  RT @ryanjcroft: Už vás někoho unavuje neúprosná taktika třídní války Obamovy administrativy? Jsou šílení a neameričtí.\n",
            "Eng:  RT @ryanjcroft: Are you tired of the relentless tactics of the Obama administration's class war? They are crazy and un-American.\n",
            "czech:  @ carrotgravy lol dobře, jsem v klidu. Ale technicky 4 černé směrovače způsobují, že Michelle Obama je teď jedna. WOW. a jak jsem :)\n",
            "Eng:  @carrotgravy lol well, I'm fine. But technically 4 black routers make Michelle Obama one now. WOW. and how am i :)\n",
            "czech:  Obamova zelená pracovní místa? # WhatsRomneyHiding\n",
            "Eng:  Obama's green jobs? # WhatsRomneyHiding\n",
            "czech:  Reforma příznivce Obamy je jako snaha zachytit hovno jeho čistým koncem\n",
            "Eng:  Obama's supporter reform is like trying to catch the shit with its clean end\n",
            "czech:  RT @thinkprogress: Romney, který má dva Harvardské tituly, odstřelí Obamu za to, že na Harvardu strávil „příliš mnoho času“. http://t.co/avbgNT57 #icymi\n",
            "Eng:  RT @thinkprogress: Romney, who has two Harvard titles, blasts Obama for spending \"too much time\" at Harvard. http://t.co/avbgNT57 #icymi\n",
            "czech:  RT @ohgirlphrase: Americké dítě „Jste z Velké Británie? Och, super, takže si dáte čaj s královnou?“. Britské dítě: „Líbí se vám, jdete do Mcdonalds s Obamou?\n",
            "Eng:  RT @ohgirlphrase: American child “Are you from the UK? Oh, great, so will you have tea with the queen? ” British child: “Do you like going to McDonalds with Obama?\n",
            "czech:  RT @GarrettNBCNews: Romney, který získal kombinovanou JD / MBA na Harvardu, právě zasáhl prezidenta Obamu za to, že na Harvardu strávil „příliš mnoho času“\n",
            "Eng:  RT @GarrettNBCNews: Romney, who earned a combined JD / MBA at Harvard, has just hit President Obama for spending \"too much time\" at Harvard\n",
            "czech:  Snaží se prezident #Obama posílit Nejvyšší soud? @JeffreyToobin & @JSaylow jsou připraveni diskutovat ... a nesouhlasit! # AC360\n",
            "Eng:  Is President #Obama trying to strengthen the Supreme Court? @JeffreyToobin & @JSaylow are ready to discuss ... and disagree! # AC360\n",
            "czech:  RT @ohgirlphrase: Americké dítě „Jste z Velké Británie? Och, super, takže si dáte čaj s královnou?“. Britské dítě: „Líbí se vám, jdete do Mcdonalds s Obamou?\n",
            "Eng:  RT @ohgirlphrase: American child “Are you from the UK? Oh, great, so will you have tea with the queen? ” British child: “Do you like going to McDonalds with Obama?\n",
            "czech:  RT @Drudge_Report: LIMBAUGH: Obama vydává figurální odměnu Nejvyššímu soudu ... http://t.co/Z552mkRl\n",
            "Eng:  RT @Drudge_Report: LIMBAUGH: Obama issues figural reward to Supreme Court ... http://t.co/Z552mkRl\n",
            "czech:  RT @ CARepublican12: RT @ stinger5150: Všechno, co Obama dělá, je pro tuto zemi škodlivé. Upřímně věřím ... http://t.co/OVkDyuX9\n",
            "Eng:  RT @ CARepublican12: RT @ stinger5150: Everything Obama does is harmful to this country. I sincerely believe ... http://t.co/OVkDyuX9\n",
            "czech:  Stěhování do Iowy. Obama se stává prezidentem. Spolupracuje s 5 nejskvělejšími lidmi, jaké kdy poznal. žijící v DC. # rychlý příběh\n",
            "Eng:  Moving to Iowa. Obama becomes president. He collaborates with the 5 greatest people he has ever known. living in DC. # quick story\n",
            "czech:  musím se o ty děti postarat, vím, že jsi slyšel Obamu\n",
            "Eng:  I have to take care of those kids, I know you heard Obama\n",
            "czech:  #WhatsRomneySkrývá své tajné „pružnější“ plány s Ruskem? Ne, znovu Obama.\n",
            "Eng:  # WhatsRomneyHides its secret \"more flexible\" plans with Russia? No, Obama again.\n",
            "czech:  #WhatsRomneyHiding SKRYT SE JEN KDYKOLI BULLSHIT A LŽÍ JAKO OBAMA A DEMOKRATI JSOU. VŠICHNI POLITIKA JSOU PĚNOVÉ FUCK LIARY\n",
            "Eng:  #WhatsRomneyHiding HIDE JUST ANYTIME BULLSHIT AND LIES Like OBAMA AND DEMOCRATS ARE. ALL POLICIES ARE FUCK LIARA FOAM\n",
            "czech:  @NHLWingsfanKay romney je bílý obama\n",
            "Eng:  @NHLWingsfanKay romney is a white obama\n",
            "czech:  @edshow Obama je kriminálník a progresivní marxistický výbor. Obamacare zruinuje Američany, zatímco bude financovat potratové kliniky #edshow\n",
            "Eng:  @edshow Obama is a criminal and progressive Marxist committee. Obamacare will ruin Americans while funding abortion clinics #edshow\n",
            "czech:  RT @ohgirlphrase: Americké dítě „Jste z Velké Británie? Och, super, takže si dáte čaj s královnou?“. Britské dítě: „Líbí se vám, jdete do Mcdonalds s Obamou?\n",
            "Eng:  RT @ohgirlphrase: American child “Are you from the UK? Oh, great, so will you have tea with the queen? ” British child: “Do you like going to McDonalds with Obama?\n",
            "czech:  @edshow Pravice už navždy pláče kvůli nevolené legislativě soudců z lavičky\n",
            "Eng:  @edshow The right is crying forever because of the unselected legislation of judges from the bench\n",
            "czech:  RT @handrewschwartz: Ignatius hlásí, že Obama signalizoval Íránu USA by přijaly civilní jaderné zbraně, pokud Chameneí může zajistit, že Írán nikdy nedostane jaderné zbraně http://t.co/KkaAhGPq\n",
            "Eng:  RT @handrewschwartz: Ignatius reports that Obama signaled Iran the US would accept civilian nuclear weapons if Khamenei could ensure that Iran never received nuclear weapons http://t.co/KkaAhGPq\n",
            "czech:  RT @ charlesdavis84: Všichni ti lidé, kteří mají na svém avataru loga Obamy? Kdyby to někdo mohl udělat pro mě, ale s logem Pepsi, ocenil bych to.\n",
            "Eng:  RT @charlesdavis84: All those people who have the Obama logo on their avatar? If someone could do it for me, but with the Pepsi logo, I would appreciate it.\n",
            "czech:  RT @ChicoDelainky: Mitt Romney zaútočil na prezidenta Obamu kvůli odchodu na Harvard, přesto Romney strávil na Harvardu 4 roky. Co je s tím mužem ?!\n",
            "Eng:  RT @ChicoDelainky: Mitt Romney attacked President Obama to leave for Harvard, yet Romney spent 4 years at Harvard. What's up with that man ?!\n",
            "czech:  RT @WhatTheFFacts: V jeho dospívání bylo známo, že Obama užíval marihuanu a kokain.\n",
            "Eng:  RT @WhatTheFFacts: In his teens, Obama was known to use marijuana and cocaine.\n",
            "czech:  RT @HuffPostPol: Jim DeMint nazývá prezidenta Obamu „tyranem“ http://t.co/2kXhMwKY\n",
            "Eng:  RT @HuffPostPol: Jim DeMint calls President Obama a \"tyrant\" http://t.co/2kXhMwKY\n",
            "czech:  RT @Un_Progressive:. @ ResistTyranny @freegalt Snadné. Obama všechno skrývá. Vždycky.\n",
            "Eng:  RT @Un_Progressive:. @ ResistTyranny @freegalt Easy. Obama is hiding everything. Always.\n",
            "czech:  RT @ohgirlphrase: Americké dítě „Jste z Velké Británie? Och, super, takže si dáte čaj s královnou?“. Britské dítě: „Líbí se vám, jdete do Mcdonalds s Obamou?\n",
            "Eng:  RT @ohgirlphrase: American child “Are you from the UK? Oh, great, so will you have tea with the queen? ” British child: “Do you like going to McDonalds with Obama?\n",
            "czech:  @Mamadoxie Prostě budeme muset tento hněv nasměrovat a zaměřit se na porážku Obamy v listopadu. Není čas na kňourání a našpulené!\n",
            "Eng:  @Mamadoxie We just have to direct this anger and focus on defeating Obama in November. No time to whine and pouting!\n",
            "czech:  #WhatsRomneyHiding That Michelle Obama was vystupoval v hudebním videu sira Mixalota „Baby Got Back“\n",
            "Eng:  #WhatsRomneyHiding That Michelle Obama was featured in Sir Mixalot's music video \"Baby Got Back\"\n",
            "czech:  Texas GOP hovoří o přechodu na primární vítěz vítězů. Mohl by jednou rukou změnit, komu Barack Obama letos čelí #epic\n",
            "Eng:  The Texas GOP talks about moving to the primary winner. He could change with one hand who Barack Obama is facing #epic this year\n",
            "czech:  @ErskineGrier Rasismus v trestání pro Obamu a v trestu proti NOLA Saints, čokoládovému městu.\n",
            "Eng:  @ErskineGrier Racism in punishment for Obama and in punishment against NOLA Saints, the chocolate city.\n",
            "czech:  Přišel čas. # Anonymous # Revolution # 2012 - http://t.co/3qzdFw1C #Occupy #OWS #Obama #RonPaul #TheAnonMessage http://t.co/Pu73AOEV\n",
            "Eng:  The time has come. # Anonymous # Revolution # 2012 - http://t.co/3qzdFw1C #Occupy #OWS #Obama #RonPaul #TheAnonMessage http://t.co/Pu73AOEV\n",
            "czech:  #WhatsRomneyHiding Blueprints o tom, jak konzervativci ničí Obamovy chromé pokusy zavést hashtagy.\n",
            "Eng:  #WhatsRomneyHiding Blueprints on how conservatives are destroying Obama's lame attempts to introduce hashtags.\n",
            "czech:  Liberální #SteveJobs: Obamovy předpisy o zabíjení podniků nutí Apple vybudovat #China #cnn - http://t.co/Yd8jzwoV\n",
            "Eng:  Liberal #SteveJobs: Obama's killing laws force Apple to build #China #cnn - http://t.co/Yd8jzwoV\n",
            "czech:  RT @GEsfandiari: „Obama naznačil, že USA přijmou íránský civilní jaderný program, pokud Chameneí podpoří tvrzení # Írán nebude usilovat o jaderné zbraně“ http://t.co/svxFPoHq\n",
            "Eng:  RT @GEsfandiari: \"Obama has indicated that the US will accept Iran's civilian nuclear program if Khamenei supports the claim # Iran will not pursue nuclear weapons\" http://t.co/svxFPoHq\n",
            "czech:  RT @ZekeJMiller: Obamova kampaň zahajuje kampaň #WhatsRomneyHiding o daňových přiznáních Romneyho s tweetem @ Messina2012.\n",
            "Eng:  RT @ZekeJMiller: Obama's campaign launches the #WhatsRomneyHiding campaign on Romney's tax returns with the tweet @ Messina2012.\n",
            "czech:  Redakční referent: Obamův rozpočet, nikoli Ryanův, je „protikladný“ vůči historii: Mluvení v Americké společnosti o ... http://t.co/maoLb5Ia\n",
            "Eng:  Editor-in-Chief: Obama's Budget, Not Ryan's, Is \"Contradictory\" to History: Speaking in American Society About ... http://t.co/maoLb5Ia\n",
            "czech:  hlasujte pro prezidenta Baracka Obamu a pokračujme kupředu. @ BarackObama\n",
            "Eng:  vote for President Barack Obama and let's move forward. @BarackObama\n",
            "czech:  RT @ paulrevered1776: RT @ Profesor_Proč: #WhatsRomneyHiding - skutečnost, že byl velmi blízko domácímu teroristovi - no počkej, to je Obama\n",
            "Eng:  RT @ paulrevered1776: RT @ Professor_Why: #WhatsRomneyHiding - the fact that he was very close to a domestic terrorist - well wait, that's Obama\n",
            "czech:  RT @ / SheCallsMeLarry „Nová“ anti-Obamova nadávka z echo komory #RWNJ je THUG? Takže jsme se rozhodli nechat ... http://t.co/lFYgXSNS\n",
            "Eng:  RT @ / SheCallsMeLarry \"New\" anti-Obama swearing from echo chamber #RWNJ is THUG? So we decided to let ... http://t.co/lFYgXSNS\n",
            "czech:  RT @SamValley: #WhatsRomneyHiding Blueprints o tom, jak konzervativci ničí Obamovy chromé pokusy zavádět hashtagy.\n",
            "Eng:  RT @SamValley: #WhatsRomneyHiding Blueprints on how conservatives are destroying Obama's lame attempts to introduce hashtags.\n",
            "czech:  Marine Faces Dismissal for Criticizing Obama on Facebook http://t.co/MpMYwNyi\n",
            "Eng:  Marine Faces Dismissal for Criticizing Obama on Facebook http://t.co/MpMYwNyi\n",
            "czech:  @liberalminds Jeho trendový idiot .. Podívali jste se na tweety? LOL, všichni si dělají legraci z Obamy pro jeho hloupého Hashtaga\n",
            "Eng:  @liberalminds His trendy idiot .. Did you look at Tweets? LOL, everyone is making fun of Obama for his stupid Hashtag\n",
            "czech:  RT @handrewschwartz: Ignatius hlásí, že Obama signalizoval Íránu USA by přijaly civilní jaderné zbraně, pokud Chameneí může zajistit, že Írán nikdy nedostane jaderné zbraně http://t.co/KkaAhGPq\n",
            "Eng:  RT @handrewschwartz: Ignatius reports that Obama signaled Iran the US would accept civilian nuclear weapons if Khamenei could ensure that Iran never received nuclear weapons http://t.co/KkaAhGPq\n",
            "czech:  KONEČNĚ - Bývalý student Obamova práva promlouvá - a také nemůže uvěřit kecy chrlící z úst O: http://t.co/GLopiyOC\n",
            "Eng:  FINALLY - A former Obama law student speaks - and he also can't believe the gossip from his mouth O: http://t.co/GLopiyOC\n",
            "czech:  „Back Off“: McConnell varuje, že Obama překročil „nebezpečnou hranici“ - Times 247 http://t.co/dFTjxuKB\n",
            "Eng:  \"Back Off\": McConnell warns Obama has crossed \"dangerous line\" - Times 247 http://t.co/dFTjxuKB\n",
            "czech:  Vážení #dmv_twitter, zajímá vás, kde jsou chlápci? Oni na Kappa-festu ... Myslím tím fundraiser Park-Obama ve 3. patře. #poděkuj mi později\n",
            "Eng:  Dear #dmv_twitter, you wonder where the guys are? They're at Kappa-fest ... I mean the Park-Obama fundraiser on the 3rd floor. #Thank me later\n",
            "czech:  Obama nastaví stůl na posměch GOP, protože americká armáda tajně používá palivo z řas v námořních lodích a ve vzducholodích tajné armády http://t.co/zkUbbBVN\n",
            "Eng:  Obama sets table for GOP ridicule because US military secretly uses algae fuel in naval ships and secret army airships http://t.co/zkUbbBVN\n",
            "czech:  Obama by mohl čelit volebnímu roku zaseknutému v manželství homosexuálů http://t.co/aViCL1rV |\n",
            "Eng:  Obama could face election year stuck in gay marriage http://t.co/aViCL1rV |\n",
            "czech:  RT @Tortured_Verse: Romney má DVA Harvardské tituly a říká, že Obama strávil „příliš mnoho času na Harvardu?“ http://t.co/J4bep9Q0 # p2 #tcot #wiunion #ocra # TWISTERS\n",
            "Eng:  RT @Tortured_Verse: Romney has TWO Harvard titles and says Obama spent \"too much time at Harvard?\" Http://t.co/J4bep9Q0 # p2 #tcot #wiunion #ocra # TWISTERS\n",
            "czech:  tento muž měl ve svém hotchoclate něco špatného Romney útočí na Obamu kvůli tomu, že na Harvardu trávil příliš mnoho času: http://t.co/SaQa8V5w přes @youtube\n",
            "Eng:  this man had something wrong in his hotchoclate Romney attacks Obama because he spent too much time at Harvard: http://t.co/SaQa8V5w via @youtube\n",
            "czech:  RT @ RightWay2: #Romney má pravdu #Obama by měl přestat ležet na 4 milionech nových pracovních míst NE VYTVOŘENO zabíjení AMERICKÝCH OBČANŮ, HC FRAUD #GOP #DEM # p2\n",
            "Eng:  RT @ RightWay2: #Romney is right #Obama should stop lying on 4 million new jobs NOT CREATED KILLING OF AMERICAN CITIZENS, HC FRAUD #GOP #DEM # p2\n",
            "czech:  Křičte na @RyanFecteau za skvělou práci, kterou dělá s Obamovou kampaní # Pride2012 http://t.co/AnxszxJn\n",
            "Eng:  Shout at @RyanFecteau for the great work he does with the Obama campaign # Pride2012 http://t.co/AnxszxJn\n",
            "czech:  #tcot #sgp #teaparty\n",
            "Eng:  #tcot #sgp #teaparty\n",
            "czech:  Twitterové drama mezi Obamou a Romney Llololem\n",
            "Eng:  A Twitter drama between Obama and Romney Llolol\n",
            "czech:  RT @timgRIGHTway: #Obama dává Egyptu 1,5 miliardy dolarů po setkání s Muslimským bratrstvem http://t.co/1kiskMUC. Neskutečný! #Tcot\n",
            "Eng:  RT @timgRIGHTway: #Obama gives Egypt $ 1.5 billion after meeting with Muslim Brotherhood http://t.co/1kiskMUC. Unreal! #Tcot\n",
            "czech:  RT @LMFAO: Kdo je sexy a ví to? Barack Obama. Jo, zlato !! http://t.co/5EO2RIfx\n",
            "Eng:  RT @LMFAO: Kdo je sexy a ví to? Barack Obama. Jo, zlato !! http://t.co/5EO2RIfx\n",
            "czech:  RT @ djtechchicago: Zjevně skrývá kopii ústavy Baracka Obamy. # WhatsRomneyHiding\n",
            "Eng:  RT @djtechchicago: Apparently hiding a copy of Barack Obama's constitution. # WhatsRomneyHiding\n",
            "czech:  @MittRomney, opravdu si vezmete #WhatsRomneyHiding od Obamy? Skutečná otázka je #WhatsBarackHiding\n",
            "Eng:  @MittRomney, do you really take #WhatsRomneyHiding from Obama? The real question is #WhatsBarackHiding\n",
            "czech:  Obama recykluje projevy VIDEA K ZOBRAZENÍ http://t.co/NU1LDv2R přes @WestJournalism\n",
            "Eng:  Obama recykluje projevy VIDEA K ZOBRAZENÍ http://t.co/NU1LDv2R přes @WestJournalism\n",
            "czech:  Obama needs to not feed into it\n",
            "Eng:  Obama needs to not feed into it\n",
            "czech:  #edshow Whenever Obama tells the truth about the Gop, they boo hoo hoo and call him a bully.\n",
            "Eng:  #edshow Whenever Obama tells the truth about the Gop, they boo hoo hoo and call him a bully.\n",
            "czech:  RT @DrewMcKissick: Dapper Dan, and a comb.  And a thick oppo research file on Obama. #WhatsRomneyHiding\n",
            "Eng:  RT @DrewMcKissick: Dapper Dan, and a comb.  And a thick oppo research file on Obama. #WhatsRomneyHiding\n",
            "czech:  RT @ItsLoopzProd: LOOOOOOOOOOOOOOOOOOOOOOOOOOOOL This is why i rate obama http://t.co/vsOYFhSa\n",
            "Eng:  RT @ItsLoopzProd: LOOOOOOOOOOOOOOOOOOOOOOOOOOOOL This is why i rate obama http://t.co/vsOYFhSa\n",
            "czech:  RT @markknoller: AT a campaign fundraiser tonight, Pres. Obama again denounced Mitt Romney by name for his support of the House-passed GOP Budget.\n",
            "Eng:  RT @markknoller: AT a campaign fundraiser tonight, Pres. Obama again denounced Mitt Romney by name for his support of the House-passed GOP Budget.\n",
            "czech:  #WhatsRomneyHiding is the definition of a social media stunt backfiring. Just sayin, #Obama.\n",
            "Eng:  #WhatsRomneyHiding is the definition of a social media stunt backfiring. Just sayin, #Obama.\n",
            "czech:  RT @ohgirlphrase: American kid \"You're from the UK? Ohhh cool, So do you have tea with the Queen?\". British kid: \"Do you like, go to Mcdonalds with Obama?\n",
            "Eng:  RT @ohgirlphrase: American kid \"You're from the UK? Ohhh cool, So do you have tea with the Queen?\". British kid: \"Do you like, go to Mcdonalds with Obama?\n",
            "czech:  Obama's skin color is not a reason to vote for him..\n",
            "Eng:  Obama's skin color is not a reason to vote for him..\n",
            "czech:  OBAMA Follows The Quran &gt; Muslims can Lie to the Infidel (US) to Get achieve His Goals&gt; Destruction of the West&gt; #tcot #p2 #ocra #dem #tlot\n",
            "Eng:  OBAMA Follows The Quran &gt; Muslims can Lie to the Infidel (US) to Get achieve His Goals&gt; Destruction of the West&gt; #tcot #p2 #ocra #dem #tlot\n",
            "czech:  Obama vs Romney&gt;Obama helped the Auto Industry,Prevented a deeper recession/created 3+ million jobs&lt;Romney cant win on this issue #p2 #tcot\n",
            "Eng:  Obama vs Romney&gt;Obama helped the Auto Industry,Prevented a deeper recession/created 3+ million jobs&lt;Romney cant win on this issue #p2 #tcot\n",
            "czech:  RT @ohgirlphrase: American kid \"You're from the UK? Ohhh cool, So do you have tea with the Queen?\". British kid: \"Do you like, go to Mcdonalds with Obama?\n",
            "Eng:  RT @ohgirlphrase: American kid \"You're from the UK? Ohhh cool, So do you have tea with the Queen?\". British kid: \"Do you like, go to Mcdonalds with Obama?\n",
            "czech:  RT @BelleInABow: Obama doesn't need to be your favorite person, but he's still the President of the United States of America. That always deserves respect.\n",
            "Eng:  RT @BelleInABow: Obama doesn't need to be your favorite person, but he's still the President of the United States of America. That always deserves respect.\n",
            "czech:  RT @jmimac351: @EWErickson $4 gas, high unemployment & Obama is worried about Augusta National. This is smoke and mirrors for utter failure. #cantwait2vote\n",
            "Eng:  RT @jmimac351: @EWErickson $4 gas, high unemployment & Obama is worried about Augusta National. This is smoke and mirrors for utter failure. #cantwait2vote\n",
            "czech:  RT @ronpaulrca2012: #Obama FactChecked -- http://t.co/oohsPWzs #Obama2012 #P2 #TopProg #TeaParty #Gop #Gop2012 #Republican #POTUS #Politics #Election2012 #tcot\n",
            "Eng:  RT @ronpaulrca2012: #Obama FactChecked -- http://t.co/oohsPWzs #Obama2012 #P2 #TopProg #TeaParty #Gop #Gop2012 #Republican #POTUS #Politics #Election2012 #tcot\n",
            "czech:  #KimKardashiansNextBoyFriend Obama!\n",
            "Eng:  #KimKardashiansNextBoyFriend Obama!\n",
            "czech:  RT @against_obama: Obama's illegal alien uncle's drivers license #whatsromneyhiding\n",
            "Eng:  RT @against_obama: Obama's illegal alien uncle's drivers license #whatsromneyhiding\n",
            "czech:  RT @markknoller: Pres Obama sayd \"I cannot wait\" for the \"big important debate\" we are going to have on these issues.\n",
            "Eng:  RT @markknoller: Pres Obama sayd \"I cannot wait\" for the \"big important debate\" we are going to have on these issues.\n",
            "czech:  RT @robertcobrien: Obama: .@USNavy won't get 345 ships called for in QDR; not 313 min necessary 4 missions; but less than 300 ships! http://t.co/CQpMvkDJ\n",
            "Eng:  RT @robertcobrien: Obama: .@USNavy won't get 345 ships called for in QDR; not 313 min necessary 4 missions; but less than 300 ships! http://t.co/CQpMvkDJ\n",
            "czech:  PolitiFact | Obama says Republicans in Congress won't name one tax exemption they want to repeal http://t.co/HdJiGiMe via @politifact\n",
            "Eng:  PolitiFact | Obama says Republicans in Congress won't name one tax exemption they want to repeal http://t.co/HdJiGiMe via @politifact\n",
            "czech:  Tanner: yeah\n",
            "Eng:  Tanner: yeah\n",
            "czech:  RT @pourmecoffee: White House Easter Egg Roll is Monday. Obama redistributing eggs. #socialism\n",
            "Eng:  RT @pourmecoffee: White House Easter Egg Roll is Monday. Obama redistributing eggs. #socialism\n",
            "czech:  RT @MrPartisan: #WhatsRomneyHiding How he told AIPAC he'd \"have Israel's back\" in dealing with Iran, then backtracked. No, wait. That was Obama.\n",
            "Eng:  RT @MrPartisan: #WhatsRomneyHiding How he told AIPAC he'd \"have Israel's back\" in dealing with Iran, then backtracked. No, wait. That was Obama.\n",
            "czech:  RT @handrewschwartz: Ignatius reports Obama signaled Iran US wld accept civ nuke pgm if Khameni can assure Iran will never get nuke weapons http://t.co/KkaAhGPq\n",
            "Eng:  RT @handrewschwartz: Ignatius reports Obama signaled Iran US wld accept civ nuke pgm if Khameni can assure Iran will never get nuke weapons http://t.co/KkaAhGPq\n",
            "czech:  RT @ohgirlphrase: American kid \"You're from the UK? Ohhh cool, So do you have tea with the Queen?\". British kid: \"Do you like, go to Mcdonalds with Obama?\n",
            "Eng:  RT @ohgirlphrase: American kid \"You're from the UK? Ohhh cool, So do you have tea with the Queen?\". British kid: \"Do you like, go to Mcdonalds with Obama?\n",
            "czech:  RT @larryeldershow: Spike Lee said he dislikes black-white couples, gives them \"visual daggers\". Yo, Spike, if you got your way, Obama wouldn't exist.\n",
            "Eng:  RT @larryeldershow: Spike Lee said he dislikes black-white couples, gives them \"visual daggers\". Yo, Spike, if you got your way, Obama wouldn't exist.\n",
            "czech:  Sanctioning Iran to Influence Israel\n",
            "Eng:  Sanctioning Iran to Influence Israel\n",
            "czech:  RT @DrewMTips: #WhatsRomneyHiding His plan to sell out US missile defense to Russia after the election. Nope, sorry, that's Obama again.\n",
            "Eng:  RT @DrewMTips: #WhatsRomneyHiding His plan to sell out US missile defense to Russia after the election. Nope, sorry, that's Obama again.\n",
            "czech:  THIS is what the gun sale surge was for when Obama was elected. #thinkaboutit\n",
            "Eng:  THIS is what the gun sale surge was for when Obama was elected. #thinkaboutit\n",
            "czech:  #KimKardashiansNextBoyFriend Obama\n",
            "Eng:  #KimKardashiansNextBoyFriend Obama\n",
            "czech:  RT @Our4thEstate: @edshow The President of the United States, Barack Obama, is all that stands between the rights of the 99% & the Party of Koch & Norquist.\n",
            "Eng:  RT @Our4thEstate: @edshow The President of the United States, Barack Obama, is all that stands between the rights of the 99% & the Party of Koch & Norquist.\n",
            "czech:  Obama has called the GOP budget social Darwinism. Nice try, but they believe in social creationism.\n",
            "Eng:  Obama has called the GOP budget social Darwinism. Nice try, but they believe in social creationism.\n",
            "czech:  RT @ohgirlphrase: American kid \"You're from the UK? Ohhh cool, So do you have tea with the Queen?\". British kid: \"Do you like, go to Mcdonalds with Obama?\n",
            "Eng:  RT @ohgirlphrase: American kid \"You're from the UK? Ohhh cool, So do you have tea with the Queen?\". British kid: \"Do you like, go to Mcdonalds with Obama?\n",
            "czech:  President Obama * Lindsay Lohan * USA Intel public scams * Press 2007 pissed off Analyt64  = DC courier type magnet on USA White House.\n",
            "Eng:  President Obama * Lindsay Lohan * USA Intel public scams * Press 2007 pissed off Analyt64  = DC courier type magnet on USA White House.\n",
            "czech:  RT @markknoller: Pres Obama sayd \"I cannot wait\" for the \"big important debate\" we are going to have on these issues.\n",
            "Eng:  RT @markknoller: Pres Obama sayd \"I cannot wait\" for the \"big important debate\" we are going to have on these issues.\n",
            "czech:  Take any #poll of adults & registered #voters w grain of salt. Skew #Dem. Likely voters best gauge of any election http://t.co/sVTTAKbW #GOP\n",
            "Eng:  Take any #poll of adults & registered #voters w grain of salt. Skew #Dem. Likely voters best gauge of any election http://t.co/sVTTAKbW #GOP\n",
            "czech:  I love President Obama @BarackObama\n",
            "Eng:  I love President Obama @BarackObama\n",
            "czech:  @YungdashK Myslím, že jste narazili docela sami, abyste si mysleli, že si lidé od vás musí vydělat. Nejste sladké tváře Baracka Obamy\n",
            "Eng:  @YungdashK Myslím, že jste narazili docela sami, abyste si mysleli, že si lidé od vás musí vydělat. Nejste sladké tváře Baracka Obamy\n",
            "czech:  RT @LauraFlyMe: \"Barry Soetoro a.k.a. Barack Obama Exposed Finally: http://t.co/Hl52R0AN via @youtube\n",
            "Eng:  RT @LauraFlyMe: \"Barry Soetoro a.k.a. Barack Obama Exposed Finally: http://t.co/Hl52R0AN via @youtube\n",
            "czech:  En el backstage de los KCA's, Harry le pregunto a Michelle Obama como hacia para ordenar pizza desde la Casa Blanca.\n",
            "Eng:  En el backstage de los KCA's, Harry le pregunto a Michelle Obama como hacia para ordenar pizza desde la Casa Blanca.\n",
            "czech:  RT @markknoller: AT a campaign fundraiser tonight, Pres. Obama again denounced Mitt Romney by name for his support of the House-passed GOP Budget.\n",
            "Eng:  RT @markknoller: AT a campaign fundraiser tonight, Pres. Obama again denounced Mitt Romney by name for his support of the House-passed GOP Budget.\n",
            "(200, 2)\n"
          ],
          "name": "stdout"
        }
      ]
    },
    {
      "cell_type": "code",
      "metadata": {
        "colab": {
          "base_uri": "https://localhost:8080/",
          "height": 204
        },
        "id": "vEA9UDc5HSoF",
        "outputId": "8df30d2b-f204-46f4-d961-4d8f15bf720d"
      },
      "source": [
        "tweet_data_1 = pd.concat([train,tweet_swap,tweet_delete,tweet_translated]).reset_index().drop(columns=['index'])\n",
        "tweet_data_1.head()"
      ],
      "execution_count": 19,
      "outputs": [
        {
          "output_type": "execute_result",
          "data": {
            "text/html": [
              "<div>\n",
              "<style scoped>\n",
              "    .dataframe tbody tr th:only-of-type {\n",
              "        vertical-align: middle;\n",
              "    }\n",
              "\n",
              "    .dataframe tbody tr th {\n",
              "        vertical-align: top;\n",
              "    }\n",
              "\n",
              "    .dataframe thead th {\n",
              "        text-align: right;\n",
              "    }\n",
              "</style>\n",
              "<table border=\"1\" class=\"dataframe\">\n",
              "  <thead>\n",
              "    <tr style=\"text-align: right;\">\n",
              "      <th></th>\n",
              "      <th>tweets</th>\n",
              "      <th>labels</th>\n",
              "    </tr>\n",
              "  </thead>\n",
              "  <tbody>\n",
              "    <tr>\n",
              "      <th>0</th>\n",
              "      <td>RT @markknoller: Obama Campaign says Romney sh...</td>\n",
              "      <td>1</td>\n",
              "    </tr>\n",
              "    <tr>\n",
              "      <th>1</th>\n",
              "      <td>Top Secret Obama 2012 World War 3 Illuminati A...</td>\n",
              "      <td>0</td>\n",
              "    </tr>\n",
              "    <tr>\n",
              "      <th>2</th>\n",
              "      <td>RT @JeffersonObama: Arianna Huffington blastin...</td>\n",
              "      <td>1</td>\n",
              "    </tr>\n",
              "    <tr>\n",
              "      <th>3</th>\n",
              "      <td>@ExtremeLiberal obama is the best choice by fa...</td>\n",
              "      <td>0</td>\n",
              "    </tr>\n",
              "    <tr>\n",
              "      <th>4</th>\n",
              "      <td>@AnitaMarks @barackobama @mittromney really? I...</td>\n",
              "      <td>0</td>\n",
              "    </tr>\n",
              "  </tbody>\n",
              "</table>\n",
              "</div>"
            ],
            "text/plain": [
              "                                              tweets  labels\n",
              "0  RT @markknoller: Obama Campaign says Romney sh...       1\n",
              "1  Top Secret Obama 2012 World War 3 Illuminati A...       0\n",
              "2  RT @JeffersonObama: Arianna Huffington blastin...       1\n",
              "3  @ExtremeLiberal obama is the best choice by fa...       0\n",
              "4  @AnitaMarks @barackobama @mittromney really? I...       0"
            ]
          },
          "metadata": {
            "tags": []
          },
          "execution_count": 19
        }
      ]
    },
    {
      "cell_type": "code",
      "metadata": {
        "colab": {
          "base_uri": "https://localhost:8080/"
        },
        "id": "H3m5BZeCd7vm",
        "outputId": "2dd7622f-43dd-4a85-aa46-dfeb32669416"
      },
      "source": [
        "tweet_data_1.labels.value_counts()"
      ],
      "execution_count": 20,
      "outputs": [
        {
          "output_type": "execute_result",
          "data": {
            "text/plain": [
              "0    2086\n",
              "1     788\n",
              "2     188\n",
              "Name: labels, dtype: int64"
            ]
          },
          "metadata": {
            "tags": []
          },
          "execution_count": 20
        }
      ]
    },
    {
      "cell_type": "code",
      "metadata": {
        "colab": {
          "base_uri": "https://localhost:8080/",
          "height": 204
        },
        "id": "cA_t0QyWeBFo",
        "outputId": "16c9dfbf-ad28-44e2-9b03-5a6a4e31261c"
      },
      "source": [
        "new_tweet_delete_1 = tweet_data_1[tweet_data_1.labels==1].reset_index().drop(columns=['index'])\n",
        "new_tweet_delete_2 = tweet_data_1[tweet_data_1.labels==2].reset_index().drop(columns=['index'])\n",
        "new_tweet_delete = pd.concat([new_tweet_delete_1,new_tweet_delete_2]).reset_index().drop(columns=['index'])\n",
        "new_tweet_delete.head()"
      ],
      "execution_count": 21,
      "outputs": [
        {
          "output_type": "execute_result",
          "data": {
            "text/html": [
              "<div>\n",
              "<style scoped>\n",
              "    .dataframe tbody tr th:only-of-type {\n",
              "        vertical-align: middle;\n",
              "    }\n",
              "\n",
              "    .dataframe tbody tr th {\n",
              "        vertical-align: top;\n",
              "    }\n",
              "\n",
              "    .dataframe thead th {\n",
              "        text-align: right;\n",
              "    }\n",
              "</style>\n",
              "<table border=\"1\" class=\"dataframe\">\n",
              "  <thead>\n",
              "    <tr style=\"text-align: right;\">\n",
              "      <th></th>\n",
              "      <th>tweets</th>\n",
              "      <th>labels</th>\n",
              "    </tr>\n",
              "  </thead>\n",
              "  <tbody>\n",
              "    <tr>\n",
              "      <th>0</th>\n",
              "      <td>RT @markknoller: Obama Campaign says Romney sh...</td>\n",
              "      <td>1</td>\n",
              "    </tr>\n",
              "    <tr>\n",
              "      <th>1</th>\n",
              "      <td>RT @JeffersonObama: Arianna Huffington blastin...</td>\n",
              "      <td>1</td>\n",
              "    </tr>\n",
              "    <tr>\n",
              "      <th>2</th>\n",
              "      <td>#whatsObamahiding Kryptonite for the Grand Old...</td>\n",
              "      <td>1</td>\n",
              "    </tr>\n",
              "    <tr>\n",
              "      <th>3</th>\n",
              "      <td>RT @JeffersonObama: 62% of U.S. Jews would ree...</td>\n",
              "      <td>1</td>\n",
              "    </tr>\n",
              "    <tr>\n",
              "      <th>4</th>\n",
              "      <td>Saul says Pres Obama \"will do anything\" to dis...</td>\n",
              "      <td>1</td>\n",
              "    </tr>\n",
              "  </tbody>\n",
              "</table>\n",
              "</div>"
            ],
            "text/plain": [
              "                                              tweets  labels\n",
              "0  RT @markknoller: Obama Campaign says Romney sh...       1\n",
              "1  RT @JeffersonObama: Arianna Huffington blastin...       1\n",
              "2  #whatsObamahiding Kryptonite for the Grand Old...       1\n",
              "3  RT @JeffersonObama: 62% of U.S. Jews would ree...       1\n",
              "4  Saul says Pres Obama \"will do anything\" to dis...       1"
            ]
          },
          "metadata": {
            "tags": []
          },
          "execution_count": 21
        }
      ]
    },
    {
      "cell_type": "code",
      "metadata": {
        "colab": {
          "base_uri": "https://localhost:8080/",
          "height": 289
        },
        "id": "rwk2jrxlh_Vo",
        "outputId": "e847abca-fecd-4823-c838-cebfca476694"
      },
      "source": [
        "new_tweet_delete = delete(new_tweet_delete)\n",
        "new_tweet_delete = swap(new_tweet_delete)\n",
        "new_tweet_delete.head()"
      ],
      "execution_count": 22,
      "outputs": [
        {
          "output_type": "stream",
          "text": [
            "/usr/local/lib/python3.7/dist-packages/ipykernel_launcher.py:7: SettingWithCopyWarning: \n",
            "A value is trying to be set on a copy of a slice from a DataFrame\n",
            "\n",
            "See the caveats in the documentation: https://pandas.pydata.org/pandas-docs/stable/user_guide/indexing.html#returning-a-view-versus-a-copy\n",
            "  import sys\n"
          ],
          "name": "stderr"
        },
        {
          "output_type": "execute_result",
          "data": {
            "text/html": [
              "<div>\n",
              "<style scoped>\n",
              "    .dataframe tbody tr th:only-of-type {\n",
              "        vertical-align: middle;\n",
              "    }\n",
              "\n",
              "    .dataframe tbody tr th {\n",
              "        vertical-align: top;\n",
              "    }\n",
              "\n",
              "    .dataframe thead th {\n",
              "        text-align: right;\n",
              "    }\n",
              "</style>\n",
              "<table border=\"1\" class=\"dataframe\">\n",
              "  <thead>\n",
              "    <tr style=\"text-align: right;\">\n",
              "      <th></th>\n",
              "      <th>tweets</th>\n",
              "      <th>labels</th>\n",
              "    </tr>\n",
              "  </thead>\n",
              "  <tbody>\n",
              "    <tr>\n",
              "      <th>0</th>\n",
              "      <td>RT @markknoller: public assess years Romney sh...</td>\n",
              "      <td>1</td>\n",
              "    </tr>\n",
              "    <tr>\n",
              "      <th>1</th>\n",
              "      <td>RT @JeffersonObama: Arianna Huffington explain...</td>\n",
              "      <td>1</td>\n",
              "    </tr>\n",
              "    <tr>\n",
              "      <th>2</th>\n",
              "      <td>2012 Kryptonite for Old Grand Party! Obama #wh...</td>\n",
              "      <td>1</td>\n",
              "    </tr>\n",
              "    <tr>\n",
              "      <th>3</th>\n",
              "      <td>RT Obama, would of U.S. Jews 4% reelect @Jeffe...</td>\n",
              "      <td>1</td>\n",
              "    </tr>\n",
              "    <tr>\n",
              "      <th>4</th>\n",
              "      <td>Saul says Obama from \"will do anything\" to dis...</td>\n",
              "      <td>1</td>\n",
              "    </tr>\n",
              "  </tbody>\n",
              "</table>\n",
              "</div>"
            ],
            "text/plain": [
              "                                              tweets  labels\n",
              "0  RT @markknoller: public assess years Romney sh...       1\n",
              "1  RT @JeffersonObama: Arianna Huffington explain...       1\n",
              "2  2012 Kryptonite for Old Grand Party! Obama #wh...       1\n",
              "3  RT Obama, would of U.S. Jews 4% reelect @Jeffe...       1\n",
              "4  Saul says Obama from \"will do anything\" to dis...       1"
            ]
          },
          "metadata": {
            "tags": []
          },
          "execution_count": 22
        }
      ]
    },
    {
      "cell_type": "code",
      "metadata": {
        "colab": {
          "base_uri": "https://localhost:8080/"
        },
        "id": "ZCkOu06fktIr",
        "outputId": "ffe1d874-46df-4573-b243-a22661efcd31"
      },
      "source": [
        "tweet_data = pd.concat([tweet_data_1,new_tweet_delete]).reset_index().drop(columns=['index'])\n",
        "print(tweet_data.head())\n",
        "print(tweet_data.shape)\n",
        "print(tweet_data.labels.value_counts())"
      ],
      "execution_count": 23,
      "outputs": [
        {
          "output_type": "stream",
          "text": [
            "                                              tweets  labels\n",
            "0  RT @markknoller: Obama Campaign says Romney sh...       1\n",
            "1  Top Secret Obama 2012 World War 3 Illuminati A...       0\n",
            "2  RT @JeffersonObama: Arianna Huffington blastin...       1\n",
            "3  @ExtremeLiberal obama is the best choice by fa...       0\n",
            "4  @AnitaMarks @barackobama @mittromney really? I...       0\n",
            "(4038, 2)\n",
            "0    2086\n",
            "1    1576\n",
            "2     376\n",
            "Name: labels, dtype: int64\n"
          ],
          "name": "stdout"
        }
      ]
    },
    {
      "cell_type": "code",
      "metadata": {
        "colab": {
          "base_uri": "https://localhost:8080/"
        },
        "id": "1hxgIXGdRs88",
        "outputId": "0e7295dd-6b33-4f45-d5a5-3b17315384a8"
      },
      "source": [
        "import random\n",
        "import torch, torchtext\n",
        "from torchtext import data\n",
        "SEED = 43\n",
        "torch.manual_seed(SEED)"
      ],
      "execution_count": 24,
      "outputs": [
        {
          "output_type": "execute_result",
          "data": {
            "text/plain": [
              "<torch._C.Generator at 0x7f8482715f90>"
            ]
          },
          "metadata": {
            "tags": []
          },
          "execution_count": 24
        }
      ]
    },
    {
      "cell_type": "code",
      "metadata": {
        "id": "apwYwtGbTTJa"
      },
      "source": [
        "Tweet = torchtext.legacy.data.Field(sequential = True, tokenize = 'spacy', batch_first =True, include_lengths=True)\n",
        "Label = torchtext.legacy.data.LabelField(tokenize ='spacy', is_target=True, batch_first =True, sequential =False)"
      ],
      "execution_count": 25,
      "outputs": []
    },
    {
      "cell_type": "code",
      "metadata": {
        "id": "qYZSUFdGTVMB"
      },
      "source": [
        "fields = [('tweet', Tweet), ('label', Label)]"
      ],
      "execution_count": 26,
      "outputs": []
    },
    {
      "cell_type": "code",
      "metadata": {
        "id": "t0RPRpK8TY5w"
      },
      "source": [
        "example = [torchtext.legacy.data.Example.fromlist([tweet_data.tweets[i],tweet_data.labels[i]], fields) for i in range(tweet_data.shape[0])] "
      ],
      "execution_count": 27,
      "outputs": []
    },
    {
      "cell_type": "code",
      "metadata": {
        "id": "rvGrgAf-TjtK"
      },
      "source": [
        "twitterDataset = torchtext.legacy.data.Dataset(example, fields)"
      ],
      "execution_count": 28,
      "outputs": []
    },
    {
      "cell_type": "code",
      "metadata": {
        "id": "UucaDg2sTnJZ"
      },
      "source": [
        "train_data = twitterDataset"
      ],
      "execution_count": 29,
      "outputs": []
    },
    {
      "cell_type": "code",
      "metadata": {
        "colab": {
          "base_uri": "https://localhost:8080/"
        },
        "id": "6Q0ow0e7nsoq",
        "outputId": "fe59cbf4-8af5-4492-f9be-aeb39dc48be4"
      },
      "source": [
        "print(valid.shape)\n",
        "print(valid.head())"
      ],
      "execution_count": 30,
      "outputs": [
        {
          "output_type": "stream",
          "text": [
            "(410, 2)\n",
            "                                              tweets  labels\n",
            "0  RT @Our4thEstate: @edshow The President of the...       1\n",
            "1  RT @ohgirlphrase: American kid \"You're from th...       0\n",
            "2  Yes #WHFail RT @jltho: This #WhatsRomneyHiding...       1\n",
            "3  @PAC43 Thats the problem...there is no clean e...       2\n",
            "4  RT @ohgirlphrase: American kid \"You're from th...       0\n"
          ],
          "name": "stdout"
        }
      ]
    },
    {
      "cell_type": "code",
      "metadata": {
        "id": "ydex-0Uhlsf9"
      },
      "source": [
        "example_1 = [torchtext.legacy.data.Example.fromlist([valid.tweets[i],valid.labels[i]], fields) for i in range(valid.shape[0])] "
      ],
      "execution_count": 31,
      "outputs": []
    },
    {
      "cell_type": "code",
      "metadata": {
        "id": "VmJeq8Ynl4Gz"
      },
      "source": [
        "validDataset = torchtext.legacy.data.Dataset(example_1, fields)"
      ],
      "execution_count": 33,
      "outputs": []
    },
    {
      "cell_type": "code",
      "metadata": {
        "id": "6sB-ZkR3q_et"
      },
      "source": [
        "valid = validDataset"
      ],
      "execution_count": 34,
      "outputs": []
    },
    {
      "cell_type": "code",
      "metadata": {
        "colab": {
          "base_uri": "https://localhost:8080/"
        },
        "id": "eA_tjWoeTxSG",
        "outputId": "60597185-4e4b-4928-b907-7b98540b80af"
      },
      "source": [
        "len(train_data), len(valid)"
      ],
      "execution_count": 35,
      "outputs": [
        {
          "output_type": "execute_result",
          "data": {
            "text/plain": [
              "(4038, 410)"
            ]
          },
          "metadata": {
            "tags": []
          },
          "execution_count": 35
        }
      ]
    },
    {
      "cell_type": "code",
      "metadata": {
        "colab": {
          "base_uri": "https://localhost:8080/"
        },
        "id": "qgK4Qo2-F1yA",
        "outputId": "d402b598-c1ec-455d-bc78-7031ec60de3f"
      },
      "source": [
        "vars(twitterDataset.examples[0])"
      ],
      "execution_count": 36,
      "outputs": [
        {
          "output_type": "execute_result",
          "data": {
            "text/plain": [
              "{'label': 1,\n",
              " 'tweet': ['RT',\n",
              "  '@markknoller',\n",
              "  ':',\n",
              "  'Obama',\n",
              "  'Campaign',\n",
              "  'says',\n",
              "  'Romney',\n",
              "  'should',\n",
              "  'make',\n",
              "  'public',\n",
              "  '23',\n",
              "  'years',\n",
              "  'of',\n",
              "  'tax',\n",
              "  'returns',\n",
              "  'so',\n",
              "  'Americans',\n",
              "  'can',\n",
              "  'assess',\n",
              "  'any',\n",
              "  'conflicts',\n",
              "  'of',\n",
              "  'interest',\n",
              "  '.']}"
            ]
          },
          "metadata": {
            "tags": []
          },
          "execution_count": 36
        }
      ]
    },
    {
      "cell_type": "code",
      "metadata": {
        "id": "A15FtRYpHbGA"
      },
      "source": [
        "Tweet.build_vocab(train_data)\n",
        "Label.build_vocab(train_data)"
      ],
      "execution_count": 37,
      "outputs": []
    },
    {
      "cell_type": "code",
      "metadata": {
        "colab": {
          "base_uri": "https://localhost:8080/"
        },
        "id": "K-kW8cFGIVs4",
        "outputId": "9af6a61c-94a1-4e51-9f87-b716c93e8868"
      },
      "source": [
        "print('Size of input vocab : ', len(Tweet.vocab))\n",
        "print('Size of label vocab : ', len(Label.vocab))\n",
        "print('Top 10 words appreared repeatedly :', list(Tweet.vocab.freqs.most_common(10)))\n",
        "print('Labels : ', Label.vocab.stoi)"
      ],
      "execution_count": 38,
      "outputs": [
        {
          "output_type": "stream",
          "text": [
            "Size of input vocab :  5420\n",
            "Size of label vocab :  3\n",
            "Top 10 words appreared repeatedly : [('Obama', 3522), ('.', 2780), ('#', 2683), (':', 2612), (',', 1989), ('the', 1827), ('RT', 1774), ('\"', 1668), ('to', 1286), ('?', 1111)]\n",
            "Labels :  defaultdict(None, {0: 0, 1: 1, 2: 2})\n"
          ],
          "name": "stdout"
        }
      ]
    },
    {
      "cell_type": "code",
      "metadata": {
        "id": "5yRABmGUI29v"
      },
      "source": [
        "device = torch.device(\"cuda\" if torch.cuda.is_available() else \"cpu\")"
      ],
      "execution_count": 39,
      "outputs": []
    },
    {
      "cell_type": "code",
      "metadata": {
        "id": "zk38rlxOJAm7"
      },
      "source": [
        "train_iterator, valid_iterator = torchtext.legacy.data.BucketIterator.splits((train_data, valid), batch_size = 64, \n",
        "                                                            sort_key = lambda x: len(x.tweet),\n",
        "                                                            sort_within_batch=True, device = device)"
      ],
      "execution_count": 40,
      "outputs": []
    },
    {
      "cell_type": "code",
      "metadata": {
        "id": "gJFYU6cAJaN6"
      },
      "source": [
        "import os, pickle\n",
        "with open('tokenizer.pkl', 'wb') as tokens: \n",
        "    pickle.dump(Tweet.vocab.stoi, tokens)"
      ],
      "execution_count": 41,
      "outputs": []
    },
    {
      "cell_type": "code",
      "metadata": {
        "colab": {
          "base_uri": "https://localhost:8080/"
        },
        "id": "pj9q1XWcNwHy",
        "outputId": "a1b5ca58-0709-4795-a467-620eae484034"
      },
      "source": [
        "# Define hyperparameters\n",
        "size_of_vocab = len(Tweet.vocab)\n",
        "embedding_dim = 300\n",
        "num_hidden_nodes = 100\n",
        "num_output_nodes = 3\n",
        "num_layers = 1\n",
        "dropout = 0.4\n",
        "\n",
        "# Instantiate the model\n",
        "enc = encoders(size_of_vocab, embedding_dim, num_hidden_nodes, num_layers, dropout = dropout)\n",
        "dec = decoders(num_hidden_nodes,num_hidden_nodes,3)\n",
        "\n",
        "model = classifier(enc,dec,num_hidden_nodes,num_output_nodes).to(device)"
      ],
      "execution_count": 49,
      "outputs": [
        {
          "output_type": "stream",
          "text": [
            "/usr/local/lib/python3.7/dist-packages/torch/nn/modules/rnn.py:63: UserWarning: dropout option adds dropout after all but last recurrent layer, so non-zero dropout expects num_layers greater than 1, but got dropout=0.4 and num_layers=1\n",
            "  \"num_layers={}\".format(dropout, num_layers))\n"
          ],
          "name": "stderr"
        }
      ]
    },
    {
      "cell_type": "code",
      "metadata": {
        "colab": {
          "base_uri": "https://localhost:8080/"
        },
        "id": "p9BEJoIgOG4W",
        "outputId": "30eb227c-120f-498d-f6c6-49325c74027b"
      },
      "source": [
        "print(model)\n",
        "\n",
        "#No. of trianable parameters\n",
        "def count_parameters(model):\n",
        "    return sum(p.numel() for p in model.parameters() if p.requires_grad)\n",
        "    \n",
        "print(f'The model has {count_parameters(model):,} trainable parameters')"
      ],
      "execution_count": 50,
      "outputs": [
        {
          "output_type": "stream",
          "text": [
            "classifier(\n",
            "  (encoder): encoders(\n",
            "    (embedding): Embedding(5420, 300)\n",
            "    (encoder): LSTM(300, 100, batch_first=True, dropout=0.4)\n",
            "  )\n",
            "  (decoder): decoders(\n",
            "    (decoder_single_rnn_cell): LSTMCell(100, 100)\n",
            "  )\n",
            "  (fc): Linear(in_features=100, out_features=3, bias=True)\n",
            ")\n",
            "The model has 1,867,903 trainable parameters\n"
          ],
          "name": "stdout"
        }
      ]
    },
    {
      "cell_type": "code",
      "metadata": {
        "id": "1LUXLZIVOPKG"
      },
      "source": [
        "import torch.optim as optim\n",
        "\n",
        "# define optimizer and loss\n",
        "optimizer = optim.Adam(model.parameters(), lr=2e-4)\n",
        "criterion = nn.CrossEntropyLoss()\n",
        "\n",
        "# define metric\n",
        "def binary_accuracy(preds, y):\n",
        "    #round predictions to the closest integer\n",
        "    _, predictions = torch.max(preds, 1)\n",
        "    \n",
        "    correct = (predictions == y).float() \n",
        "    acc = correct.sum() / len(correct)\n",
        "    return acc\n",
        "    \n",
        "# push to cuda if available\n",
        "model = model.to(device)\n",
        "criterion = criterion.to(device)"
      ],
      "execution_count": 51,
      "outputs": []
    },
    {
      "cell_type": "code",
      "metadata": {
        "id": "RtV0AFllOc1S"
      },
      "source": [
        "def train(model, iterator, optimizer, criterion):\n",
        "    \n",
        "    # initialize every epoch \n",
        "    epoch_loss = 0\n",
        "    epoch_acc = 0\n",
        "    \n",
        "    # set the model in training phase\n",
        "    model.train()  \n",
        "    \n",
        "    for batch in iterator:\n",
        "        \n",
        "        # resets the gradients after every batch\n",
        "        optimizer.zero_grad()   \n",
        "        \n",
        "        # retrieve text and no. of words\n",
        "        tweet, tweet_lengths = batch.tweet  \n",
        "        \n",
        "        # convert to 1D tensor\n",
        "        predictions = model(tweet, tweet_lengths).squeeze()  \n",
        "        \n",
        "        # compute the loss\n",
        "        loss = criterion(predictions, batch.label)        \n",
        "        \n",
        "        # compute the binary accuracy\n",
        "        acc = binary_accuracy(predictions, batch.label)   \n",
        "        \n",
        "        # backpropage the loss and compute the gradients\n",
        "        loss.backward()       \n",
        "        \n",
        "        # update the weights\n",
        "        optimizer.step()      \n",
        "        \n",
        "        # loss and accuracy\n",
        "        epoch_loss += loss.item()  \n",
        "        epoch_acc += acc.item()    \n",
        "        \n",
        "    return epoch_loss / len(iterator), epoch_acc / len(iterator)"
      ],
      "execution_count": 45,
      "outputs": []
    },
    {
      "cell_type": "code",
      "metadata": {
        "id": "BuQPSX3LPEBA"
      },
      "source": [
        "def evaluate(model, iterator, criterion):\n",
        "    \n",
        "    # initialize every epoch\n",
        "    epoch_loss = 0\n",
        "    epoch_acc = 0\n",
        "\n",
        "    # deactivating dropout layers\n",
        "    model.eval()\n",
        "    \n",
        "    # deactivates autograd\n",
        "    with torch.no_grad():\n",
        "    \n",
        "        for batch in iterator:\n",
        "        \n",
        "            # retrieve text and no. of words\n",
        "            tweet, tweet_lengths = batch.tweet\n",
        "            \n",
        "            # convert to 1d tensor\n",
        "            predictions = model(tweet, tweet_lengths).squeeze()\n",
        "            \n",
        "            # compute loss and accuracy\n",
        "            loss = criterion(predictions, batch.label)\n",
        "            acc = binary_accuracy(predictions, batch.label)\n",
        "            \n",
        "            # keep track of loss and accuracy\n",
        "            epoch_loss += loss.item()\n",
        "            epoch_acc += acc.item()\n",
        "        \n",
        "    return epoch_loss / len(iterator), epoch_acc / len(iterator)"
      ],
      "execution_count": 46,
      "outputs": []
    },
    {
      "cell_type": "code",
      "metadata": {
        "colab": {
          "base_uri": "https://localhost:8080/"
        },
        "id": "kzKZXmUdTDo-",
        "outputId": "f32edbca-8a73-4b2b-fbf6-8442f313aee4"
      },
      "source": [
        "N_EPOCHS = 10\n",
        "best_valid_loss = float('inf')\n",
        "\n",
        "for epoch in range(N_EPOCHS):\n",
        "     \n",
        "    # train the model\n",
        "    train_loss, train_acc = train(model, train_iterator, optimizer, criterion)\n",
        "    \n",
        "    # evaluate the model\n",
        "    valid_loss, valid_acc = evaluate(model, valid_iterator, criterion)\n",
        "    \n",
        "    # save the best model\n",
        "    if valid_loss < best_valid_loss:\n",
        "        best_valid_loss = valid_loss\n",
        "        torch.save(model.state_dict(), 'saved_weights.pt')\n",
        "    \n",
        "    print(f'\\tTrain Loss: {train_loss:.3f} | Train Acc: {train_acc*100:.2f}%')\n",
        "    print(f'\\t Val. Loss: {valid_loss:.3f} |  Val. Acc: {valid_acc*100:.2f}% \\n')"
      ],
      "execution_count": 52,
      "outputs": [
        {
          "output_type": "stream",
          "text": [
            "\tTrain Loss: 1.072 | Train Acc: 55.04%\n",
            "\t Val. Loss: 1.019 |  Val. Acc: 73.88% \n",
            "\n",
            "\tTrain Loss: 0.996 | Train Acc: 59.99%\n",
            "\t Val. Loss: 0.854 |  Val. Acc: 76.12% \n",
            "\n",
            "\tTrain Loss: 0.899 | Train Acc: 66.41%\n",
            "\t Val. Loss: 0.815 |  Val. Acc: 73.44% \n",
            "\n",
            "\tTrain Loss: 0.799 | Train Acc: 75.93%\n",
            "\t Val. Loss: 0.845 |  Val. Acc: 68.53% \n",
            "\n",
            "\tTrain Loss: 0.732 | Train Acc: 82.01%\n",
            "\t Val. Loss: 0.823 |  Val. Acc: 70.54% \n",
            "\n",
            "\tTrain Loss: 0.691 | Train Acc: 86.01%\n",
            "\t Val. Loss: 0.783 |  Val. Acc: 75.67% \n",
            "\n",
            "\tTrain Loss: 0.675 | Train Acc: 87.30%\n",
            "\t Val. Loss: 0.825 |  Val. Acc: 71.43% \n",
            "\n",
            "\tTrain Loss: 0.656 | Train Acc: 89.06%\n",
            "\t Val. Loss: 0.780 |  Val. Acc: 76.56% \n",
            "\n",
            "\tTrain Loss: 0.647 | Train Acc: 89.89%\n",
            "\t Val. Loss: 0.785 |  Val. Acc: 76.34% \n",
            "\n",
            "\tTrain Loss: 0.643 | Train Acc: 90.38%\n",
            "\t Val. Loss: 0.789 |  Val. Acc: 75.22% \n",
            "\n"
          ],
          "name": "stdout"
        }
      ]
    },
    {
      "cell_type": "code",
      "metadata": {
        "id": "5_5TRZ9lBFmX"
      },
      "source": [
        "#load weights and tokenizer\n",
        "\n",
        "path='./saved_weights.pt'\n",
        "model.load_state_dict(torch.load(path));\n",
        "model.eval();\n",
        "tokenizer_file = open('./tokenizer.pkl', 'rb')\n",
        "tokenizer = pickle.load(tokenizer_file)\n",
        "\n",
        "#inference \n",
        "\n",
        "import spacy\n",
        "nlp = spacy.load('en')\n",
        "\n",
        "def classify_tweet(tweet):\n",
        "    \n",
        "    categories = {0: \"Negative\", 1:\"Positive\", 2:\"Neutral\"}\n",
        "    \n",
        "    # tokenize the tweet \n",
        "    tokenized = [tok.text for tok in nlp.tokenizer(tweet)] \n",
        "    # convert to integer sequence using predefined tokenizer dictionary\n",
        "    indexed = [tokenizer[t] for t in tokenized]        \n",
        "    # compute no. of words        \n",
        "    length = [len(indexed)]\n",
        "    # convert to tensor                                    \n",
        "    tensor = torch.LongTensor(indexed).to(device)   \n",
        "    # reshape in form of batch, no. of words           \n",
        "    tensor = tensor.unsqueeze(1).T  \n",
        "    # convert to tensor                          \n",
        "    length_tensor = torch.LongTensor(length)\n",
        "    # Get the model prediction                  \n",
        "    prediction = model(tensor, length_tensor)\n",
        "\n",
        "    enc = encoders(size_of_vocab, embedding_dim, num_hidden_nodes, num_layers, dropout = dropout).to(device)\n",
        "    encoder_packed_outputs, encoder_final_hidden = enc(tensor,length_tensor)\n",
        "    print('Encoder LSTM output vector after each word: ')\n",
        "    for i in range(encoder_packed_outputs.data.shape[0]):\n",
        "      print('after',i+1, 'word')\n",
        "      print(encoder_packed_outputs.data[i])\n",
        "    print()\n",
        "    print('Encoder LSTM final hidden vector')\n",
        "    print(encoder_final_hidden)\n",
        "    print()\n",
        "    dec = decoders(num_hidden_nodes,num_hidden_nodes,3).to(device)\n",
        "    decoder_outputs, decoder_final_hidden = dec(encoder_final_hidden)\n",
        "    print('Decoder: ',decoder_outputs)\n",
        "    print('Final vector after FC layer')\n",
        "    print(prediction)\n",
        "    _, pred = torch.max(prediction, 1) \n",
        "    \n",
        "    return categories[pred.item()]"
      ],
      "execution_count": 55,
      "outputs": []
    },
    {
      "cell_type": "code",
      "metadata": {
        "colab": {
          "base_uri": "https://localhost:8080/",
          "height": 1000
        },
        "id": "WWrAD3eIDq2O",
        "outputId": "6a798369-ca7a-4fe7-a097-78fd5b2b1bf5"
      },
      "source": [
        "classify_tweet(\"I didn't like it.\")"
      ],
      "execution_count": 57,
      "outputs": [
        {
          "output_type": "stream",
          "text": [
            "Encoder LSTM output vector after each word: \n",
            "after 1 word\n",
            "tensor([ 3.3666e-01, -1.1060e-01,  1.4279e-01,  1.9930e-02,  9.4484e-02,\n",
            "         4.4644e-01, -2.4611e-01, -1.7161e-01, -2.7330e-01,  4.9464e-02,\n",
            "         2.5922e-01,  5.5827e-02,  1.2597e-01,  4.6192e-02,  4.5015e-03,\n",
            "        -8.1919e-02,  3.7158e-02, -3.1237e-02,  2.8741e-01,  6.7959e-02,\n",
            "        -1.2523e-01, -4.4651e-01,  2.1111e-01,  1.5342e-01, -2.4255e-01,\n",
            "         3.6058e-02,  2.7419e-02, -6.2437e-02,  5.6175e-02,  7.1488e-03,\n",
            "        -2.9687e-02, -2.6871e-02,  5.2023e-02, -2.3182e-01,  7.6664e-02,\n",
            "        -3.7827e-01,  4.4040e-02, -1.4775e-01,  1.1352e-01,  4.8270e-02,\n",
            "         2.3656e-02, -1.4615e-01, -7.3957e-02,  9.2659e-02,  4.1937e-05,\n",
            "         3.0000e-03,  2.4108e-04, -1.8857e-02, -3.3915e-01, -7.7533e-02,\n",
            "         2.1053e-03,  2.4549e-03,  1.7717e-02,  1.0689e-01,  7.8248e-03,\n",
            "        -1.4617e-01,  1.6179e-02, -4.7919e-02,  2.5926e-02, -1.0161e-01,\n",
            "        -6.9049e-02,  3.6792e-01,  1.5034e-01, -5.1396e-02, -8.8566e-02,\n",
            "         2.4957e-01,  1.0844e-02,  2.3884e-01, -1.7515e-01, -1.0444e-01,\n",
            "        -1.4494e-01,  3.0042e-02, -1.8443e-01, -9.0609e-02,  1.3161e-02,\n",
            "        -3.3015e-02,  1.4670e-01, -1.6118e-01,  4.4837e-01,  3.8184e-02,\n",
            "        -1.4525e-01, -1.0441e-01, -7.6025e-02, -1.1184e-01, -1.8584e-02,\n",
            "        -2.1834e-01, -4.1658e-02, -3.4857e-02, -5.6922e-02, -2.5961e-02,\n",
            "        -2.1431e-01,  1.3401e-01, -3.5050e-01,  7.4110e-02, -1.4001e-01,\n",
            "        -9.2997e-02,  6.2108e-02, -8.3995e-02,  1.8370e-01, -1.5952e-01],\n",
            "       device='cuda:0', grad_fn=<SelectBackward>)\n",
            "after 2 word\n",
            "tensor([ 0.1121, -0.2832, -0.2419,  0.0087, -0.0827,  0.3988, -0.0265, -0.0840,\n",
            "        -0.1305,  0.1213,  0.1439, -0.0108, -0.0194, -0.2527, -0.1917, -0.2112,\n",
            "        -0.0662,  0.0557, -0.0216,  0.3047, -0.1101, -0.1966,  0.2165,  0.1081,\n",
            "        -0.2328,  0.0323,  0.0193, -0.0294, -0.0952,  0.0115, -0.0098,  0.1644,\n",
            "         0.2371, -0.1700,  0.0768, -0.1221, -0.1175, -0.3885,  0.0083,  0.0224,\n",
            "        -0.1002, -0.3694,  0.0777, -0.0978,  0.1861,  0.4215, -0.1386, -0.1191,\n",
            "        -0.1090, -0.1507, -0.1584, -0.0328, -0.1613,  0.2731,  0.2827, -0.0131,\n",
            "        -0.1495, -0.2769, -0.0577, -0.3784,  0.1323,  0.0494,  0.0157,  0.0799,\n",
            "        -0.1239,  0.0951,  0.4401,  0.2477, -0.0595,  0.0548, -0.1434, -0.2769,\n",
            "        -0.2746,  0.0760, -0.1161, -0.1397,  0.2824, -0.0794,  0.1502,  0.1669,\n",
            "        -0.1638, -0.2985,  0.4816, -0.0526,  0.0963,  0.0026, -0.0828,  0.0323,\n",
            "         0.1673,  0.4068, -0.0462,  0.2973, -0.1730,  0.0153, -0.0213, -0.0682,\n",
            "         0.0980, -0.1854,  0.1193,  0.0289], device='cuda:0',\n",
            "       grad_fn=<SelectBackward>)\n",
            "after 3 word\n",
            "tensor([ 0.0180, -0.0459, -0.1290, -0.0566,  0.0313,  0.0468, -0.0169,  0.0582,\n",
            "         0.0149,  0.0582,  0.2255, -0.1976,  0.0308, -0.2558,  0.1403, -0.4391,\n",
            "        -0.0443,  0.1467, -0.0217,  0.1758, -0.1935, -0.0097,  0.0838,  0.2601,\n",
            "        -0.4075, -0.1386, -0.0741, -0.2790,  0.0382,  0.4916,  0.1820, -0.2172,\n",
            "         0.0870, -0.1843,  0.1350, -0.3924,  0.1154, -0.1155,  0.2974, -0.0071,\n",
            "        -0.1682, -0.0900,  0.1997, -0.1083,  0.1968,  0.0613, -0.2259, -0.0876,\n",
            "        -0.2769, -0.5252,  0.0820,  0.2765, -0.2754,  0.1187,  0.0600, -0.1242,\n",
            "        -0.0995,  0.0435, -0.0579, -0.1189, -0.2249,  0.1751,  0.1033, -0.0169,\n",
            "         0.2372,  0.1177,  0.1245,  0.0057,  0.2317, -0.1346, -0.1328, -0.0342,\n",
            "        -0.0013,  0.0657, -0.0978, -0.0553, -0.1633, -0.2522,  0.0278, -0.0038,\n",
            "         0.0305,  0.0164, -0.0517, -0.0253,  0.3601,  0.0403,  0.0198, -0.1945,\n",
            "         0.0078,  0.3026,  0.3821,  0.1045, -0.3897,  0.1444, -0.0657, -0.0511,\n",
            "         0.0477, -0.2244, -0.0165,  0.0329], device='cuda:0',\n",
            "       grad_fn=<SelectBackward>)\n",
            "after 4 word\n",
            "tensor([-0.0148, -0.1326,  0.0628, -0.0835, -0.2729,  0.1203, -0.1727,  0.1170,\n",
            "         0.0056, -0.1305,  0.4516, -0.0302, -0.0487, -0.1230, -0.0345, -0.0293,\n",
            "         0.1522,  0.1165, -0.0227,  0.0318, -0.0441, -0.0324,  0.4959,  0.0254,\n",
            "        -0.1793, -0.5649,  0.4295, -0.2718,  0.0478,  0.0650,  0.0888, -0.0460,\n",
            "         0.1650,  0.0073,  0.2909, -0.1585,  0.0731,  0.0710,  0.0724,  0.0350,\n",
            "        -0.1025,  0.0009, -0.1514,  0.0679,  0.1650,  0.1084, -0.3045,  0.0913,\n",
            "        -0.3523, -0.4048, -0.1088,  0.0135, -0.0401,  0.1217, -0.0994, -0.2727,\n",
            "        -0.1783,  0.3064, -0.2448, -0.0529, -0.0428,  0.2240,  0.2068,  0.0146,\n",
            "         0.1965,  0.4105,  0.1375,  0.0184,  0.2045, -0.1453, -0.3266, -0.1790,\n",
            "        -0.1076, -0.1123, -0.0423,  0.0611, -0.1203, -0.2683,  0.0981, -0.1776,\n",
            "         0.1056,  0.2974, -0.0837,  0.2225,  0.2384,  0.0798,  0.1512, -0.1577,\n",
            "        -0.2074,  0.1628,  0.1532, -0.0024, -0.4787,  0.0695,  0.0177, -0.4031,\n",
            "        -0.1149, -0.5635, -0.4296,  0.0783], device='cuda:0',\n",
            "       grad_fn=<SelectBackward>)\n",
            "after 5 word\n",
            "tensor([ 0.0805,  0.0538,  0.3482, -0.1301,  0.0616,  0.0894,  0.1193,  0.0721,\n",
            "         0.0194,  0.1114,  0.0979,  0.0394,  0.1036, -0.0371,  0.0052, -0.0351,\n",
            "         0.0854, -0.0574,  0.0199, -0.0134, -0.0378,  0.0156, -0.0880, -0.0231,\n",
            "        -0.1135,  0.0424,  0.1327, -0.0761,  0.1313,  0.1398,  0.1180,  0.0814,\n",
            "         0.0653, -0.0387,  0.0956, -0.2677,  0.0271,  0.1095, -0.2414, -0.0781,\n",
            "         0.0215,  0.0214,  0.0246,  0.2037,  0.2588,  0.5166,  0.0205,  0.3000,\n",
            "        -0.0059, -0.2284,  0.0619,  0.0571, -0.2099,  0.1996, -0.1115,  0.2774,\n",
            "        -0.0932, -0.0234,  0.3363,  0.0168, -0.1947, -0.0119,  0.1368,  0.0835,\n",
            "         0.0475,  0.4798,  0.1721, -0.1966, -0.2454, -0.1200, -0.0294,  0.2783,\n",
            "        -0.0523, -0.0296,  0.0872,  0.1036, -0.0588, -0.2112,  0.2224, -0.2837,\n",
            "         0.3602,  0.2230, -0.0877,  0.0101, -0.0069, -0.0388,  0.1697, -0.2595,\n",
            "        -0.0902,  0.0534,  0.0766,  0.0988, -0.1101, -0.2328, -0.0627, -0.3504,\n",
            "        -0.3349,  0.0612, -0.0859,  0.0935], device='cuda:0',\n",
            "       grad_fn=<SelectBackward>)\n",
            "after 6 word\n",
            "tensor([-2.3765e-01,  6.0762e-02,  1.6458e-01,  1.4612e-01, -2.7881e-02,\n",
            "        -8.0440e-02,  1.7792e-01, -1.5610e-01,  2.4000e-01,  8.5250e-02,\n",
            "        -1.2861e-01, -4.0589e-01, -1.1650e-01,  1.3120e-01,  1.5669e-01,\n",
            "         2.6729e-01,  7.0901e-02, -1.2359e-01, -1.2888e-01, -5.7525e-02,\n",
            "         1.3571e-02,  2.0105e-01, -1.8490e-01,  5.1649e-02, -4.8141e-01,\n",
            "         3.6103e-01,  2.5537e-01, -1.9080e-01,  2.6534e-04, -8.6304e-03,\n",
            "         1.7448e-03,  2.7085e-01,  4.1172e-02,  1.7020e-01,  1.3293e-01,\n",
            "        -1.2585e-01,  5.9839e-02, -3.0116e-02, -3.9701e-01, -6.6725e-02,\n",
            "        -9.0890e-02, -1.4122e-01, -2.2008e-01,  4.7471e-02,  8.0877e-02,\n",
            "        -7.4657e-03,  1.8479e-01,  2.3903e-01, -3.5251e-01, -1.1148e-01,\n",
            "        -4.2986e-02, -2.0446e-02,  8.3485e-02,  2.5350e-01,  1.3016e-01,\n",
            "        -6.2516e-02, -1.1301e-01,  5.8724e-02,  8.6036e-02,  4.9085e-02,\n",
            "        -1.4918e-01,  1.2330e-01,  5.0827e-02,  7.4364e-04, -1.6372e-02,\n",
            "         3.6649e-01, -9.0798e-03, -5.3674e-01, -1.0576e-01, -1.8815e-02,\n",
            "        -1.7332e-01, -1.3033e-01, -1.0174e-02,  1.1173e-01, -1.8992e-01,\n",
            "         2.2418e-01,  5.8168e-02, -4.5129e-02, -2.4466e-01, -2.6477e-01,\n",
            "        -1.1906e-02, -9.8164e-02, -8.2492e-02,  3.4140e-03,  2.7759e-03,\n",
            "        -2.8737e-02,  3.2844e-01,  4.1484e-03, -2.6332e-02,  9.4613e-03,\n",
            "         7.9007e-03,  1.3705e-01,  3.9097e-02, -2.3248e-01, -7.6254e-02,\n",
            "        -4.6025e-02, -2.9592e-02,  4.2015e-02,  3.5622e-02,  5.0949e-02],\n",
            "       device='cuda:0', grad_fn=<SelectBackward>)\n",
            "\n",
            "Encoder LSTM final hidden vector\n",
            "tensor([[[-2.3765e-01,  6.0762e-02,  1.6458e-01,  1.4612e-01, -2.7881e-02,\n",
            "          -8.0440e-02,  1.7792e-01, -1.5610e-01,  2.4000e-01,  8.5250e-02,\n",
            "          -1.2861e-01, -4.0589e-01, -1.1650e-01,  1.3120e-01,  1.5669e-01,\n",
            "           2.6729e-01,  7.0901e-02, -1.2359e-01, -1.2888e-01, -5.7525e-02,\n",
            "           1.3571e-02,  2.0105e-01, -1.8490e-01,  5.1649e-02, -4.8141e-01,\n",
            "           3.6103e-01,  2.5537e-01, -1.9080e-01,  2.6534e-04, -8.6304e-03,\n",
            "           1.7448e-03,  2.7085e-01,  4.1172e-02,  1.7020e-01,  1.3293e-01,\n",
            "          -1.2585e-01,  5.9839e-02, -3.0116e-02, -3.9701e-01, -6.6725e-02,\n",
            "          -9.0890e-02, -1.4122e-01, -2.2008e-01,  4.7471e-02,  8.0877e-02,\n",
            "          -7.4657e-03,  1.8479e-01,  2.3903e-01, -3.5251e-01, -1.1148e-01,\n",
            "          -4.2986e-02, -2.0446e-02,  8.3485e-02,  2.5350e-01,  1.3016e-01,\n",
            "          -6.2516e-02, -1.1301e-01,  5.8724e-02,  8.6036e-02,  4.9085e-02,\n",
            "          -1.4918e-01,  1.2330e-01,  5.0827e-02,  7.4364e-04, -1.6372e-02,\n",
            "           3.6649e-01, -9.0798e-03, -5.3674e-01, -1.0576e-01, -1.8815e-02,\n",
            "          -1.7332e-01, -1.3033e-01, -1.0174e-02,  1.1173e-01, -1.8992e-01,\n",
            "           2.2418e-01,  5.8168e-02, -4.5129e-02, -2.4466e-01, -2.6477e-01,\n",
            "          -1.1906e-02, -9.8164e-02, -8.2492e-02,  3.4140e-03,  2.7759e-03,\n",
            "          -2.8737e-02,  3.2844e-01,  4.1484e-03, -2.6332e-02,  9.4613e-03,\n",
            "           7.9007e-03,  1.3705e-01,  3.9097e-02, -2.3248e-01, -7.6254e-02,\n",
            "          -4.6025e-02, -2.9592e-02,  4.2015e-02,  3.5622e-02,  5.0949e-02]]],\n",
            "       device='cuda:0', grad_fn=<CudnnRnnBackward>)\n",
            "\n",
            "Decoder:  tensor([[[ 3.0559e-03,  9.3819e-02,  3.1243e-02, -2.5202e-02,  8.6832e-03,\n",
            "          -7.9231e-04,  4.7604e-03, -4.8356e-02,  3.3160e-02,  2.4071e-03,\n",
            "           5.1840e-02,  2.1505e-02,  8.0849e-03,  2.2530e-02,  1.3296e-02,\n",
            "           7.4944e-03, -3.0867e-02,  6.1577e-02, -4.0822e-02,  8.2007e-03,\n",
            "           6.6120e-03,  4.1571e-02,  2.0167e-02,  3.1236e-02,  1.4359e-02,\n",
            "          -1.1691e-02,  3.1467e-02,  2.9330e-02, -3.2617e-02,  1.5917e-02,\n",
            "           1.6939e-02,  2.3364e-02,  4.8886e-03,  4.3568e-02, -4.2290e-02,\n",
            "           1.2098e-02, -2.5326e-02,  5.5434e-02, -5.0397e-03, -1.6297e-02,\n",
            "          -4.6134e-02,  6.4623e-02, -1.0759e-02,  2.2804e-02,  1.6718e-02,\n",
            "           9.9457e-03, -4.5110e-02, -2.0678e-02, -2.2289e-02, -6.1409e-03,\n",
            "           6.5940e-02, -4.2870e-02, -2.0943e-02,  3.1315e-02, -3.8670e-03,\n",
            "           2.8711e-03, -8.1311e-02,  4.4828e-02, -1.1887e-03, -3.7827e-02,\n",
            "           1.4087e-02,  3.4720e-02,  2.1888e-02,  6.8351e-02,  4.1627e-03,\n",
            "           1.8875e-02,  6.8299e-03,  1.4354e-02, -8.8326e-03, -6.1710e-03,\n",
            "          -3.7347e-02, -2.1245e-02, -9.9863e-04,  2.8537e-02, -1.0843e-02,\n",
            "           6.4472e-02, -1.7490e-02, -9.2339e-03,  8.1166e-02, -1.7857e-02,\n",
            "          -2.2366e-02,  1.7607e-02, -1.9515e-02,  4.0352e-02, -5.4647e-02,\n",
            "          -6.0051e-03, -1.7550e-03, -1.0775e-03, -4.1111e-02, -2.4431e-02,\n",
            "           1.3722e-04, -5.8461e-02, -1.4559e-02,  4.4475e-03,  1.5356e-02,\n",
            "          -1.6369e-02, -2.7293e-02,  9.4429e-03,  9.8604e-03,  4.0596e-02]],\n",
            "\n",
            "        [[ 1.0344e-02,  1.4434e-01,  5.2229e-02, -3.3587e-02,  1.1691e-02,\n",
            "           2.2228e-04,  1.9497e-03, -6.9733e-02,  4.9759e-02,  4.9701e-03,\n",
            "           7.7794e-02,  3.7625e-02,  8.6321e-03,  2.7833e-02,  2.4825e-02,\n",
            "           6.7621e-03, -4.3370e-02,  9.1615e-02, -5.7152e-02,  1.5063e-02,\n",
            "           7.7316e-03,  7.2240e-02,  2.3565e-02,  4.6613e-02,  1.6681e-02,\n",
            "          -1.8425e-02,  5.2032e-02,  2.9543e-02, -4.3904e-02,  3.4526e-02,\n",
            "           2.6918e-02,  3.2910e-02,  9.3258e-03,  6.0770e-02, -6.8713e-02,\n",
            "           2.3326e-02, -2.9118e-02,  8.6896e-02, -7.4623e-03, -2.7355e-02,\n",
            "          -6.9043e-02,  1.0177e-01, -1.8675e-02,  3.6876e-02,  3.1893e-02,\n",
            "           1.1653e-02, -6.5330e-02, -3.5094e-02, -3.6049e-02, -2.5020e-03,\n",
            "           1.0195e-01, -6.7625e-02, -3.0182e-02,  4.4522e-02, -8.6149e-03,\n",
            "           8.4931e-03, -1.1874e-01,  6.9026e-02,  1.5812e-03, -5.5509e-02,\n",
            "           1.3606e-02,  5.0243e-02,  3.6947e-02,  1.0593e-01,  1.1874e-02,\n",
            "           3.2183e-02,  1.3973e-02,  1.3894e-02, -1.7664e-02, -4.3989e-03,\n",
            "          -5.1895e-02, -2.6888e-02,  5.2256e-03,  3.3785e-02, -8.8614e-03,\n",
            "           9.7637e-02, -2.4016e-02, -1.6186e-02,  1.2086e-01, -1.8653e-02,\n",
            "          -3.4667e-02,  2.5789e-02, -3.0697e-02,  6.0690e-02, -8.3111e-02,\n",
            "          -1.2642e-02, -7.7414e-03,  5.5570e-03, -6.0138e-02, -3.4668e-02,\n",
            "           1.1345e-03, -8.5204e-02, -2.3432e-02, -6.9470e-04,  1.6677e-02,\n",
            "          -1.8019e-02, -4.5337e-02,  1.8311e-02,  9.2650e-03,  6.0911e-02]],\n",
            "\n",
            "        [[ 1.7304e-02,  1.7189e-01,  6.5090e-02, -3.6988e-02,  1.1051e-02,\n",
            "           2.5611e-03, -2.7772e-03, -7.9212e-02,  5.8201e-02,  7.2220e-03,\n",
            "           9.1643e-02,  4.8543e-02,  7.6497e-03,  2.8169e-02,  3.3398e-02,\n",
            "           4.1339e-03, -4.7870e-02,  1.0698e-01, -6.4281e-02,  2.0496e-02,\n",
            "           7.4903e-03,  9.1508e-02,  2.2136e-02,  5.4230e-02,  1.5840e-02,\n",
            "          -2.3598e-02,  6.4300e-02,  2.1576e-02, -4.8013e-02,  4.9337e-02,\n",
            "           3.2911e-02,  3.7220e-02,  1.1378e-02,  6.6828e-02, -8.4393e-02,\n",
            "           3.2075e-02, -2.7297e-02,  1.0327e-01, -8.6019e-03, -3.2338e-02,\n",
            "          -8.0618e-02,  1.2326e-01, -2.2991e-02,  4.6712e-02,  4.2025e-02,\n",
            "           1.0447e-02, -7.4340e-02, -4.3479e-02, -4.3846e-02,  3.1708e-03,\n",
            "           1.2035e-01, -8.1922e-02, -3.4024e-02,  4.9949e-02, -1.2978e-02,\n",
            "           1.4241e-02, -1.3645e-01,  8.1856e-02,  6.0250e-03, -6.3753e-02,\n",
            "           9.3987e-03,  5.7154e-02,  4.6463e-02,  1.2631e-01,  1.8139e-02,\n",
            "           4.1293e-02,  1.9405e-02,  1.0586e-02, -2.5104e-02, -9.4938e-04,\n",
            "          -5.6451e-02, -2.7401e-02,  1.1283e-02,  3.1413e-02, -5.0195e-03,\n",
            "           1.1556e-01, -2.5456e-02, -2.0909e-02,  1.4156e-01, -1.4050e-02,\n",
            "          -4.1561e-02,  2.9938e-02, -3.5817e-02,  7.0725e-02, -9.8520e-02,\n",
            "          -1.6896e-02, -1.3168e-02,  1.2783e-02, -6.8459e-02, -3.9180e-02,\n",
            "           2.5707e-03, -9.7488e-02, -2.9469e-02, -6.0998e-03,  1.4238e-02,\n",
            "          -1.6115e-02, -5.5598e-02,  2.4687e-02,  5.1693e-03,  7.1148e-02]]],\n",
            "       device='cuda:0', grad_fn=<StackBackward>)\n",
            "Final vector after FC layer\n",
            "tensor([[0.9793, 0.0194, 0.0013]], device='cuda:0', grad_fn=<SoftmaxBackward>)\n"
          ],
          "name": "stdout"
        },
        {
          "output_type": "stream",
          "text": [
            "/usr/local/lib/python3.7/dist-packages/torch/nn/modules/rnn.py:63: UserWarning: dropout option adds dropout after all but last recurrent layer, so non-zero dropout expects num_layers greater than 1, but got dropout=0.4 and num_layers=1\n",
            "  \"num_layers={}\".format(dropout, num_layers))\n"
          ],
          "name": "stderr"
        },
        {
          "output_type": "execute_result",
          "data": {
            "application/vnd.google.colaboratory.intrinsic+json": {
              "type": "string"
            },
            "text/plain": [
              "'Negative'"
            ]
          },
          "metadata": {
            "tags": []
          },
          "execution_count": 57
        }
      ]
    },
    {
      "cell_type": "code",
      "metadata": {
        "colab": {
          "base_uri": "https://localhost:8080/",
          "height": 1000
        },
        "id": "3Cm74DsmNP6c",
        "outputId": "dee226d3-ed7e-4bf2-a5ed-7744262a9853"
      },
      "source": [
        "classify_tweet(\"I like it very much.\")"
      ],
      "execution_count": 58,
      "outputs": [
        {
          "output_type": "stream",
          "text": [
            "Encoder LSTM output vector after each word: \n",
            "after 1 word\n",
            "tensor([-1.9363e-02,  1.8065e-02, -2.8903e-01,  4.0063e-02, -2.0260e-01,\n",
            "         3.2156e-01,  9.2181e-02, -1.5146e-01, -3.6137e-02,  1.5422e-01,\n",
            "        -5.0807e-02, -1.9956e-01,  2.6497e-01,  1.5487e-02,  1.6894e-01,\n",
            "         1.8305e-02,  1.0102e-01,  1.3011e-01, -1.0462e-01,  3.6302e-02,\n",
            "         6.3942e-02,  7.4309e-02,  6.4892e-02,  9.1315e-02,  1.5883e-01,\n",
            "         3.5116e-01, -2.5601e-01,  3.1382e-02, -2.2766e-01,  8.7207e-04,\n",
            "        -5.7092e-02, -9.9095e-02,  2.8005e-01, -3.9773e-01, -1.5462e-01,\n",
            "        -8.1478e-02, -1.6369e-01,  1.9323e-01,  7.7096e-02, -1.5990e-01,\n",
            "         3.2599e-01,  2.4637e-01, -9.6007e-02,  6.7740e-02,  1.1701e-01,\n",
            "         5.0809e-01, -1.0506e-01, -2.0883e-02, -1.6657e-01,  5.9626e-01,\n",
            "        -1.0922e-01, -7.0369e-03,  2.6509e-02, -2.1007e-02, -1.2084e-01,\n",
            "        -4.1167e-01, -4.7511e-01,  2.8953e-02, -2.7167e-01, -9.7713e-02,\n",
            "         6.2128e-03, -2.2218e-02,  3.3583e-02,  2.4181e-01,  5.1449e-02,\n",
            "        -5.9765e-02,  3.1149e-01,  2.2281e-01, -4.2097e-03, -2.1404e-01,\n",
            "        -8.9779e-02, -1.8694e-01, -1.2154e-01,  3.0281e-02, -1.2635e-01,\n",
            "        -2.5292e-02, -1.4899e-02, -2.5745e-03,  1.0798e-01, -5.2243e-02,\n",
            "        -1.7650e-01,  2.5863e-02,  2.0782e-01,  2.7208e-01, -1.4013e-02,\n",
            "         2.0753e-04, -2.4969e-02, -1.6024e-01, -3.4437e-01, -1.5458e-01,\n",
            "         1.3587e-01, -2.1985e-01, -3.0621e-01, -8.6799e-02, -5.3650e-02,\n",
            "         7.7661e-02,  7.5306e-03, -4.7184e-02, -5.0823e-02, -4.4054e-02],\n",
            "       device='cuda:0', grad_fn=<SelectBackward>)\n",
            "after 2 word\n",
            "tensor([ 0.0809, -0.0756, -0.4164, -0.0492,  0.1896,  0.2225, -0.0612,  0.0253,\n",
            "         0.0291,  0.1428, -0.0743,  0.1664, -0.0037,  0.0272,  0.0666,  0.3114,\n",
            "         0.3364, -0.1628,  0.1058, -0.2256,  0.1556,  0.0041, -0.1045,  0.0432,\n",
            "         0.1404,  0.2489,  0.2233,  0.0685,  0.0547, -0.2004, -0.1620,  0.0848,\n",
            "         0.3504,  0.1639, -0.3013,  0.2022, -0.1998, -0.0900,  0.1786, -0.1165,\n",
            "        -0.2212, -0.0581, -0.0861,  0.0849, -0.0614,  0.2128,  0.1019,  0.0009,\n",
            "        -0.1964,  0.0944, -0.1957, -0.1545,  0.0394, -0.1687, -0.3865, -0.0892,\n",
            "        -0.0216, -0.0910,  0.0569,  0.0113,  0.1216,  0.2446,  0.0990,  0.0842,\n",
            "         0.0933,  0.0612,  0.1373,  0.2890,  0.0459, -0.0022,  0.0080,  0.1086,\n",
            "         0.0049,  0.0747, -0.2584,  0.0044, -0.0669, -0.1249,  0.0408,  0.1603,\n",
            "        -0.0732, -0.0754,  0.0358, -0.0732, -0.0215,  0.2233,  0.0814,  0.0118,\n",
            "        -0.1664, -0.2117,  0.0672, -0.1078, -0.0929,  0.0955, -0.1588,  0.1959,\n",
            "        -0.0235, -0.0238,  0.2333, -0.0995], device='cuda:0',\n",
            "       grad_fn=<SelectBackward>)\n",
            "after 3 word\n",
            "tensor([-1.0287e-02, -2.3382e-02, -1.9425e-01, -2.0313e-01,  3.9237e-01,\n",
            "         4.1027e-01, -2.3121e-02, -1.2563e-01, -3.1842e-02,  3.2662e-01,\n",
            "        -3.1010e-01,  1.1768e-01,  7.7153e-02, -4.0468e-01,  1.0051e-01,\n",
            "         4.5601e-03,  4.4709e-02, -4.1517e-02, -1.5120e-01, -2.0825e-01,\n",
            "         3.9881e-02, -9.8488e-02, -3.5766e-02,  3.1757e-01, -1.3617e-01,\n",
            "         2.3583e-01,  4.8552e-02,  5.8394e-02,  1.0938e-01, -2.2215e-02,\n",
            "        -2.8567e-01,  5.7933e-02,  2.8625e-01,  1.5631e-01, -5.7600e-02,\n",
            "         1.8662e-01, -5.8870e-01, -2.9145e-01,  3.3126e-01, -1.0482e-01,\n",
            "        -4.1460e-01, -3.1001e-04, -9.8844e-02, -2.1695e-01,  3.9593e-03,\n",
            "         3.0160e-01,  3.2078e-01, -4.2862e-01, -2.3858e-01, -1.8248e-01,\n",
            "         1.3750e-01, -3.6389e-01,  1.2620e-01, -5.0025e-01, -7.9373e-02,\n",
            "         1.0314e-01, -1.5105e-01, -9.9992e-02, -5.5192e-03, -9.1239e-02,\n",
            "        -9.9288e-02,  3.6746e-01,  6.6108e-05,  1.7794e-01,  3.4217e-01,\n",
            "        -1.3677e-02, -1.9866e-01, -9.9723e-02, -4.9367e-03, -1.0626e-01,\n",
            "         8.8455e-02, -2.0044e-02,  3.3482e-02, -1.7231e-01,  8.0966e-02,\n",
            "        -2.1192e-01, -7.7007e-02,  8.8654e-02,  1.1156e-01,  5.8046e-02,\n",
            "        -9.0713e-02, -1.1529e-01,  8.4466e-02, -3.4996e-01, -1.9207e-02,\n",
            "         3.9930e-01, -3.8739e-02,  7.9585e-02,  1.5117e-01, -2.6014e-02,\n",
            "        -2.4841e-01, -1.3859e-01,  3.4836e-02,  2.1761e-01,  8.2728e-02,\n",
            "         9.2279e-02, -2.2678e-01, -5.3533e-02,  2.0308e-02, -7.4048e-02],\n",
            "       device='cuda:0', grad_fn=<SelectBackward>)\n",
            "after 4 word\n",
            "tensor([ 0.1722,  0.0050, -0.0606, -0.0614,  0.0429,  0.3247,  0.0503, -0.0661,\n",
            "         0.0845,  0.0366, -0.1218,  0.1842,  0.4422, -0.3141,  0.2735, -0.0608,\n",
            "        -0.0204, -0.1170, -0.0215,  0.0409, -0.0021, -0.2725, -0.2127,  0.2298,\n",
            "        -0.1109, -0.1071, -0.0160, -0.1130, -0.1670, -0.1453, -0.0678,  0.1608,\n",
            "         0.0319, -0.0509,  0.0566,  0.0117, -0.4786, -0.1510,  0.1388, -0.0947,\n",
            "         0.1334,  0.1592,  0.0214,  0.0390, -0.1816,  0.2224,  0.3553, -0.1764,\n",
            "        -0.2297, -0.0790,  0.1315,  0.1962,  0.1118, -0.3124, -0.1525,  0.4206,\n",
            "         0.0501, -0.1148,  0.1693, -0.1643, -0.0496,  0.2448,  0.0679,  0.0860,\n",
            "         0.0397, -0.1327, -0.1987,  0.0743, -0.1944,  0.0568, -0.0196, -0.0575,\n",
            "        -0.1533, -0.3134,  0.1392, -0.0994, -0.2680,  0.3783, -0.0244,  0.0480,\n",
            "         0.2092, -0.1439,  0.1369, -0.0631,  0.1202,  0.1461,  0.0055,  0.1833,\n",
            "         0.2659, -0.1368, -0.1284,  0.0104, -0.0137, -0.1092,  0.1739,  0.2621,\n",
            "        -0.2356, -0.0309, -0.1405, -0.2115], device='cuda:0',\n",
            "       grad_fn=<SelectBackward>)\n",
            "after 5 word\n",
            "tensor([ 0.4321,  0.0145,  0.1101,  0.0436,  0.1767,  0.1031, -0.0199, -0.0291,\n",
            "         0.1898,  0.4281,  0.1298, -0.0180,  0.4293, -0.0693,  0.2188, -0.2196,\n",
            "         0.1051,  0.0888, -0.1349,  0.0423, -0.1382, -0.0262, -0.4738,  0.1662,\n",
            "        -0.3720, -0.0285,  0.3304, -0.0193, -0.0261, -0.2810, -0.0295,  0.1332,\n",
            "        -0.0301,  0.0267,  0.0695,  0.1942, -0.0260, -0.1106,  0.1104, -0.1944,\n",
            "         0.2592,  0.1525, -0.0495,  0.1022, -0.2033,  0.1017,  0.3017, -0.0527,\n",
            "         0.0243, -0.1790,  0.0739,  0.1331, -0.0267, -0.0612, -0.2545,  0.2155,\n",
            "         0.1489, -0.0372,  0.0960, -0.3070,  0.0714,  0.1006,  0.0340, -0.0303,\n",
            "         0.2120, -0.0158, -0.2511,  0.0349, -0.0415, -0.0225, -0.1504, -0.0216,\n",
            "        -0.0734, -0.1232, -0.0209,  0.0897, -0.1610,  0.2647, -0.2608, -0.0072,\n",
            "         0.0854, -0.3164,  0.0674, -0.1835,  0.4256,  0.1499, -0.0389, -0.0041,\n",
            "         0.0729,  0.1748, -0.4450, -0.2130,  0.4384,  0.0490,  0.1443, -0.0671,\n",
            "        -0.3519, -0.0101, -0.3242, -0.2033], device='cuda:0',\n",
            "       grad_fn=<SelectBackward>)\n",
            "after 6 word\n",
            "tensor([ 4.6330e-01, -5.7365e-02,  3.6275e-01,  3.4664e-01,  1.7201e-01,\n",
            "         1.5483e-01,  2.8086e-02,  1.4348e-01,  3.3998e-01,  2.9779e-01,\n",
            "         3.5232e-01, -2.5766e-01,  1.3536e-02,  6.4634e-03,  3.0183e-01,\n",
            "         1.8582e-02,  4.7873e-02, -6.6592e-02,  4.6898e-04, -3.0219e-01,\n",
            "        -6.5842e-03,  1.3938e-01, -4.3574e-01,  2.9370e-01, -1.9766e-01,\n",
            "        -3.0877e-01, -2.8220e-02, -2.3835e-01, -1.2415e-01, -9.3993e-02,\n",
            "        -2.2884e-01,  1.1154e-01,  1.5078e-01, -1.9187e-02,  1.2395e-01,\n",
            "        -1.3062e-01, -7.1355e-02,  2.2682e-02,  1.1379e-01, -4.2631e-01,\n",
            "         4.2613e-03,  4.9109e-01,  2.5246e-01,  3.0634e-01, -3.0391e-01,\n",
            "        -4.3549e-02,  1.8436e-01, -2.7516e-02,  1.6280e-01,  1.6568e-01,\n",
            "         2.1982e-02, -3.1420e-02,  5.9351e-02, -1.8732e-01, -1.9853e-01,\n",
            "         8.1403e-02,  2.1916e-01,  5.9751e-02,  5.9171e-01,  2.2646e-01,\n",
            "         1.9182e-01,  1.0564e-01, -2.0306e-01, -7.8628e-02, -1.5749e-01,\n",
            "        -1.9935e-01, -9.0324e-02,  1.5773e-01, -4.4678e-02, -1.0376e-01,\n",
            "         3.1567e-02, -5.5934e-02, -1.6311e-01, -2.6795e-01, -1.2871e-01,\n",
            "        -3.1675e-02, -6.9984e-02,  2.3054e-01, -6.3365e-03,  1.0971e-01,\n",
            "         1.6506e-01, -2.8171e-03,  7.2873e-02, -3.8606e-01, -3.5412e-01,\n",
            "         2.0335e-01, -1.0758e-01, -5.1112e-02,  2.2638e-02,  1.3109e-01,\n",
            "        -3.3437e-01, -6.0154e-02,  1.7035e-01, -1.0982e-01,  6.4032e-02,\n",
            "        -8.3931e-02,  1.7692e-02,  2.8192e-03, -1.8574e-01, -2.2678e-01],\n",
            "       device='cuda:0', grad_fn=<SelectBackward>)\n",
            "\n",
            "Encoder LSTM final hidden vector\n",
            "tensor([[[ 4.6330e-01, -5.7365e-02,  3.6275e-01,  3.4664e-01,  1.7201e-01,\n",
            "           1.5483e-01,  2.8086e-02,  1.4348e-01,  3.3998e-01,  2.9779e-01,\n",
            "           3.5232e-01, -2.5766e-01,  1.3536e-02,  6.4634e-03,  3.0183e-01,\n",
            "           1.8582e-02,  4.7873e-02, -6.6592e-02,  4.6898e-04, -3.0219e-01,\n",
            "          -6.5842e-03,  1.3938e-01, -4.3574e-01,  2.9370e-01, -1.9766e-01,\n",
            "          -3.0877e-01, -2.8220e-02, -2.3835e-01, -1.2415e-01, -9.3993e-02,\n",
            "          -2.2884e-01,  1.1154e-01,  1.5078e-01, -1.9187e-02,  1.2395e-01,\n",
            "          -1.3062e-01, -7.1355e-02,  2.2682e-02,  1.1379e-01, -4.2631e-01,\n",
            "           4.2613e-03,  4.9109e-01,  2.5246e-01,  3.0634e-01, -3.0391e-01,\n",
            "          -4.3549e-02,  1.8436e-01, -2.7516e-02,  1.6280e-01,  1.6568e-01,\n",
            "           2.1982e-02, -3.1420e-02,  5.9351e-02, -1.8732e-01, -1.9853e-01,\n",
            "           8.1403e-02,  2.1916e-01,  5.9751e-02,  5.9171e-01,  2.2646e-01,\n",
            "           1.9182e-01,  1.0564e-01, -2.0306e-01, -7.8628e-02, -1.5749e-01,\n",
            "          -1.9935e-01, -9.0324e-02,  1.5773e-01, -4.4678e-02, -1.0376e-01,\n",
            "           3.1567e-02, -5.5934e-02, -1.6311e-01, -2.6795e-01, -1.2871e-01,\n",
            "          -3.1675e-02, -6.9984e-02,  2.3054e-01, -6.3365e-03,  1.0971e-01,\n",
            "           1.6506e-01, -2.8171e-03,  7.2873e-02, -3.8606e-01, -3.5412e-01,\n",
            "           2.0335e-01, -1.0758e-01, -5.1112e-02,  2.2638e-02,  1.3109e-01,\n",
            "          -3.3437e-01, -6.0154e-02,  1.7035e-01, -1.0982e-01,  6.4032e-02,\n",
            "          -8.3931e-02,  1.7692e-02,  2.8192e-03, -1.8574e-01, -2.2678e-01]]],\n",
            "       device='cuda:0', grad_fn=<CudnnRnnBackward>)\n",
            "\n",
            "Decoder:  tensor([[[ 1.6095e-02,  7.3382e-02, -4.0703e-02, -2.9712e-02,  3.4677e-02,\n",
            "          -2.5587e-02, -1.1707e-04,  5.7506e-02,  5.9566e-02,  7.3761e-03,\n",
            "           1.5144e-03, -2.4551e-02, -4.4281e-03, -6.2318e-02, -4.9065e-02,\n",
            "           4.9025e-02, -2.6104e-02,  8.5640e-03, -1.7301e-04,  2.2944e-02,\n",
            "           1.9325e-02,  2.3903e-03,  6.1068e-02,  1.9932e-02,  4.6435e-03,\n",
            "          -4.4239e-03,  1.3815e-02,  2.5735e-02, -8.7019e-03,  3.3814e-02,\n",
            "           5.5071e-02, -3.5011e-02,  1.3302e-02,  6.8814e-03,  2.1302e-02,\n",
            "          -1.9309e-02,  5.9525e-03,  1.5182e-03, -1.4800e-02, -4.6050e-02,\n",
            "          -6.3187e-03, -2.5736e-02, -2.3927e-03, -4.5079e-02,  5.0297e-03,\n",
            "           1.6786e-02, -2.6880e-02,  5.1260e-03, -2.1281e-02, -4.1842e-02,\n",
            "          -4.1102e-03, -3.3027e-03,  1.6171e-02, -2.9512e-02, -6.2946e-02,\n",
            "           1.8723e-02,  1.8730e-02, -1.8220e-02,  1.9788e-02,  9.3752e-03,\n",
            "           3.8677e-02, -9.1923e-02, -1.3530e-02, -3.5586e-02, -1.6809e-02,\n",
            "          -1.8967e-02, -3.7189e-02, -2.4076e-02, -9.7864e-03, -6.1625e-02,\n",
            "           1.6187e-03,  2.6884e-02, -2.4650e-02, -2.9178e-02,  5.0470e-02,\n",
            "           2.4528e-02, -4.2726e-02, -1.0231e-02, -7.4774e-03,  7.7806e-02,\n",
            "          -1.1815e-02, -4.7041e-02, -2.1498e-02,  4.4137e-02,  5.5163e-02,\n",
            "           6.0509e-02, -1.9707e-03,  2.8418e-02, -3.2964e-02, -7.4499e-02,\n",
            "           5.1850e-02,  5.1660e-02, -1.0544e-02, -2.3180e-02,  4.8777e-02,\n",
            "          -2.9888e-02, -3.1651e-02, -1.4336e-02, -3.1557e-02, -1.7349e-02]],\n",
            "\n",
            "        [[ 2.4992e-02,  1.0913e-01, -6.2964e-02, -3.6980e-02,  5.4587e-02,\n",
            "          -3.7287e-02,  1.1509e-02,  9.1131e-02,  9.3568e-02,  9.1548e-03,\n",
            "           4.5498e-03, -4.2583e-02, -5.3297e-05, -9.7166e-02, -6.5125e-02,\n",
            "           7.2232e-02, -3.5865e-02,  1.9060e-02, -8.0841e-03,  3.4721e-02,\n",
            "           3.5378e-02,  5.9681e-03,  9.5006e-02,  3.3479e-02,  1.1474e-02,\n",
            "          -7.6805e-03,  1.6997e-02,  3.6560e-02, -1.2233e-02,  5.4142e-02,\n",
            "           7.9449e-02, -5.1549e-02,  2.1059e-02,  1.2426e-02,  2.0415e-02,\n",
            "          -3.1258e-02,  1.1095e-02,  2.2293e-04, -1.7520e-02, -7.7389e-02,\n",
            "          -1.3259e-02, -4.1458e-02, -1.4295e-03, -6.4256e-02,  1.0536e-02,\n",
            "           2.6764e-02, -3.5248e-02,  7.5457e-03, -2.7439e-02, -6.2439e-02,\n",
            "          -1.0579e-02, -2.9867e-03,  2.7252e-02, -4.5466e-02, -9.9994e-02,\n",
            "           2.7708e-02,  2.2384e-02, -2.1101e-02,  3.7504e-02,  5.3242e-03,\n",
            "           7.0102e-02, -1.3166e-01, -2.6578e-02, -5.0120e-02, -2.5320e-02,\n",
            "          -2.9104e-02, -5.6392e-02, -3.8523e-02, -2.1353e-02, -9.3230e-02,\n",
            "           6.1771e-03,  4.0941e-02, -4.2496e-02, -4.5192e-02,  6.3121e-02,\n",
            "           4.4871e-02, -6.7278e-02, -1.2382e-02, -9.9716e-03,  1.1718e-01,\n",
            "          -1.5610e-02, -6.8611e-02, -3.0733e-02,  6.6031e-02,  8.7965e-02,\n",
            "           9.6009e-02, -4.6556e-03,  4.0545e-02, -5.2620e-02, -1.1226e-01,\n",
            "           8.0723e-02,  7.7913e-02, -1.0407e-02, -3.9333e-02,  7.1112e-02,\n",
            "          -4.8778e-02, -4.8095e-02, -2.3558e-02, -4.9102e-02, -2.5556e-02]],\n",
            "\n",
            "        [[ 2.9380e-02,  1.2534e-01, -7.4757e-02, -3.5824e-02,  6.5996e-02,\n",
            "          -4.3246e-02,  2.1796e-02,  1.1043e-01,  1.1238e-01,  9.6767e-03,\n",
            "           7.1106e-03, -5.5945e-02,  4.9464e-03, -1.1661e-01, -6.9589e-02,\n",
            "           8.3528e-02, -4.0033e-02,  2.7885e-02, -1.6475e-02,  4.1064e-02,\n",
            "           4.7267e-02,  8.7521e-03,  1.1400e-01,  4.1740e-02,  1.6922e-02,\n",
            "          -1.0434e-02,  1.5562e-02,  4.1883e-02, -1.3047e-02,  6.7031e-02,\n",
            "           8.8782e-02, -6.0284e-02,  2.4647e-02,  1.5150e-02,  1.3191e-02,\n",
            "          -3.8182e-02,  1.5067e-02, -9.5263e-04, -1.5518e-02, -9.6725e-02,\n",
            "          -1.8028e-02, -5.1476e-02,  8.1733e-04, -7.1713e-02,  1.4991e-02,\n",
            "           3.2342e-02, -3.8123e-02,  7.7791e-03, -2.8707e-02, -7.2492e-02,\n",
            "          -1.6152e-02, -2.6819e-03,  3.4148e-02, -5.4157e-02, -1.2215e-01,\n",
            "           3.2455e-02,  2.0663e-02, -2.0337e-02,  5.0505e-02, -2.2285e-03,\n",
            "           9.1279e-02, -1.4877e-01, -3.5872e-02, -5.5995e-02, -3.0571e-02,\n",
            "          -3.3973e-02, -6.6663e-02, -4.7689e-02, -3.0645e-02, -1.0992e-01,\n",
            "           1.0795e-02,  4.9169e-02, -5.5463e-02, -5.3165e-02,  6.3951e-02,\n",
            "           5.9642e-02, -8.0161e-02, -1.2185e-02, -1.1263e-02,  1.3763e-01,\n",
            "          -1.6560e-02, -7.7546e-02, -3.4593e-02,  7.7050e-02,  1.0698e-01,\n",
            "           1.1642e-01, -6.4258e-03,  4.5784e-02, -6.2067e-02, -1.3100e-01,\n",
            "           9.5853e-02,  9.1360e-02, -8.0975e-03, -5.0595e-02,  8.1005e-02,\n",
            "          -5.9818e-02, -5.6962e-02, -3.0064e-02, -5.8083e-02, -2.8974e-02]]],\n",
            "       device='cuda:0', grad_fn=<StackBackward>)\n",
            "Final vector after FC layer\n",
            "tensor([[0.0431, 0.9544, 0.0025]], device='cuda:0', grad_fn=<SoftmaxBackward>)\n"
          ],
          "name": "stdout"
        },
        {
          "output_type": "stream",
          "text": [
            "/usr/local/lib/python3.7/dist-packages/torch/nn/modules/rnn.py:63: UserWarning: dropout option adds dropout after all but last recurrent layer, so non-zero dropout expects num_layers greater than 1, but got dropout=0.4 and num_layers=1\n",
            "  \"num_layers={}\".format(dropout, num_layers))\n"
          ],
          "name": "stderr"
        },
        {
          "output_type": "execute_result",
          "data": {
            "application/vnd.google.colaboratory.intrinsic+json": {
              "type": "string"
            },
            "text/plain": [
              "'Positive'"
            ]
          },
          "metadata": {
            "tags": []
          },
          "execution_count": 58
        }
      ]
    }
  ]
}