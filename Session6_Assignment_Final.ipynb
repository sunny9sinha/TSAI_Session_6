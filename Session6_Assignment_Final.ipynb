{
  "nbformat": 4,
  "nbformat_minor": 0,
  "metadata": {
    "colab": {
      "name": "Session6_Assignment_Final.ipynb",
      "provenance": [],
      "collapsed_sections": [],
      "mount_file_id": "1afaGmlQtS6mXdrpOFjC6yUh8VTGVBcQ3",
      "authorship_tag": "ABX9TyOQw5TwNnl0KP4GYb5RXAnc",
      "include_colab_link": true
    },
    "kernelspec": {
      "name": "python3",
      "display_name": "Python 3"
    },
    "language_info": {
      "name": "python"
    },
    "accelerator": "GPU"
  },
  "cells": [
    {
      "cell_type": "markdown",
      "metadata": {
        "id": "view-in-github",
        "colab_type": "text"
      },
      "source": [
        "<a href=\"https://colab.research.google.com/github/sunny9sinha/TSAI_Session_6/blob/main/Session6_Assignment_Final.ipynb\" target=\"_parent\"><img src=\"https://colab.research.google.com/assets/colab-badge.svg\" alt=\"Open In Colab\"/></a>"
      ]
    },
    {
      "cell_type": "code",
      "metadata": {
        "colab": {
          "base_uri": "https://localhost:8080/"
        },
        "id": "rfLoK_Dse1w7",
        "outputId": "e6fb3b1e-8efb-4a07-8611-c8483a32c692"
      },
      "source": [
        "import sys\n",
        "import pandas as pd\n",
        "import numpy as np\n",
        "import csv\n",
        "\n",
        "!pip install googletrans==3.1.0a0"
      ],
      "execution_count": 1,
      "outputs": [
        {
          "output_type": "stream",
          "text": [
            "Collecting googletrans==3.1.0a0\n",
            "  Downloading https://files.pythonhosted.org/packages/19/3d/4e3a1609bf52f2f7b00436cc751eb977e27040665dde2bd57e7152989672/googletrans-3.1.0a0.tar.gz\n",
            "Collecting httpx==0.13.3\n",
            "\u001b[?25l  Downloading https://files.pythonhosted.org/packages/54/b4/698b284c6aed4d7c2b4fe3ba5df1fcf6093612423797e76fbb24890dd22f/httpx-0.13.3-py3-none-any.whl (55kB)\n",
            "\u001b[K     |████████████████████████████████| 61kB 4.6MB/s \n",
            "\u001b[?25hRequirement already satisfied: idna==2.* in /usr/local/lib/python3.7/dist-packages (from httpx==0.13.3->googletrans==3.1.0a0) (2.10)\n",
            "Collecting rfc3986<2,>=1.3\n",
            "  Downloading https://files.pythonhosted.org/packages/c4/e5/63ca2c4edf4e00657584608bee1001302bbf8c5f569340b78304f2f446cb/rfc3986-1.5.0-py2.py3-none-any.whl\n",
            "Collecting hstspreload\n",
            "\u001b[?25l  Downloading https://files.pythonhosted.org/packages/dd/50/606213e12fb49c5eb667df0936223dcaf461f94e215ea60244b2b1e9b039/hstspreload-2020.12.22-py3-none-any.whl (994kB)\n",
            "\u001b[K     |████████████████████████████████| 1.0MB 18.0MB/s \n",
            "\u001b[?25hRequirement already satisfied: chardet==3.* in /usr/local/lib/python3.7/dist-packages (from httpx==0.13.3->googletrans==3.1.0a0) (3.0.4)\n",
            "Collecting httpcore==0.9.*\n",
            "\u001b[?25l  Downloading https://files.pythonhosted.org/packages/dd/d5/e4ff9318693ac6101a2095e580908b591838c6f33df8d3ee8dd953ba96a8/httpcore-0.9.1-py3-none-any.whl (42kB)\n",
            "\u001b[K     |████████████████████████████████| 51kB 8.1MB/s \n",
            "\u001b[?25hRequirement already satisfied: certifi in /usr/local/lib/python3.7/dist-packages (from httpx==0.13.3->googletrans==3.1.0a0) (2020.12.5)\n",
            "Collecting sniffio\n",
            "  Downloading https://files.pythonhosted.org/packages/52/b0/7b2e028b63d092804b6794595871f936aafa5e9322dcaaad50ebf67445b3/sniffio-1.2.0-py3-none-any.whl\n",
            "Collecting h2==3.*\n",
            "\u001b[?25l  Downloading https://files.pythonhosted.org/packages/25/de/da019bcc539eeab02f6d45836f23858ac467f584bfec7a526ef200242afe/h2-3.2.0-py2.py3-none-any.whl (65kB)\n",
            "\u001b[K     |████████████████████████████████| 71kB 10.7MB/s \n",
            "\u001b[?25hCollecting h11<0.10,>=0.8\n",
            "\u001b[?25l  Downloading https://files.pythonhosted.org/packages/5a/fd/3dad730b0f95e78aeeb742f96fa7bbecbdd56a58e405d3da440d5bfb90c6/h11-0.9.0-py2.py3-none-any.whl (53kB)\n",
            "\u001b[K     |████████████████████████████████| 61kB 9.8MB/s \n",
            "\u001b[?25hCollecting hpack<4,>=3.0\n",
            "  Downloading https://files.pythonhosted.org/packages/8a/cc/e53517f4a1e13f74776ca93271caef378dadec14d71c61c949d759d3db69/hpack-3.0.0-py2.py3-none-any.whl\n",
            "Collecting hyperframe<6,>=5.2.0\n",
            "  Downloading https://files.pythonhosted.org/packages/19/0c/bf88182bcb5dce3094e2f3e4fe20db28a9928cb7bd5b08024030e4b140db/hyperframe-5.2.0-py2.py3-none-any.whl\n",
            "Building wheels for collected packages: googletrans\n",
            "  Building wheel for googletrans (setup.py) ... \u001b[?25l\u001b[?25hdone\n",
            "  Created wheel for googletrans: filename=googletrans-3.1.0a0-cp37-none-any.whl size=16368 sha256=9a9552f18daef9b8104039ed53bbe08ba75b5fecb7bb021fce21d5c9a932f224\n",
            "  Stored in directory: /root/.cache/pip/wheels/27/7a/a0/aff3babbb775549ce6813cb8fa7ff3c0848c4dc62c20f8fdac\n",
            "Successfully built googletrans\n",
            "Installing collected packages: rfc3986, hstspreload, sniffio, hpack, hyperframe, h2, h11, httpcore, httpx, googletrans\n",
            "Successfully installed googletrans-3.1.0a0 h11-0.9.0 h2-3.2.0 hpack-3.0.0 hstspreload-2020.12.22 httpcore-0.9.1 httpx-0.13.3 hyperframe-5.2.0 rfc3986-1.5.0 sniffio-1.2.0\n"
          ],
          "name": "stdout"
        }
      ]
    },
    {
      "cell_type": "code",
      "metadata": {
        "id": "wpNL_AARJQHG"
      },
      "source": [
        "import random\n",
        "import googletrans\n",
        "from googletrans import Translator\n",
        "\n",
        "def translate(sentence_translated):\n",
        "  # translator = Translator(service_urls=['translate.googleapis.com'])\n",
        "  translator = Translator()\n",
        "  # sentence = ['']\n",
        "\n",
        "  # available_langs = list(googletrans.LANGUAGES.keys()) \n",
        "  # trans_lang = random.choice(available_langs) \n",
        "  # print(f\"Translating to {googletrans.LANGUAGES[trans_lang]}\")\n",
        "\n",
        "  sentence_translated = pd.DataFrame(sentence_translated.iloc[0:400,:]).reset_index().drop(columns=['index'])\n",
        "\n",
        "  trans_array = np.array(sentence_translated['tweets'])\n",
        "  # int(len(trans_array)/100)\n",
        "\n",
        "  for i in range(400):\n",
        "    translations = translator.translate(trans_array[i],src='en', dest='czech') \n",
        "    #print(translations)\n",
        "    t_text = translations.text\n",
        "    print('czech: ',t_text)\n",
        "\n",
        "    translations_en_random = translator.translate(t_text, src='czech', dest='en') \n",
        "    en_text = translations_en_random.text\n",
        "    print('Eng: ',en_text)\n",
        "    trans_array[i] = en_text\n",
        "\n",
        "\n",
        "  sentence_translated['tweets'] = trans_array\n",
        "  return sentence_translated\n",
        "\n"
      ],
      "execution_count": 2,
      "outputs": []
    },
    {
      "cell_type": "code",
      "metadata": {
        "id": "opN_XD18JIOz"
      },
      "source": [
        "def random_deletion(words, p=0.5): \n",
        "    if len(words) == 1: # return if single word\n",
        "        return words\n",
        "    remaining = list(filter(lambda x: random.uniform(0,1) > p,words)) \n",
        "    if len(remaining) == 0: # if not left, sample a random word\n",
        "        return [random.choice(words)] \n",
        "    else:\n",
        "        return remaining"
      ],
      "execution_count": 3,
      "outputs": []
    },
    {
      "cell_type": "code",
      "metadata": {
        "id": "UYY6IM4hJHSc"
      },
      "source": [
        "def random_swap(sentence, n=5): \n",
        "    length = range(len(sentence)) \n",
        "    for _ in range(n):\n",
        "        idx1, idx2 = random.sample(length, 2)\n",
        "        sentence[idx1], sentence[idx2] = sentence[idx2], sentence[idx1] \n",
        "    return sentence"
      ],
      "execution_count": 4,
      "outputs": []
    },
    {
      "cell_type": "code",
      "metadata": {
        "id": "Z4ZjO9vPJ49z"
      },
      "source": [
        "import torch.nn as nn\n",
        "import torch.nn.functional as F\n",
        "\n",
        "class encoders(nn.Module):\n",
        "\n",
        "  def __init__(self,vocab_size, embedding_dim, hidden_dim, n_layers, dropout):\n",
        "    super().__init__()\n",
        "    self.embedding = nn.Embedding(vocab_size,embedding_dim)\n",
        "    self.encoder = nn.LSTM(embedding_dim, \n",
        "                           hidden_dim, \n",
        "                           num_layers=n_layers, \n",
        "                           dropout=dropout,\n",
        "                           batch_first=True)\n",
        "    \n",
        "  def forward(self,text,text_lengths):\n",
        "    embedded = self.embedding(text)\n",
        "    packed_embedded = nn.utils.rnn.pack_padded_sequence(embedded, text_lengths.cpu(), batch_first=True)\n",
        "    packed_output, (hidden, cell) = self.encoder(packed_embedded)\n",
        "    return hidden\n",
        "\n",
        "class decoders(nn.Module):\n",
        "\n",
        "  def __init__(self, input_to_decoder_size, decoder_hidden_size, no_times_decoder_cell_has_to_run):\n",
        "    super().__init__()\n",
        "    self.decoder_single_rnn_cell = nn.LSTMCell(input_to_decoder_size,decoder_hidden_size)\n",
        "    self.no_times_decoder_cell_has_to_run = no_times_decoder_cell_has_to_run\n",
        "    self.decoder_hidden_size = decoder_hidden_size\n",
        "\n",
        "  def forward(self, encoder_context_vector):\n",
        "    encoder_context_vector = encoder_context_vector.squeeze()\n",
        "    hx = torch.zeros(encoder_context_vector.size(0),self.decoder_hidden_size).to(device)\n",
        "    cx = torch.zeros(encoder_context_vector.size(0),self.decoder_hidden_size).to(device)\n",
        "    for i in range(self.no_times_decoder_cell_has_to_run):\n",
        "      hx,cx = self.decoder_single_rnn_cell(encoder_context_vector,(hx,cx))\n",
        "    return hx\n",
        "\n",
        "class classifier(nn.Module):\n",
        "    \n",
        "    # Define all the layers used in model\n",
        "    def __init__(self, encoder, decoder, hidden_dim, output_dim):\n",
        "        \n",
        "      super().__init__()\n",
        "      self.encoder = encoder\n",
        "      self.decoder = decoder\n",
        "      self.fc = nn.Linear(hidden_dim, output_dim)\n",
        "        \n",
        "    def forward(self,src,src_len):\n",
        "      enc_hidden = self.encoder(src,src_len)\n",
        "      #print('Encoder: ',enc_hidden)\n",
        "      dec_hidden = self.decoder(enc_hidden)\n",
        "      #print('Decoder: ', dec_hidden)\n",
        "      dense_outputs = self.fc(dec_hidden)\n",
        "      #print('----',dense_outputs[0])\n",
        "      #output = F.softmax(dense_outputs,dim=1)\n",
        "      #print('---',output)\n",
        "      return dense_outputs"
      ],
      "execution_count": 5,
      "outputs": []
    },
    {
      "cell_type": "code",
      "metadata": {
        "colab": {
          "base_uri": "https://localhost:8080/",
          "height": 204
        },
        "id": "keTICi4gQw5D",
        "outputId": "c8fe2fa9-c537-453b-eeb7-df07dac10cfa"
      },
      "source": [
        "tweet_data = pd.read_csv(\"/content/drive/MyDrive/Colab Notebooks/tweets (1).csv\")\n",
        "tweet_data.head()"
      ],
      "execution_count": 6,
      "outputs": [
        {
          "output_type": "execute_result",
          "data": {
            "text/html": [
              "<div>\n",
              "<style scoped>\n",
              "    .dataframe tbody tr th:only-of-type {\n",
              "        vertical-align: middle;\n",
              "    }\n",
              "\n",
              "    .dataframe tbody tr th {\n",
              "        vertical-align: top;\n",
              "    }\n",
              "\n",
              "    .dataframe thead th {\n",
              "        text-align: right;\n",
              "    }\n",
              "</style>\n",
              "<table border=\"1\" class=\"dataframe\">\n",
              "  <thead>\n",
              "    <tr style=\"text-align: right;\">\n",
              "      <th></th>\n",
              "      <th>tweets</th>\n",
              "      <th>labels</th>\n",
              "    </tr>\n",
              "  </thead>\n",
              "  <tbody>\n",
              "    <tr>\n",
              "      <th>0</th>\n",
              "      <td>Obama has called the GOP budget social Darwini...</td>\n",
              "      <td>1</td>\n",
              "    </tr>\n",
              "    <tr>\n",
              "      <th>1</th>\n",
              "      <td>In his teen years, Obama has been known to use...</td>\n",
              "      <td>0</td>\n",
              "    </tr>\n",
              "    <tr>\n",
              "      <th>2</th>\n",
              "      <td>IPA Congratulates President Barack Obama for L...</td>\n",
              "      <td>0</td>\n",
              "    </tr>\n",
              "    <tr>\n",
              "      <th>3</th>\n",
              "      <td>RT @Professor_Why: #WhatsRomneyHiding - his co...</td>\n",
              "      <td>0</td>\n",
              "    </tr>\n",
              "    <tr>\n",
              "      <th>4</th>\n",
              "      <td>RT @wardollarshome: Obama has approved more ta...</td>\n",
              "      <td>1</td>\n",
              "    </tr>\n",
              "  </tbody>\n",
              "</table>\n",
              "</div>"
            ],
            "text/plain": [
              "                                              tweets  labels\n",
              "0  Obama has called the GOP budget social Darwini...       1\n",
              "1  In his teen years, Obama has been known to use...       0\n",
              "2  IPA Congratulates President Barack Obama for L...       0\n",
              "3  RT @Professor_Why: #WhatsRomneyHiding - his co...       0\n",
              "4  RT @wardollarshome: Obama has approved more ta...       1"
            ]
          },
          "metadata": {
            "tags": []
          },
          "execution_count": 6
        }
      ]
    },
    {
      "cell_type": "code",
      "metadata": {
        "colab": {
          "base_uri": "https://localhost:8080/"
        },
        "id": "fK8K8T11RWZa",
        "outputId": "ba37a15e-aeb3-4673-ab7e-6982f8e17e17"
      },
      "source": [
        "tweet_data.shape"
      ],
      "execution_count": 7,
      "outputs": [
        {
          "output_type": "execute_result",
          "data": {
            "text/plain": [
              "(1364, 2)"
            ]
          },
          "metadata": {
            "tags": []
          },
          "execution_count": 7
        }
      ]
    },
    {
      "cell_type": "code",
      "metadata": {
        "colab": {
          "base_uri": "https://localhost:8080/"
        },
        "id": "Ai5ICZGLRaZM",
        "outputId": "92f56304-3bad-4aa5-e5df-d55076a7e3fc"
      },
      "source": [
        "tweet_data.labels.value_counts()"
      ],
      "execution_count": 8,
      "outputs": [
        {
          "output_type": "execute_result",
          "data": {
            "text/plain": [
              "0    931\n",
              "1    352\n",
              "2     81\n",
              "Name: labels, dtype: int64"
            ]
          },
          "metadata": {
            "tags": []
          },
          "execution_count": 8
        }
      ]
    },
    {
      "cell_type": "code",
      "metadata": {
        "colab": {
          "base_uri": "https://localhost:8080/"
        },
        "id": "3nbziGz40Vc5",
        "outputId": "4b0c3a40-248d-43f2-8c93-d46131c19947"
      },
      "source": [
        "def delete(sent_delete):\n",
        "  del_array = np.array(sent_delete['tweets'])\n",
        "  for i in range(len(del_array)):\n",
        "    words = str(del_array[i]).split()\n",
        "    word_selected = random.choice(words)\n",
        "    word_deleted = random_deletion(word_selected, 0.4)\n",
        "    del_word = ''\n",
        "    for k in word_deleted:\n",
        "      del_word+=k\n",
        "    del_array[i] = str(del_array[i]).replace(word_selected,del_word)\n",
        "  sent_delete['tweets'] = del_array\n",
        "  return sent_delete\n",
        "\n",
        "tweet_delete = pd.DataFrame(tweet_data.iloc[:,:]).reset_index().drop(columns=['index'])\n",
        "print(tweet_delete.head())\n",
        "tweet_delete = delete(tweet_delete)"
      ],
      "execution_count": 9,
      "outputs": [
        {
          "output_type": "stream",
          "text": [
            "                                              tweets  labels\n",
            "0  Obama has called the GOP budget social Darwini...       1\n",
            "1  In his teen years, Obama has been known to use...       0\n",
            "2  IPA Congratulates President Barack Obama for L...       0\n",
            "3  RT @Professor_Why: #WhatsRomneyHiding - his co...       0\n",
            "4  RT @wardollarshome: Obama has approved more ta...       1\n"
          ],
          "name": "stdout"
        }
      ]
    },
    {
      "cell_type": "code",
      "metadata": {
        "colab": {
          "base_uri": "https://localhost:8080/"
        },
        "id": "OoQZqLA8MdpZ",
        "outputId": "97010bcd-6872-418a-8269-a54a4d60654e"
      },
      "source": [
        "print(tweet_delete.head(10))"
      ],
      "execution_count": 10,
      "outputs": [
        {
          "output_type": "stream",
          "text": [
            "                                              tweets  labels\n",
            "0  Obama has called the GOP budget oc Darwinism. ...       1\n",
            "1  In his teen years, Obama has been kwn to use m...       0\n",
            "2  IPA ontules President Barack Obama for Leaders...       0\n",
            "3  RT @Professor_Why: #WhatsRomneyHiding - his co...       0\n",
            "4  RT @wardollarshome: Obama has approved more ta...       1\n",
            "5  Video shows federal officials joking about cos...       0\n",
            "6  one Chicago kid who sa \"Obama is my man\" tells...       0\n",
            "7  RT @ohgirlphrase: American kid \"You're from th...       0\n",
            "8  A valid explanation for why ama won't let wome...       1\n",
            "9  President Obama &lt; Lindsay Loh RUMORS beginn...       0\n"
          ],
          "name": "stdout"
        }
      ]
    },
    {
      "cell_type": "code",
      "metadata": {
        "colab": {
          "base_uri": "https://localhost:8080/"
        },
        "id": "imGwKlbFCBCB",
        "outputId": "f079d471-d8a3-426f-8b73-927c9a771dea"
      },
      "source": [
        "tweet_swap = pd.DataFrame(tweet_data.iloc[:,:]).reset_index().drop(columns=['index']) \n",
        "print(tweet_swap.head())"
      ],
      "execution_count": 11,
      "outputs": [
        {
          "output_type": "stream",
          "text": [
            "                                              tweets  labels\n",
            "0  Obama has called the GOP budget social Darwini...       1\n",
            "1  In his teen years, Obama has been known to use...       0\n",
            "2  IPA Congratulates President Barack Obama for L...       0\n",
            "3  RT @Professor_Why: #WhatsRomneyHiding - his co...       0\n",
            "4  RT @wardollarshome: Obama has approved more ta...       1\n"
          ],
          "name": "stdout"
        }
      ]
    },
    {
      "cell_type": "code",
      "metadata": {
        "id": "jj36W8t_f4_T"
      },
      "source": [
        "def swap(tweet_swap):\n",
        "  for i in tweet_swap.index:\n",
        "    words = tweet_swap['tweets'][i].split()\n",
        "    if len(words) <=1:\n",
        "      continue\n",
        "    swapped_array = random_swap(words)\n",
        "    tweet_swap['tweets'][i] = ' '.join([str(elem) for elem in swapped_array])\n",
        "  return tweet_swap"
      ],
      "execution_count": 12,
      "outputs": []
    },
    {
      "cell_type": "code",
      "metadata": {
        "colab": {
          "base_uri": "https://localhost:8080/",
          "height": 340
        },
        "id": "AchnimM-f0bl",
        "outputId": "5737b92e-6ff2-4a0e-a908-95b85a8c2041"
      },
      "source": [
        "tweet_swap = swap(tweet_swap)\n",
        "tweet_swap.head(6)"
      ],
      "execution_count": 13,
      "outputs": [
        {
          "output_type": "stream",
          "text": [
            "/usr/local/lib/python3.7/dist-packages/ipykernel_launcher.py:7: SettingWithCopyWarning: \n",
            "A value is trying to be set on a copy of a slice from a DataFrame\n",
            "\n",
            "See the caveats in the documentation: https://pandas.pydata.org/pandas-docs/stable/user_guide/indexing.html#returning-a-view-versus-a-copy\n",
            "  import sys\n"
          ],
          "name": "stderr"
        },
        {
          "output_type": "execute_result",
          "data": {
            "text/html": [
              "<div>\n",
              "<style scoped>\n",
              "    .dataframe tbody tr th:only-of-type {\n",
              "        vertical-align: middle;\n",
              "    }\n",
              "\n",
              "    .dataframe tbody tr th {\n",
              "        vertical-align: top;\n",
              "    }\n",
              "\n",
              "    .dataframe thead th {\n",
              "        text-align: right;\n",
              "    }\n",
              "</style>\n",
              "<table border=\"1\" class=\"dataframe\">\n",
              "  <thead>\n",
              "    <tr style=\"text-align: right;\">\n",
              "      <th></th>\n",
              "      <th>tweets</th>\n",
              "      <th>labels</th>\n",
              "    </tr>\n",
              "  </thead>\n",
              "  <tbody>\n",
              "    <tr>\n",
              "      <th>0</th>\n",
              "      <td>try, has called the budget Nice in Darwinism. ...</td>\n",
              "      <td>1</td>\n",
              "    </tr>\n",
              "    <tr>\n",
              "      <th>1</th>\n",
              "      <td>cocaine. known marijuana years, Obama has use ...</td>\n",
              "      <td>0</td>\n",
              "    </tr>\n",
              "    <tr>\n",
              "      <th>2</th>\n",
              "      <td>05, Congratulates IPA Regarding (BUSINESS for ...</td>\n",
              "      <td>0</td>\n",
              "    </tr>\n",
              "    <tr>\n",
              "      <th>3</th>\n",
              "      <td>not was #WhatsRomneyHiding - his connection to...</td>\n",
              "      <td>0</td>\n",
              "    </tr>\n",
              "    <tr>\n",
              "      <th>4</th>\n",
              "      <td>RT US Obama has http://t.co/bfC4gbBW prez; tar...</td>\n",
              "      <td>1</td>\n",
              "    </tr>\n",
              "    <tr>\n",
              "      <th>5</th>\n",
              "      <td>cost lavish federal officials joking about Vid...</td>\n",
              "      <td>0</td>\n",
              "    </tr>\n",
              "  </tbody>\n",
              "</table>\n",
              "</div>"
            ],
            "text/plain": [
              "                                              tweets  labels\n",
              "0  try, has called the budget Nice in Darwinism. ...       1\n",
              "1  cocaine. known marijuana years, Obama has use ...       0\n",
              "2  05, Congratulates IPA Regarding (BUSINESS for ...       0\n",
              "3  not was #WhatsRomneyHiding - his connection to...       0\n",
              "4  RT US Obama has http://t.co/bfC4gbBW prez; tar...       1\n",
              "5  cost lavish federal officials joking about Vid...       0"
            ]
          },
          "metadata": {
            "tags": []
          },
          "execution_count": 13
        }
      ]
    },
    {
      "cell_type": "code",
      "metadata": {
        "colab": {
          "base_uri": "https://localhost:8080/"
        },
        "id": "CtBEYFcxgWy4",
        "outputId": "2c1d7272-0887-4270-dedf-a0da8db0a461"
      },
      "source": [
        "print(tweet_data.shape)\n",
        "print(tweet_delete.shape)\n",
        "print(tweet_swap.shape)"
      ],
      "execution_count": 14,
      "outputs": [
        {
          "output_type": "stream",
          "text": [
            "(1364, 2)\n",
            "(1364, 2)\n",
            "(1364, 2)\n"
          ],
          "name": "stdout"
        }
      ]
    },
    {
      "cell_type": "code",
      "metadata": {
        "colab": {
          "base_uri": "https://localhost:8080/"
        },
        "id": "3j4i8YEW5Me1",
        "outputId": "b8d22a27-44c2-4627-dfac-af51d1f8911a"
      },
      "source": [
        "tweet_translated = tweet_data\n",
        "tweet_translated = translate(tweet_translated)\n",
        "print(tweet_translated.shape)"
      ],
      "execution_count": 15,
      "outputs": [
        {
          "output_type": "stream",
          "text": [
            "czech:  Obama nazval rozpočet GOP sociálním darwinismem. Pěkný pokus, ale věří v sociální kreacionismus.\n",
            "Eng:  Obama called the GOP budget social Darwinism. Nice try, but he believes in social creationism.\n",
            "czech:  V jeho dospívání bylo známo, že Obama užíval marihuanu a kokain.\n",
            "Eng:  In his teens, Obama was known to use marijuana and cocaine.\n",
            "czech:  IPA blahopřeje prezidentu Baracku Obamovi k vedení ohledně zákona o pracovních příležitostech: WASHINGTON, 5. dubna 2012 (OBCHODNÍ ... http://t.co/8le3DC8E\n",
            "Eng:  IPA congratulates President Barack Obama on leadership on Job Opportunity Act: WASHINGTON, April 5, 2012 (BUSINESS ... http://t.co/8le3DC8E\n",
            "czech:  RT @Professor_Why: #WhatsRomneyHiding - jeho spojení s příznivci teorie kritické rasy .... No počkej, to byl Obama, ne Romney ...\n",
            "Eng:  RT @Professor_Why: #WhatsRomneyHiding - his connection with supporters of critical race theory .... Well wait, it was Obama, not Romney ...\n",
            "czech:  RT @wardollarshome: Obama schválil cílenější atentáty než jakýkoli moderní americký prezident; READ & RT: http://t.co/bfC4gbBW\n",
            "Eng:  RT @wardollarshome: Obama has approved more targeted assassinations than any modern American president; READ & RT: http://t.co/bfC4gbBW\n",
            "czech:  Video ukazuje, jak federální úředníci žertují o nákladech na bohatou konferenci http://t.co/2i4SmoPM #obama #crime # p2 #news #tcot #teaparty\n",
            "Eng:  Video shows federal officials joking about the cost of a rich conference http://t.co/2i4SmoPM #obama #crime # p2 #news #tcot #teaparty\n",
            "czech:  jedno dítě z Chicaga, které říká „Obama je můj muž“, říká Jesse Wattersovi, že násilí se zbraněmi v Chicagu je jako „světová válka 17“\n",
            "Eng:  a Chicago child who says \"Obama is my husband\" tells Jesse Watters that gun violence in Chicago is like \"World War 17\"\n",
            "czech:  RT @ohgirlphrase: Americké dítě „Jste z Velké Británie? Och, super, takže si dáte čaj s královnou?“. Britské dítě: „Líbí se vám, jdete do Mcdonalds s Obamou?\n",
            "Eng:  RT @ohgirlphrase: American child “Are you from the UK? Oh, great, so will you have tea with the queen? ” British child: “Do you like going to McDonalds with Obama?\n",
            "czech:  Platné vysvětlení, proč Obama nepustí ženy na golfové hřiště. # WhatsRomneyHiding\n",
            "Eng:  A valid explanation for why Obama will not let women on the golf course. # What Romney Hiding\n",
            "czech:  Prezident Obama <Lindsay Lohan RUMOURY začínající křížová světla na ST <1987 Analyst64 DC kurýr na kole <Video se změní na rvačku.\n",
            "Eng:  President Obama <Lindsay Lohan RUMORS starting cross lights on ST <1987 Analyst64 DC courier on bike <Video turns into a brawl.\n",
            "czech:  Obamova výhoda v oblasti pohlaví se rozšiřuje i na státy - dekódováno v roce 2012: Nové podrobnosti o nedávném průzkumu stavu švihu dále ... http://t.co/8iSanDGS\n",
            "Eng:  Obama's gender advantage extends to states - decoded in 2012: New details on a recent swing survey further ... http://t.co/8iSanDGS\n",
            "czech:  # WhatsRomneyHiding? Obamova důstojnost a smysl pro humor? # p2 #tcot\n",
            "Eng:  # WhatsRomneyHiding? Obama's dignity and sense of humor? # p2 #tcot\n",
            "czech:  Jak zvítězí Obama a demokraté v roce 2012: Začněme návratem k nejrůznějším průzkumům veřejného mínění, které zpochybňují ... http://t.co/zpg0TVm3\n",
            "Eng:  How Obama and the Democrats will win in 2012: Let's start by returning to the various polls that question ... http://t.co/zpg0TVm3\n",
            "czech:  RealClearPolitics - Obamova organizační výhoda v plném rozsahu ...: Jako malý, ale voličsky významný stát ... http://t.co/3Ax22aBB\n",
            "Eng:  RealClearPolitics - Obama's organizational advantage in full ...: As a small but electorally important state ... http://t.co/3Ax22aBB\n",
            "czech:  RT @GregWHoward: Obama zdědil (pokud chcete použít jeho chromé znění) dluh 10,6 bilionu dolarů a proměnil jej v 15,2 bilionu dolarů. #tcot # p2 #ocra #teaparty\n",
            "Eng:  RT @GregWHoward: Obama inherited (if you want to use his lame version) a debt of $ 10.6 trillion and turned it into $ 15.2 trillion. #tcot # p2 #ocra #teaparty\n",
            "czech:  RT @ohgirlphrase: Americké dítě „Jste z Velké Británie? Och, super, takže si dáte čaj s královnou?“. Britské dítě: „Líbí se vám, jdete do Mcdonalds s Obamou?\n",
            "Eng:  RT @ohgirlphrase: American child “Are you from the UK? Oh, great, so will you have tea with the queen? ” British child: “Do you like going to McDonalds with Obama?\n",
            "czech:  samozřejmě .. Z toho všeho viním HAARPA, hříšníky, mimozemšťany, Bushe a Obamu. : P .... >> http://t.co/7eq8nebt\n",
            "Eng:  of course .. I blame HAARPA, sinners, aliens, Bush and Obama for all this. : P .... >> http://t.co/7eq8nebt\n",
            "czech:  Pravda podporuje a podporuje Obamu http://t.co/G68JEmkz\n",
            "Eng:  Truth supports and supports Obama http://t.co/G68JEmkz\n",
            "czech:  RT @ mlake9: Milujte, jak kampaň #Obama #WhatsRomneyHiding selhala, nyní #WhatsObamaHiding je trendy. Vidět spoustu tweetů z rodného listu.\n",
            "Eng:  RT @ mlake9: Love how the #Obama #WhatsRomneyHiding campaign failed, now #WhatsObamaHiding is trending. See lots of tweets from the birth certificate.\n",
            "czech:  @katie_larson Byl to Obamův hashtag - konzervativci z toho udělali hru (znovu) :) Je to zábavné;)\n",
            "Eng:  @katie_larson It was Obama's hashtag - the conservatives made it a game (again) :) It's fun;)\n",
            "czech:  RT @FrankConniff: Absolvent Harvardu Romney udeřil Obamu za to, že šel na Harvard. Je dobré vědět, že Mitt Romney nenávidí lidi jako Mitt Romney.\n",
            "Eng:  RT @FrankConniff: Harvard graduate Romney hit Obama for going to Harvard. It's good to know that Mitt Romney hates people like Mitt Romney.\n",
            "czech:  RT @wilycyotee Pres. Obamova trvalá podpora žen je dalším důvodem, proč jsem tak hrdý, že je mým prezidentem! @edshow # Obama2012\n",
            "Eng:  RT @wilycyotee Pres. Obama's continued support for women is another reason why I'm so proud to be my president! @edshow # Obama2012\n",
            "czech:  RT @ohgirlphrase: Americké dítě „Jste z Velké Británie? Och, super, takže si dáte čaj s královnou?“. Britské dítě: „Líbí se vám, jdete do Mcdonalds s Obamou?\n",
            "Eng:  RT @ohgirlphrase: American child “Are you from the UK? Oh, great, so will you have tea with the queen? ” British child: “Do you like going to McDonalds with Obama?\n",
            "czech:  RT @ mlake9: Milujte, jak kampaň #Obama #WhatsRomneyHiding selhala, nyní #WhatsObamaHiding je trendy. Vidět spoustu tweetů z rodného listu.\n",
            "Eng:  RT @ mlake9: Love how the #Obama #WhatsRomneyHiding campaign failed, now #WhatsObamaHiding is trending. See lots of tweets from the birth certificate.\n",
            "czech:  RT @RandallHoven: Nixon chyběl 18 minut. Obamovi chybí 18 let.\n",
            "Eng:  RT @RandallHoven: Nixon was missing 18 minutes. Obama is 18 years old.\n",
            "czech:  #WhatsRomney Skrytí Obamova rodného listu.\n",
            "Eng:  #WhatsRomney Hiding Obama's birth certificate.\n",
            "czech:  @edshow neúcta prezidenta #Obama je založena na rasismu. Nechtějí černého PREZIDENTA. #edshow\n",
            "Eng:  @edshow President's disrespect #Obama is based on racism. They don't want a black PRESIDENT. #edshow\n",
            "czech:  RT @Professor_Why: #WhatsRomneyHiding - jeho plán prosadit špatné půjčky pro zelenou energii, jen aby viděl, jak zkrachují ... Jejda, to je zase Obama!\n",
            "Eng:  RT @Professor_Why: #WhatsRomneyHiding - his plan to push through bad green energy loans just to see them go bankrupt ... Oops, it's Obama again!\n",
            "czech:  Děkujeme za výkřik v této rekapitulaci podpisu #JOBSAct! http://t.co/njCfZuSd přes @MiamiHerald\n",
            "Eng:  Thank you for shouting in this #JOBSAct signature recap! http://t.co/njCfZuSd via @MiamiHerald\n",
            "czech:  RT @haymakers: Když RWers kvílí: „Co dělá Obama s cenami plynu !?“ Řekněte jim: \"Nic. Takhle funguje volný trh. Co jste? Socialista?\"\n",
            "Eng:  RT @haymakers: When RWers howls, \"What is Obama doing with gas prices!\" Tell them, \"Nothing. That's how the free market works. What are you? A socialist?\"\n",
            "czech:  RT @ 0ryuge: #WhatsRomneyHiding Videonahrávka Baracka Obamy sajícího s radikálním Rashidem Khalidim. Počkejte, to je LATimes #VetThePress #VetThePres\n",
            "Eng:  RT @ 0ryuge: #WhatsRomneyHiding Video of Barack Obama sucking with radical Rashid Khalidi. Wait, this is LATimes #VetThePress #VetThePres\n",
            "czech:  #edshow Můj prezident vstává, mluví, bojuje a já jsem tak rád, že si rukavice sundal. OBAMA 2012 @edshow\n",
            "Eng:  #edshow My president gets up, talks, fights, and I'm so glad he took off his gloves. OBAMA 2012 @edshow\n",
            "czech:  Pokud Obama vyhraje volby 2012, počkejte do roku 2016, bude mít plné bílé vlasy! stejně jako Bill Clinton!\n",
            "Eng:  If Obama wins the 2012 election, wait until 2016, he will have full white hair! just like Bill Clinton!\n",
            "czech:  RT @Un_Progressive:. @ ResistTyranny @freegalt Snadné. Obama všechno skrývá. Vždycky.\n",
            "Eng:  RT @Un_Progressive:. @ ResistTyranny @freegalt Easy. Obama is hiding everything. Always.\n",
            "czech:  RT @ EMcLean1982: #WhatsRomney Skrytí Obamových džín\n",
            "Eng:  RT @ EMcLean1982: #WhatsRomney Hiding Obama Jeans\n",
            "czech:  Ani CBS nebude kupovat falešné WH vysvětlení komentářů Obamova nejvyššího soudu - na http://t.co/rkNdEmIy #withnewt #tpn #tcot #tlot #tpp #sgp\n",
            "Eng:  Even CBS won't buy a fake WH explanation of Obama's Supreme Court's comments - at http://t.co/rkNdEmIy #withnewt #tpn #tcot #tlot #tpp #sgp\n",
            "czech:  RT @ Libertarian_76: Nemůžu se dočkat, až se Romney vydá za Obamou na NDAA. OH Počkej.\n",
            "Eng:  RT @ Libertarian_76: I can't wait for Romney to go to Obama for the NDAA. OH Wait.\n",
            "czech:  #KimKardashiansNextBoyFriend Obama lol Michelle se nezúčastní 4 dat\n",
            "Eng:  #KimKardashiansNextBoyFriend Obama lol Michelle is not going to attend 4 dates\n",
            "czech:  Obama a demokraté šokováni ústavním omezením http://t.co/RhSzoEU7 přes @IBDinvestors\n",
            "Eng:  Obama and Democrats shocked by constitutional restrictions http://t.co/RhSzoEU7 via @IBDinvestors\n",
            "czech:  Obama, Romney souhlasí: Přijměte ženy do golfového klubu Augusta: Americký prezident Barack Obama věří, že ženám by mělo být umožněno ... http://t.co/PVKrepqI\n",
            "Eng:  Obama, Romney agree: Admit women to Augusta Golf Club: US President Barack Obama believes that women should be allowed ... http://t.co/PVKrepqI\n",
            "czech:  RT @ohgirlphrase: Americké dítě „Jste z Velké Británie? Och, super, takže si dáte čaj s královnou?“. Britské dítě: „Líbí se vám, jdete do Mcdonalds s Obamou?\n",
            "Eng:  RT @ohgirlphrase: American child “Are you from the UK? Oh, great, so will you have tea with the queen? ” British child: “Do you like going to McDonalds with Obama?\n",
            "czech:  # whatsObamahiding Kryptonite pro Grand Old Party! Obama 2012\n",
            "Eng:  # whatsObamahiding Kryptonite for Grand Old Party! Obama 2012\n",
            "czech:  RT @BunkerBlast: RT @teacherspets Obamův rozpočet: „Úrokové platby překročí obranný rozpočet“ v roce 2019 http://t.co/uddCXCjt\n",
            "Eng:  RT @BunkerBlast: RT @teacherspets Obama's budget: \"Interest payments exceed defense budget\" in 2019 http://t.co/uddCXCjt\n",
            "czech:  @edshow Pravice už navždy pláče kvůli nevolené legislativě soudců z lavičky\n",
            "Eng:  @edshow The right is crying forever because of the unselected legislation of judges from the bench\n",
            "czech:  RT @Kerryepp: #WhatsRomney Skrytí toho, že může házet baseball jako muž a ne jako dívka jako Obama ...\n",
            "Eng:  RT @Kerryepp: #WhatsRomney Hiding that he can throw baseball like a man and not like a girl like Obama ...\n",
            "czech:  RT @ Justgod007: RT @ NBCNews: Prezident Obama podepisuje zákon zakazující obchodování zasvěcených osob členy Kongresu: http://t.co/sCw6mZVz\n",
            "Eng:  RT @ Justgod007: RT @ NBCNews: President Obama signs law banning insider trading by members of Congress: http://t.co/sCw6mZVz\n",
            "czech:  @JoeSixpackSays Our Troops NEED TO COME HOME !!!! PŘINÁŠEJTE NAŠE STROJE HOME NYNÍ OBAMA VÁS BASTARD OORAH SEMPER FI\n",
            "Eng:  @JoeSixpackSays Our Troops NEED TO COME HOME !!!! BRING OUR MACHINES HOME NOW OBAMA YOU BASTARD OORAH SEMPER FI\n",
            "czech:  @BarackObama rád, co skrýváš, Obame?!? Jsi příliš MNOHO !! @MittRomney\n",
            "Eng:  @BarackObama likes what you're hiding, Obama?!? You are too MANY !! @MittRomney\n",
            "czech:  @edshow Pokud je Obama „násilník“ a „tyran“, pak si nejsem jistý, jak říkat Rush Limbaugh a Bill O.\n",
            "Eng:  @edshow If Obama is a \"bully\" and a \"bully,\" then I'm not sure what to say Rush Limbaugh and Bill O.\n",
            "czech:  RT @ohgirlphrase: Americké dítě „Jste z Velké Británie? Och, super, takže si dáte čaj s královnou?“. Britské dítě: „Líbí se vám, jdete do Mcdonalds s Obamou?\n",
            "Eng:  RT @ohgirlphrase: American child “Are you from the UK? Oh, great, so will you have tea with the queen? ” British child: “Do you like going to McDonalds with Obama?\n",
            "czech:  Barack Obama The Pictures Generation, 1974-1984 (Metropolitan Museum of Art): Tato hezká kniha je první spoluprací ... http://t.co/TGgLdkOo\n",
            "Eng:  Barack Obama The Pictures Generation, 1974-1984 (Metropolitan Museum of Art): This pretty book is the first collaboration ... http://t.co/TGgLdkOo\n",
            "czech:  Barack Obama Triumf Caesara: Román starověkého Říma [Se sluchátky do uší] (Playaway Adult Fiction): Římský c ... http://t.co/EbEYonbx\n",
            "Eng:  Barack Obama The Triumph of Caesar: The Novel of Ancient Rome [With Headphones] (Playaway Adult Fiction): The Roman C ... http://t.co/EbEYonbx\n",
            "czech:  Projekt počátečních akcí prezidenta Baracka Obamy Ronalda Reagana: Prezident Ronald Reagan také čelil ekologickému ... http://t.co/8Go8oCpf\n",
            "Eng:  President Barack Obama Ronald Reagan's Initial Action Project: President Ronald Reagan also faced environmental ... http://t.co/8Go8oCpf\n",
            "czech:  RT @TXGaryM: Ano #WHFail RT @ jltho: Tato hashtag #WhatsRomneyHiding je zábavná. Je to další selhávání sociálních médií od Obamovy administrativy?\n",
            "Eng:  RT @TXGaryM: Yes #WHFail RT @ jltho: This hashtag #WhatsRomneyHiding is fun. Is this another social media failure by the Obama administration?\n",
            "czech:  Balíček Barack Obama LONGBOARD CORE 7 \"TRUCKS 76mm BIGFOOT WHEELS: Nejnovější přírůstek do kolekce Bigfoot ... http://t.co/cnHRuUBZ\n",
            "Eng:  Barack Obama Package LONGBOARD CORE 7 \"TRUCKS 76mm BIGFOOT WHEELS: The latest addition to the Bigfoot collection ... http://t.co/cnHRuUBZ\n",
            "czech:  Barack Obama Mir laechelt kein Fruhling, WoO 25 Noty: Digitální noty Mir laechelt kein Fruhling, ... http://t.co/cuHdVHYv\n",
            "Eng:  Barack Obama Mir laechelt kein Fruhling, WoO 25 Sheet music: Digital sheet music Mir laechelt kein Fruhling, ... http://t.co/cuHdVHYv\n",
            "czech:  Obama má na znovuzvolení válečnou hruď za miliardu dolarů. Když jsme skončili s jeho prověřováním, mohlo by to být také Monopoly $ # Resist44\n",
            "Eng:  Obama has a billion-dollar war chest for re-election. When we finished examining it, it could also be Monopoly $ # Resist44\n",
            "czech:  RT @Talkmaster: No, už to chápu. Obama mluvil ve zkratce a my jsme byli příliš hloupí na to, abychom pochopili, jak chytrý ve skutečnosti je. Gagme.\n",
            "Eng:  RT @Talkmaster: Well, I get it. Obama spoke briefly and we were too stupid to understand how clever he really is. Gagme.\n",
            "czech:  #KimKardashiansNextBoyFriend Obama\n",
            "Eng:  #KimKardashiansNextBoyFriend Obama\n",
            "czech:  Tato trendová témata na téma #Obama a #Romney signalizují zahájení prezidentské kampaně. Oficiálně věnovat pozornost.\n",
            "Eng:  These trending themes on #Obama and #Romney signal the start of the presidential campaign. Officially pay attention.\n",
            "czech:  RT @HeidiForLiberty: RT @ Libertarian_76: Nemůžu se dočkat, až Romney půjde po Obamovi na NDAA. OH Počkej\n",
            "Eng:  RT @HeidiForLiberty: RT @ Libertarian_76: I can't wait for Romney to go to the NDAA after Obama. OH Wait\n",
            "czech:  RT @ 1Directionality: „Harry Styles popsal Michelle Obamu jako velmi atraktivní starší ženu.\n",
            "Eng:  RT @ 1Directionality: “Harry Styles described Michelle Obama as a very attractive older woman.\n",
            "czech:  Advokát Mario Apuzzo podal výzvu k hlasování proti Obamovi dnes v New Jersey http://t.co/06rD6lCL\n",
            "Eng:  Lawyer Mario Apuzzo calls for vote against Obama today in New Jersey http://t.co/06rD6lCL\n",
            "czech:  RT @LiberalMel: REPUBLIKÁŘI CHCE ZÍSKAT ZDRAVOTNICTVÍ ZDARMA A POSLAT LIDÉ DO VĚZNICE K BOJOVÁNÍ. REPUBLICANÉ JSOU AHOLES !!! #DEM #OBAMA # OBAMA2012\n",
            "Eng:  RT @LiberalMel: REPUBLICIANS WANT TO GET HEALTHCARE FOR FREE AND SEND PEOPLE TO PRISON FOR FIGHTING. THE REPUBLICANS ARE AHOLES !!! #DEM #OBAMA # OBAMA2012\n",
            "czech:  RT @Tortured_Verse: Romney má DVA Harvardské tituly a říká, že Obama strávil „příliš mnoho času na Harvardu?“ http://t.co/J4bep9Q0 # p2 #tcot #wiunion #ocra # TWISTERS\n",
            "Eng:  RT @Tortured_Verse: Romney has TWO Harvard titles and says Obama spent \"too much time at Harvard?\" Http://t.co/J4bep9Q0 # p2 #tcot #wiunion #ocra # TWISTERS\n",
            "czech:  RT @jennykassan: Prezident Obama: poprvé budou obyčejní Američané moci investovat do společností, kterým věří v #crowdfunding\n",
            "Eng:  RT @jennykassan: President Obama: For the first time, ordinary Americans will be able to invest in companies they believe in #crowdfunding\n",
            "czech:  @ kellieo79 uložte to pro michelle Obamu.\n",
            "Eng:  @ kellieo79 save it for michelle obama.\n",
            "czech:  RT @TrentOn_YouOff: Proč se Barack Obama snaží začít s naším budoucím prezidentem? Mějte respekt k Mitt Romney.\n",
            "Eng:  RT @TrentOn_YouOff: Why is Barack Obama trying to start with our future president? Respect Mitt Romney.\n",
            "czech:  RT @ohgirlphrase: Americké dítě „Jste z Velké Británie? Och, super, takže si dáte čaj s královnou?“. Britské dítě: „Líbí se vám, jdete do Mcdonalds s Obamou?\n",
            "Eng:  RT @ohgirlphrase: American child “Are you from the UK? Oh, great, so will you have tea with the queen? ” British child: “Do you like going to McDonalds with Obama?\n",
            "czech:  #edshow Obama je vášnivý pro zdravotnictví - to z něj nedělá tyrana.\n",
            "Eng:  #edshow Obama is passionate about healthcare - that doesn't make him a bully.\n",
            "czech:  Obama je skvělý prezident. Je čestný, loajální, přátelský, chytrý a chce to NEJLEPŠÍ pro všechny v této zemi, nejen pro bohaté.\n",
            "Eng:  Obama is a great president. He is honest, loyal, friendly, smart and wants the BEST for everyone in this country, not just the rich.\n",
            "czech:  Kulturní příspěvek FSU: Re: Newt or Mitt VS Obama. Může ho některý z nich porazit ?: Jaké části považujete za distu ... http://t.co/ie4ClOp9, na RWD\n",
            "Eng:  FSU Cultural Contribution: Re: Newt or Mitt VS Obama. Can any of them beat him ?: What parts do you consider distra ... http://t.co/ie4ClOp9, on RWD\n",
            "czech:  #newbedon 6. 4. 2012 4:27:33 Obama vyhrál prezidentské volby v sesuvu půdy ... s online hráči http://t.co/L5xqNFfD\n",
            "Eng:  #newbedon Apr 6, 2012 4:27:33 AM Obama wins presidential election in landslide ... with online players http://t.co/L5xqNFfD\n",
            "czech:  Americké dítě „Jste z Velké Británie? Och, super, takže si dáte čaj s královnou?“. Britské dítě: „Líbí se vám, jdete do Mcdonalds s Obamou?\n",
            "Eng:  American Child “Are you from the UK? Oh, great, so will you have tea with the queen? ” British child: “Do you like going to McDonalds with Obama?\n",
            "czech:  RT @WhatTheFFacts: V jeho dospívání bylo známo, že Obama užíval marihuanu a kokain.\n",
            "Eng:  RT @WhatTheFFacts: In his teens, Obama was known to use marijuana and cocaine.\n",
            "czech:  Jediným nekompetentním kandidátem pro rok 2012 je Obama. Hlasujte NoObama v roce 2012\n",
            "Eng:  The only incompetent candidate for 2012 is Obama. Vote NoObama in 2012\n",
            "czech:  RT @ohgirlphrase: Americké dítě „Jste z Velké Británie? Och, super, takže si dáte čaj s královnou?“. Britské dítě: „Líbí se vám, jdete do Mcdonalds s Obamou?\n",
            "Eng:  RT @ohgirlphrase: American child “Are you from the UK? Oh, great, so will you have tea with the queen? ” British child: “Do you like going to McDonalds with Obama?\n",
            "czech:  RT @ohgirlphrase: Americké dítě „Jste z Velké Británie? Och, super, takže si dáte čaj s královnou?“. Britské dítě: „Líbí se vám, jdete do Mcdonalds s Obamou?\n",
            "Eng:  RT @ohgirlphrase: American child “Are you from the UK? Oh, great, so will you have tea with the queen? ” British child: “Do you like going to McDonalds with Obama?\n",
            "czech:  @billmaher Pane Mahere, právě jsem viděl dokumentární kávu HBO horkou kávu. Cítím se tak rozrušený, že potřebujeme další čtyři roky, než prezident Obama získá 1 000%!\n",
            "Eng:  @billmaher Mr. Maher, I just saw a documentary HBO hot coffee. I feel so upset that we need another four years before President Obama gets 1,000%!\n",
            "czech:  RT @ RealNichelle: Miluji, že i většina lidí, kteří nesouhlasí s politikou Presa Obamy, by mohla ocenit, že je Trekker. O tom je IDIC.\n",
            "Eng:  RT @RealNichelle: I love that even most people who disagree with Presa Obama's policy might appreciate being a Trekker. That's what IDIC is about.\n",
            "czech:  RT @ djtechchicago: Zjevně skrývá kopii ústavy Baracka Obamy. # WhatsRomneyHiding\n",
            "Eng:  RT @djtechchicago: Apparently hiding a copy of Barack Obama's constitution. # WhatsRomneyHiding\n",
            "czech:  RT @ohgirlphrase: Americké dítě „Jste z Velké Británie? Och, super, takže si dáte čaj s královnou?“. Britské dítě: „Líbí se vám, jdete do Mcdonalds s Obamou?\n",
            "Eng:  RT @ohgirlphrase: American child “Are you from the UK? Oh, great, so will you have tea with the queen? ” British child: “Do you like going to McDonalds with Obama?\n",
            "czech:  Media Matters & Obama WH In Secret Meetings 2 Create Enemies List http://t.co/UlXo9kp3 #GOP #TCOT #TPP #Patriots #Teaparty #twisters # p2 #RS\n",
            "Eng:  Media Matters & Obama WH In Secret Meetings 2 Create Enemies List http://t.co/UlXo9kp3 #GOP #TCOT #TPP #Patriots #Teaparty #twisters # p2 #RS\n",
            "czech:  Je trumfová karta #Syria Obama, nebo budou civilní jaderné zbraně mít za následek marnější sankce na # Írán? http://t.co/7W5qni2S\n",
            "Eng:  Is the #Syria Obama trump card, or will civilian nuclear weapons result in more futile sanctions on # Iran? http://t.co/7W5qni2S\n",
            "czech:  RT @ markknoller: Obamova kampaň říká, že Romney by měl zveřejnit 23 let daňových přiznání, aby Američané mohli posoudit jakýkoli střet zájmů.\n",
            "Eng:  RT @markknoller: Obama's campaign says Romney should release 23 years of tax returns so Americans can assess any conflict of interest.\n",
            "czech:  Obama říká, že rok 2012 bude „zábavnou debatou“: Prezident Barack Obama říká, že volby v roce 2012 budou „zábavnou debatou“ o ... http://t.co/OGi7SdUq\n",
            "Eng:  Obama says 2012 will be a \"fun debate\": President Barack Obama says the 2012 election will be a \"fun debate\" about ... http://t.co/OGi7SdUq\n",
            "czech:  RT @ChicoDelainky: Mitt Romney zaútočil na prezidenta Obamu kvůli odchodu na Harvard, přesto Romney strávil na Harvardu 4 roky. Co je s tím mužem ?!\n",
            "Eng:  RT @ChicoDelainky: Mitt Romney attacked President Obama to leave for Harvard, yet Romney spent 4 years at Harvard. What's up with that man ?!\n",
            "czech:  RT @ohgirlphrase: Americké dítě „Jste z Velké Británie? Och, super, takže si dáte čaj s královnou?“. Britské dítě: „Líbí se vám, jdete do Mcdonalds s Obamou?\n",
            "Eng:  RT @ohgirlphrase: American child “Are you from the UK? Oh, great, so will you have tea with the queen? ” British child: “Do you like going to McDonalds with Obama?\n",
            "czech:  RT @Fake_Dispatch: Myslím, že jsme všichni ve shodě, že Rick Santorum by mohl porazit Obamu ... na bowlingu.\n",
            "Eng:  RT @Fake_Dispatch: I think we all agree that Rick Santorum could beat Obama ... at a bowling alley.\n",
            "czech:  RT @ohgirlphrase: Americké dítě „Jste z Velké Británie? Och, super, takže si dáte čaj s královnou?“. Britské dítě: „Líbí se vám, jdete do Mcdonalds s Obamou?\n",
            "Eng:  RT @ohgirlphrase: American child “Are you from the UK? Oh, great, so will you have tea with the queen? ” British child: “Do you like going to McDonalds with Obama?\n",
            "czech:  Obama nazval rozpočet GOP sociálním darwinismem. Pěkný pokus, ale věří v sociální kreacionismus.\n",
            "Eng:  Obama called the GOP budget social Darwinism. Nice try, but he believes in social creationism.\n",
            "czech:  V jeho dospívání bylo známo, že Obama užíval marihuanu a kokain.\n",
            "Eng:  In his teens, Obama was known to use marijuana and cocaine.\n",
            "czech:  RT @edshow: Righties call Pres. Obama „násilník“ a „tyran“ za komentáře k jednání o zákonech o zdravotní péči. Komentujte FB nebo pípejte, abychom mohli sdílet na #edshow!\n",
            "Eng:  RT @edshow: Righties call Pres. Obama \"bully\" and \"bully\" for commenting on negotiations on health care laws. Comment on FB or beep so we can share on #edshow!\n",
            "czech:  RT @markknoller: Dnes večer v rámci finanční sbírky kampaně, Pres. Obama znovu odsoudil Mitta Romneyho jménem za jeho podporu domu schváleného rozpočtu GOP.\n",
            "Eng:  RT @markknoller: Tonight as part of the campaign's financial fundraiser, Pres. Obama has again condemned Mitt Romney on behalf of his support of the GOP-approved budget house.\n",
            "czech:  RT @RobertoManzana: Obama je jako nejhorší prezident všech dob,\n",
            "Eng:  RT @RobertoManzana: Obama is like the worst president of all time,\n",
            "czech:  RT @JennyErikson: Obamovy vysokoškolské přepisy. # WhatsRomneyHiding\n",
            "Eng:  RT @JennyErikson: Obama's College Transcripts. # WhatsRomneyHiding\n",
            "czech:  RT @ohgirlphrase: Americké dítě „Jste z Velké Británie? Och, super, takže si dáte čaj s královnou?“. Britské dítě: „Líbí se vám, jdete do Mcdonalds s Obamou?\n",
            "Eng:  RT @ohgirlphrase: American child “Are you from the UK? Oh, great, so will you have tea with the queen? ” British child: “Do you like going to McDonalds with Obama?\n",
            "czech:  RT @ohgirlphrase: Americké dítě „Jste z Velké Británie? Och, super, takže si dáte čaj s královnou?“. Britské dítě: „Líbí se vám, jdete do Mcdonalds s Obamou?\n",
            "Eng:  RT @ohgirlphrase: American child “Are you from the UK? Oh, great, so will you have tea with the queen? ” British child: “Do you like going to McDonalds with Obama?\n",
            "czech:  hlasujte pro prezidenta Baracka Obamu a pokračujme kupředu. @ BarackObama\n",
            "Eng:  vote for President Barack Obama and let's move forward. @BarackObama\n",
            "czech:  Obama schválil cílenější atentáty než jakýkoli moderní americký prezident; READ & RT: http://t.co/bfC4gbBW\n",
            "Eng:  Obama has approved more targeted assassinations than any modern American president; READ & RT: http://t.co/bfC4gbBW\n",
            "czech:  RT @GottaLaff: RT @ markknoller: Pres Obama říká, že to bude velká debata a zábavná debata, protože - říká - má pravdu na své straně.\n",
            "Eng:  RT @GottaLaff: RT @markknoller: Pres Obama says it's going to be a big debate and a fun debate because - he says - he's right on his side.\n",
            "czech:  RT @ohgirlphrase: Americké dítě „Jste z Velké Británie? Och, super, takže si dáte čaj s královnou?“. Britské dítě: „Líbí se vám, jdete do Mcdonalds s Obamou?\n",
            "Eng:  RT @ohgirlphrase: American child “Are you from the UK? Oh, great, so will you have tea with the queen? ” British child: “Do you like going to McDonalds with Obama?\n",
            "czech:  RT @DrewMcKissick: Dapper Dan a hřeben. A rozsáhlý výzkumný soubor oppo o Obamovi. # WhatsRomneyHiding\n",
            "Eng:  RT @DrewMcKissick: Dapper Dan and comb. And an extensive oppo research set about Obama. # WhatsRomneyHiding\n",
            "czech:  @sgaut Architekti debaklu o bydlení byli Schumer, Fwank, Dodd a Obama, kteří přinutili banky půjčit biliony chudým. #edshow\n",
            "Eng:  @sgaut The architects of the housing debacle were Schumer, Fwank, Dodd and Obama, who forced banks to lend trillions to the poor. #edshow\n",
            "czech:  RT @ohgirlphrase: Americké dítě „Jste z Velké Británie? Och, super, takže si dáte čaj s královnou?“. Britské dítě: „Líbí se vám, jdete do Mcdonalds s Obamou?\n",
            "Eng:  RT @ohgirlphrase: American child “Are you from the UK? Oh, great, so will you have tea with the queen? ” British child: “Do you like going to McDonalds with Obama?\n",
            "czech:  NEZNAMENAL TO, CO ŘÍKAL! Obamův profesor ústavního práva točí za něj b / c je čtenář mysli http://t.co/GTmqufBo #tcot #tlot\n",
            "Eng:  IT DIDN'T MEAN WHAT HE SAID! Obama's constitutional law professor spins for him b / c is the reader of the mind http://t.co/GTmqufBo #tcot #tlot\n",
            "czech:  RT @ohgirlphrase: Americké dítě „Jste z Velké Británie? Och, super, takže si dáte čaj s královnou?“. Britské dítě: „Líbí se vám, jdete do Mcdonalds s Obamou?\n",
            "Eng:  RT @ohgirlphrase: American child “Are you from the UK? Oh, great, so will you have tea with the queen? ” British child: “Do you like going to McDonalds with Obama?\n",
            "czech:  @gretawire @WhineNot Toto je nejtransparentnější, jaký Obama od té doby, co byl chycen na otevřené mikrofonu s ruským prezidentem.\n",
            "Eng:  @gretawire @WhineNot This is the most transparent Obama has since been caught on an open microphone with a Russian president.\n",
            "czech:  RT @ohgirlphrase: Americké dítě „Jste z Velké Británie? Och, super, takže si dáte čaj s královnou?“. Britské dítě: „Líbí se vám, jdete do Mcdonalds s Obamou?\n",
            "Eng:  RT @ohgirlphrase: American child “Are you from the UK? Oh, great, so will you have tea with the queen? ” British child: “Do you like going to McDonalds with Obama?\n",
            "czech:  RT @JeffersonObama: Arianna Huffingtonová při jakékoli příležitosti odstřelila prezidenta Obamu a chválila GOP. Tento obrázek vysvětluje věci. http://t.co/Ov6I5CoS\n",
            "Eng:  RT @JeffersonObama: Arianna Huffington blasted President Obama at every opportunity and praised the GOP. This picture explains things. http://t.co/Ov6I5CoS\n",
            "czech:  Obama podepisuje návrh zákona o podpoře začínajících firem http://t.co/zq6zC4ZO\n",
            "Eng:  Obama signs a bill to support start-ups http://t.co/zq6zC4ZO\n",
            "czech:  RT @ wcptersn: Pokud by Obama byl bílý, byl by Mitt Romney.\n",
            "Eng:  RT @wcptersn: If Obama were white, he would be Mitt Romney.\n",
            "czech:  RT @ HarryFacts1D: '' Harry Styles popisuje Michelle Obama como una mujer muy atractiva. '' OBAMA ESCONDE A TU ESPOSA Y A TUS HIJOS, STYLES VIENE EN CAMINO.\n",
            "Eng:  RT @HarryFacts1D: '' Harry Styles describes Michelle Obama as a very attractive woman. '' OBAMA SHAPES TO YOUR SPOSE AND TO YOUR HIJOS, STYLES VIENE EN CAMINO.\n",
            "czech:  @Fake_Dispatch v žádném případě, obama by mu učil zadek! santorum má slabé paže! lmao\n",
            "Eng:  @Fake_Dispatch by no means, obama would teach him ass! santorum has weak arms! lmao\n",
            "czech:  Nemožné! RT @Fake_Dispatch: Myslím, že jsme všichni ve shodě, že Rick Santorum by mohl porazit Obamu ... na bowlingu.\n",
            "Eng:  Impossible! RT @Fake_Dispatch: I think we all agree that Rick Santorum could beat Obama ... at a bowling alley.\n",
            "czech:  „Back Off“: McConnell varuje, že Obama překročil „nebezpečnou hranici“ - Times 247 http://t.co/dFTjxuKB\n",
            "Eng:  \"Back Off\": McConnell warns Obama has crossed \"dangerous line\" - Times 247 http://t.co/dFTjxuKB\n",
            "czech:  Nemůžu se dočkat, až Romney půjde za Obamou na NDAA. OH Počkej.\n",
            "Eng:  I can't wait for Romney to go to Obama's NDAA. OH Wait.\n",
            "czech:  RT @GottaLaff: RT @ markknoller: Pres Obama řekl „nemůžu se dočkat“ na „velkou důležitou debatu“, kterou o těchto otázkách budeme mít.\n",
            "Eng:  RT @GottaLaff: RT @ markknoller: Pres Obama said \"I can't wait\" for the \"big important debate\" we're going to have on these issues.\n",
            "czech:  RT @ohgirlphrase: Americké dítě „Jste z Velké Británie? Och, super, takže si dáte čaj s královnou?“. Britské dítě: „Líbí se vám, jdete do Mcdonalds s Obamou?\n",
            "Eng:  RT @ohgirlphrase: American child “Are you from the UK? Oh, great, so will you have tea with the queen? ” British child: “Do you like going to McDonalds with Obama?\n",
            "czech:  @ AC360 Prezident Obama je odborník na ústavní právo - udělejte mu uznání a respekt, který si zaslouží. @JaySekulow je nepříjemný.\n",
            "Eng:  @ AC360 President Obama is an expert on constitutional law - give him the recognition and respect he deserves. @JaySekulow is annoying.\n",
            "czech:  RT @MusicandFaith: Soudní hlídka: 500 000 $ z vašich peněz na odeslání Michelle do Afriky http://t.co/DmMaGbBz přes @Po_st\n",
            "Eng:  RT @MusicandFaith: Court Watch: $ 500,000 of your money to send Michelle to Africa http://t.co/DmMaGbBz via @Po_st\n",
            "czech:  RT @PeteXU: Obama chce, aby Romney vydal daňové přiznání, které bude ukazovat efektivní daňovou sazbu pod 15% a jak málo občanů USA rozumí daním.\n",
            "Eng:  RT @PeteXU: Obama wants Romney to issue a tax return that will show an effective tax rate below 15% and how few U.S. citizens understand taxes.\n",
            "czech:  RT @JeffersonObama: 62% amerických Židů by znovu zvolilo Obamu, 4% tvrdí, že Izrael je nejdůležitější otázkou - Haaretz http://t.co/VhURDtdO http://t.co/gIGmn5kE\n",
            "Eng:  RT @JeffersonObama: 62% of American Jews would re-elect Obama, 4% say Israel is the most important issue - Haaretz http://t.co/VhURDtdO http://t.co/gIGmn5kE\n",
            "czech:  RT @ debv219: #edshow Kdykoli Obama řekne pravdu o Gopu, vypískají hoo a nazývají ho tyranem.\n",
            "Eng:  RT @ debv219: #edshow Whenever Obama tells the truth about Gop, they whistle a hoo and call him a tyrant.\n",
            "czech:  #Obama se snaží silnou paži šerifa Joe přinutit, aby zastavil vyšetřování Obamova falešného rodného listu. #GOP #tcot #teaparty\n",
            "Eng:  #Obama tries to force Sheriff Joe's strong arm to stop investigating Obama's fake birth certificate. #GOP #tcot #teaparty\n",
            "czech:  RT @Fake_Dispatch: Myslím, že jsme všichni ve shodě, že Rick Santorum by mohl porazit Obamu ... na bowlingu.\n",
            "Eng:  RT @Fake_Dispatch: I think we all agree that Rick Santorum could beat Obama ... at a bowling alley.\n",
            "czech:  @WhiteHouse @BarackObama Shell žaloval kvůli masivním ropným skvrnám v Nigérii. Prezident Obama: #SaveTheArctic ze společnosti Shell! http://t.co/WI0ajzJX\n",
            "Eng:  @WhiteHouse @BarackObama Shell sued over massive oil spills in Nigeria. President Obama: #SaveTheArctic from Shell! http://t.co/WI0ajzJX\n",
            "czech:  RT @ohgirlphrase: Americké dítě „Jste z Velké Británie? Och, super, takže si dáte čaj s královnou?“. Britské dítě: „Líbí se vám, jdete do Mcdonalds s Obamou?\n",
            "Eng:  RT @ohgirlphrase: American child “Are you from the UK? Oh, great, so will you have tea with the queen? ” British child: “Do you like going to McDonalds with Obama?\n",
            "czech:  „Zákonodárce“, který zákon nikdy nepřijal. „Profesor práva“, který nikdy nepublikoval článek o recenzi zákona ... Je Obama fiktivní? #hhrs\n",
            "Eng:  The \"legislator\" who never passed the law. A \"law professor\" who has never published an article reviewing the law ... Is Obama fictitious? #hhrs\n",
            "czech:  Obama a Cantor se usmívají, protože zákon o zaměstnání je podepsán do práva http://t.co/5ac6zmY0 přes @zite\n",
            "Eng:  Obama and Cantor are smiling because the employment law is signed into law http://t.co/5ac6zmY0 via @zite\n",
            "czech:  @EileenLeft @ Wary12 Toto je od @DavidShuster DŮLEŽITÉ MSM helpRomney se zbavte svých lží. Musíme varovat indické voliče http://t.co/Au49TLVs\n",
            "Eng:  @EileenLeft @ Wary12 This is from @DavidShuster IMPORTANT MSM helpRomney get rid of your lies. We must warn Indian voters http://t.co/Au49TLVs\n",
            "czech:  RT @ohgirlphrase: Americké dítě „Jste z Velké Británie? Och, super, takže si dáte čaj s královnou?“. Britské dítě: „Líbí se vám, jdete do Mcdonalds s Obamou?\n",
            "Eng:  RT @ohgirlphrase: American child “Are you from the UK? Oh, great, so will you have tea with the queen? ” British child: “Do you like going to McDonalds with Obama?\n",
            "czech:  Pokud je Obama „profesorem práva“, jsem Navy SEAL. Jaká fraška! Harvardská právnická nezná Marbury v. Madison? Je to ignorantský pitomec.\n",
            "Eng:  If Obama is a \"law professor,\" I'm a Navy SEAL. What a farce! Harvard Lawyer Doesn't Know Marbury v. Madison? He's an ignorant idiot.\n",
            "czech:  Obama říká, že rok 2012 bude „zábavná debata“: Prezident Barack Obama říká, že volby v roce 2012 budou „zábavná debata“, protože ... http://t.co/RpPh3u0V\n",
            "Eng:  Obama says 2012 will be a \"fun debate\": President Barack Obama says the 2012 election will be a \"fun debate\" because ... http://t.co/RpPh3u0V\n",
            "czech:  No, ještě 4 roky pod Obamou, jestli je to dobrý nebo špatný idk. Ale nemyslím si, že Američané jsou dost hloupí, aby hlasovali pro Romneyho.\n",
            "Eng:  Well, another 4 years under Obama, whether it's a good or bad idk. But I don't think Americans are stupid enough to vote for Romney.\n",
            "czech:  RT @ markknoller: Pres Obama říká, že to bude velká debata a zábavná debata, protože - říká - má pravdu na své straně.\n",
            "Eng:  RT @markknoller: Pres Obama says it's going to be a big debate and a fun debate because - he says - he's right on his side.\n",
            "czech:  Když už mluvíme o plynu. Na otázku, kdo za to může. Řekni mu, že to nemohu zúžit na jedinou osobu. „První člověk celý týden, který neobviňoval Obamu!“\n",
            "Eng:  Speaking of gas. To the question of who is to blame. Tell him I can't narrow it down to a single person. \"The first person in a week who didn't blame Obama!\"\n",
            "czech:  RT @ohgirlphrase: Americké dítě „Jste z Velké Británie? Och, super, takže si dáte čaj s královnou?“. Britské dítě: „Líbí se vám, jdete do Mcdonalds s Obamou?\n",
            "Eng:  RT @ohgirlphrase: American child “Are you from the UK? Oh, great, so will you have tea with the queen? ” British child: “Do you like going to McDonalds with Obama?\n",
            "czech:  Obama věří, že ženy by měly být přijaty k Augustě http://t.co/ltBrqsgc prostřednictvím @edshow\n",
            "Eng:  Obama believes women should be admitted to Augusta http://t.co/ltBrqsgc via @edshow\n",
            "czech:  Dovolte mi, abych to napravil, že nejvyšší soud projednává Obamovu kontrolu zdravotní péče a rozhoduje, zda ji napadnout či nikoli.\n",
            "Eng:  Let me fix that the Supreme Court is hearing Obama's review of health care and deciding whether or not to challenge it.\n",
            "czech:  RT @JeffersonObama: Arianna Huffingtonová při jakékoli příležitosti odstřelila prezidenta Obamu a chválila GOP. Tento obrázek vysvětluje věci. http://t.co/Ov6I5CoS\n",
            "Eng:  RT @JeffersonObama: Arianna Huffington blasted President Obama at every opportunity and praised the GOP. This picture explains things. http://t.co/Ov6I5CoS\n",
            "czech:  Držák na 5. okruh. Obama neřekl, co řekl. Přečtěte si dopis na adrese http://t.co/rkNdEmIy #tcot #tlot #withnewt #prolife #sgp #lnyhbt #tpp\n",
            "Eng:  Holder for the 5th circuit. Obama did not say what he said. Read the letter at http://t.co/rkNdEmIy #tcot #tlot #withnewt #prolife #sgp #lnyhbt #tpp\n",
            "czech:  RT @thinkprogress: Romney, který má dva Harvardské tituly, odstřelí Obamu za to, že na Harvardu strávil „příliš mnoho času“. http://t.co/avbgNT57 #icymi\n",
            "Eng:  RT @thinkprogress: Romney, who has two Harvard titles, blasts Obama for spending \"too much time\" at Harvard. http://t.co/avbgNT57 #icymi\n",
            "czech:  RT @ohgirlphrase: Americké dítě „Jste z Velké Británie? Och, super, takže si dáte čaj s královnou?“. Britské dítě: „Líbí se vám, jdete do Mcdonalds s Obamou?\n",
            "Eng:  RT @ohgirlphrase: American child “Are you from the UK? Oh, great, so will you have tea with the queen? ” British child: “Do you like going to McDonalds with Obama?\n",
            "czech:  RT @HuffPostPol: Jim DeMint nazývá prezidenta Obamu „tyranem“ http://t.co/2kXhMwKY\n",
            "Eng:  RT @HuffPostPol: Jim DeMint calls President Obama a \"tyrant\" http://t.co/2kXhMwKY\n",
            "czech:  RT @Fer_SmilerJB: En el backstage de los KCA's, Harry le pregunto a Michelle Obama como hacia para ordenar pizza desde la Casa Blanca.\n",
            "Eng:  RT @Fer_SmilerJB: At the back of KCA's, Harry told Michelle Obama how to order pizza from Casa Blanca.\n",
            "czech:  RT @ pslweb Schválení demokratů: Zneužití unijního času a peněz http://t.co/l3QGcWds #union #ilwu #seiu #aflcio #demproxy #union #alba\n",
            "Eng:  RT @ pslweb Democrat approval: Misuse of EU time and money http://t.co/l3QGcWds #union #ilwu #seiu #aflcio #demproxy #union #alba\n",
            "czech:  Obamovo podepsání zákona o PRÁCÍCH pravděpodobně neztlumí poplatek za #GOP Je to anti-Jobs http://t.co/4INNVGfC Myslíte? #FoxNews #TeaParty #tcot # p2\n",
            "Eng:  Obama's signing of the WORKS bill probably won't dampen the #GOP fee It's anti-Jobs http://t.co/4INNVGfC Do you think? #FoxNews #TeaParty #tcot # p2\n",
            "czech:  Obama hovoří o tom, že ženy mohou hrát golf, zatímco @MittRomney se stará o to, aby ženy vyživovaly a dávaly jídlo na stůl!\n",
            "Eng:  Obama talks about how women can play golf, while @MittRomney makes sure women feed and put food on the table!\n",
            "czech:  RT @ohgirlphrase: Americké dítě „Jste z Velké Británie? Och, super, takže si dáte čaj s královnou?“. Britské dítě: „Líbí se vám, jdete do Mcdonalds s Obamou?\n",
            "Eng:  RT @ohgirlphrase: American child “Are you from the UK? Oh, great, so will you have tea with the queen? ” British child: “Do you like going to McDonalds with Obama?\n",
            "czech:  RT @ohgirlphrase: Americké dítě „Jste z Velké Británie? Och, super, takže si dáte čaj s královnou?“. Britské dítě: „Líbí se vám, jdete do Mcdonalds s Obamou?\n",
            "Eng:  RT @ohgirlphrase: American child “Are you from the UK? Oh, great, so will you have tea with the queen? ” British child: “Do you like going to McDonalds with Obama?\n",
            "czech:  RT @JoiningForces: Fotografie dne: První dáma Michelle Obama pozdravuje #WoundedWarrior @ Walter Reed v #Bethesda: http://t.co/IwG56RDK\n",
            "Eng:  RT @JoiningForces: Photo of the day: First Lady Michelle Obama greets #WoundedWarrior @ Walter Reed in #Bethesda: http://t.co/IwG56RDK\n",
            "czech:  RT @ohgirlphrase: Americké dítě „Jste z Velké Británie? Och, super, takže si dáte čaj s královnou?“. Britské dítě: „Líbí se vám, jdete do Mcdonalds s Obamou?\n",
            "Eng:  RT @ohgirlphrase: American child “Are you from the UK? Oh, great, so will you have tea with the queen? ” British child: “Do you like going to McDonalds with Obama?\n",
            "czech:  @YungdashK Myslím, že jste narazili docela sami, abyste si mysleli, že si lidé od vás musí vydělat. Nejste sladké tváře Baracka Obamy\n",
            "Eng:  @YungdashK I think you came across quite alone to think that people have to earn money from you. You are not the sweet face of Barack Obama\n",
            "czech:  RT @ohgirlphrase: Americké dítě „Jste z Velké Británie? Och, super, takže si dáte čaj s královnou?“. Britské dítě: „Líbí se vám, jdete do Mcdonalds s Obamou?\n",
            "Eng:  RT @ohgirlphrase: American child “Are you from the UK? Oh, great, so will you have tea with the queen? ” British child: “Do you like going to McDonalds with Obama?\n",
            "czech:  Nejnovější zprávy: Pochod milionů mužů do # Jeruzaléma byl vytvořen a organizován # Obamovými #Globalistickými kontrolory - http://t.co/R80dwTeD\n",
            "Eng:  Recent News: Millions of Men March to # Jerusalem Created and Organized by Obama's # Globalist Controllers - http://t.co/R80dwTeD\n",
            "czech:  RT @ohgirlphrase: Americké dítě „Jste z Velké Británie? Och, super, takže si dáte čaj s královnou?“. Britské dítě: „Líbí se vám, jdete do Mcdonalds s Obamou?\n",
            "Eng:  RT @ohgirlphrase: American child “Are you from the UK? Oh, great, so will you have tea with the queen? ” British child: “Do you like going to McDonalds with Obama?\n",
            "czech:  #Obama 12 'win> Dluh se zvýšil o 87 procent a v roce 2016 dosáhne vrcholu 20 bilionů $\n",
            "Eng:  #Obama 12 'win> Dluh se zvýšil o 87 procent a v roce 2016 dosáhne vrcholu 20 bilionů $\n",
            "czech:  http://t.co/3COJeZ2F  STOP IT!!!\n",
            "Eng:  http://t.co/3COJeZ2F  STOP IT!!!\n",
            "czech:  RT @markknoller: AT a campaign fundraiser tonight, Pres. Obama again denounced Mitt Romney by name for his support of the House-passed GOP Budget.\n",
            "Eng:  RT @markknoller: AT a campaign fundraiser tonight, Pres. Obama again denounced Mitt Romney by name for his support of the House-passed GOP Budget.\n",
            "czech:  RT @dqnickle: I wonder who'd win in a footrace, Barack Obama or Mitt Romney...stereotypes tell me Bam...but those things aren't very reliable are they\n",
            "Eng:  RT @dqnickle: I wonder who'd win in a footrace, Barack Obama or Mitt Romney...stereotypes tell me Bam...but those things aren't very reliable are they\n",
            "czech:  RIGHT SPEAK: LET US NOT FORGET THAT PETTY SANTORUM ENDORSES OBAMA OVER ROMNEY! NOT PRESIDENTIAL! http://t.co/ZqAuGKOd #elections2012 #gop\n",
            "Eng:  RIGHT SPEAK: LET US NOT FORGET THAT PETTY SANTORUM ENDORSES OBAMA OVER ROMNEY! NOT PRESIDENTIAL! http://t.co/ZqAuGKOd #elections2012 #gop\n",
            "czech:  Obama inherited (if you want to use his lame wording) $10.6 trillion in debt and turned it into $15.2 trillion. #tcot #p2 #ocra #teaparty\n",
            "Eng:  Obama inherited (if you want to use his lame wording) $10.6 trillion in debt and turned it into $15.2 trillion. #tcot #p2 #ocra #teaparty\n",
            "czech:  RT @thinkprogress: Romney, who has two Harvard degrees, blasts Obama for spending \"too much time at Harvard.\" http://t.co/avbgNT57 #icymi\n",
            "Eng:  RT @thinkprogress: Romney, who has two Harvard degrees, blasts Obama for spending \"too much time at Harvard.\" http://t.co/avbgNT57 #icymi\n",
            "czech:  RT @ohgirlphrase: American kid \"You're from the UK? Ohhh cool, So do you have tea with the Queen?\". British kid: \"Do you like, go to Mcdonalds with Obama?\n",
            "Eng:  RT @ohgirlphrase: American kid \"You're from the UK? Ohhh cool, So do you have tea with the Queen?\". British kid: \"Do you like, go to Mcdonalds with Obama?\n",
            "czech:  Obamacare passed by 7 votes. For #Obama this is a \"strong majority\". LOL!  http://t.co/tX5Rx9tC #tcot #dem\n",
            "Eng:  Obamacare passed by 7 votes. For #Obama this is a \"strong majority\". LOL!  http://t.co/tX5Rx9tC #tcot #dem\n",
            "czech:  RT @BuckSexton: interesting to see how Obama and co. game housing market to avoid final correction b4 election. millions of homes glutting market = GOP win\n",
            "Eng:  RT @BuckSexton: interesting to see how Obama and co. game housing market to avoid final correction b4 election. millions of homes glutting market = GOP win\n",
            "czech:  RT @ohgirlphrase: American kid \"You're from the UK? Ohhh cool, So do you have tea with the Queen?\". British kid: \"Do you like, go to Mcdonalds with Obama?\n",
            "Eng:  RT @ohgirlphrase: American kid \"You're from the UK? Ohhh cool, So do you have tea with the Queen?\". British kid: \"Do you like, go to Mcdonalds with Obama?\n",
            "czech:  RT @Talkmaster: Oh now I get it. Obama was talking in shorthand and we were just too dumb to understand how smart he really is.  Gagme.\n",
            "Eng:  RT @Talkmaster: Oh now I get it. Obama was talking in shorthand and we were just too dumb to understand how smart he really is.  Gagme.\n",
            "czech:  @WilliamShatner  I just seen the HBO documentary hot coffee.I feel so upset, we need four more years of President Obama 1000% certtain!!!\n",
            "Eng:  @WilliamShatner  I just seen the HBO documentary hot coffee.I feel so upset, we need four more years of President Obama 1000% certtain!!!\n",
            "czech:  @IamDonCheadle In your view,do you believe Obama has been an economic disaster?\n",
            "Eng:  @IamDonCheadle In your view,do you believe Obama has been an economic disaster?\n",
            "czech:  Obama 's hair whole gray!\n",
            "Eng:  Obama 's hair whole gray!\n",
            "czech:  RT @ohgirlphrase: American kid \"You're from the UK? Ohhh cool, So do you have tea with the Queen?\". British kid: \"Do you like, go to Mcdonalds with Obama?\n",
            "Eng:  RT @ohgirlphrase: American kid \"You're from the UK? Ohhh cool, So do you have tea with the Queen?\". British kid: \"Do you like, go to Mcdonalds with Obama?\n",
            "czech:  #WhatsRomneyHiding HE WONDERING.. WHATS OBAMA HIDING?????  remember the most transparent adm in history.. LMBO\n",
            "Eng:  #WhatsRomneyHiding HE WONDERING.. WHATS OBAMA HIDING?????  remember the most transparent adm in history.. LMBO\n",
            "czech:  Sipsey Street Irregulars: Katie Pavlich writes an audio book. #FastandFurious: Barack Obama's Bloodiest Scandal http://t.co/x5vw6vy4\n",
            "Eng:  Sipsey Street Irregulars: Katie Pavlich writes an audio book. #FastandFurious: Barack Obama's Bloodiest Scandal http://t.co/x5vw6vy4\n",
            "czech:  En el backstage de los KCA's, Harry le pregunto a Michelle Obama como hacia para ordenar pizza desde la Casa Blanca.\n",
            "Eng:  En el backstage de los KCA's, Harry le pregunto a Michelle Obama como hacia para ordenar pizza desde la Casa Blanca.\n",
            "czech:  RT @ohgirlphrase: American kid \"You're from the UK? Ohhh cool, So do you have tea with the Queen?\". British kid: \"Do you like, go to Mcdonalds with Obama?\n",
            "Eng:  RT @ohgirlphrase: American kid \"You're from the UK? Ohhh cool, So do you have tea with the Queen?\". British kid: \"Do you like, go to Mcdonalds with Obama?\n",
            "czech:  LaFollette \"we will go to newly elected president Obama and ask for our train back\"\n",
            "Eng:  LaFollette \"we will go to newly elected president Obama and ask for our train back\"\n",
            "czech:  RT @HuffPostPol: Jim DeMint calls President Obama a \"bully\" http://t.co/5xHkGMDg / Soooo out of touch.\n",
            "Eng:  RT @HuffPostPol: Jim DeMint calls President Obama a \"bully\" http://t.co/5xHkGMDg / Soooo out of touch.\n",
            "czech:  RT @MikeLotito15: Alright President Obama needs to pass a law that prohibits anyone and everyone from tweeting about this one direction crap. It will stop now\n",
            "Eng:  RT @MikeLotito15: Alright President Obama needs to pass a law that prohibits anyone and everyone from tweeting about this one direction crap. It will stop now\n",
            "czech:  RT @BandDirFundRais: Is this the same golf course that refused to admit blacks until Tiger Woods? #WomenOnlyCourse #obama #agusta #golf http://t.co/d2tf13n0\n",
            "Eng:  RT @BandDirFundRais: Is this the same golf course that refused to admit blacks until Tiger Woods? #WomenOnlyCourse #obama #agusta #golf http://t.co/d2tf13n0\n",
            "czech:  RT @ohgirlphrase: American kid \"You're from the UK? Ohhh cool, So do you have tea with the Queen?\". British kid: \"Do you like, go to Mcdonalds with Obama?\n",
            "Eng:  RT @ohgirlphrase: American kid \"You're from the UK? Ohhh cool, So do you have tea with the Queen?\". British kid: \"Do you like, go to Mcdonalds with Obama?\n",
            "czech:  @Wozniak1: @edshow Irony is fun: Obama is much friendlier with Muslim Brotherhood than the GOP, but says only later is waging war on women.\n",
            "Eng:  @Wozniak1: @edshow Irony is fun: Obama is much friendlier with Muslim Brotherhood than the GOP, but says only later is waging war on women.\n",
            "czech:  Obama has called the GOP budget social Darwinism. Nice try, but they believe in social creationism.\n",
            "Eng:  Obama has called the GOP budget social Darwinism. Nice try, but they believe in social creationism.\n",
            "czech:  In his teen years, Obama has been known to use marijuana and cocaine.\n",
            "Eng:  In his teen years, Obama has been known to use marijuana and cocaine.\n",
            "czech:  RT @Gabby_Hoffman: We want a president with a spine, not a president with fecklessness. America can do better than Obama. #resist44 #tcot RT if you agree!\n",
            "Eng:  RT @Gabby_Hoffman: We want a president with a spine, not a president with fecklessness. America can do better than Obama. #resist44 #tcot RT if you agree!\n",
            "czech:  RT @ohgirlphrase: American kid \"You're from the UK? Ohhh cool, So do you have tea with the Queen?\". British kid: \"Do you like, go to Mcdonalds with Obama?\n",
            "Eng:  RT @ohgirlphrase: American kid \"You're from the UK? Ohhh cool, So do you have tea with the Queen?\". British kid: \"Do you like, go to Mcdonalds with Obama?\n",
            "czech:  RT @JeffersonObama: Arianna Huffington blasting President Obama at any chance and praising GOP. This pic explains things. http://t.co/Ov6I5CoS\n",
            "Eng:  RT @JeffersonObama: Arianna Huffington blasting President Obama at any chance and praising GOP. This pic explains things. http://t.co/Ov6I5CoS\n",
            "czech:  RT @ohgirlphrase: American kid \"You're from the UK? Ohhh cool, So do you have tea with the Queen?\". British kid: \"Do you like, go to Mcdonalds with Obama?\n",
            "Eng:  RT @ohgirlphrase: American kid \"You're from the UK? Ohhh cool, So do you have tea with the Queen?\". British kid: \"Do you like, go to Mcdonalds with Obama?\n",
            "czech:  Obama Birth Certificate http://t.co/1yZOM5d9\n",
            "Eng:  Obama Birth Certificate http://t.co/1yZOM5d9\n",
            "czech:  RT @Zulu_xo: #KimKardashiansNextBoyFriend Obama?\n",
            "Eng:  RT @Zulu_xo: #KimKardashiansNextBoyFriend Obama?\n",
            "czech:  En el backstage de los KCA's Harry le pregunto a Michelle Obama como hacia para ordenar pizza desde la Casa Blanca #1Dfact\n",
            "Eng:  En el backstage de los KCA's Harry le pregunto a Michelle Obama como hacia para ordenar pizza desde la Casa Blanca #1Dfact\n",
            "czech:  @edshow: Pres. Obama a \"thug\" and \"bully\" well I'm glad he has my back figthing for healthcare for all! #edshow!\n",
            "Eng:  @edshow: Pres. Obama a \"thug\" and \"bully\" well I'm glad he has my back figthing for healthcare for all! #edshow!\n",
            "czech:  RT @derekahunter: I like how Obama asks \"#WhatsRomneyHiding?\" My guess, Obama's crappy college transcripts. #WhatsObamaSmoking? #Caring #p2 @Messina2012\n",
            "Eng:  RT @derekahunter: I like how Obama asks \"#WhatsRomneyHiding?\" My guess, Obama's crappy college transcripts. #WhatsObamaSmoking? #Caring #p2 @Messina2012\n",
            "czech:  RT @markknoller: Pres Obama sayd \"I cannot wait\" for the \"big important debate\" we are going to have on these issues.\n",
            "Eng:  RT @markknoller: Pres Obama sayd \"I cannot wait\" for the \"big important debate\" we are going to have on these issues.\n",
            "czech:  NBC Accuses Federal Judge of Bringing Politics Into Courtroom By Questioning Obama | Media Research Center http://t.co/m3LFBhGY\n",
            "Eng:  NBC Accuses Federal Judge of Bringing Politics Into Courtroom By Questioning Obama | Media Research Center http://t.co/m3LFBhGY\n",
            "czech:  No one thinks Obama sold out today? I do. This was a complete sell out.\n",
            "Eng:  No one thinks Obama sold out today? I do. This was a complete sell out.\n",
            "czech:  @BarackObama i want your real birth certificate obama,And your real college transcripts. Too bad they dont exist! barry the exchange student\n",
            "Eng:  @BarackObama i want your real birth certificate obama,And your real college transcripts. Too bad they dont exist! barry the exchange student\n",
            "czech:  @2happi2bsad Why not obama?\n",
            "Eng:  @2happi2bsad Why not obama?\n",
            "czech:  How Saul Alinsky Taught Obama to Say One Thing and Do the Opposite http://t.co/yg8Wl99P\n",
            "Eng:  How Saul Alinsky Taught Obama to Say One Thing and Do the Opposite http://t.co/yg8Wl99P\n",
            "czech:  What Obama could learn from Muhammad Ali | Stephen M. Walt: http://t.co/T8Mfzi0i\n",
            "Eng:  What Obama could learn from Muhammad Ali | Stephen M. Walt: http://t.co/T8Mfzi0i\n",
            "czech:  @LongLiveShah the time that Obama decide 2 move his ass about mullahs,they'll nuke the whole world&still Obama wants 2 shake hands with them\n",
            "Eng:  @LongLiveShah the time that Obama decide 2 move his ass about mullahs,they'll nuke the whole world&still Obama wants 2 shake hands with them\n",
            "czech:  RT @ohgirlphrase: American kid \"You're from the UK? Ohhh cool, So do you have tea with the Queen?\". British kid: \"Do you like, go to Mcdonalds with Obama?\n",
            "Eng:  RT @ohgirlphrase: American kid \"You're from the UK? Ohhh cool, So do you have tea with the Queen?\". British kid: \"Do you like, go to Mcdonalds with Obama?\n",
            "czech:  RT @ohgirlphrase: American kid \"You're from the UK? Ohhh cool, So do you have tea with the Queen?\". British kid: \"Do you like, go to Mcdonalds with Obama?\n",
            "Eng:  RT @ohgirlphrase: American kid \"You're from the UK? Ohhh cool, So do you have tea with the Queen?\". British kid: \"Do you like, go to Mcdonalds with Obama?\n",
            "czech:  RT @JanOnAmerica: With all the truth that has been exposed about the Obama Administration, you have to wonder why any Americans in... http://t.co/1Pso0ULz\n",
            "Eng:  RT @JanOnAmerica: With all the truth that has been exposed about the Obama Administration, you have to wonder why any Americans in... http://t.co/1Pso0ULz\n",
            "czech:  Mitt Romney's tweets all have something to do with Obama! Like really its not that serious\n",
            "Eng:  Mitt Romney's tweets all have something to do with Obama! Like really its not that serious\n",
            "czech:  Obama's Budget: 'Interest Payments Will Exceed Defense Budget' in 2019 http://t.co/dKy7CI8M\n",
            "Eng:  Obama's Budget: 'Interest Payments Will Exceed Defense Budget' in 2019 http://t.co/dKy7CI8M\n",
            "czech:  \"@edu_castillo: Obama aboga por el ingreso de las mujeres al club de golf de Augusta// mish interesante...\n",
            "Eng:  \"@edu_castillo: Obama aboga por el ingreso de las mujeres al club de golf de Augusta// mish interesante...\n",
            "czech:  RT @MooseOfReason: With a range of opinion from Obama to Romney. MT @markknoller: Pres Obama says \"I cannot wait\" for \"big important debate\" on issues.\n",
            "Eng:  RT @MooseOfReason: With a range of opinion from Obama to Romney. MT @markknoller: Pres Obama says \"I cannot wait\" for \"big important debate\" on issues.\n",
            "czech:  swear i just saw barack obama walking down my street...highly doubtful hahaha #INeedGlasses\n",
            "Eng:  swear i just saw barack obama walking down my street...highly doubtful hahaha #INeedGlasses\n",
            "czech:  RT @against_obama: Obama's illegal alien uncle's drivers license #whatsromneyhiding\n",
            "Eng:  RT @against_obama: Obama's illegal alien uncle's drivers license #whatsromneyhiding\n",
            "czech:  @LeslieMarshall You mean savings...when SCOTUS tells the world that Obama is wrong.ACA is unconstitutional! Are you sure Obama is a lawyer?\n",
            "Eng:  @LeslieMarshall You mean savings...when SCOTUS tells the world that Obama is wrong.ACA is unconstitutional! Are you sure Obama is a lawyer?\n",
            "czech:  Obama 2 versions of his ties 2 #ACORN : At 2008 debate http://t.co/2eaXDiOD - To ACORN: http://t.co/IP2xu3cW #WhatsRomneyHiding #gen44 #tcot\n",
            "Eng:  Obama 2 versions of his ties 2 #ACORN : At 2008 debate http://t.co/2eaXDiOD - To ACORN: http://t.co/IP2xu3cW #WhatsRomneyHiding #gen44 #tcot\n",
            "czech:  \"@SubwayEATTFRESH: WHO HASN'T KIM K DATED??? OBAMA\"\n",
            "Eng:  \"@SubwayEATTFRESH: WHO HASN'T KIM K DATED??? OBAMA\"\n",
            "czech:  #WhatsRomneyHiding - his connection to supporters of Critical Race Theory.... Oh wait, that was Obama, not Romney...\n",
            "Eng:  #WhatsRomneyHiding - his connection to supporters of Critical Race Theory.... Oh wait, that was Obama, not Romney...\n",
            "czech:  @Solameanie Truly & O'Reilly's milquetoast  interview w/that Obama a$$ kisser &socialist (also a race baiter) Marc Lamont Hill was sickening\n",
            "Eng:  @Solameanie Truly & O'Reilly's milquetoast  interview w/that Obama a$$ kisser &socialist (also a race baiter) Marc Lamont Hill was sickening\n",
            "czech:  Obama campaign wants to train army of women http://t.co/48O3o6jd\n",
            "Eng:  Obama campaign wants to train army of women http://t.co/48O3o6jd\n",
            "czech:  I think we are all in agreement that Rick Santorum could beat Obama... at bowling.\n",
            "Eng:  I think we are all in agreement that Rick Santorum could beat Obama... at bowling.\n",
            "czech:  Oh, how fun! Another #Obama-created Hashtag #WhatsRomneyHiding Via @anthropocon\n",
            "Eng:  Oh, how fun! Another #Obama-created Hashtag #WhatsRomneyHiding Via @anthropocon\n",
            "czech:  RT @lilcode45: why does everyone hate on obama?&lt; Cause he aint done shit for us.\n",
            "Eng:  RT @lilcode45: why does everyone hate on obama?&lt; Cause he aint done shit for us.\n",
            "czech:  @Harry_Styles Barack obama should hide his kids and hide his wife\n",
            "Eng:  @Harry_Styles Barack obama should hide his kids and hide his wife\n",
            "czech:  RT @katiehiggins_x: My favourite drawing I've ever received on draw something is Nicole's drawing of Obama. Piece of art that was.\n",
            "Eng:  RT @katiehiggins_x: My favourite drawing I've ever received on draw something is Nicole's drawing of Obama. Piece of art that was.\n",
            "czech:  @edshow President Obama made the federal court look ridiculous, and showed the RW who they truly are.\n",
            "Eng:  @edshow President Obama made the federal court look ridiculous, and showed the RW who they truly are.\n",
            "czech:  RT @thinkprogress: Romney, who has two Harvard degrees, blasts Obama for spending \"too much time at Harvard.\" http://t.co/avbgNT57 #icymi\n",
            "Eng:  RT @thinkprogress: Romney, who has two Harvard degrees, blasts Obama for spending \"too much time at Harvard.\" http://t.co/avbgNT57 #icymi\n",
            "czech:  Romney and Obama agree that Augusta National should allow women to be members? Unthinkable...and bad news for the green coats.\n",
            "Eng:  Romney and Obama agree that Augusta National should allow women to be members? Unthinkable...and bad news for the green coats.\n",
            "czech:  #WhatsRomneyHiding The videotape of Barack Obama sucking up to radical Rashid Khalidi. Oh wait, that's the LATimes #VetThePress #VetThePres\n",
            "Eng:  #WhatsRomneyHiding The videotape of Barack Obama sucking up to radical Rashid Khalidi. Oh wait, that's the LATimes #VetThePress #VetThePres\n",
            "czech:  Interesting take: Obama Misquotes Bible on Wealth Redistribution http://t.co/qGDbGxfg\n",
            "Eng:  Interesting take: Obama Misquotes Bible on Wealth Redistribution http://t.co/qGDbGxfg\n",
            "czech:  RT @JennyErikson: Obama's college transcripts. #WhatsRomneyHiding\n",
            "Eng:  RT @JennyErikson: Obama's college transcripts. #WhatsRomneyHiding\n",
            "czech:  Top News Headlines: Obama Signs JOBS Act http://t.co/fCuFtbWm #business #video\n",
            "Eng:  Top News Headlines: Obama Signs JOBS Act http://t.co/fCuFtbWm #business #video\n",
            "czech:  RT @ohgirlphrase: American kid \"You're from the UK? Ohhh cool, So do you have tea with the Queen?\". British kid: \"Do you like, go to Mcdonalds with Obama?\n",
            "Eng:  RT @ohgirlphrase: American kid \"You're from the UK? Ohhh cool, So do you have tea with the Queen?\". British kid: \"Do you like, go to Mcdonalds with Obama?\n",
            "czech:  Obama seeks to defuse healthcare row with court @ http://t.co/KkaKZGHv...\n",
            "Eng:  Obama seeks to defuse healthcare row with court @ http://t.co/KkaKZGHv...\n",
            "czech:  RT @BelleInABow: Obama doesn't need to be your favorite person, but he's still the President of the United States of America. That always deserves respect.\n",
            "Eng:  RT @BelleInABow: Obama doesn't need to be your favorite person, but he's still the President of the United States of America. That always deserves respect.\n",
            "czech:  RT @LouTommoBum: Michelle Obama invited the boys to her Easter party. l0l\n",
            "Eng:  RT @LouTommoBum: Michelle Obama invited the boys to her Easter party. l0l\n",
            "czech:  @AP 0 because i know the global elite have set up america to fail in the coming years and there doing it through there puppet obama\n",
            "Eng:  @AP 0 because i know the global elite have set up america to fail in the coming years and there doing it through there puppet obama\n",
            "czech:  Interesting take: Obama Misquotes Bible on Wealth Redistribution http://t.co/Z2BCceVk\n",
            "Eng:  Interesting take: Obama Misquotes Bible on Wealth Redistribution http://t.co/Z2BCceVk\n",
            "czech:  @marclamonthill Why aren't you and Obama and others telling kids to stop dressing like thugs in jail.... go to school...don't emulate thugs\n",
            "Eng:  @marclamonthill Why aren't you and Obama and others telling kids to stop dressing like thugs in jail.... go to school...don't emulate thugs\n",
            "czech:  Look For Obama To Approve Keystone Pipeline - Right Before The Election, http://t.co/rVWI6S1Y, #TCOT\n",
            "Eng:  Look For Obama To Approve Keystone Pipeline - Right Before The Election, http://t.co/rVWI6S1Y, #TCOT\n",
            "czech:  RT @robints: Obama Admin cries for tax increases as they applaud China 4 lowering taxes to spur econ grwth. http://t.co/iR2DAMfM Can't make it up! #tcot\n",
            "Eng:  RT @robints: Obama Admin cries for tax increases as they applaud China 4 lowering taxes to spur econ grwth. http://t.co/iR2DAMfM Can't make it up! #tcot\n",
            "czech:  Barack Obama is coming to FAU on Tuesday! :D\n",
            "Eng:  Barack Obama is coming to FAU on Tuesday! :D\n",
            "czech:  RT @GEsfandiari: \"Obama signaled US would accept Iranian civilian nuclear program if Khamenei back up claim #Iran will not pursue nukes\" http://t.co/svxFPoHq\n",
            "Eng:  RT @GEsfandiari: \"Obama signaled US would accept Iranian civilian nuclear program if Khamenei back up claim #Iran will not pursue nukes\" http://t.co/svxFPoHq\n",
            "czech:  RT @handrewschwartz: Ignatius reports Obama signaled Iran US wld accept civ nuke pgm if Khameni can assure Iran will never get nuke weapons http://t.co/KkaAhGPq\n",
            "Eng:  RT @handrewschwartz: Ignatius reports Obama signaled Iran US wld accept civ nuke pgm if Khameni can assure Iran will never get nuke weapons http://t.co/KkaAhGPq\n",
            "czech:  #whatsromneyhiding from obama\n",
            "Eng:  #whatsromneyhiding from obama\n",
            "czech:  @HesDanTheMan @edshow nothing will come of it.  Had it been #obama, the #gop would impeach him. #p2 #edshow\n",
            "Eng:  @HesDanTheMan @edshow nothing will come of it.  Had it been #obama, the #gop would impeach him. #p2 #edshow\n",
            "czech:  Exposing the Obama-Soetoro deception: http://t.co/PFmSWQsU via @AddThis\n",
            "Eng:  Exposing the Obama-Soetoro deception: http://t.co/PFmSWQsU via @AddThis\n",
            "czech:  OBAMA Follows The Quran &gt; Muslims can Lie to the Infidel (US) to Get achieve His Goals&gt; Destruction of the West&gt; #tcot #p2 #ocra #dem #tlot\n",
            "Eng:  OBAMA Follows The Quran &gt; Muslims can Lie to the Infidel (US) to Get achieve His Goals&gt; Destruction of the West&gt; #tcot #p2 #ocra #dem #tlot\n",
            "czech:  RT @blakehounshell: From Ignatius: \"U.S. officials hope [Putin] can broker a Syria deal before he meets Obama at the G-8 summit next month.\"\n",
            "Eng:  RT @blakehounshell: From Ignatius: \"U.S. officials hope [Putin] can broker a Syria deal before he meets Obama at the G-8 summit next month.\"\n",
            "czech:  RT @CatoInstitute: NEW Podcast:  Obama's Vanished Coalition http://t.co/w0cUHRM5  (h/t @COBrown)\n",
            "Eng:  RT @CatoInstitute: NEW Podcast:  Obama's Vanished Coalition http://t.co/w0cUHRM5  (h/t @COBrown)\n",
            "czech:  American kid \"You're from the UK? Ohhh cool, So do you have tea with the Queen?\". British kid: \"Do you like, go to Mcdonalds with Obama?\n",
            "Eng:  American kid \"You're from the UK? Ohhh cool, So do you have tea with the Queen?\". British kid: \"Do you like, go to Mcdonalds with Obama?\n",
            "czech:  @c_o_l_l_e_e_n Obama is ill prepared for the sh*t storm if the Catholics shut down the hospitals and universities\n",
            "Eng:  @c_o_l_l_e_e_n Obama is ill prepared for the sh*t storm if the Catholics shut down the hospitals and universities\n",
            "czech:  Beloit (WI) Daily News:  Obama setting up Supreme Court as a campaign issue . More #Obama #news - http://t.co/WYKgE3LZ\n",
            "Eng:  Beloit (WI) Daily News:  Obama setting up Supreme Court as a campaign issue . More #Obama #news - http://t.co/WYKgE3LZ\n",
            "czech:  @markknoller @obama denounces @mittromney for supporting a budget? Why doesn't @obama denounce the senate for ignoring HIS budget ?\n",
            "Eng:  @markknoller @obama denounces @mittromney for supporting a budget? Why doesn't @obama denounce the senate for ignoring HIS budget ?\n",
            "czech:  RT @JonahNRO: But he got them fast! MT @thinkprogress Romney, who has two Harvard degrees, blasts Obama for spending \"too much time at Harvard.\"\n",
            "Eng:  RT @JonahNRO: But he got them fast! MT @thinkprogress Romney, who has two Harvard degrees, blasts Obama for spending \"too much time at Harvard.\"\n",
            "czech:  I'll survive if America elects Obama again. After all, thats what we're all about. Electing some moron who's kiling everything we believe in\n",
            "Eng:  I'll survive if America elects Obama again. After all, thats what we're all about. Electing some moron who's kiling everything we believe in\n",
            "czech:  RT @markknoller: Pres Obama says it'll be a big debate and a fun debate because - he says - he has the truth on his side.\n",
            "Eng:  RT @markknoller: Pres Obama says it'll be a big debate and a fun debate because - he says - he has the truth on his side.\n",
            "czech:  RT @HeraMing: While #Progressives shout #WarOnWomen at #Republicans, Barack Hussein #Obama hosts Muslim \"Sharia Law\" Brotherhood AT WHITEHOUSE!! WTH?!?!\n",
            "Eng:  RT @HeraMing: While #Progressives shout #WarOnWomen at #Republicans, Barack Hussein #Obama hosts Muslim \"Sharia Law\" Brotherhood AT WHITEHOUSE!! WTH?!?!\n",
            "czech:  #WhatsRomneyHiding the secret handshake. Obama is really mad he wants to know this handshake\n",
            "Eng:  #WhatsRomneyHiding the secret handshake. Obama is really mad he wants to know this handshake\n",
            "czech:  I'd like to read #Obama's #college thesis to find out if he espouses any constitutional conflicts of interest. #tcot #whatsobamahiding #p2\n",
            "Eng:  I'd like to read #Obama's #college thesis to find out if he espouses any constitutional conflicts of interest. #tcot #whatsobamahiding #p2\n",
            "czech:  @mmfa Like the questions the liberal media gives Obama.\n",
            "Eng:  @mmfa Like the questions the liberal media gives Obama.\n",
            "czech:  RT @Creationtips: Ouch! Obama at prayer breakfast: Jesus Is \"A Son of God\". (CNS) | http://t.co/9a1deeP0\n",
            "Eng:  RT @Creationtips: Ouch! Obama at prayer breakfast: Jesus Is \"A Son of God\". (CNS) | http://t.co/9a1deeP0\n",
            "czech:  RT @ohgirlphrase: American kid \"You're from the UK? Ohhh cool, So do you have tea with the Queen?\". British kid: \"Do you like, go to Mcdonalds with Obama?\n",
            "Eng:  RT @ohgirlphrase: American kid \"You're from the UK? Ohhh cool, So do you have tea with the Queen?\". British kid: \"Do you like, go to Mcdonalds with Obama?\n",
            "czech:  RT @SteveDeaceShow: Tonight's show: the Texas Republican Party may be the last line of defense between the Constitution and another four years of Obama.\n",
            "Eng:  RT @SteveDeaceShow: Tonight's show: the Texas Republican Party may be the last line of defense between the Constitution and another four years of Obama.\n",
            "czech:  RT @ohgirlphrase: American kid \"You're from the UK? Ohhh cool, So do you have tea with the Queen?\". British kid: \"Do you like, go to Mcdonalds with Obama?\n",
            "Eng:  RT @ohgirlphrase: American kid \"You're from the UK? Ohhh cool, So do you have tea with the Queen?\". British kid: \"Do you like, go to Mcdonalds with Obama?\n",
            "czech:  President Obama Signs the Jumpstart Our Business Startups (JOBS) Act: An Attempt to Ease Access to Capital and... http://t.co/B2cYIX23\n",
            "Eng:  President Obama Signs the Jumpstart Our Business Startups (JOBS) Act: An Attempt to Ease Access to Capital and... http://t.co/B2cYIX23\n",
            "czech:  #edshow Whenever Obama tells the truth about the Gop, they boo hoo hoo and call him a bully.\n",
            "Eng:  #edshow Whenever Obama tells the truth about the Gop, they boo hoo hoo and call him a bully.\n",
            "czech:  RT @GEsfandiari: \"Obama signaled US would accept Iranian civilian nuclear program if Khamenei back up claim #Iran will not pursue nukes\" http://t.co/svxFPoHq\n",
            "Eng:  RT @GEsfandiari: \"Obama signaled US would accept Iranian civilian nuclear program if Khamenei back up claim #Iran will not pursue nukes\" http://t.co/svxFPoHq\n",
            "czech:  RT @ohgirlphrase: American kid \"You're from the UK? Ohhh cool, So do you have tea with the Queen?\". British kid: \"Do you like, go to Mcdonalds with Obama?\n",
            "Eng:  RT @ohgirlphrase: American kid \"You're from the UK? Ohhh cool, So do you have tea with the Queen?\". British kid: \"Do you like, go to Mcdonalds with Obama?\n",
            "czech:  RT @nprnews Assailing 'Disobedience,' Pope Says Women Will Not Be Ordained http://t.co/sYSnUwUJ Compare to Obama's statement on lady golfers\n",
            "Eng:  RT @nprnews Assailing 'Disobedience,' Pope Says Women Will Not Be Ordained http://t.co/sYSnUwUJ Compare to Obama's statement on lady golfers\n",
            "czech:  #whatsromneyhiding the fact that he is a student of critical race theory? Or is that Obama.....?\n",
            "Eng:  #whatsromneyhiding the fact that he is a student of critical race theory? Or is that Obama.....?\n",
            "czech:  RT @GEsfandiari: \"Obama signaled US would accept Iranian civilian nuclear program if Khamenei back up claim #Iran will not pursue nukes\" http://t.co/svxFPoHq\n",
            "Eng:  RT @GEsfandiari: \"Obama signaled US would accept Iranian civilian nuclear program if Khamenei back up claim #Iran will not pursue nukes\" http://t.co/svxFPoHq\n",
            "czech:  Obama Attacks Justices & Now Must Answer in Court http://t.co/NKCZ0YqD. How anyone can support such a manipulative President?\n",
            "Eng:  Obama Attacks Justices & Now Must Answer in Court http://t.co/NKCZ0YqD. How anyone can support such a manipulative President?\n",
            "czech:  RT @PresElections: The Barack Obama, Mitt Romney budget battle - Ben White http://t.co/gb87afx1 via @newspin\n",
            "Eng:  RT @PresElections: The Barack Obama, Mitt Romney budget battle - Ben White http://t.co/gb87afx1 via @newspin\n",
            "czech:  Obama has called the GOP budget social Darwinism. Nice try, but they believe in social creationism.\n",
            "Eng:  Obama has called the GOP budget social Darwinism. Nice try, but they believe in social creationism.\n",
            "czech:  In his teen years, Obama has been known to use marijuana and cocaine.\n",
            "Eng:  In his teen years, Obama has been known to use marijuana and cocaine.\n",
            "czech:  RT @GEsfandiari: \"Obama signaled US would accept Iranian civilian nuclear program if Khamenei back up claim #Iran will not pursue nukes\" http://t.co/svxFPoHq\n",
            "Eng:  RT @GEsfandiari: \"Obama signaled US would accept Iranian civilian nuclear program if Khamenei back up claim #Iran will not pursue nukes\" http://t.co/svxFPoHq\n",
            "czech:  Van Jones Echoes '08 Hillary Clinton: President Obama, 'A Great... http://t.co/B3b4vkeX\n",
            "Eng:  Van Jones Echoes '08 Hillary Clinton: President Obama, 'A Great... http://t.co/B3b4vkeX\n",
            "czech:  RT @RealClearScott: NH is emblematic of Obama's swing state organization advantage. Already over 30 staffers, 7 offices: http://t.co/X8fkVleu\n",
            "Eng:  RT @RealClearScott: NH is emblematic of Obama's swing state organization advantage. Already over 30 staffers, 7 offices: http://t.co/X8fkVleu\n",
            "czech:  Jim DeMint calls President Obama a \"bully\" http://t.co/2kXhMwKY\n",
            "Eng:  Jim DeMint calls President Obama a \"bully\" http://t.co/2kXhMwKY\n",
            "czech:  Obama Could Face Election-Year Jam on Gay Marriage| http://t.co/aViCL1rV |\n",
            "Eng:  Obama Could Face Election-Year Jam on Gay Marriage| http://t.co/aViCL1rV |\n",
            "czech:  SouthFloridaGayNews.| |#lgbt #p2 #glbt #ssm #queer #gay|\n",
            "Eng:  SouthFloridaGayNews.| |#lgbt #p2 #glbt #ssm #queer #gay|\n",
            "czech:  With a range of opinion from Obama to Romney. MT @markknoller: Pres Obama says \"I cannot wait\" for \"big important debate\" on issues.\n",
            "Eng:  With a range of opinion from Obama to Romney. MT @markknoller: Pres Obama says \"I cannot wait\" for \"big important debate\" on issues.\n",
            "czech:  RT @WhatTheFFacts: In his teen years, Obama has been known to use marijuana and cocaine.\n",
            "Eng:  RT @WhatTheFFacts: In his teen years, Obama has been known to use marijuana and cocaine.\n",
            "czech:  RT @markknoller: Pres Obama sayd \"I cannot wait\" for the \"big important debate\" we are going to have on these issues.\n",
            "Eng:  RT @markknoller: Pres Obama sayd \"I cannot wait\" for the \"big important debate\" we are going to have on these issues.\n",
            "czech:  Obama's Weak-Kneed Regulatory Regime | Common Dreams: http://t.co/IZXRte2e via @AddThis\n",
            "Eng:  Obama's Weak-Kneed Regulatory Regime | Common Dreams: http://t.co/IZXRte2e via @AddThis\n",
            "czech:  RT @ohgirlphrase: American kid \"You're from the UK? Ohhh cool, So do you have tea with the Queen?\". British kid: \"Do you like, go to Mcdonalds with Obama?\n",
            "Eng:  RT @ohgirlphrase: American kid \"You're from the UK? Ohhh cool, So do you have tea with the Queen?\". British kid: \"Do you like, go to Mcdonalds with Obama?\n",
            "czech:  Interesting take: Obama Misquotes Bible on Wealth Redistribution http://t.co/ejpjWjHg\n",
            "Eng:  Interesting take: Obama Misquotes Bible on Wealth Redistribution http://t.co/ejpjWjHg\n",
            "czech:  RT lmfao @_Ciroc_Obama: Wonder if @PRINCE_POLO know Rihanna in that new movie battleship who am I kidding of course his groupie ass knew lol\n",
            "Eng:  RT lmfao @_Ciroc_Obama: Wonder if @PRINCE_POLO know Rihanna in that new movie battleship who am I kidding of course his groupie ass knew lol\n",
            "czech:  Interesting take: Obama Misquotes Bible on Wealth Redistribution http://t.co/FNPrvVDK\n",
            "Eng:  Interesting take: Obama Misquotes Bible on Wealth Redistribution http://t.co/FNPrvVDK\n",
            "czech:  #KimKardashiansNextBoyFriend Obama?\n",
            "Eng:  #KimKardashiansNextBoyFriend Obama?\n",
            "czech:  Obey: Obama still not satisfied with the lapdog press (@times247)  http://t.co/FVcoWj7p\n",
            "Eng:  Obey: Obama still not satisfied with the lapdog press (@times247)  http://t.co/FVcoWj7p\n",
            "czech:  Obama says knock you out -- http://t.co/PUZRq7HU #screwytees\n",
            "Eng:  Obama says knock you out -- http://t.co/PUZRq7HU #screwytees\n",
            "czech:  RT @HonestConservat: EXCLUSIVE Selma Bouvier w 3 am Kagan 2 Obama call http://t.co/JdrQZSJr THE SHREW @SgtTim911\n",
            "Eng:  RT @HonestConservat: EXCLUSIVE Selma Bouvier w 3 am Kagan 2 Obama call http://t.co/JdrQZSJr THE SHREW @SgtTim911\n",
            "czech:  RT @djtechchicago: Apparently, he's hiding Barack Obama's copy of the Constitution. #WhatsRomneyHiding\n",
            "Eng:  RT @djtechchicago: Apparently, he's hiding Barack Obama's copy of the Constitution. #WhatsRomneyHiding\n",
            "czech:  #WhatsRomneyHiding Michelle Obama's divorce attorney on speed dial?\n",
            "Eng:  #WhatsRomneyHiding Michelle Obama's divorce attorney on speed dial?\n",
            "czech:  Obama is a puppet for America. There's more to his face and words.\n",
            "Eng:  Obama is a puppet for America. There's more to his face and words.\n",
            "czech:  RT @JeffersonObama: Arianna Huffington blasting President Obama at any chance and praising GOP. This pic explains things. http://t.co/Ov6I5CoS\n",
            "Eng:  RT @JeffersonObama: Arianna Huffington blasting President Obama at any chance and praising GOP. This pic explains things. http://t.co/Ov6I5CoS\n",
            "czech:  RT @charlesdavis84: All those people with Obama logos on their avatar? If someone could do that for me but with the Pepsi logo I'd appreciate it.\n",
            "Eng:  RT @charlesdavis84: All those people with Obama logos on their avatar? If someone could do that for me but with the Pepsi logo I'd appreciate it.\n",
            "czech:  @edshow #edshow Obama is the one looking out for women the GOP is in fiction world\n",
            "Eng:  @edshow #edshow Obama is the one looking out for women the GOP is in fiction world\n",
            "czech:  GOP calls Pres. Obama a Thug and we wonder why #TrayvonMartin / was killed\n",
            "Eng:  GOP calls Pres. Obama a Thug and we wonder why #TrayvonMartin / was killed\n",
            "czech:  @BaisdenLive Look at the Barack Obama Chicken Nugget on ebay. You are not going to believe this. Why is this allowed?\n",
            "Eng:  @BaisdenLive Look at the Barack Obama Chicken Nugget on ebay. You are not going to believe this. Why is this allowed?\n",
            "czech:  RT @Professor_Why: #WhatsRomneyHiding - his willingness to tell police officers they \"acted stupidly\" w/out knowing the facts... Oh wait, that's Obama again!\n",
            "Eng:  RT @Professor_Why: #WhatsRomneyHiding - his willingness to tell police officers they \"acted stupidly\" w/out knowing the facts... Oh wait, that's Obama again!\n",
            "czech:  RT @markknoller: Pres Obama says it'll be a big debate and a fun debate because - he says - he has the truth on his side.\n",
            "Eng:  RT @markknoller: Pres Obama says it'll be a big debate and a fun debate because - he says - he has the truth on his side.\n",
            "czech:  White House in damage control over Obama Supreme Court remarks: The White House was forced on the defensive on W... http://t.co/2Yy8Srct\n",
            "Eng:  White House in damage control over Obama Supreme Court remarks: The White House was forced on the defensive on W... http://t.co/2Yy8Srct\n",
            "czech:  RT @ForAmerica: McCaskill Calls For Obama to Release Day&Half Supply of Oil From SPR via @MOPNS But Biden says oil policy is \"best it's ever been\" #MOsen\n",
            "Eng:  RT @ForAmerica: McCaskill Calls For Obama to Release Day&Half Supply of Oil From SPR via @MOPNS But Biden says oil policy is \"best it's ever been\" #MOsen\n",
            "czech:  a  large number of #GOP women will vote for #Obama #edshow\n",
            "Eng:  a  large number of #GOP women will vote for #Obama #edshow\n",
            "czech:  Obama on the offensive! RT @BarackObama: So what's Romney hiding? Tweet @MittRomney to demand he release his tax returns. #WhatsRomneyHiding\n",
            "Eng:  Obama on the offensive! RT @BarackObama: So what's Romney hiding? Tweet @MittRomney to demand he release his tax returns. #WhatsRomneyHiding\n",
            "czech:  Obama's college transcripts. #WhatsRomneyHiding\n",
            "Eng:  Obama's college transcripts. #WhatsRomneyHiding\n",
            "czech:  RT @ohgirlphrase: American kid \"You're from the UK? Ohhh cool, So do you have tea with the Queen?\". British kid: \"Do you like, go to Mcdonalds with Obama?\n",
            "Eng:  RT @ohgirlphrase: American kid \"You're from the UK? Ohhh cool, So do you have tea with the Queen?\". British kid: \"Do you like, go to Mcdonalds with Obama?\n",
            "czech:  You want others to know how you feel and say sorry without you telling them what's wrong. Last time I checked, Obama is still president :/\n",
            "Eng:  You want others to know how you feel and say sorry without you telling them what's wrong. Last time I checked, Obama is still president :/\n",
            "czech:  RT @astroterf: RT @scarlett_0hara: RT @rightchange2012: Veteran groups blast Obama's plan 2 double (cont) http://t.co/ZuKdTidE\n",
            "Eng:  RT @astroterf: RT @scarlett_0hara: RT @rightchange2012: Veteran groups blast Obama's plan 2 double (cont) http://t.co/ZuKdTidE\n",
            "czech:  @maddow Rachel I just seen the HBO documentary hot coffee.I feel so upset, we need four more years of President Obama 1000% certtain!\n",
            "Eng:  @maddow Rachel I just seen the HBO documentary hot coffee.I feel so upset, we need four more years of President Obama 1000% certtain!\n",
            "czech:  American kid \"You're from the UK? Ohhh cool, So do you have tea with the Queen?\". British kid: \"Do you like, go to Mcdonalds with Obama?\n",
            "Eng:  American kid \"You're from the UK? Ohhh cool, So do you have tea with the Queen?\". British kid: \"Do you like, go to Mcdonalds with Obama?\n",
            "czech:  Obama Is Like The Worst President Ever ,\n",
            "Eng:  Obama Is Like The Worst President Ever ,\n",
            "czech:  RT @yahoo_music: Madonna Tweets Britney, Katy, Skrillex And Obama, Plus Exclusive Ultra Music Fest Video! http://t.co/EteMGqKk\n",
            "Eng:  RT @yahoo_music: Madonna Tweets Britney, Katy, Skrillex And Obama, Plus Exclusive Ultra Music Fest Video! http://t.co/EteMGqKk\n",
            "czech:  RT @keder: His record includes making businesses profitable, instead of bankrupting and extorting them. (Unlike Obama) #WhatsRomneyHiding\n",
            "Eng:  RT @keder: His record includes making businesses profitable, instead of bankrupting and extorting them. (Unlike Obama) #WhatsRomneyHiding\n",
            "czech:  One Direction Tolak Undangan Michelle Obama! http://t.co/S8lPX0SZ [Like it? http://t.co/WIDZGjRj ]\n",
            "Eng:  One Direction Tolak Undangan Michelle Obama! http://t.co/S8lPX0SZ [Like it? http://t.co/WIDZGjRj ]\n",
            "czech:  whats up with the obama trend ? Leave the man alone ! Hes done ALOT\n",
            "Eng:  whats up with the obama trend ? Leave the man alone ! Hes done ALOT\n",
            "czech:  President Obama is coming to FAU April 10 &gt;__&lt; parking is going to be worse than it already is... @nicholle_\n",
            "Eng:  President Obama is coming to FAU April 10 &gt;__&lt; parking is going to be worse than it already is... @nicholle_\n",
            "czech:  My favourite drawing I've ever received on draw something is Nicole's drawing of Obama. Piece of art that was.\n",
            "Eng:  My favourite drawing I've ever received on draw something is Nicole's drawing of Obama. Piece of art that was.\n",
            "czech:  RT @GEsfandiari: \"Obama signaled US would accept Iranian civilian nuclear program if Khamenei back up claim #Iran will not pursue nuk...\n",
            "Eng:  RT @GEsfandiari: \"Obama signaled US would accept Iranian civilian nuclear program if Khamenei back up claim #Iran will not pursue nuk...\n",
            "czech:  How come Barack Obama has twitter? Some illuminati trying to disguise himself. He puts voodoo on his followers\n",
            "Eng:  How come Barack Obama has twitter? Some illuminati trying to disguise himself. He puts voodoo on his followers\n",
            "czech:  RT @ohgirlphrase: American kid \"You're from the UK? Ohhh cool, So do you have tea with the Queen?\". British kid: \"Do you like, go to Mcdonalds with Obama?\n",
            "Eng:  RT @ohgirlphrase: American kid \"You're from the UK? Ohhh cool, So do you have tea with the Queen?\". British kid: \"Do you like, go to Mcdonalds with Obama?\n",
            "czech:  RT @17bbomb: @geoff9cow Right! Of course! It's ALWAYS someone else's fault when it comes to Obama! / about 95% is. very good odds, too.\n",
            "Eng:  RT @17bbomb: @geoff9cow Right! Of course! It's ALWAYS someone else's fault when it comes to Obama! / about 95% is. very good odds, too.\n",
            "czech:  RT @ridiamond: WORD!! \"Obama's Organizational Advantage on Full Display in N.H.\"\n",
            "Eng:  RT @ridiamond: WORD!! \"Obama's Organizational Advantage on Full Display in N.H.\"\n",
            "czech:  Obama Signs Rare Bipartisan Jobs Bill: http://t.co/W761OyXD via @youtube\n",
            "Eng:  Obama Signs Rare Bipartisan Jobs Bill: http://t.co/W761OyXD via @youtube\n",
            "czech:  RT @ohgirlphrase: American kid \"You're from the UK? Ohhh cool, So do you have tea with the Queen?\". British kid: \"Do you like, go to Mcdonalds with Obama?\n",
            "Eng:  RT @ohgirlphrase: American kid \"You're from the UK? Ohhh cool, So do you have tea with the Queen?\". British kid: \"Do you like, go to Mcdonalds with Obama?\n",
            "czech:  RT @markknoller: Pres Obama sayd \"I cannot wait\" for the \"big important debate\" we are going to have on these issues.\n",
            "Eng:  RT @markknoller: Pres Obama sayd \"I cannot wait\" for the \"big important debate\" we are going to have on these issues.\n",
            "czech:  RT @ohgirlphrase: American kid \"You're from the UK? Ohhh cool, So do you have tea with the Queen?\". British kid: \"Do you like, go to Mcdonalds with Obama?\n",
            "Eng:  RT @ohgirlphrase: American kid \"You're from the UK? Ohhh cool, So do you have tea with the Queen?\". British kid: \"Do you like, go to Mcdonalds with Obama?\n",
            "czech:  RT @ohgirlphrase: American kid \"You're from the UK? Ohhh cool, So do you have tea with the Queen?\". British kid: \"Do you like, go to Mcdonalds with Obama?\n",
            "Eng:  RT @ohgirlphrase: American kid \"You're from the UK? Ohhh cool, So do you have tea with the Queen?\". British kid: \"Do you like, go to Mcdonalds with Obama?\n",
            "czech:  RT @Drudge_Report: Obama setting up Supreme Court as campaign issue... http://t.co/1IiLN01H\n",
            "Eng:  RT @Drudge_Report: Obama setting up Supreme Court as campaign issue... http://t.co/1IiLN01H\n",
            "czech:  @markknoller funny Obama saying Romney should release stuff. Mr birth certificate. mr no college records. must think we are stupid.\n",
            "Eng:  @markknoller funny Obama saying Romney should release stuff. Mr birth certificate. mr no college records. must think we are stupid.\n",
            "czech:  RT @markknoller: Pres Obama says it'll be a big debate and a fun debate because - he says - he has the truth on his side.\n",
            "Eng:  RT @markknoller: Pres Obama says it'll be a big debate and a fun debate because - he says - he has the truth on his side.\n",
            "czech:  RT @mediaite: The Five's Greg Gutfeld: President Obama Isn't A Bully, He's A Whiner (VIDEO) http://t.co/kWBO2rSs\n",
            "Eng:  RT @mediaite: The Five's Greg Gutfeld: President Obama Isn't A Bully, He's A Whiner (VIDEO) http://t.co/kWBO2rSs\n",
            "czech:  President  Obama has the highest office in America yet he hasn't the power to speak freely. So much for the First Amendment! #backoffdummies\n",
            "Eng:  President  Obama has the highest office in America yet he hasn't the power to speak freely. So much for the First Amendment! #backoffdummies\n",
            "czech:  Obey: Obama still not satisfied with the lapdog press http://t.co/4vxMWaZv #wethepeople in the way! #tcot #sgp\n",
            "Eng:  Obey: Obama still not satisfied with the lapdog press http://t.co/4vxMWaZv #wethepeople in the way! #tcot #sgp\n",
            "czech:  RT @MsRock4Ever: GOP is SO desperate and so Frightened of President Obama that they are suppressing votes in several states, but it will cause them loss too.\n",
            "Eng:  RT @MsRock4Ever: GOP is SO desperate and so Frightened of President Obama that they are suppressing votes in several states, but it will cause them loss too.\n",
            "czech:  RT @ohgirlphrase: American kid \"You're from the UK? Ohhh cool, So do you have tea with the Queen?\". British kid: \"Do you like, go to Mcdonalds with Obama?\n",
            "Eng:  RT @ohgirlphrase: American kid \"You're from the UK? Ohhh cool, So do you have tea with the Queen?\". British kid: \"Do you like, go to Mcdonalds with Obama?\n",
            "czech:  RT @TPO_Hisself: For the first time in history, CONTRARY 2 Dr. King's wishes, Obama is calling on voters FOR THE COLOR OF THEIR SKIN! #RACIST! #TREASON!\n",
            "Eng:  RT @TPO_Hisself: For the first time in history, CONTRARY 2 Dr. King's wishes, Obama is calling on voters FOR THE COLOR OF THEIR SKIN! #RACIST! #TREASON!\n",
            "czech:  Today's Federal Debt is about $15.2 Trillion. Obama has added 43% since he usurped the office of POTUS. #tcot #p2 #ocra #teaparty\n",
            "Eng:  Today's Federal Debt is about $15.2 Trillion. Obama has added 43% since he usurped the office of POTUS. #tcot #p2 #ocra #teaparty\n",
            "czech:  RT @TPO_Hisself: For the first time in history, CONTRARY 2 Dr. King's wishes, Obama is calling on voters FOR THE COLOR OF THEIR SKIN! #RACIST! #TREASON!\n",
            "Eng:  RT @TPO_Hisself: For the first time in history, CONTRARY 2 Dr. King's wishes, Obama is calling on voters FOR THE COLOR OF THEIR SKIN! #RACIST! #TREASON!\n",
            "czech:  RT @Talkmaster: Oh now I get it. Obama was talking in shorthand and we were just too dumb to understand how smart he really is.  Gagme.\n",
            "Eng:  RT @Talkmaster: Oh now I get it. Obama was talking in shorthand and we were just too dumb to understand how smart he really is.  Gagme.\n",
            "czech:  RT @susie_c: Latest on #NDAA lawsuit from @sparrowmedia, which has the prettiest website. http://t.co/RQQpZJHd\n",
            "Eng:  RT @susie_c: Latest on #NDAA lawsuit from @sparrowmedia, which has the prettiest website. http://t.co/RQQpZJHd\n",
            "czech:  RT @ohgirlphrase: American kid \"You're from the UK? Ohhh cool, So do you have tea with the Queen?\". British kid: \"Do you like, go to Mcdonalds with Obama?\n",
            "Eng:  RT @ohgirlphrase: American kid \"You're from the UK? Ohhh cool, So do you have tea with the Queen?\". British kid: \"Do you like, go to Mcdonalds with Obama?\n",
            "czech:  Still hoping that #Obama is gonna make some #Romney/Bob Ewell comparison before the night is over. http://t.co/0TBmBaKB #p2\n",
            "Eng:  Still hoping that #Obama is gonna make some #Romney/Bob Ewell comparison before the night is over. http://t.co/0TBmBaKB #p2\n",
            "czech:  RT @LouTommoBum: Michelle Obama invited the boys to her Easter party. l0l\n",
            "Eng:  RT @LouTommoBum: Michelle Obama invited the boys to her Easter party. l0l\n",
            "czech:  RT @PoliticalGal11: Archbishop Dolan: Obama lied to his face. Read at http://t.co/wX1RzFKm #tcot #prolife #tlot #sgp #MSM #tpp #Catholic #lnyhbt #withnewt #army\n",
            "Eng:  RT @PoliticalGal11: Archbishop Dolan: Obama lied to his face. Read at http://t.co/wX1RzFKm #tcot #prolife #tlot #sgp #MSM #tpp #Catholic #lnyhbt #withnewt #army\n",
            "czech:  RT @ohgirlphrase: American kid \"You're from the UK? Ohhh cool, So do you have tea with the Queen?\". British kid: \"Do you like, go to Mcdonalds with Obama?\n",
            "Eng:  RT @ohgirlphrase: American kid \"You're from the UK? Ohhh cool, So do you have tea with the Queen?\". British kid: \"Do you like, go to Mcdonalds with Obama?\n",
            "czech:  After Threatening Judges, GOP Accuses Obama of Judicial Intimidation http://t.co/rHr93J15 via @dailykos -- #Republican #Disinformation\n",
            "Eng:  After Threatening Judges, GOP Accuses Obama of Judicial Intimidation http://t.co/rHr93J15 via @dailykos -- #Republican #Disinformation\n",
            "czech:  click obama related trending topic. racist bullshit every few tweets. [arrested development dove macro]\n",
            "Eng:  click obama related trending topic. racist bullshit every few tweets. [arrested development dove macro]\n",
            "czech:  RT @ItsLoopzProd: LOOOOOOOOOOOOOOOOOOOOOOOOOOOOL This is why i rate obama http://t.co/vsOYFhSa\n",
            "Eng:  RT @ItsLoopzProd: LOOOOOOOOOOOOOOOOOOOOOOOOOOOOL This is why i rate obama http://t.co/vsOYFhSa\n",
            "czech:  RT @HarryFacts1D: ''Harry Styles describe a Michelle Obama como una mujer muy atractiva.'' OBAMA ESCONDE A TU ESPOSA Y A TUS HIJOS, STYLES VIENE EN CAMINO.\n",
            "Eng:  RT @HarryFacts1D: ''Harry Styles describe a Michelle Obama como una mujer muy atractiva.'' OBAMA ESCONDE A TU ESPOSA Y A TUS HIJOS, STYLES VIENE EN CAMINO.\n",
            "czech:  Late Night Jokes: Obama Unqualified to Be a Trekkie: \n",
            "Eng:  Late Night Jokes: Obama Unqualified to Be a Trekkie: \n",
            "czech:  The Tonight Show With Jay Leno\n",
            "Eng:  The Tonight Show With Jay Leno\n",
            "czech:  Congratulations to Mitt Ro... http://t.co/krM3IuSt\n",
            "Eng:  Congratulations to Mitt Ro... http://t.co/krM3IuSt\n",
            "czech:  RT @jltho: This #WhatsRomneyHiding hashtag is entertaining. Is this another social media backfire from the Obama administration?\n",
            "Eng:  RT @jltho: This #WhatsRomneyHiding hashtag is entertaining. Is this another social media backfire from the Obama administration?\n",
            "czech:  Obama: \"To avoid voter fraud, I have authorized $1.5B to hire the Black Panthers for Security at polling places. We are watchigng you\"\n",
            "Eng:  Obama: \"To avoid voter fraud, I have authorized $1.5B to hire the Black Panthers for Security at polling places. We are watchigng you\"\n",
            "czech:  RT @Blondiecakess: Obama's skin color is not a reason to vote for him..\n",
            "Eng:  RT @Blondiecakess: Obama's skin color is not a reason to vote for him..\n",
            "czech:  RT @Our4thEstate: @edshow The President of the United States, Barack Obama, is all that stands between the rights of the 99% & the Party of Koch & Norquist.\n",
            "Eng:  RT @Our4thEstate: @edshow The President of the United States, Barack Obama, is all that stands between the rights of the 99% & the Party of Koch & Norquist.\n",
            "czech:  RT @JeffersonObama: Arianna Huffington blasting President Obama at any chance and praising GOP. This pic explains things. http://t.co/Ov6I5CoS\n",
            "Eng:  RT @JeffersonObama: Arianna Huffington blasting President Obama at any chance and praising GOP. This pic explains things. http://t.co/Ov6I5CoS\n",
            "czech:  #newbedon 4/6/2012 4:25:20 AM Obama Wins Landslide Presidential Election...With Online Gamers http://t.co/JGbJwE9Z\n",
            "Eng:  #newbedon 4/6/2012 4:25:20 AM Obama Wins Landslide Presidential Election...With Online Gamers http://t.co/JGbJwE9Z\n",
            "czech:  Happy Passover, love Obama http://t.co/gHQ3NrWP\n",
            "Eng:  Happy Passover, love Obama http://t.co/gHQ3NrWP\n",
            "czech:  Obama has called the GOP budget social Darwinism. Nice try, but they believe in social creationism.\n",
            "Eng:  Obama has called the GOP budget social Darwinism. Nice try, but they believe in social creationism.\n",
            "czech:  In his teen years, Obama has been known to use marijuana and cocaine.\n",
            "Eng:  In his teen years, Obama has been known to use marijuana and cocaine.\n",
            "czech:  Why Did Obama Invite Al Sharpton to Easter Prayer Breakfast But Not Southern Baptist Leaders? http://t.co/Zgsh2zyo via @theblaze\n",
            "Eng:  Why Did Obama Invite Al Sharpton to Easter Prayer Breakfast But Not Southern Baptist Leaders? http://t.co/Zgsh2zyo via @theblaze\n",
            "czech:  RT @ohgirlphrase: American kid \"You're from the UK? Ohhh cool, So do you have tea with the Queen?\". British kid: \"Do you like, go to Mcdonalds with Obama?\n",
            "Eng:  RT @ohgirlphrase: American kid \"You're from the UK? Ohhh cool, So do you have tea with the Queen?\". British kid: \"Do you like, go to Mcdonalds with Obama?\n",
            "czech:  RT @jmimac351: @EWErickson $4 gas, high unemployment & Obama is worried about Augusta National. This is smoke and mirrors for utter failure. #cantwait2vote\n",
            "Eng:  RT @jmimac351: @EWErickson $4 gas, high unemployment & Obama is worried about Augusta National. This is smoke and mirrors for utter failure. #cantwait2vote\n",
            "czech:  Love how the #Obama campaign's #WhatsRomneyHiding back fired, now #WhatsObamaHiding is trending. Seeing a lot of birth certificate tweets.\n",
            "Eng:  Love how the #Obama campaign's #WhatsRomneyHiding back fired, now #WhatsObamaHiding is trending. Seeing a lot of birth certificate tweets.\n",
            "czech:  #WhatsRomneyHiding Obama's Mom Jeans\n",
            "Eng:  #WhatsRomneyHiding Obama's Mom Jeans\n",
            "czech:  RT @ohgirlphrase: American kid \"You're from the UK? Ohhh cool, So do you have tea with the Queen?\". British kid: \"Do you like, go to Mcdonalds with Obama?\n",
            "Eng:  RT @ohgirlphrase: American kid \"You're from the UK? Ohhh cool, So do you have tea with the Queen?\". British kid: \"Do you like, go to Mcdonalds with Obama?\n",
            "czech:  With all the truth that has been exposed about the Obama Administration, you have to wonder why any Americans in... http://t.co/1Pso0ULz\n",
            "Eng:  With all the truth that has been exposed about the Obama Administration, you have to wonder why any Americans in... http://t.co/1Pso0ULz\n",
            "czech:  Yes #WHFail RT @jltho: This #WhatsRomneyHiding hashtag is entertaining. Is this another social media backfire from the Obama administration?\n",
            "Eng:  Yes #WHFail RT @jltho: This #WhatsRomneyHiding hashtag is entertaining. Is this another social media backfire from the Obama administration?\n",
            "czech:  #Obama Signs \"Fraud-Friendly\" JOBS #Act into Law: http://t.co/j92pfp6T | #business #economist\n",
            "Eng:  #Obama Signs \"Fraud-Friendly\" JOBS #Act into Law: http://t.co/j92pfp6T | #business #economist\n",
            "czech:  RT @ohgirlphrase: American kid \"You're from the UK? Ohhh cool, So do you have tea with the Queen?\". British kid: \"Do you like, go to Mcdonalds with Obama?\n",
            "Eng:  RT @ohgirlphrase: American kid \"You're from the UK? Ohhh cool, So do you have tea with the Queen?\". British kid: \"Do you like, go to Mcdonalds with Obama?\n",
            "czech:  @edshow that's because Obama is a thug and unqualified to be president\n",
            "Eng:  @edshow that's because Obama is a thug and unqualified to be president\n",
            "czech:  RT @ohgirlphrase: American kid \"You're from the UK? Ohhh cool, So do you have tea with the Queen?\". British kid: \"Do you like, go to Mcdonalds with Obama?\n",
            "Eng:  RT @ohgirlphrase: American kid \"You're from the UK? Ohhh cool, So do you have tea with the Queen?\". British kid: \"Do you like, go to Mcdonalds with Obama?\n",
            "czech:  @Bdcochese I'm scared to hear it any anti Obama songs or is uncle AL only against his government when a republicans in office\n",
            "Eng:  @Bdcochese I'm scared to hear it any anti Obama songs or is uncle AL only against his government when a republicans in office\n",
            "czech:  @AustinPaul19 Why's Obama hiding his school record's ?\n",
            "Eng:  @AustinPaul19 Why's Obama hiding his school record's ?\n",
            "czech:  RT @ohgirlphrase: American kid \"You're from the UK? Ohhh cool, So do you have tea with the Queen?\". British kid: \"Do you like, go to Mcdonalds with Obama?\n",
            "Eng:  RT @ohgirlphrase: American kid \"You're from the UK? Ohhh cool, So do you have tea with the Queen?\". British kid: \"Do you like, go to Mcdonalds with Obama?\n",
            "czech:  Obama: If you're a racist and you know it, and you REALLY want to show it, VOTE FOR ME!!   http://t.co/CK84NpUq #TREASON\n",
            "Eng:  Obama: If you're a racist and you know it, and you REALLY want to show it, VOTE FOR ME!!   http://t.co/CK84NpUq #TREASON\n",
            "czech:  RT @blakehounshell: From Ignatius: \"U.S. officials hope [Putin] can broker a Syria deal before he meets Obama at the G-8 summit next month.\"\n",
            "Eng:  RT @blakehounshell: From Ignatius: \"U.S. officials hope [Putin] can broker a Syria deal before he meets Obama at the G-8 summit next month.\"\n",
            "czech:  @Mr_JPatt did you ever read obama's book before he became president?\n",
            "Eng:  @Mr_JPatt did you ever read obama's book before he became president?\n",
            "czech:  I love President Obama @BarackObama\n",
            "Eng:  I love President Obama @BarackObama\n",
            "czech:  RT @ohgirlphrase: American kid \"You're from the UK? Ohhh cool, So do you have tea with the Queen?\". British kid: \"Do you like, go to Mcdonalds with Obama?\n",
            "Eng:  RT @ohgirlphrase: American kid \"You're from the UK? Ohhh cool, So do you have tea with the Queen?\". British kid: \"Do you like, go to Mcdonalds with Obama?\n",
            "czech:  RT @ohgirlphrase: American kid \"You're from the UK? Ohhh cool, So do you have tea with the Queen?\". British kid: \"Do you like, go to Mcdonalds with Obama?\n",
            "Eng:  RT @ohgirlphrase: American kid \"You're from the UK? Ohhh cool, So do you have tea with the Queen?\". British kid: \"Do you like, go to Mcdonalds with Obama?\n",
            "czech:  Obama Warns Unelected Supreme Court Against Striking Down Healthcare & J...: http://t.co/0bk8kViG via @youtube\n",
            "Eng:  Obama Warns Unelected Supreme Court Against Striking Down Healthcare & J...: http://t.co/0bk8kViG via @youtube\n",
            "czech:  @BarackObama Obama vs. the Constitution, the Bill of Rights, the Declaration of Independence, etc...\n",
            "Eng:  @BarackObama Obama vs. the Constitution, the Bill of Rights, the Declaration of Independence, etc...\n",
            "czech:  RT @ohgirlphrase: American kid \"You're from the UK? Ohhh cool, So do you have tea with the Queen?\". British kid: \"Do you like, go to Mcdonalds with Obama?\n",
            "Eng:  RT @ohgirlphrase: American kid \"You're from the UK? Ohhh cool, So do you have tea with the Queen?\". British kid: \"Do you like, go to Mcdonalds with Obama?\n",
            "czech:  RT @Steto33: @edshow Tomorrow's GOP headline: Obama hates golf. #edshow\n",
            "Eng:  RT @Steto33: @edshow Tomorrow's GOP headline: Obama hates golf. #edshow\n",
            "czech:  @markknoller Does Obama really want to dig into Romney's past like that? Wow! It looks like #vetthepresident time. Go Breitbart acolytes!\n",
            "Eng:  @markknoller Does Obama really want to dig into Romney's past like that? Wow! It looks like #vetthepresident time. Go Breitbart acolytes!\n",
            "czech:  Obama is verifiably NUTS &gt; now challenging the legitimacy of the U.S. Supreme Court http://t.co/XliEIxvs #rnc #economy #teabagger\n",
            "Eng:  Obama is verifiably NUTS &gt; now challenging the legitimacy of the U.S. Supreme Court http://t.co/XliEIxvs #rnc #economy #teabagger\n",
            "czech:  RT @ohgirlphrase: American kid \"You're from the UK? Ohhh cool, So do you have tea with the Queen?\". British kid: \"Do you like, go to Mcdonalds with Obama?\n",
            "Eng:  RT @ohgirlphrase: American kid \"You're from the UK? Ohhh cool, So do you have tea with the Queen?\". British kid: \"Do you like, go to Mcdonalds with Obama?\n",
            "czech:  @danwho equalization. That sounds like 'redistribution of wealth' aka another commie plot from Obama.\n",
            "Eng:  @danwho equalization. That sounds like 'redistribution of wealth' aka another commie plot from Obama.\n",
            "czech:  Obama signs JOBS Act to boost startup firms - http://t.co/SELMj7zZ\n",
            "Eng:  Obama signs JOBS Act to boost startup firms - http://t.co/SELMj7zZ\n",
            "czech:  RT @JeffersonObama: 62% of U.S. Jews would reelect Obama, 4% say Israel is most important issue - Haaretz http://t.co/VhURDtdO http://t.co/gIGmn5kE\n",
            "Eng:  RT @JeffersonObama: 62% of U.S. Jews would reelect Obama, 4% say Israel is most important issue - Haaretz http://t.co/VhURDtdO http://t.co/gIGmn5kE\n",
            "czech:  RT @betseyross: Democrats & EPA move to destroy US coal industry http://t.co/NFOS1n9d @ClaireCMC @KayHagan @MarkWarner @SenJimDeMint @MarcoRubio @RandPaul\n",
            "Eng:  RT @betseyross: Democrats & EPA move to destroy US coal industry http://t.co/NFOS1n9d @ClaireCMC @KayHagan @MarkWarner @SenJimDeMint @MarcoRubio @RandPaul\n",
            "czech:  RT @JeffersonObama: Arianna Huffington blasting President Obama at any chance and praising GOP. This pic explains things. http://t.co/Ov6I5CoS\n",
            "Eng:  RT @JeffersonObama: Arianna Huffington blasting President Obama at any chance and praising GOP. This pic explains things. http://t.co/Ov6I5CoS\n",
            "czech:  RT @theblaze: DOJ Issues Letter Clarifying Obama's Remarks: Court's Power to Strike Down Laws 'Beyond Dispute' http://t.co/pAe0TYYI via @theblaze mm\n",
            "Eng:  RT @theblaze: DOJ Issues Letter Clarifying Obama's Remarks: Court's Power to Strike Down Laws 'Beyond Dispute' http://t.co/pAe0TYYI via @theblaze mm\n",
            "czech:  RT @Our4thEstate: @edshow The President of the United States, Barack Obama, is all that stands between the rights of the 99% & the Party of Koch & Norquist.\n",
            "Eng:  RT @Our4thEstate: @edshow The President of the United States, Barack Obama, is all that stands between the rights of the 99% & the Party of Koch & Norquist.\n",
            "czech:  American Kid \"You're From The UK? Ohhh Cool, So Do You Have Tea With The Queen?\". British Kid: \"Do You Like, Go To Mcdonalds With Obama?\"\n",
            "Eng:  American Kid \"You're From The UK? Ohhh Cool, So Do You Have Tea With The Queen?\". British Kid: \"Do You Like, Go To Mcdonalds With Obama?\"\n",
            "czech:  Obama dings men-only Masters host @ http://t.co/kexX62X8 US President Barack Obama says w...\n",
            "Eng:  Obama dings men-only Masters host @ http://t.co/kexX62X8 US President Barack Obama says w...\n",
            "czech:  RT @ohgirlphrase: American kid \"You're from the UK? Ohhh cool, So do you have tea with the Queen?\". British kid: \"Do you like, go to Mcdonalds with Obama?\n",
            "Eng:  RT @ohgirlphrase: American kid \"You're from the UK? Ohhh cool, So do you have tea with the Queen?\". British kid: \"Do you like, go to Mcdonalds with Obama?\n",
            "(400, 2)\n"
          ],
          "name": "stdout"
        }
      ]
    },
    {
      "cell_type": "code",
      "metadata": {
        "colab": {
          "base_uri": "https://localhost:8080/",
          "height": 204
        },
        "id": "vEA9UDc5HSoF",
        "outputId": "5f9aa7a7-7805-4c44-8276-b1bea20b7a90"
      },
      "source": [
        "tweet_data_1 = pd.concat([tweet_data,tweet_swap,tweet_delete,tweet_translated]).reset_index().drop(columns=['index'])\n",
        "tweet_data_1.head()"
      ],
      "execution_count": 16,
      "outputs": [
        {
          "output_type": "execute_result",
          "data": {
            "text/html": [
              "<div>\n",
              "<style scoped>\n",
              "    .dataframe tbody tr th:only-of-type {\n",
              "        vertical-align: middle;\n",
              "    }\n",
              "\n",
              "    .dataframe tbody tr th {\n",
              "        vertical-align: top;\n",
              "    }\n",
              "\n",
              "    .dataframe thead th {\n",
              "        text-align: right;\n",
              "    }\n",
              "</style>\n",
              "<table border=\"1\" class=\"dataframe\">\n",
              "  <thead>\n",
              "    <tr style=\"text-align: right;\">\n",
              "      <th></th>\n",
              "      <th>tweets</th>\n",
              "      <th>labels</th>\n",
              "    </tr>\n",
              "  </thead>\n",
              "  <tbody>\n",
              "    <tr>\n",
              "      <th>0</th>\n",
              "      <td>Obama has called the GOP budget social Darwini...</td>\n",
              "      <td>1</td>\n",
              "    </tr>\n",
              "    <tr>\n",
              "      <th>1</th>\n",
              "      <td>In his teen years, Obama has been known to use...</td>\n",
              "      <td>0</td>\n",
              "    </tr>\n",
              "    <tr>\n",
              "      <th>2</th>\n",
              "      <td>IPA Congratulates President Barack Obama for L...</td>\n",
              "      <td>0</td>\n",
              "    </tr>\n",
              "    <tr>\n",
              "      <th>3</th>\n",
              "      <td>RT @Professor_Why: #WhatsRomneyHiding - his co...</td>\n",
              "      <td>0</td>\n",
              "    </tr>\n",
              "    <tr>\n",
              "      <th>4</th>\n",
              "      <td>RT @wardollarshome: Obama has approved more ta...</td>\n",
              "      <td>1</td>\n",
              "    </tr>\n",
              "  </tbody>\n",
              "</table>\n",
              "</div>"
            ],
            "text/plain": [
              "                                              tweets  labels\n",
              "0  Obama has called the GOP budget social Darwini...       1\n",
              "1  In his teen years, Obama has been known to use...       0\n",
              "2  IPA Congratulates President Barack Obama for L...       0\n",
              "3  RT @Professor_Why: #WhatsRomneyHiding - his co...       0\n",
              "4  RT @wardollarshome: Obama has approved more ta...       1"
            ]
          },
          "metadata": {
            "tags": []
          },
          "execution_count": 16
        }
      ]
    },
    {
      "cell_type": "code",
      "metadata": {
        "colab": {
          "base_uri": "https://localhost:8080/"
        },
        "id": "H3m5BZeCd7vm",
        "outputId": "f6c8acb4-f5b2-4595-902b-85d6ef149b28"
      },
      "source": [
        "tweet_data_1.labels.value_counts()"
      ],
      "execution_count": 17,
      "outputs": [
        {
          "output_type": "execute_result",
          "data": {
            "text/plain": [
              "0    3065\n",
              "1    1165\n",
              "2     262\n",
              "Name: labels, dtype: int64"
            ]
          },
          "metadata": {
            "tags": []
          },
          "execution_count": 17
        }
      ]
    },
    {
      "cell_type": "code",
      "metadata": {
        "colab": {
          "base_uri": "https://localhost:8080/",
          "height": 204
        },
        "id": "cA_t0QyWeBFo",
        "outputId": "5ec0d1c9-d250-4086-a0e0-1a90898ae700"
      },
      "source": [
        "new_tweet_delete_1 = tweet_data_1[tweet_data_1.labels==1].reset_index().drop(columns=['index'])\n",
        "new_tweet_delete_2 = tweet_data_1[tweet_data_1.labels==2].reset_index().drop(columns=['index'])\n",
        "new_tweet_delete = pd.concat([new_tweet_delete_1,new_tweet_delete_2]).reset_index().drop(columns=['index'])\n",
        "new_tweet_delete.head()"
      ],
      "execution_count": 18,
      "outputs": [
        {
          "output_type": "execute_result",
          "data": {
            "text/html": [
              "<div>\n",
              "<style scoped>\n",
              "    .dataframe tbody tr th:only-of-type {\n",
              "        vertical-align: middle;\n",
              "    }\n",
              "\n",
              "    .dataframe tbody tr th {\n",
              "        vertical-align: top;\n",
              "    }\n",
              "\n",
              "    .dataframe thead th {\n",
              "        text-align: right;\n",
              "    }\n",
              "</style>\n",
              "<table border=\"1\" class=\"dataframe\">\n",
              "  <thead>\n",
              "    <tr style=\"text-align: right;\">\n",
              "      <th></th>\n",
              "      <th>tweets</th>\n",
              "      <th>labels</th>\n",
              "    </tr>\n",
              "  </thead>\n",
              "  <tbody>\n",
              "    <tr>\n",
              "      <th>0</th>\n",
              "      <td>Obama has called the GOP budget social Darwini...</td>\n",
              "      <td>1</td>\n",
              "    </tr>\n",
              "    <tr>\n",
              "      <th>1</th>\n",
              "      <td>RT @wardollarshome: Obama has approved more ta...</td>\n",
              "      <td>1</td>\n",
              "    </tr>\n",
              "    <tr>\n",
              "      <th>2</th>\n",
              "      <td>A valid explanation for why Obama won't let wo...</td>\n",
              "      <td>1</td>\n",
              "    </tr>\n",
              "    <tr>\n",
              "      <th>3</th>\n",
              "      <td>Obama's Gender Advantage Extends to the States...</td>\n",
              "      <td>1</td>\n",
              "    </tr>\n",
              "    <tr>\n",
              "      <th>4</th>\n",
              "      <td>Here's How Obama and the Democrats Will Win in...</td>\n",
              "      <td>1</td>\n",
              "    </tr>\n",
              "  </tbody>\n",
              "</table>\n",
              "</div>"
            ],
            "text/plain": [
              "                                              tweets  labels\n",
              "0  Obama has called the GOP budget social Darwini...       1\n",
              "1  RT @wardollarshome: Obama has approved more ta...       1\n",
              "2  A valid explanation for why Obama won't let wo...       1\n",
              "3  Obama's Gender Advantage Extends to the States...       1\n",
              "4  Here's How Obama and the Democrats Will Win in...       1"
            ]
          },
          "metadata": {
            "tags": []
          },
          "execution_count": 18
        }
      ]
    },
    {
      "cell_type": "code",
      "metadata": {
        "colab": {
          "base_uri": "https://localhost:8080/",
          "height": 309
        },
        "id": "rwk2jrxlh_Vo",
        "outputId": "bd3a1952-18dd-4880-bb91-53ed284508a6"
      },
      "source": [
        "new_tweet_delete = delete(new_tweet_delete)\n",
        "new_tweet_delete = swap(new_tweet_delete)\n",
        "new_tweet_delete.head()"
      ],
      "execution_count": 19,
      "outputs": [
        {
          "output_type": "stream",
          "text": [
            "/usr/local/lib/python3.7/dist-packages/ipykernel_launcher.py:7: SettingWithCopyWarning: \n",
            "A value is trying to be set on a copy of a slice from a DataFrame\n",
            "\n",
            "See the caveats in the documentation: https://pandas.pydata.org/pandas-docs/stable/user_guide/indexing.html#returning-a-view-versus-a-copy\n",
            "  import sys\n"
          ],
          "name": "stderr"
        },
        {
          "output_type": "execute_result",
          "data": {
            "text/html": [
              "<div>\n",
              "<style scoped>\n",
              "    .dataframe tbody tr th:only-of-type {\n",
              "        vertical-align: middle;\n",
              "    }\n",
              "\n",
              "    .dataframe tbody tr th {\n",
              "        vertical-align: top;\n",
              "    }\n",
              "\n",
              "    .dataframe thead th {\n",
              "        text-align: right;\n",
              "    }\n",
              "</style>\n",
              "<table border=\"1\" class=\"dataframe\">\n",
              "  <thead>\n",
              "    <tr style=\"text-align: right;\">\n",
              "      <th></th>\n",
              "      <th>tweets</th>\n",
              "      <th>labels</th>\n",
              "    </tr>\n",
              "  </thead>\n",
              "  <tbody>\n",
              "    <tr>\n",
              "      <th>0</th>\n",
              "      <td>called has Obama they believe g GOP social Nic...</td>\n",
              "      <td>1</td>\n",
              "    </tr>\n",
              "    <tr>\n",
              "      <th>1</th>\n",
              "      <td>has @wardollarshome: Obama t approved more tar...</td>\n",
              "      <td>1</td>\n",
              "    </tr>\n",
              "    <tr>\n",
              "      <th>2</th>\n",
              "      <td>Obama the A o why women won't let explanation ...</td>\n",
              "      <td>1</td>\n",
              "    </tr>\n",
              "    <tr>\n",
              "      <th>3</th>\n",
              "      <td>Obama's State Extends Advantage to the Gender ...</td>\n",
              "      <td>1</td>\n",
              "    </tr>\n",
              "    <tr>\n",
              "      <th>4</th>\n",
              "      <td>polls ow and Obama the Democrats Here's Let's ...</td>\n",
              "      <td>1</td>\n",
              "    </tr>\n",
              "  </tbody>\n",
              "</table>\n",
              "</div>"
            ],
            "text/plain": [
              "                                              tweets  labels\n",
              "0  called has Obama they believe g GOP social Nic...       1\n",
              "1  has @wardollarshome: Obama t approved more tar...       1\n",
              "2  Obama the A o why women won't let explanation ...       1\n",
              "3  Obama's State Extends Advantage to the Gender ...       1\n",
              "4  polls ow and Obama the Democrats Here's Let's ...       1"
            ]
          },
          "metadata": {
            "tags": []
          },
          "execution_count": 19
        }
      ]
    },
    {
      "cell_type": "code",
      "metadata": {
        "colab": {
          "base_uri": "https://localhost:8080/"
        },
        "id": "ZCkOu06fktIr",
        "outputId": "70fd02ea-8349-48d0-c7d6-9583867e5b0e"
      },
      "source": [
        "tweet_data = pd.concat([tweet_data_1,new_tweet_delete]).reset_index().drop(columns=['index'])\n",
        "print(tweet_data.head())\n",
        "print(tweet_data.shape)\n",
        "print(tweet_data.labels.value_counts())"
      ],
      "execution_count": 20,
      "outputs": [
        {
          "output_type": "stream",
          "text": [
            "                                              tweets  labels\n",
            "0  Obama has called the GOP budget social Darwini...       1\n",
            "1  In his teen years, Obama has been known to use...       0\n",
            "2  IPA Congratulates President Barack Obama for L...       0\n",
            "3  RT @Professor_Why: #WhatsRomneyHiding - his co...       0\n",
            "4  RT @wardollarshome: Obama has approved more ta...       1\n",
            "(5919, 2)\n",
            "0    3065\n",
            "1    2330\n",
            "2     524\n",
            "Name: labels, dtype: int64\n"
          ],
          "name": "stdout"
        }
      ]
    },
    {
      "cell_type": "code",
      "metadata": {
        "colab": {
          "base_uri": "https://localhost:8080/"
        },
        "id": "1hxgIXGdRs88",
        "outputId": "a30214ff-f57e-4b1b-a8ce-0afe620c6808"
      },
      "source": [
        "import random\n",
        "import torch, torchtext\n",
        "from torchtext import data\n",
        "SEED = 43\n",
        "torch.manual_seed(SEED)"
      ],
      "execution_count": 21,
      "outputs": [
        {
          "output_type": "execute_result",
          "data": {
            "text/plain": [
              "<torch._C.Generator at 0x7f694056fc70>"
            ]
          },
          "metadata": {
            "tags": []
          },
          "execution_count": 21
        }
      ]
    },
    {
      "cell_type": "code",
      "metadata": {
        "id": "apwYwtGbTTJa"
      },
      "source": [
        "Tweet = torchtext.legacy.data.Field(sequential = True, tokenize = 'spacy', batch_first =True, include_lengths=True)\n",
        "Label = torchtext.legacy.data.LabelField(tokenize ='spacy', is_target=True, batch_first =True, sequential =False)"
      ],
      "execution_count": 22,
      "outputs": []
    },
    {
      "cell_type": "code",
      "metadata": {
        "id": "qYZSUFdGTVMB"
      },
      "source": [
        "fields = [('tweet', Tweet), ('label', Label)]"
      ],
      "execution_count": 23,
      "outputs": []
    },
    {
      "cell_type": "code",
      "metadata": {
        "id": "t0RPRpK8TY5w"
      },
      "source": [
        "example = [torchtext.legacy.data.Example.fromlist([tweet_data.tweets[i],tweet_data.labels[i]], fields) for i in range(tweet_data.shape[0])] "
      ],
      "execution_count": 24,
      "outputs": []
    },
    {
      "cell_type": "code",
      "metadata": {
        "id": "rvGrgAf-TjtK"
      },
      "source": [
        "twitterDataset = torchtext.legacy.data.Dataset(example, fields)"
      ],
      "execution_count": 25,
      "outputs": []
    },
    {
      "cell_type": "code",
      "metadata": {
        "id": "UucaDg2sTnJZ"
      },
      "source": [
        "(train, valid) = twitterDataset.split(split_ratio=[85, 15], random_state = random.seed(SEED))"
      ],
      "execution_count": 26,
      "outputs": []
    },
    {
      "cell_type": "code",
      "metadata": {
        "colab": {
          "base_uri": "https://localhost:8080/"
        },
        "id": "eA_tjWoeTxSG",
        "outputId": "0a778ee8-6f0f-41da-b641-23c1a2a4c883"
      },
      "source": [
        "len(train), len(valid)"
      ],
      "execution_count": 27,
      "outputs": [
        {
          "output_type": "execute_result",
          "data": {
            "text/plain": [
              "(5031, 888)"
            ]
          },
          "metadata": {
            "tags": []
          },
          "execution_count": 27
        }
      ]
    },
    {
      "cell_type": "code",
      "metadata": {
        "colab": {
          "base_uri": "https://localhost:8080/"
        },
        "id": "qgK4Qo2-F1yA",
        "outputId": "ad33140d-bb86-4d59-c4dc-850d9bbf0f46"
      },
      "source": [
        "vars(twitterDataset.examples[0])"
      ],
      "execution_count": 28,
      "outputs": [
        {
          "output_type": "execute_result",
          "data": {
            "text/plain": [
              "{'label': 1,\n",
              " 'tweet': ['Obama',\n",
              "  'has',\n",
              "  'called',\n",
              "  'the',\n",
              "  'GOP',\n",
              "  'budget',\n",
              "  'social',\n",
              "  'Darwinism',\n",
              "  '.',\n",
              "  'Nice',\n",
              "  'try',\n",
              "  ',',\n",
              "  'but',\n",
              "  'they',\n",
              "  'believe',\n",
              "  'in',\n",
              "  'social',\n",
              "  'creationism',\n",
              "  '.']}"
            ]
          },
          "metadata": {
            "tags": []
          },
          "execution_count": 28
        }
      ]
    },
    {
      "cell_type": "code",
      "metadata": {
        "id": "A15FtRYpHbGA"
      },
      "source": [
        "Tweet.build_vocab(train)\n",
        "Label.build_vocab(train)"
      ],
      "execution_count": 29,
      "outputs": []
    },
    {
      "cell_type": "code",
      "metadata": {
        "colab": {
          "base_uri": "https://localhost:8080/"
        },
        "id": "K-kW8cFGIVs4",
        "outputId": "039e0243-90db-4c04-c9f4-c100abff9a2a"
      },
      "source": [
        "print('Size of input vocab : ', len(Tweet.vocab))\n",
        "print('Size of label vocab : ', len(Label.vocab))\n",
        "print('Top 10 words appreared repeatedly :', list(Tweet.vocab.freqs.most_common(10)))\n",
        "print('Labels : ', Label.vocab.stoi)"
      ],
      "execution_count": 30,
      "outputs": [
        {
          "output_type": "stream",
          "text": [
            "Size of input vocab :  6511\n",
            "Size of label vocab :  3\n",
            "Top 10 words appreared repeatedly : [('Obama', 4455), ('.', 3453), (':', 3388), ('#', 3148), (',', 2530), ('the', 2300), ('\"', 2289), ('RT', 2243), ('to', 1663), ('?', 1564)]\n",
            "Labels :  defaultdict(None, {0: 0, 1: 1, 2: 2})\n"
          ],
          "name": "stdout"
        }
      ]
    },
    {
      "cell_type": "code",
      "metadata": {
        "id": "5yRABmGUI29v"
      },
      "source": [
        "device = torch.device(\"cuda\" if torch.cuda.is_available() else \"cpu\")"
      ],
      "execution_count": 31,
      "outputs": []
    },
    {
      "cell_type": "code",
      "metadata": {
        "id": "zk38rlxOJAm7"
      },
      "source": [
        "train_iterator, valid_iterator = torchtext.legacy.data.BucketIterator.splits((train, valid), batch_size = 32, \n",
        "                                                            sort_key = lambda x: len(x.tweet),\n",
        "                                                            sort_within_batch=True, device = device)"
      ],
      "execution_count": 32,
      "outputs": []
    },
    {
      "cell_type": "code",
      "metadata": {
        "id": "gJFYU6cAJaN6"
      },
      "source": [
        "import os, pickle\n",
        "with open('tokenizer.pkl', 'wb') as tokens: \n",
        "    pickle.dump(Tweet.vocab.stoi, tokens)"
      ],
      "execution_count": 33,
      "outputs": []
    },
    {
      "cell_type": "code",
      "metadata": {
        "id": "pj9q1XWcNwHy",
        "colab": {
          "base_uri": "https://localhost:8080/"
        },
        "outputId": "1876a859-7377-4aaa-d4c2-98476fcec2be"
      },
      "source": [
        "# Define hyperparameters\n",
        "size_of_vocab = len(Tweet.vocab)\n",
        "embedding_dim = 300\n",
        "num_hidden_nodes = 100\n",
        "num_output_nodes = 3\n",
        "num_layers = 1\n",
        "dropout = 0.2\n",
        "\n",
        "# Instantiate the model\n",
        "enc = encoders(size_of_vocab, embedding_dim, num_hidden_nodes, num_layers, dropout = dropout)\n",
        "dec = decoders(num_hidden_nodes,num_hidden_nodes,10)\n",
        "\n",
        "model = classifier(enc,dec,num_hidden_nodes,num_output_nodes).to(device)"
      ],
      "execution_count": 34,
      "outputs": [
        {
          "output_type": "stream",
          "text": [
            "/usr/local/lib/python3.7/dist-packages/torch/nn/modules/rnn.py:63: UserWarning: dropout option adds dropout after all but last recurrent layer, so non-zero dropout expects num_layers greater than 1, but got dropout=0.2 and num_layers=1\n",
            "  \"num_layers={}\".format(dropout, num_layers))\n"
          ],
          "name": "stderr"
        }
      ]
    },
    {
      "cell_type": "code",
      "metadata": {
        "colab": {
          "base_uri": "https://localhost:8080/"
        },
        "id": "p9BEJoIgOG4W",
        "outputId": "02b8c342-03d7-46ca-9be2-e0809d6c1142"
      },
      "source": [
        "print(model)\n",
        "\n",
        "#No. of trianable parameters\n",
        "def count_parameters(model):\n",
        "    return sum(p.numel() for p in model.parameters() if p.requires_grad)\n",
        "    \n",
        "print(f'The model has {count_parameters(model):,} trainable parameters')"
      ],
      "execution_count": 35,
      "outputs": [
        {
          "output_type": "stream",
          "text": [
            "classifier(\n",
            "  (encoder): encoders(\n",
            "    (embedding): Embedding(6511, 300)\n",
            "    (encoder): LSTM(300, 100, batch_first=True, dropout=0.2)\n",
            "  )\n",
            "  (decoder): decoders(\n",
            "    (decoder_single_rnn_cell): LSTMCell(100, 100)\n",
            "  )\n",
            "  (fc): Linear(in_features=100, out_features=3, bias=True)\n",
            ")\n",
            "The model has 2,195,203 trainable parameters\n"
          ],
          "name": "stdout"
        }
      ]
    },
    {
      "cell_type": "code",
      "metadata": {
        "id": "1LUXLZIVOPKG"
      },
      "source": [
        "import torch.optim as optim\n",
        "\n",
        "# define optimizer and loss\n",
        "optimizer = optim.Adam(model.parameters(), lr=2e-4)\n",
        "criterion = nn.CrossEntropyLoss()\n",
        "\n",
        "# define metric\n",
        "def binary_accuracy(preds, y):\n",
        "    #round predictions to the closest integer\n",
        "    _, predictions = torch.max(preds, 1)\n",
        "    \n",
        "    correct = (predictions == y).float() \n",
        "    acc = correct.sum() / len(correct)\n",
        "    return acc\n",
        "    \n",
        "# push to cuda if available\n",
        "model = model.to(device)\n",
        "criterion = criterion.to(device)"
      ],
      "execution_count": 36,
      "outputs": []
    },
    {
      "cell_type": "code",
      "metadata": {
        "id": "RtV0AFllOc1S"
      },
      "source": [
        "def train(model, iterator, optimizer, criterion):\n",
        "    \n",
        "    # initialize every epoch \n",
        "    epoch_loss = 0\n",
        "    epoch_acc = 0\n",
        "    \n",
        "    # set the model in training phase\n",
        "    model.train()  \n",
        "    \n",
        "    for batch in iterator:\n",
        "        \n",
        "        # resets the gradients after every batch\n",
        "        optimizer.zero_grad()   \n",
        "        \n",
        "        # retrieve text and no. of words\n",
        "        tweet, tweet_lengths = batch.tweet  \n",
        "        \n",
        "        # convert to 1D tensor\n",
        "        predictions = model(tweet, tweet_lengths).squeeze()  \n",
        "        \n",
        "        # compute the loss\n",
        "        loss = criterion(predictions, batch.label)        \n",
        "        \n",
        "        # compute the binary accuracy\n",
        "        acc = binary_accuracy(predictions, batch.label)   \n",
        "        \n",
        "        # backpropage the loss and compute the gradients\n",
        "        loss.backward()       \n",
        "        \n",
        "        # update the weights\n",
        "        optimizer.step()      \n",
        "        \n",
        "        # loss and accuracy\n",
        "        epoch_loss += loss.item()  \n",
        "        epoch_acc += acc.item()    \n",
        "        \n",
        "    return epoch_loss / len(iterator), epoch_acc / len(iterator)"
      ],
      "execution_count": 37,
      "outputs": []
    },
    {
      "cell_type": "code",
      "metadata": {
        "id": "BuQPSX3LPEBA"
      },
      "source": [
        "def evaluate(model, iterator, criterion):\n",
        "    \n",
        "    # initialize every epoch\n",
        "    epoch_loss = 0\n",
        "    epoch_acc = 0\n",
        "\n",
        "    # deactivating dropout layers\n",
        "    model.eval()\n",
        "    \n",
        "    # deactivates autograd\n",
        "    with torch.no_grad():\n",
        "    \n",
        "        for batch in iterator:\n",
        "        \n",
        "            # retrieve text and no. of words\n",
        "            tweet, tweet_lengths = batch.tweet\n",
        "            \n",
        "            # convert to 1d tensor\n",
        "            predictions = model(tweet, tweet_lengths).squeeze()\n",
        "            \n",
        "            # compute loss and accuracy\n",
        "            loss = criterion(predictions, batch.label)\n",
        "            acc = binary_accuracy(predictions, batch.label)\n",
        "            \n",
        "            # keep track of loss and accuracy\n",
        "            epoch_loss += loss.item()\n",
        "            epoch_acc += acc.item()\n",
        "        \n",
        "    return epoch_loss / len(iterator), epoch_acc / len(iterator)"
      ],
      "execution_count": 38,
      "outputs": []
    },
    {
      "cell_type": "code",
      "metadata": {
        "colab": {
          "base_uri": "https://localhost:8080/"
        },
        "id": "kzKZXmUdTDo-",
        "outputId": "08b8bff4-c83a-494c-e2cb-552cc4f1cc2c"
      },
      "source": [
        "N_EPOCHS = 10\n",
        "best_valid_loss = float('inf')\n",
        "\n",
        "for epoch in range(N_EPOCHS):\n",
        "     \n",
        "    # train the model\n",
        "    train_loss, train_acc = train(model, train_iterator, optimizer, criterion)\n",
        "    \n",
        "    # evaluate the model\n",
        "    valid_loss, valid_acc = evaluate(model, valid_iterator, criterion)\n",
        "    \n",
        "    # save the best model\n",
        "    if valid_loss < best_valid_loss:\n",
        "        best_valid_loss = valid_loss\n",
        "        torch.save(model.state_dict(), 'saved_weights.pt')\n",
        "    \n",
        "    print(f'\\tTrain Loss: {train_loss:.3f} | Train Acc: {train_acc*100:.2f}%')\n",
        "    print(f'\\t Val. Loss: {valid_loss:.3f} |  Val. Acc: {valid_acc*100:.2f}% \\n')"
      ],
      "execution_count": 39,
      "outputs": [
        {
          "output_type": "stream",
          "text": [
            "\tTrain Loss: 0.927 | Train Acc: 57.08%\n",
            "\t Val. Loss: 0.810 |  Val. Acc: 63.36% \n",
            "\n",
            "\tTrain Loss: 0.625 | Train Acc: 73.44%\n",
            "\t Val. Loss: 0.539 |  Val. Acc: 78.24% \n",
            "\n",
            "\tTrain Loss: 0.345 | Train Acc: 87.20%\n",
            "\t Val. Loss: 0.423 |  Val. Acc: 85.49% \n",
            "\n",
            "\tTrain Loss: 0.191 | Train Acc: 94.34%\n",
            "\t Val. Loss: 0.341 |  Val. Acc: 90.25% \n",
            "\n",
            "\tTrain Loss: 0.100 | Train Acc: 97.65%\n",
            "\t Val. Loss: 0.289 |  Val. Acc: 91.96% \n",
            "\n",
            "\tTrain Loss: 0.059 | Train Acc: 98.64%\n",
            "\t Val. Loss: 0.360 |  Val. Acc: 90.74% \n",
            "\n",
            "\tTrain Loss: 0.033 | Train Acc: 99.29%\n",
            "\t Val. Loss: 0.288 |  Val. Acc: 93.19% \n",
            "\n",
            "\tTrain Loss: 0.024 | Train Acc: 99.51%\n",
            "\t Val. Loss: 0.276 |  Val. Acc: 93.42% \n",
            "\n",
            "\tTrain Loss: 0.027 | Train Acc: 99.25%\n",
            "\t Val. Loss: 0.245 |  Val. Acc: 93.97% \n",
            "\n",
            "\tTrain Loss: 0.018 | Train Acc: 99.58%\n",
            "\t Val. Loss: 0.239 |  Val. Acc: 94.20% \n",
            "\n"
          ],
          "name": "stdout"
        }
      ]
    },
    {
      "cell_type": "code",
      "metadata": {
        "id": "5_5TRZ9lBFmX"
      },
      "source": [
        "#load weights and tokenizer\n",
        "\n",
        "path='./saved_weights.pt'\n",
        "model.load_state_dict(torch.load(path));\n",
        "model.eval();\n",
        "tokenizer_file = open('./tokenizer.pkl', 'rb')\n",
        "tokenizer = pickle.load(tokenizer_file)\n",
        "\n",
        "#inference \n",
        "\n",
        "import spacy\n",
        "nlp = spacy.load('en')\n",
        "\n",
        "def classify_tweet(tweet):\n",
        "    \n",
        "    categories = {0: \"Negative\", 1:\"Positive\", 2:\"Neutral\"}\n",
        "    \n",
        "    # tokenize the tweet \n",
        "    tokenized = [tok.text for tok in nlp.tokenizer(tweet)] \n",
        "    # convert to integer sequence using predefined tokenizer dictionary\n",
        "    indexed = [tokenizer[t] for t in tokenized]        \n",
        "    # compute no. of words        \n",
        "    length = [len(indexed)]\n",
        "    # convert to tensor                                    \n",
        "    tensor = torch.LongTensor(indexed).to(device)   \n",
        "    # reshape in form of batch, no. of words           \n",
        "    tensor = tensor.unsqueeze(1).T  \n",
        "    # convert to tensor                          \n",
        "    length_tensor = torch.LongTensor(length)\n",
        "    # Get the model prediction                  \n",
        "    #prediction = model(tensor, length_tensor)\n",
        "    enc = encoders(size_of_vocab, embedding_dim, num_hidden_nodes, num_layers, dropout = dropout).to(device)\n",
        "    encoder_output = enc(tensor,length_tensor)\n",
        "    print('Encoder: ',encoder_output)\n",
        "    dec = decoders(num_hidden_nodes,num_hidden_nodes,10)\n",
        "    decoder_output = dec(encoder_output)\n",
        "    print('Decoder: ',decoder_output)\n",
        "\n",
        "    \n",
        "    #_, pred = torch.max(prediction, 1) \n",
        "    \n",
        "    #return categories[pred.item()]"
      ],
      "execution_count": 42,
      "outputs": []
    },
    {
      "cell_type": "code",
      "metadata": {
        "colab": {
          "base_uri": "https://localhost:8080/",
          "height": 719
        },
        "id": "WWrAD3eIDq2O",
        "outputId": "1a6e6937-fe93-4c80-e2e9-a15d0a47d6d7"
      },
      "source": [
        "classify_tweet(\"A valid explanation for why Trump won't let women on the golf course.\")"
      ],
      "execution_count": 43,
      "outputs": [
        {
          "output_type": "stream",
          "text": [
            "Encoder:  tensor([[[ 1.8783e-01,  9.8252e-02, -9.5443e-02, -1.5473e-01,  1.4095e-01,\n",
            "          -6.8874e-02, -6.1392e-02, -1.3227e-02,  1.0444e-01, -2.3887e-01,\n",
            "           1.1259e-01,  2.9444e-01, -7.0340e-02,  2.6399e-01,  5.9150e-01,\n",
            "           1.0275e-01, -2.3289e-01, -9.2818e-02, -9.8889e-02, -2.2673e-02,\n",
            "           1.3787e-01,  6.3093e-02,  3.8917e-02, -1.7475e-01,  2.8534e-01,\n",
            "          -4.2722e-02,  2.2544e-01, -1.1018e-01, -6.5911e-02, -2.0856e-02,\n",
            "           3.3107e-01, -1.8831e-01, -1.1320e-01, -1.4248e-01, -4.6120e-02,\n",
            "          -3.0054e-01, -3.4589e-02, -2.2964e-01, -2.8125e-01, -2.6467e-01,\n",
            "           3.6405e-01, -1.3035e-01, -6.9313e-02,  1.8365e-01,  6.0395e-02,\n",
            "           3.7911e-01,  1.3381e-01, -6.6802e-02, -2.2492e-01,  2.2829e-01,\n",
            "          -1.6997e-02, -1.3033e-01,  1.2757e-01, -4.3774e-01,  6.2712e-03,\n",
            "          -1.7449e-01, -1.8719e-02, -7.0177e-02,  1.1963e-01,  1.4875e-01,\n",
            "           2.6614e-01, -7.9244e-02,  4.6386e-02,  6.7804e-02,  2.8677e-01,\n",
            "          -1.4690e-02,  1.9685e-01, -1.1233e-01,  1.1278e-01, -9.2948e-02,\n",
            "          -5.7979e-02, -8.1702e-03, -1.7133e-02, -3.9498e-03,  5.9467e-03,\n",
            "           1.8115e-01,  2.0343e-01,  1.7771e-04,  7.2223e-02,  3.1257e-02,\n",
            "          -2.9157e-02,  5.2599e-02,  2.5411e-02,  2.6213e-02, -2.6210e-02,\n",
            "           1.7941e-01,  1.5458e-02, -4.1934e-02,  1.4778e-01, -1.1137e-01,\n",
            "          -1.9390e-01, -6.3052e-02,  6.0017e-02, -7.0842e-02, -1.8639e-01,\n",
            "           1.4758e-01,  2.0399e-02,  1.9343e-01,  6.9703e-03, -2.0104e-02]]],\n",
            "       device='cuda:0', grad_fn=<CudnnRnnBackward>)\n"
          ],
          "name": "stdout"
        },
        {
          "output_type": "stream",
          "text": [
            "/usr/local/lib/python3.7/dist-packages/torch/nn/modules/rnn.py:63: UserWarning: dropout option adds dropout after all but last recurrent layer, so non-zero dropout expects num_layers greater than 1, but got dropout=0.2 and num_layers=1\n",
            "  \"num_layers={}\".format(dropout, num_layers))\n"
          ],
          "name": "stderr"
        },
        {
          "output_type": "error",
          "ename": "IndexError",
          "evalue": "ignored",
          "traceback": [
            "\u001b[0;31m---------------------------------------------------------------------------\u001b[0m",
            "\u001b[0;31mIndexError\u001b[0m                                Traceback (most recent call last)",
            "\u001b[0;32m<ipython-input-43-25fe155197a0>\u001b[0m in \u001b[0;36m<module>\u001b[0;34m()\u001b[0m\n\u001b[0;32m----> 1\u001b[0;31m \u001b[0mclassify_tweet\u001b[0m\u001b[0;34m(\u001b[0m\u001b[0;34m\"A valid explanation for why Trump won't let women on the golf course.\"\u001b[0m\u001b[0;34m)\u001b[0m\u001b[0;34m\u001b[0m\u001b[0;34m\u001b[0m\u001b[0m\n\u001b[0m",
            "\u001b[0;32m<ipython-input-42-acfb2c769f65>\u001b[0m in \u001b[0;36mclassify_tweet\u001b[0;34m(tweet)\u001b[0m\n\u001b[1;32m     34\u001b[0m     \u001b[0mprint\u001b[0m\u001b[0;34m(\u001b[0m\u001b[0;34m'Encoder: '\u001b[0m\u001b[0;34m,\u001b[0m\u001b[0mencoder_output\u001b[0m\u001b[0;34m)\u001b[0m\u001b[0;34m\u001b[0m\u001b[0;34m\u001b[0m\u001b[0m\n\u001b[1;32m     35\u001b[0m     \u001b[0mdec\u001b[0m \u001b[0;34m=\u001b[0m \u001b[0mdecoders\u001b[0m\u001b[0;34m(\u001b[0m\u001b[0mnum_hidden_nodes\u001b[0m\u001b[0;34m,\u001b[0m\u001b[0mnum_hidden_nodes\u001b[0m\u001b[0;34m,\u001b[0m\u001b[0;36m10\u001b[0m\u001b[0;34m)\u001b[0m\u001b[0;34m\u001b[0m\u001b[0;34m\u001b[0m\u001b[0m\n\u001b[0;32m---> 36\u001b[0;31m     \u001b[0mdecoder_output\u001b[0m \u001b[0;34m=\u001b[0m \u001b[0mdec\u001b[0m\u001b[0;34m(\u001b[0m\u001b[0mencoder_output\u001b[0m\u001b[0;34m)\u001b[0m\u001b[0;34m\u001b[0m\u001b[0;34m\u001b[0m\u001b[0m\n\u001b[0m\u001b[1;32m     37\u001b[0m     \u001b[0mprint\u001b[0m\u001b[0;34m(\u001b[0m\u001b[0;34m'Decoder: '\u001b[0m\u001b[0;34m,\u001b[0m\u001b[0mdecoder_output\u001b[0m\u001b[0;34m)\u001b[0m\u001b[0;34m\u001b[0m\u001b[0;34m\u001b[0m\u001b[0m\n\u001b[1;32m     38\u001b[0m \u001b[0;34m\u001b[0m\u001b[0m\n",
            "\u001b[0;32m/usr/local/lib/python3.7/dist-packages/torch/nn/modules/module.py\u001b[0m in \u001b[0;36m_call_impl\u001b[0;34m(self, *input, **kwargs)\u001b[0m\n\u001b[1;32m    887\u001b[0m             \u001b[0mresult\u001b[0m \u001b[0;34m=\u001b[0m \u001b[0mself\u001b[0m\u001b[0;34m.\u001b[0m\u001b[0m_slow_forward\u001b[0m\u001b[0;34m(\u001b[0m\u001b[0;34m*\u001b[0m\u001b[0minput\u001b[0m\u001b[0;34m,\u001b[0m \u001b[0;34m**\u001b[0m\u001b[0mkwargs\u001b[0m\u001b[0;34m)\u001b[0m\u001b[0;34m\u001b[0m\u001b[0;34m\u001b[0m\u001b[0m\n\u001b[1;32m    888\u001b[0m         \u001b[0;32melse\u001b[0m\u001b[0;34m:\u001b[0m\u001b[0;34m\u001b[0m\u001b[0;34m\u001b[0m\u001b[0m\n\u001b[0;32m--> 889\u001b[0;31m             \u001b[0mresult\u001b[0m \u001b[0;34m=\u001b[0m \u001b[0mself\u001b[0m\u001b[0;34m.\u001b[0m\u001b[0mforward\u001b[0m\u001b[0;34m(\u001b[0m\u001b[0;34m*\u001b[0m\u001b[0minput\u001b[0m\u001b[0;34m,\u001b[0m \u001b[0;34m**\u001b[0m\u001b[0mkwargs\u001b[0m\u001b[0;34m)\u001b[0m\u001b[0;34m\u001b[0m\u001b[0;34m\u001b[0m\u001b[0m\n\u001b[0m\u001b[1;32m    890\u001b[0m         for hook in itertools.chain(\n\u001b[1;32m    891\u001b[0m                 \u001b[0m_global_forward_hooks\u001b[0m\u001b[0;34m.\u001b[0m\u001b[0mvalues\u001b[0m\u001b[0;34m(\u001b[0m\u001b[0;34m)\u001b[0m\u001b[0;34m,\u001b[0m\u001b[0;34m\u001b[0m\u001b[0;34m\u001b[0m\u001b[0m\n",
            "\u001b[0;32m<ipython-input-5-7376042119c1>\u001b[0m in \u001b[0;36mforward\u001b[0;34m(self, encoder_context_vector)\u001b[0m\n\u001b[1;32m     32\u001b[0m     \u001b[0mcx\u001b[0m \u001b[0;34m=\u001b[0m \u001b[0mtorch\u001b[0m\u001b[0;34m.\u001b[0m\u001b[0mzeros\u001b[0m\u001b[0;34m(\u001b[0m\u001b[0mencoder_context_vector\u001b[0m\u001b[0;34m.\u001b[0m\u001b[0msize\u001b[0m\u001b[0;34m(\u001b[0m\u001b[0;36m0\u001b[0m\u001b[0;34m)\u001b[0m\u001b[0;34m,\u001b[0m\u001b[0mself\u001b[0m\u001b[0;34m.\u001b[0m\u001b[0mdecoder_hidden_size\u001b[0m\u001b[0;34m)\u001b[0m\u001b[0;34m.\u001b[0m\u001b[0mto\u001b[0m\u001b[0;34m(\u001b[0m\u001b[0mdevice\u001b[0m\u001b[0;34m)\u001b[0m\u001b[0;34m\u001b[0m\u001b[0;34m\u001b[0m\u001b[0m\n\u001b[1;32m     33\u001b[0m     \u001b[0;32mfor\u001b[0m \u001b[0mi\u001b[0m \u001b[0;32min\u001b[0m \u001b[0mrange\u001b[0m\u001b[0;34m(\u001b[0m\u001b[0mself\u001b[0m\u001b[0;34m.\u001b[0m\u001b[0mno_times_decoder_cell_has_to_run\u001b[0m\u001b[0;34m)\u001b[0m\u001b[0;34m:\u001b[0m\u001b[0;34m\u001b[0m\u001b[0;34m\u001b[0m\u001b[0m\n\u001b[0;32m---> 34\u001b[0;31m       \u001b[0mhx\u001b[0m\u001b[0;34m,\u001b[0m\u001b[0mcx\u001b[0m \u001b[0;34m=\u001b[0m \u001b[0mself\u001b[0m\u001b[0;34m.\u001b[0m\u001b[0mdecoder_single_rnn_cell\u001b[0m\u001b[0;34m(\u001b[0m\u001b[0mencoder_context_vector\u001b[0m\u001b[0;34m,\u001b[0m\u001b[0;34m(\u001b[0m\u001b[0mhx\u001b[0m\u001b[0;34m,\u001b[0m\u001b[0mcx\u001b[0m\u001b[0;34m)\u001b[0m\u001b[0;34m)\u001b[0m\u001b[0;34m\u001b[0m\u001b[0;34m\u001b[0m\u001b[0m\n\u001b[0m\u001b[1;32m     35\u001b[0m     \u001b[0;32mreturn\u001b[0m \u001b[0mhx\u001b[0m\u001b[0;34m\u001b[0m\u001b[0;34m\u001b[0m\u001b[0m\n\u001b[1;32m     36\u001b[0m \u001b[0;34m\u001b[0m\u001b[0m\n",
            "\u001b[0;32m/usr/local/lib/python3.7/dist-packages/torch/nn/modules/module.py\u001b[0m in \u001b[0;36m_call_impl\u001b[0;34m(self, *input, **kwargs)\u001b[0m\n\u001b[1;32m    887\u001b[0m             \u001b[0mresult\u001b[0m \u001b[0;34m=\u001b[0m \u001b[0mself\u001b[0m\u001b[0;34m.\u001b[0m\u001b[0m_slow_forward\u001b[0m\u001b[0;34m(\u001b[0m\u001b[0;34m*\u001b[0m\u001b[0minput\u001b[0m\u001b[0;34m,\u001b[0m \u001b[0;34m**\u001b[0m\u001b[0mkwargs\u001b[0m\u001b[0;34m)\u001b[0m\u001b[0;34m\u001b[0m\u001b[0;34m\u001b[0m\u001b[0m\n\u001b[1;32m    888\u001b[0m         \u001b[0;32melse\u001b[0m\u001b[0;34m:\u001b[0m\u001b[0;34m\u001b[0m\u001b[0;34m\u001b[0m\u001b[0m\n\u001b[0;32m--> 889\u001b[0;31m             \u001b[0mresult\u001b[0m \u001b[0;34m=\u001b[0m \u001b[0mself\u001b[0m\u001b[0;34m.\u001b[0m\u001b[0mforward\u001b[0m\u001b[0;34m(\u001b[0m\u001b[0;34m*\u001b[0m\u001b[0minput\u001b[0m\u001b[0;34m,\u001b[0m \u001b[0;34m**\u001b[0m\u001b[0mkwargs\u001b[0m\u001b[0;34m)\u001b[0m\u001b[0;34m\u001b[0m\u001b[0;34m\u001b[0m\u001b[0m\n\u001b[0m\u001b[1;32m    890\u001b[0m         for hook in itertools.chain(\n\u001b[1;32m    891\u001b[0m                 \u001b[0m_global_forward_hooks\u001b[0m\u001b[0;34m.\u001b[0m\u001b[0mvalues\u001b[0m\u001b[0;34m(\u001b[0m\u001b[0;34m)\u001b[0m\u001b[0;34m,\u001b[0m\u001b[0;34m\u001b[0m\u001b[0;34m\u001b[0m\u001b[0m\n",
            "\u001b[0;32m/usr/local/lib/python3.7/dist-packages/torch/nn/modules/rnn.py\u001b[0m in \u001b[0;36mforward\u001b[0;34m(self, input, hx)\u001b[0m\n\u001b[1;32m   1046\u001b[0m \u001b[0;34m\u001b[0m\u001b[0m\n\u001b[1;32m   1047\u001b[0m     \u001b[0;32mdef\u001b[0m \u001b[0mforward\u001b[0m\u001b[0;34m(\u001b[0m\u001b[0mself\u001b[0m\u001b[0;34m,\u001b[0m \u001b[0minput\u001b[0m\u001b[0;34m:\u001b[0m \u001b[0mTensor\u001b[0m\u001b[0;34m,\u001b[0m \u001b[0mhx\u001b[0m\u001b[0;34m:\u001b[0m \u001b[0mOptional\u001b[0m\u001b[0;34m[\u001b[0m\u001b[0mTuple\u001b[0m\u001b[0;34m[\u001b[0m\u001b[0mTensor\u001b[0m\u001b[0;34m,\u001b[0m \u001b[0mTensor\u001b[0m\u001b[0;34m]\u001b[0m\u001b[0;34m]\u001b[0m \u001b[0;34m=\u001b[0m \u001b[0;32mNone\u001b[0m\u001b[0;34m)\u001b[0m \u001b[0;34m->\u001b[0m \u001b[0mTuple\u001b[0m\u001b[0;34m[\u001b[0m\u001b[0mTensor\u001b[0m\u001b[0;34m,\u001b[0m \u001b[0mTensor\u001b[0m\u001b[0;34m]\u001b[0m\u001b[0;34m:\u001b[0m\u001b[0;34m\u001b[0m\u001b[0;34m\u001b[0m\u001b[0m\n\u001b[0;32m-> 1048\u001b[0;31m         \u001b[0mself\u001b[0m\u001b[0;34m.\u001b[0m\u001b[0mcheck_forward_input\u001b[0m\u001b[0;34m(\u001b[0m\u001b[0minput\u001b[0m\u001b[0;34m)\u001b[0m\u001b[0;34m\u001b[0m\u001b[0;34m\u001b[0m\u001b[0m\n\u001b[0m\u001b[1;32m   1049\u001b[0m         \u001b[0;32mif\u001b[0m \u001b[0mhx\u001b[0m \u001b[0;32mis\u001b[0m \u001b[0;32mNone\u001b[0m\u001b[0;34m:\u001b[0m\u001b[0;34m\u001b[0m\u001b[0;34m\u001b[0m\u001b[0m\n\u001b[1;32m   1050\u001b[0m             \u001b[0mzeros\u001b[0m \u001b[0;34m=\u001b[0m \u001b[0mtorch\u001b[0m\u001b[0;34m.\u001b[0m\u001b[0mzeros\u001b[0m\u001b[0;34m(\u001b[0m\u001b[0minput\u001b[0m\u001b[0;34m.\u001b[0m\u001b[0msize\u001b[0m\u001b[0;34m(\u001b[0m\u001b[0;36m0\u001b[0m\u001b[0;34m)\u001b[0m\u001b[0;34m,\u001b[0m \u001b[0mself\u001b[0m\u001b[0;34m.\u001b[0m\u001b[0mhidden_size\u001b[0m\u001b[0;34m,\u001b[0m \u001b[0mdtype\u001b[0m\u001b[0;34m=\u001b[0m\u001b[0minput\u001b[0m\u001b[0;34m.\u001b[0m\u001b[0mdtype\u001b[0m\u001b[0;34m,\u001b[0m \u001b[0mdevice\u001b[0m\u001b[0;34m=\u001b[0m\u001b[0minput\u001b[0m\u001b[0;34m.\u001b[0m\u001b[0mdevice\u001b[0m\u001b[0;34m)\u001b[0m\u001b[0;34m\u001b[0m\u001b[0;34m\u001b[0m\u001b[0m\n",
            "\u001b[0;32m/usr/local/lib/python3.7/dist-packages/torch/nn/modules/rnn.py\u001b[0m in \u001b[0;36mcheck_forward_input\u001b[0;34m(self, input)\u001b[0m\n\u001b[1;32m    870\u001b[0m \u001b[0;34m\u001b[0m\u001b[0m\n\u001b[1;32m    871\u001b[0m     \u001b[0;32mdef\u001b[0m \u001b[0mcheck_forward_input\u001b[0m\u001b[0;34m(\u001b[0m\u001b[0mself\u001b[0m\u001b[0;34m,\u001b[0m \u001b[0minput\u001b[0m\u001b[0;34m:\u001b[0m \u001b[0mTensor\u001b[0m\u001b[0;34m)\u001b[0m \u001b[0;34m->\u001b[0m \u001b[0;32mNone\u001b[0m\u001b[0;34m:\u001b[0m\u001b[0;34m\u001b[0m\u001b[0;34m\u001b[0m\u001b[0m\n\u001b[0;32m--> 872\u001b[0;31m         \u001b[0;32mif\u001b[0m \u001b[0minput\u001b[0m\u001b[0;34m.\u001b[0m\u001b[0msize\u001b[0m\u001b[0;34m(\u001b[0m\u001b[0;36m1\u001b[0m\u001b[0;34m)\u001b[0m \u001b[0;34m!=\u001b[0m \u001b[0mself\u001b[0m\u001b[0;34m.\u001b[0m\u001b[0minput_size\u001b[0m\u001b[0;34m:\u001b[0m\u001b[0;34m\u001b[0m\u001b[0;34m\u001b[0m\u001b[0m\n\u001b[0m\u001b[1;32m    873\u001b[0m             raise RuntimeError(\n\u001b[1;32m    874\u001b[0m                 \"input has inconsistent input_size: got {}, expected {}\".format(\n",
            "\u001b[0;31mIndexError\u001b[0m: Dimension out of range (expected to be in range of [-1, 0], but got 1)"
          ]
        }
      ]
    }
  ]
}